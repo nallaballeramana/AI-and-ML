{
  "nbformat": 4,
  "nbformat_minor": 0,
  "metadata": {
    "colab": {
      "name": "Assignment2-  Function and Class Assignment",
      "provenance": []
    },
    "kernelspec": {
      "name": "python3",
      "display_name": "Python 3"
    },
    "language_info": {
      "name": "python"
    }
  },
  "cells": [
    {
      "cell_type": "markdown",
      "metadata": {
        "id": "KTMxCq_VMffD"
      },
      "source": [
        "1. Create a function named ‘factor’ that can only accepts 1 argument. The function should \n",
        "return the factorial of that number.\n",
        "2. Create a function named ‘check_string’, the function should accept a string data from the \n",
        "user and the function should check if the user input contains the letter ‘s’ in it. If it contains \n",
        "the letter ‘s’ then print- ‘The string is containing the letter ‘s’’, if not then print- ‘The string \n",
        "doesn’t contain the letter ‘s’’.\n",
        "3. Create a class named ‘student’ and inside the class, create a function named ‘fun1’- this \n",
        "method should accepts the user defined input and return that value.\n",
        "a. Create another method named- message() and that method should print the user \n",
        "defined input that we have defined in ‘fun1’.\n",
        "4. Create a lambda function that should double or multiply the number (that we will be passing \n",
        "in the lambda function) by 2. Store the lambda function in a variable named ‘double_num’.\n",
        "5. Take user input string and check whether that string is palindrome or not"
      ]
    },
    {
      "cell_type": "markdown",
      "metadata": {
        "id": "j9G340m7Mtvb"
      },
      "source": [
        "1. Create a function named ‘factor’ that can only accepts 1 argument. The function should return the factorial of that number."
      ]
    },
    {
      "cell_type": "code",
      "metadata": {
        "colab": {
          "base_uri": "https://localhost:8080/"
        },
        "id": "_5vAJfo5Mvbh",
        "outputId": "48e5be04-bd5b-461a-d87f-e02651ca454e"
      },
      "source": [
        "num = int(input(\"Please enter the number \"))\n",
        "\n",
        "def factor(num):\n",
        "  if num<0:\n",
        "    print(\"factorial cannot be computed for negative number\")\n",
        "  elif num==0:\n",
        "    print(\"factorial of num is 1\")\n",
        "  else:\n",
        "    factorial=1\n",
        "    for i in range(1,num+1) :\n",
        "      factorial = factorial*i\n",
        "    return factorial\n",
        "    \n",
        "\n",
        "factor(num)\n",
        "\n",
        "  \n",
        "\n",
        "    "
      ],
      "execution_count": 36,
      "outputs": [
        {
          "name": "stdout",
          "output_type": "stream",
          "text": [
            "Please enter the number 5\n"
          ]
        },
        {
          "output_type": "execute_result",
          "data": {
            "text/plain": [
              "120"
            ]
          },
          "metadata": {},
          "execution_count": 36
        }
      ]
    },
    {
      "cell_type": "markdown",
      "metadata": {
        "id": "ATURyvuuV3ho"
      },
      "source": [
        "2.Create a function named ‘check_string’, the function should accept a string data from the user and the function should check if the user input contains the letter ‘s’ in it. If it contains the letter ‘s’ then print- ‘The string is containing the letter ‘s’’, if not then print- ‘The string doesn’t contain the letter ‘s’’."
      ]
    },
    {
      "cell_type": "code",
      "metadata": {
        "colab": {
          "base_uri": "https://localhost:8080/"
        },
        "id": "KKRB-PeMV5R-",
        "outputId": "0c683fe1-c803-4093-f024-5373df0efdfc"
      },
      "source": [
        "str=input(\"please enter the string \")\n",
        "\n",
        "def check_string(str):\n",
        "  if \"s\" in str:\n",
        "    print(\"The string is containing the letter ‘s’\")\n",
        "  else:\n",
        "    print(\"The string doesn't contain the letter ‘s’\")\n",
        "\n",
        "check_string(str)\n"
      ],
      "execution_count": 35,
      "outputs": [
        {
          "output_type": "stream",
          "name": "stdout",
          "text": [
            "please enter the string lakshmi\n",
            "The string is containing the letter ‘s’\n"
          ]
        }
      ]
    },
    {
      "cell_type": "markdown",
      "metadata": {
        "id": "xNeW88X_XQMP"
      },
      "source": [
        "3. Create a class named ‘student’ and inside the class, create a function named ‘fun1’- this method should accepts the user defined input and return that value. a. Create another method named- message() and that method should print the user defined input that we have defined in ‘fun1’."
      ]
    },
    {
      "cell_type": "code",
      "metadata": {
        "id": "SEfvkBu0XRVl"
      },
      "source": [
        "class student:\n",
        "\n",
        "  def fun1(self):\n",
        "    x=input(\"Enter the input \")\n",
        "    self.x=x\n",
        "    return x\n",
        "  \n",
        "  def message(self):\n",
        "    print(\"passed input is \",self.x)\n"
      ],
      "execution_count": 83,
      "outputs": []
    },
    {
      "cell_type": "code",
      "metadata": {
        "id": "t8V7R3pKYa9E"
      },
      "source": [
        "obj=student()"
      ],
      "execution_count": 84,
      "outputs": []
    },
    {
      "cell_type": "code",
      "metadata": {
        "colab": {
          "base_uri": "https://localhost:8080/",
          "height": 52
        },
        "id": "GTYeOuPkYfUs",
        "outputId": "d631e6e4-2381-4553-c734-b32fe1717d80"
      },
      "source": [
        "obj.fun1()"
      ],
      "execution_count": 85,
      "outputs": [
        {
          "name": "stdout",
          "output_type": "stream",
          "text": [
            "Enter the input 47\n"
          ]
        },
        {
          "output_type": "execute_result",
          "data": {
            "application/vnd.google.colaboratory.intrinsic+json": {
              "type": "string"
            },
            "text/plain": [
              "'47'"
            ]
          },
          "metadata": {},
          "execution_count": 85
        }
      ]
    },
    {
      "cell_type": "code",
      "metadata": {
        "colab": {
          "base_uri": "https://localhost:8080/"
        },
        "id": "-P190S1mYl2z",
        "outputId": "866d1352-6a85-4473-82da-f54fda7078ed"
      },
      "source": [
        "obj.message()"
      ],
      "execution_count": 86,
      "outputs": [
        {
          "output_type": "stream",
          "name": "stdout",
          "text": [
            "passed input is  47\n"
          ]
        }
      ]
    },
    {
      "cell_type": "markdown",
      "metadata": {
        "id": "_LaDCRRdeFZK"
      },
      "source": [
        "4. Create a lambda function that should double or multiply the number (that we will be passing in the lambda function) by 2. Store the lambda function in a variable named ‘double_num’."
      ]
    },
    {
      "cell_type": "code",
      "metadata": {
        "id": "a_0fNvgxeG2_"
      },
      "source": [
        "double_num=lambda x : x*2"
      ],
      "execution_count": 88,
      "outputs": []
    },
    {
      "cell_type": "code",
      "metadata": {
        "colab": {
          "base_uri": "https://localhost:8080/"
        },
        "id": "nYaF70g6efvD",
        "outputId": "aea2f911-eb49-4653-f05d-64c4ded25a3e"
      },
      "source": [
        "double_num(5)"
      ],
      "execution_count": 90,
      "outputs": [
        {
          "output_type": "execute_result",
          "data": {
            "text/plain": [
              "10"
            ]
          },
          "metadata": {},
          "execution_count": 90
        }
      ]
    },
    {
      "cell_type": "code",
      "metadata": {
        "id": "WfcSXEHXevbX"
      },
      "source": [
        ""
      ],
      "execution_count": null,
      "outputs": []
    },
    {
      "cell_type": "markdown",
      "metadata": {
        "id": "70few_51ewMY"
      },
      "source": [
        "5.Take user input string and check whether that string is palindrome or not"
      ]
    },
    {
      "cell_type": "code",
      "metadata": {
        "colab": {
          "base_uri": "https://localhost:8080/"
        },
        "id": "pgf-WFDneyC3",
        "outputId": "8dfecb54-88ba-4606-8c9d-1b9b08fb054e"
      },
      "source": [
        "str=input(\"please enter the string \")\n",
        "\n",
        "def pallindrome(str):\n",
        "  n=len(str)-1\n",
        "\n",
        "  for i in range(0,n):\n",
        "    count = 0\n",
        "\n",
        "    if str[i]==str[n-i]:\n",
        "      count+=1\n",
        "\n",
        "  if (count > 0):\n",
        "    print(\"pallindrome\")\n",
        "  else:\n",
        "    print(\"not pallindrome\")\n",
        "\n",
        "\n",
        "\n",
        "pallindrome(str)\n",
        "\n",
        "\n",
        "\n",
        "       \n",
        "  \n"
      ],
      "execution_count": 120,
      "outputs": [
        {
          "output_type": "stream",
          "name": "stdout",
          "text": [
            "please enter the string madam\n",
            "pallindrome\n"
          ]
        }
      ]
    }
  ]
}