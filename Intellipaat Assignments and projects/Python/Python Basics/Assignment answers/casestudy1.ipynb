{
  "nbformat": 4,
  "nbformat_minor": 0,
  "metadata": {
    "colab": {
      "name": "casestudy1.ipynb",
      "provenance": []
    },
    "kernelspec": {
      "name": "python3",
      "display_name": "Python 3"
    },
    "language_info": {
      "name": "python"
    }
  },
  "cells": [
    {
      "cell_type": "markdown",
      "metadata": {
        "id": "ZwbSmWjZyU81"
      },
      "source": [
        "Problem Statement:\n",
        "Consider yourself to be Sam who is a data scientist. He has been invited as a guest lecturer at a college\n",
        "to take an introductory session on Python.\n",
        "Tasks to be performed:\n",
        "1. Create a list containing squares of numbers from 1 to 10 (HINT: use List Comprehension).\n",
        "2. Write a Function to check if year number is a leap year.\n",
        "3. Write a Function to take an array and return another array that contains the members of first \n",
        "array that are even.\n",
        "4. Write a Function that takes 2 arrays and prints the members of first array that are present of \n",
        "second array. (HINT: use Membership Comprehension"
      ]
    },
    {
      "cell_type": "markdown",
      "metadata": {
        "id": "XC_84YUV6MQP"
      },
      "source": [
        "1)Create a list containing squares of numbers from 1 to 10 (HINT: use List Comprehension)"
      ]
    },
    {
      "cell_type": "code",
      "metadata": {
        "colab": {
          "base_uri": "https://localhost:8080/"
        },
        "id": "4vp15_uUyWBN",
        "outputId": "544d4b3f-7a83-4d87-ea29-d0c11f20a209"
      },
      "source": [
        "l1=[1,2,3,4,5,6,7,8,9,10]\n",
        "l2=[x**2 for x in l1 if x>0]\n",
        "print(l2)"
      ],
      "execution_count": null,
      "outputs": [
        {
          "output_type": "stream",
          "name": "stdout",
          "text": [
            "[1, 4, 9, 16, 25, 36, 49, 64, 81, 100]\n"
          ]
        }
      ]
    },
    {
      "cell_type": "markdown",
      "metadata": {
        "id": "X2MBG7i_6VCO"
      },
      "source": [
        "2) Write a Function to check if year number is a leap year.\n"
      ]
    },
    {
      "cell_type": "code",
      "metadata": {
        "colab": {
          "base_uri": "https://localhost:8080/"
        },
        "id": "Pfm5adwf3aJl",
        "outputId": "3e5a655c-f02c-49bb-b4b4-9c9a96d9c37a"
      },
      "source": [
        "year=int(input(\"please provide year to be checked: \"))\n",
        "def leap_year_check(year):\n",
        "  \n",
        "\n",
        "  if (year%4==0):\n",
        "    if (year%100==0):\n",
        "      if (year%400==0):\n",
        "        print(year,\" is a leap year\")\n",
        "      else:\n",
        "        print(year,\" is not a leap year\")\n",
        "    else:\n",
        "      print(year,\" is a leap year\")\n",
        "  else:\n",
        "    print(year,\" is not a leap year\")\n",
        "\n",
        "leap_year_check(year)"
      ],
      "execution_count": null,
      "outputs": [
        {
          "output_type": "stream",
          "name": "stdout",
          "text": [
            "please provide year to be checked: 2024\n",
            "2024  is a leap year\n"
          ]
        }
      ]
    },
    {
      "cell_type": "markdown",
      "metadata": {
        "id": "XXxoN-mt8CJC"
      },
      "source": [
        "3) Write a Function to take an array and return another array that contains the members of first array that are even."
      ]
    },
    {
      "cell_type": "code",
      "metadata": {
        "colab": {
          "base_uri": "https://localhost:8080/"
        },
        "id": "GsHh6jF08Dfo",
        "outputId": "3fc2ff4d-0585-4e08-fbf8-7b83c2b2b1c1"
      },
      "source": [
        "\n",
        "def even_num():\n",
        "  list1=[2,4,5,15,26,35]\n",
        "  list2=[]\n",
        "  for i in range(0,len(list1)):\n",
        "    num=list1[i]\n",
        "    print(\"processing num is: \",num)\n",
        "    if (num%2==0):\n",
        "      print(num,\" is an even number\")\n",
        "      list2.append(num)\n",
        "      print(list2)\n",
        "    else:\n",
        "      print(num,\" is sn odd number\")\n",
        "\n",
        "even_num()\n",
        "\n"
      ],
      "execution_count": 28,
      "outputs": [
        {
          "output_type": "stream",
          "name": "stdout",
          "text": [
            "processing num is:  2\n",
            "2  is an even number\n",
            "[2]\n",
            "processing num is:  4\n",
            "4  is an even number\n",
            "[2, 4]\n",
            "processing num is:  5\n",
            "5  is sn odd number\n",
            "processing num is:  15\n",
            "15  is sn odd number\n",
            "processing num is:  26\n",
            "26  is an even number\n",
            "[2, 4, 26]\n",
            "processing num is:  35\n",
            "35  is sn odd number\n"
          ]
        }
      ]
    },
    {
      "cell_type": "markdown",
      "metadata": {
        "id": "fZUEqef3FCoW"
      },
      "source": [
        "4) Write a Function that takes 2 arrays and prints the members of first array that are present of second array. (HINT: use Membership Comprehension"
      ]
    },
    {
      "cell_type": "code",
      "metadata": {
        "id": "s-DlNu7PFDhY",
        "colab": {
          "base_uri": "https://localhost:8080/"
        },
        "outputId": "4c1f21a6-65e2-4417-f7d3-0a20d2f5b8a7"
      },
      "source": [
        "def compare():\n",
        "  l1=[2,4,7,13,15,20,25]\n",
        "  l2=[23,7,6,13,20,10,14]\n",
        "  \n",
        "  for i in range(0,len(l1)):\n",
        "    for j in range(0,len(l2)):\n",
        "      if (l1[i]==l2[j]):\n",
        "        print(l1[i])\n",
        "    \n",
        "    j +=1\n",
        "    \n",
        "  i +=1\n",
        "\n",
        "compare()\n"
      ],
      "execution_count": 41,
      "outputs": [
        {
          "output_type": "stream",
          "name": "stdout",
          "text": [
            "7\n",
            "13\n",
            "20\n"
          ]
        }
      ]
    }
  ]
}