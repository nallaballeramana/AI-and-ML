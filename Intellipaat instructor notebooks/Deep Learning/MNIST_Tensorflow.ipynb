{
  "nbformat": 4,
  "nbformat_minor": 0,
  "metadata": {
    "colab": {
      "provenance": []
    },
    "kernelspec": {
      "name": "python3",
      "display_name": "Python 3"
    },
    "language_info": {
      "name": "python"
    }
  },
  "cells": [
    {
      "cell_type": "code",
      "execution_count": null,
      "metadata": {
        "id": "h2arUhxBcHs7"
      },
      "outputs": [],
      "source": [
        "from tensorflow.keras.datasets import mnist\n",
        "import matplotlib.pyplot as plt\n",
        "import numpy as np\n",
        "from tensorflow.keras.utils import to_categorical\n",
        "from tensorflow.keras.models import Sequential\n",
        "from tensorflow.keras.layers import Input , Dense\n",
        "from tensorflow.keras.optimizers import SGD\n",
        "%matplotlib inline"
      ]
    },
    {
      "cell_type": "code",
      "source": [
        "(xtrain,ytrain),(xtest,ytest) = mnist.load_data()"
      ],
      "metadata": {
        "id": "oBmXwyFecrdX",
        "colab": {
          "base_uri": "https://localhost:8080/"
        },
        "outputId": "717682be-279e-4e19-9a31-7a2455eb7262"
      },
      "execution_count": null,
      "outputs": [
        {
          "output_type": "stream",
          "name": "stdout",
          "text": [
            "Downloading data from https://storage.googleapis.com/tensorflow/tf-keras-datasets/mnist.npz\n",
            "11493376/11490434 [==============================] - 0s 0us/step\n",
            "11501568/11490434 [==============================] - 0s 0us/step\n"
          ]
        }
      ]
    },
    {
      "cell_type": "code",
      "source": [
        "xtrain.shape"
      ],
      "metadata": {
        "colab": {
          "base_uri": "https://localhost:8080/"
        },
        "id": "jmsOpGe8e1EN",
        "outputId": "192dd0eb-8156-437b-9aed-394e7031c468"
      },
      "execution_count": null,
      "outputs": [
        {
          "output_type": "execute_result",
          "data": {
            "text/plain": [
              "(60000, 28, 28)"
            ]
          },
          "metadata": {},
          "execution_count": 3
        }
      ]
    },
    {
      "cell_type": "code",
      "source": [
        "ytrain"
      ],
      "metadata": {
        "colab": {
          "base_uri": "https://localhost:8080/"
        },
        "id": "DeG00QYYfENt",
        "outputId": "66d4a9a9-9634-427d-f89c-6b3d691ec667"
      },
      "execution_count": null,
      "outputs": [
        {
          "output_type": "execute_result",
          "data": {
            "text/plain": [
              "array([5, 0, 4, ..., 5, 6, 8], dtype=uint8)"
            ]
          },
          "metadata": {},
          "execution_count": 4
        }
      ]
    },
    {
      "cell_type": "code",
      "source": [
        "#viewing image\n",
        "\n",
        "plt.imshow(xtrain[0],cmap='gray')\n",
        "plt.show()"
      ],
      "metadata": {
        "colab": {
          "base_uri": "https://localhost:8080/",
          "height": 265
        },
        "id": "R13o18TsfJAF",
        "outputId": "c7cd4995-1674-4978-d55e-e96707bf439e"
      },
      "execution_count": null,
      "outputs": [
        {
          "output_type": "display_data",
          "data": {
            "text/plain": [
              "<Figure size 432x288 with 1 Axes>"
            ],
            "image/png": "[encoded data removed]"
          },
          "metadata": {
            "needs_background": "light"
          }
        }
      ]
    },
    {
      "cell_type": "code",
      "source": [
        "# reshape the xtrain and xtest to have a single row instead of 28*28 shape\n",
        "xtrain = xtrain.reshape(-1,784)\n",
        "xtest = xtest.reshape(-1,784)\n",
        "print(xtrain.shape)\n",
        "print(xtest.shape)"
      ],
      "metadata": {
        "colab": {
          "base_uri": "https://localhost:8080/"
        },
        "id": "6vhyNqaWfYSc",
        "outputId": "ccace7a9-7d5b-440a-c5d7-fc848533f9b4"
      },
      "execution_count": null,
      "outputs": [
        {
          "output_type": "stream",
          "name": "stdout",
          "text": [
            "(60000, 784)\n",
            "(10000, 784)\n"
          ]
        }
      ]
    },
    {
      "cell_type": "code",
      "source": [
        "# converting ytrain and ytest to multiclass using onhot encoder\n",
        "ytrain_ohe = to_categorical(ytrain)\n",
        "ytest_ohe = to_categorical(ytest)"
      ],
      "metadata": {
        "id": "sMpGKMKSg-p-"
      },
      "execution_count": null,
      "outputs": []
    },
    {
      "cell_type": "code",
      "source": [
        "#model defination - architecture of the network (hidden,input and output layers)\n",
        "model = Sequential()\n",
        "model.add(Input(shape=(784,))) #input layer\n",
        "model.add(Dense(10,activation='softmax')) #outplut with softmax activation"
      ],
      "metadata": {
        "id": "_ZtjZLVijxy9"
      },
      "execution_count": null,
      "outputs": []
    },
    {
      "cell_type": "code",
      "source": [
        "#model compilation\n",
        "\n",
        "model.compile(optimizer=SGD(learning_rate=0.01),loss='categorical_crossentropy',metrics = 'accuracy')"
      ],
      "metadata": {
        "id": "BRV4mYpDmk0q"
      },
      "execution_count": null,
      "outputs": []
    },
    {
      "cell_type": "code",
      "source": [
        "model.fit(\n",
        "    x= xtrain,\n",
        "    y=ytrain_ohe,\n",
        "    epochs=30,\n",
        "    batch_size = 32, #none will default to 32\n",
        "    validation_data=(xtest,ytest_ohe)\n",
        ")"
      ],
      "metadata": {
        "colab": {
          "base_uri": "https://localhost:8080/"
        },
        "id": "5-B3GeqxroS_",
        "outputId": "0dc48473-9700-4791-b8fc-0444f7ecc31d"
      },
      "execution_count": null,
      "outputs": [
        {
          "output_type": "stream",
          "name": "stdout",
          "text": [
            "Epoch 1/30\n",
            "1875/1875 [==============================] - 5s 2ms/step - loss: 318.4195 - accuracy: 0.8416 - val_loss: 215.2921 - val_accuracy: 0.8846\n",
            "Epoch 2/30\n",
            "1875/1875 [==============================] - 4s 2ms/step - loss: 261.1807 - accuracy: 0.8680 - val_loss: 211.7753 - val_accuracy: 0.8879\n",
            "Epoch 3/30\n",
            "1875/1875 [==============================] - 4s 2ms/step - loss: 251.4057 - accuracy: 0.8741 - val_loss: 333.5909 - val_accuracy: 0.8402\n",
            "Epoch 4/30\n",
            "1875/1875 [==============================] - 4s 2ms/step - loss: 246.2846 - accuracy: 0.8759 - val_loss: 237.7520 - val_accuracy: 0.8839\n",
            "Epoch 5/30\n",
            "1875/1875 [==============================] - 4s 2ms/step - loss: 237.5620 - accuracy: 0.8782 - val_loss: 244.8413 - val_accuracy: 0.8820\n",
            "Epoch 6/30\n",
            "1875/1875 [==============================] - 4s 2ms/step - loss: 237.9317 - accuracy: 0.8803 - val_loss: 223.1590 - val_accuracy: 0.8935\n",
            "Epoch 7/30\n",
            "1875/1875 [==============================] - 4s 2ms/step - loss: 237.6463 - accuracy: 0.8802 - val_loss: 313.4857 - val_accuracy: 0.8511\n",
            "Epoch 8/30\n",
            "1875/1875 [==============================] - 3s 2ms/step - loss: 233.7348 - accuracy: 0.8822 - val_loss: 343.5227 - val_accuracy: 0.8286\n",
            "Epoch 9/30\n",
            "1875/1875 [==============================] - 4s 2ms/step - loss: 231.2578 - accuracy: 0.8836 - val_loss: 207.8234 - val_accuracy: 0.9061\n",
            "Epoch 10/30\n",
            "1875/1875 [==============================] - 4s 2ms/step - loss: 235.1074 - accuracy: 0.8810 - val_loss: 313.0378 - val_accuracy: 0.8429\n",
            "Epoch 11/30\n",
            "1875/1875 [==============================] - 4s 2ms/step - loss: 239.3595 - accuracy: 0.8819 - val_loss: 215.3780 - val_accuracy: 0.8987\n",
            "Epoch 12/30\n",
            "1875/1875 [==============================] - 4s 2ms/step - loss: 229.5650 - accuracy: 0.8831 - val_loss: 254.1252 - val_accuracy: 0.8765\n",
            "Epoch 13/30\n",
            "1875/1875 [==============================] - 3s 2ms/step - loss: 231.3571 - accuracy: 0.8846 - val_loss: 217.5153 - val_accuracy: 0.8957\n",
            "Epoch 14/30\n",
            "1875/1875 [==============================] - 4s 2ms/step - loss: 226.7301 - accuracy: 0.8846 - val_loss: 240.6864 - val_accuracy: 0.8915\n",
            "Epoch 15/30\n",
            "1875/1875 [==============================] - 3s 2ms/step - loss: 230.3900 - accuracy: 0.8829 - val_loss: 229.6574 - val_accuracy: 0.8870\n",
            "Epoch 16/30\n",
            "1875/1875 [==============================] - 4s 2ms/step - loss: 230.2157 - accuracy: 0.8841 - val_loss: 218.7108 - val_accuracy: 0.8987\n",
            "Epoch 17/30\n",
            "1875/1875 [==============================] - 4s 2ms/step - loss: 227.1670 - accuracy: 0.8858 - val_loss: 300.0475 - val_accuracy: 0.8651\n",
            "Epoch 18/30\n",
            "1875/1875 [==============================] - 4s 2ms/step - loss: 230.0621 - accuracy: 0.8850 - val_loss: 227.2713 - val_accuracy: 0.8972\n",
            "Epoch 19/30\n",
            "1875/1875 [==============================] - 4s 2ms/step - loss: 225.7521 - accuracy: 0.8862 - val_loss: 216.9870 - val_accuracy: 0.8992\n",
            "Epoch 20/30\n",
            "1875/1875 [==============================] - 4s 2ms/step - loss: 230.7908 - accuracy: 0.8851 - val_loss: 219.8904 - val_accuracy: 0.9012\n",
            "Epoch 21/30\n",
            "1875/1875 [==============================] - 3s 2ms/step - loss: 227.0233 - accuracy: 0.8848 - val_loss: 245.2340 - val_accuracy: 0.8903\n",
            "Epoch 22/30\n",
            "1875/1875 [==============================] - 4s 2ms/step - loss: 221.4052 - accuracy: 0.8886 - val_loss: 233.8473 - val_accuracy: 0.8890\n",
            "Epoch 23/30\n",
            "1875/1875 [==============================] - 4s 2ms/step - loss: 223.2094 - accuracy: 0.8868 - val_loss: 211.5175 - val_accuracy: 0.8991\n",
            "Epoch 24/30\n",
            "1875/1875 [==============================] - 3s 2ms/step - loss: 226.1782 - accuracy: 0.8862 - val_loss: 284.9594 - val_accuracy: 0.8686\n",
            "Epoch 25/30\n",
            "1875/1875 [==============================] - 3s 2ms/step - loss: 222.8821 - accuracy: 0.8863 - val_loss: 283.0851 - val_accuracy: 0.8743\n",
            "Epoch 26/30\n",
            "1875/1875 [==============================] - 4s 2ms/step - loss: 228.2705 - accuracy: 0.8861 - val_loss: 368.9383 - val_accuracy: 0.8512\n",
            "Epoch 27/30\n",
            "1875/1875 [==============================] - 3s 2ms/step - loss: 220.4551 - accuracy: 0.8895 - val_loss: 258.4433 - val_accuracy: 0.8803\n",
            "Epoch 28/30\n",
            "1875/1875 [==============================] - 4s 2ms/step - loss: 223.9767 - accuracy: 0.8875 - val_loss: 229.5965 - val_accuracy: 0.8883\n",
            "Epoch 29/30\n",
            "1875/1875 [==============================] - 4s 2ms/step - loss: 225.3142 - accuracy: 0.8870 - val_loss: 353.9200 - val_accuracy: 0.8392\n",
            "Epoch 30/30\n",
            "1875/1875 [==============================] - 4s 2ms/step - loss: 223.1172 - accuracy: 0.8874 - val_loss: 241.5399 - val_accuracy: 0.8944\n"
          ]
        },
        {
          "output_type": "execute_result",
          "data": {
            "text/plain": [
              "<keras.callbacks.History at 0x7fc0535e1910>"
            ]
          },
          "metadata": {},
          "execution_count": 10
        }
      ]
    },
    {
      "cell_type": "code",
      "source": [
        "model.history.history"
      ],
      "metadata": {
        "colab": {
          "base_uri": "https://localhost:8080/"
        },
        "id": "UYauq77MtIEf",
        "outputId": "1395bffb-a010-4d32-8584-c4559e6883be"
      },
      "execution_count": null,
      "outputs": [
        {
          "output_type": "execute_result",
          "data": {
            "text/plain": [
              "{'accuracy': [0.8415666818618774,\n",
              "  0.8680499792098999,\n",
              "  0.8740833401679993,\n",
              "  0.8759333491325378,\n",
              "  0.8782333135604858,\n",
              "  0.8803166747093201,\n",
              "  0.8802499771118164,\n",
              "  0.8821666836738586,\n",
              "  0.8836333155632019,\n",
              "  0.8809666633605957,\n",
              "  0.8818833231925964,\n",
              "  0.8831166625022888,\n",
              "  0.8846499919891357,\n",
              "  0.8845666646957397,\n",
              "  0.8828833103179932,\n",
              "  0.884066641330719,\n",
              "  0.885783314704895,\n",
              "  0.8850333094596863,\n",
              "  0.8862333297729492,\n",
              "  0.8851000070571899,\n",
              "  0.8847666382789612,\n",
              "  0.8885666728019714,\n",
              "  0.886816680431366,\n",
              "  0.8862166404724121,\n",
              "  0.8862500190734863,\n",
              "  0.8860999941825867,\n",
              "  0.8895333409309387,\n",
              "  0.8874833583831787,\n",
              "  0.8870000243186951,\n",
              "  0.8873666524887085],\n",
              " 'loss': [318.41949462890625,\n",
              "  261.1806945800781,\n",
              "  251.40565490722656,\n",
              "  246.2846221923828,\n",
              "  237.56201171875,\n",
              "  237.9316864013672,\n",
              "  237.64633178710938,\n",
              "  233.73483276367188,\n",
              "  231.2578125,\n",
              "  235.107421875,\n",
              "  239.3594512939453,\n",
              "  229.56497192382812,\n",
              "  231.35714721679688,\n",
              "  226.7301483154297,\n",
              "  230.38998413085938,\n",
              "  230.2156982421875,\n",
              "  227.16697692871094,\n",
              "  230.06210327148438,\n",
              "  225.75205993652344,\n",
              "  230.7908172607422,\n",
              "  227.02333068847656,\n",
              "  221.40521240234375,\n",
              "  223.20941162109375,\n",
              "  226.17823791503906,\n",
              "  222.882080078125,\n",
              "  228.27053833007812,\n",
              "  220.45509338378906,\n",
              "  223.97669982910156,\n",
              "  225.31422424316406,\n",
              "  223.11715698242188],\n",
              " 'val_accuracy': [0.8845999836921692,\n",
              "  0.8878999948501587,\n",
              "  0.8402000069618225,\n",
              "  0.883899986743927,\n",
              "  0.8820000290870667,\n",
              "  0.8934999704360962,\n",
              "  0.8511000275611877,\n",
              "  0.8285999894142151,\n",
              "  0.9060999751091003,\n",
              "  0.8428999781608582,\n",
              "  0.8986999988555908,\n",
              "  0.8765000104904175,\n",
              "  0.8956999778747559,\n",
              "  0.8914999961853027,\n",
              "  0.8870000243186951,\n",
              "  0.8986999988555908,\n",
              "  0.8651000261306763,\n",
              "  0.8971999883651733,\n",
              "  0.8992000222206116,\n",
              "  0.901199996471405,\n",
              "  0.8902999758720398,\n",
              "  0.8889999985694885,\n",
              "  0.8991000056266785,\n",
              "  0.8686000108718872,\n",
              "  0.8743000030517578,\n",
              "  0.8511999845504761,\n",
              "  0.880299985408783,\n",
              "  0.8883000016212463,\n",
              "  0.8392000198364258,\n",
              "  0.8944000005722046],\n",
              " 'val_loss': [215.2920684814453,\n",
              "  211.7752685546875,\n",
              "  333.59088134765625,\n",
              "  237.7519989013672,\n",
              "  244.84129333496094,\n",
              "  223.15899658203125,\n",
              "  313.48565673828125,\n",
              "  343.5226745605469,\n",
              "  207.82339477539062,\n",
              "  313.037841796875,\n",
              "  215.37802124023438,\n",
              "  254.1251678466797,\n",
              "  217.5153045654297,\n",
              "  240.6864471435547,\n",
              "  229.6574249267578,\n",
              "  218.71084594726562,\n",
              "  300.0474548339844,\n",
              "  227.27133178710938,\n",
              "  216.98695373535156,\n",
              "  219.89039611816406,\n",
              "  245.23397827148438,\n",
              "  233.84727478027344,\n",
              "  211.5175323486328,\n",
              "  284.95941162109375,\n",
              "  283.0850524902344,\n",
              "  368.9382629394531,\n",
              "  258.4432678222656,\n",
              "  229.59645080566406,\n",
              "  353.9200134277344,\n",
              "  241.53990173339844]}"
            ]
          },
          "metadata": {},
          "execution_count": 11
        }
      ]
    },
    {
      "cell_type": "code",
      "source": [],
      "metadata": {
        "id": "hvBQEULBtKXS"
      },
      "execution_count": null,
      "outputs": []
    }
  ]
}