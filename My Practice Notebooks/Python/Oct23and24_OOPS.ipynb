{
  "nbformat": 4,
  "nbformat_minor": 0,
  "metadata": {
    "colab": {
      "provenance": []
    },
    "kernelspec": {
      "name": "python3",
      "display_name": "Python 3"
    },
    "language_info": {
      "name": "python"
    }
  },
  "cells": [
    {
      "cell_type": "code",
      "metadata": {
        "id": "niWdVbjOl3rT"
      },
      "source": [
        "#OOPS Object Oriented Programing and POPS (Procedural oriented programing)\n",
        "#classes\n",
        "#objects\n",
        "#methods\n",
        "#implementation"
      ],
      "execution_count": null,
      "outputs": []
    },
    {
      "cell_type": "code",
      "metadata": {
        "id": "S6UHmnaK0cnd"
      },
      "source": [],
      "execution_count": null,
      "outputs": []
    },
    {
      "cell_type": "code",
      "metadata": {
        "id": "myNhWP3TnER7"
      },
      "source": [
        "#introduction about OOPS\n",
        "# CONCEPT OF CLASSES AND OBJECTS"
      ],
      "execution_count": null,
      "outputs": []
    },
    {
      "cell_type": "code",
      "metadata": {
        "id": "oGGSSQLZ0dWv"
      },
      "source": [
        "#class\n",
        "class demo:\n",
        "  def fun1(self,x,y):\n",
        "    return x*y\n",
        "\n",
        "  def fun2(self,x,y):\n",
        "    return x+y  "
      ],
      "execution_count": null,
      "outputs": []
    },
    {
      "cell_type": "code",
      "metadata": {
        "colab": {
          "base_uri": "https://localhost:8080/",
          "height": 163
        },
        "id": "nMvvOWOV1E4x",
        "outputId": "e130af09-6996-47bf-b83f-406423a6c4d8"
      },
      "source": [
        "fun1(90,8)"
      ],
      "execution_count": null,
      "outputs": [
        {
          "output_type": "error",
          "ename": "NameError",
          "evalue": "ignored",
          "traceback": [
            "\u001b[0;31m---------------------------------------------------------------------------\u001b[0m",
            "\u001b[0;31mNameError\u001b[0m                                 Traceback (most recent call last)",
            "\u001b[0;32m<ipython-input-2-315a777972d1>\u001b[0m in \u001b[0;36m<module>\u001b[0;34m()\u001b[0m\n\u001b[0;32m----> 1\u001b[0;31m \u001b[0mfun1\u001b[0m\u001b[0;34m(\u001b[0m\u001b[0;36m90\u001b[0m\u001b[0;34m,\u001b[0m\u001b[0;36m8\u001b[0m\u001b[0;34m)\u001b[0m\u001b[0;34m\u001b[0m\u001b[0;34m\u001b[0m\u001b[0m\n\u001b[0m",
            "\u001b[0;31mNameError\u001b[0m: name 'fun1' is not defined"
          ]
        }
      ]
    },
    {
      "cell_type": "code",
      "metadata": {
        "id": "wugyaj6-1Lys"
      },
      "source": [
        "#only object can access the functionality of class\n",
        "#creating object\n",
        "obj1=demo()"
      ],
      "execution_count": null,
      "outputs": []
    },
    {
      "cell_type": "code",
      "metadata": {
        "colab": {
          "base_uri": "https://localhost:8080/"
        },
        "id": "J0XxvwBC13_c",
        "outputId": "838b3e0e-5971-4980-82c8-51202d92ac51"
      },
      "source": [
        "obj1.fun1(7,9)"
      ],
      "execution_count": null,
      "outputs": [
        {
          "output_type": "execute_result",
          "data": {
            "text/plain": [
              "63"
            ]
          },
          "metadata": {},
          "execution_count": 4
        }
      ]
    },
    {
      "cell_type": "code",
      "metadata": {
        "colab": {
          "base_uri": "https://localhost:8080/"
        },
        "id": "vTFOS4xn1_f7",
        "outputId": "8a22c162-fc70-4be1-878e-e417a56e56a7"
      },
      "source": [
        "obj1.fun2(5,15)"
      ],
      "execution_count": null,
      "outputs": [
        {
          "output_type": "execute_result",
          "data": {
            "text/plain": [
              "20"
            ]
          },
          "metadata": {},
          "execution_count": 5
        }
      ]
    },
    {
      "cell_type": "code",
      "metadata": {
        "colab": {
          "base_uri": "https://localhost:8080/"
        },
        "id": "r7fe-iYg2QTj",
        "outputId": "d396acbc-4c31-4d39-95b1-9dcd18036854"
      },
      "source": [
        "#class\n",
        "class demo:\n",
        "  def fun1(self,x,y):\n",
        "    return x*y\n",
        "\n",
        "  def fun2(self,x,y):\n",
        "    return x+y \n",
        "\n",
        "obj2=demo()\n",
        "obj2.fun1(2,4)\n",
        "obj2.fun2(4,6)"
      ],
      "execution_count": null,
      "outputs": [
        {
          "output_type": "execute_result",
          "data": {
            "text/plain": [
              "10"
            ]
          },
          "metadata": {},
          "execution_count": 7
        }
      ]
    },
    {
      "cell_type": "code",
      "metadata": {
        "id": "QAe-pcEs5CDG"
      },
      "source": [
        "class student:\n",
        "\n",
        "  def details(self,s_id,name,grade):\n",
        "    print(\"student id is : \",s_id)\n",
        "    print(\"student name is \",name)\n",
        "    print(\"student grade is \",grade)\n",
        "  \n",
        "  def fee_status(self,status):\n",
        "    print(\"fee payment status is\",status)"
      ],
      "execution_count": null,
      "outputs": []
    },
    {
      "cell_type": "code",
      "metadata": {
        "id": "p6AO3DrM8Mf0"
      },
      "source": [
        "s1=student()"
      ],
      "execution_count": null,
      "outputs": []
    },
    {
      "cell_type": "code",
      "metadata": {
        "colab": {
          "base_uri": "https://localhost:8080/"
        },
        "id": "BxLwM5be8RkS",
        "outputId": "0699660d-ce7f-4cdb-e2cc-5e75ff3861d2"
      },
      "source": [
        "s1.details(101,\"Ramana\",\"B\")"
      ],
      "execution_count": null,
      "outputs": [
        {
          "output_type": "stream",
          "name": "stdout",
          "text": [
            "student id is :  101\n",
            "student name is  Ramana\n",
            "student grade is  B\n"
          ]
        }
      ]
    },
    {
      "cell_type": "code",
      "metadata": {
        "colab": {
          "base_uri": "https://localhost:8080/"
        },
        "id": "-MtH27OP8cHa",
        "outputId": "530dda14-2f59-4f3c-b716-f064024d3fc3"
      },
      "source": [
        "s1.fee_status(\"paid\")"
      ],
      "execution_count": null,
      "outputs": [
        {
          "output_type": "stream",
          "name": "stdout",
          "text": [
            "fee payment status is paid\n"
          ]
        }
      ]
    },
    {
      "cell_type": "code",
      "metadata": {
        "colab": {
          "base_uri": "https://localhost:8080/"
        },
        "id": "dzM9UrDT8sMt",
        "outputId": "138211c8-51c3-474f-9fb0-10b1b47f6db2"
      },
      "source": [
        "s1.details(102,\"venky\",\"A\")"
      ],
      "execution_count": null,
      "outputs": [
        {
          "output_type": "stream",
          "name": "stdout",
          "text": [
            "student id is :  102\n",
            "student name is  venky\n",
            "student grade is  A\n"
          ]
        }
      ]
    },
    {
      "cell_type": "code",
      "metadata": {
        "id": "I5_bk05_9WsC"
      },
      "source": [
        "#local environment\n",
        "class xyz:\n",
        "  p=20\n",
        "  q=30\n",
        "\n",
        "  def func1(self,a):\n",
        "    s=a+p\n",
        "    return s\n",
        "  \n",
        "  def fun2(self,b):\n",
        "    m=b*q\n",
        "    return m\n",
        "    "
      ],
      "execution_count": null,
      "outputs": []
    },
    {
      "cell_type": "code",
      "metadata": {
        "id": "Qs4vaIA3_5k0"
      },
      "source": [
        "o1=xyz()\n"
      ],
      "execution_count": null,
      "outputs": []
    },
    {
      "cell_type": "code",
      "metadata": {
        "colab": {
          "base_uri": "https://localhost:8080/",
          "height": 282
        },
        "id": "nJNlSbGdAE9S",
        "outputId": "2d137084-d670-458b-b297-559434433ea0"
      },
      "source": [
        "o1.func1(100)"
      ],
      "execution_count": null,
      "outputs": [
        {
          "output_type": "error",
          "ename": "NameError",
          "evalue": "ignored",
          "traceback": [
            "\u001b[0;31m---------------------------------------------------------------------------\u001b[0m",
            "\u001b[0;31mNameError\u001b[0m                                 Traceback (most recent call last)",
            "\u001b[0;32m<ipython-input-17-29b28ba7d52a>\u001b[0m in \u001b[0;36m<module>\u001b[0;34m()\u001b[0m\n\u001b[0;32m----> 1\u001b[0;31m \u001b[0mo1\u001b[0m\u001b[0;34m.\u001b[0m\u001b[0mfunc1\u001b[0m\u001b[0;34m(\u001b[0m\u001b[0;36m100\u001b[0m\u001b[0;34m)\u001b[0m\u001b[0;34m\u001b[0m\u001b[0;34m\u001b[0m\u001b[0m\n\u001b[0m",
            "\u001b[0;32m<ipython-input-15-b72fbcb344a9>\u001b[0m in \u001b[0;36mfunc1\u001b[0;34m(self, a)\u001b[0m\n\u001b[1;32m      5\u001b[0m \u001b[0;34m\u001b[0m\u001b[0m\n\u001b[1;32m      6\u001b[0m   \u001b[0;32mdef\u001b[0m \u001b[0mfunc1\u001b[0m\u001b[0;34m(\u001b[0m\u001b[0mself\u001b[0m\u001b[0;34m,\u001b[0m\u001b[0ma\u001b[0m\u001b[0;34m)\u001b[0m\u001b[0;34m:\u001b[0m\u001b[0;34m\u001b[0m\u001b[0;34m\u001b[0m\u001b[0m\n\u001b[0;32m----> 7\u001b[0;31m     \u001b[0ms\u001b[0m\u001b[0;34m=\u001b[0m\u001b[0ma\u001b[0m\u001b[0;34m+\u001b[0m\u001b[0mp\u001b[0m\u001b[0;34m\u001b[0m\u001b[0;34m\u001b[0m\u001b[0m\n\u001b[0m\u001b[1;32m      8\u001b[0m     \u001b[0;32mreturn\u001b[0m \u001b[0ms\u001b[0m\u001b[0;34m\u001b[0m\u001b[0;34m\u001b[0m\u001b[0m\n\u001b[1;32m      9\u001b[0m \u001b[0;34m\u001b[0m\u001b[0m\n",
            "\u001b[0;31mNameError\u001b[0m: name 'p' is not defined"
          ]
        }
      ]
    },
    {
      "cell_type": "code",
      "metadata": {
        "id": "fo8btj0uAICZ"
      },
      "source": [
        "#local environment\n",
        "class xyz:\n",
        "  p=20\n",
        "  q=30\n",
        "\n",
        "  def func1(self,a):\n",
        "    s=a+self.p\n",
        "    return s\n",
        "  \n",
        "  def fun2(self,b):\n",
        "    m=b*self.q\n",
        "    return m"
      ],
      "execution_count": null,
      "outputs": []
    },
    {
      "cell_type": "code",
      "metadata": {
        "id": "GWh1b6U7ASex"
      },
      "source": [
        "o2=xyz()"
      ],
      "execution_count": null,
      "outputs": []
    },
    {
      "cell_type": "code",
      "metadata": {
        "colab": {
          "base_uri": "https://localhost:8080/"
        },
        "id": "Gbf-qi8GAW8-",
        "outputId": "0743e3d0-a208-4f12-92b4-b07e18ff02e6"
      },
      "source": [
        "o2.func1(100)"
      ],
      "execution_count": null,
      "outputs": [
        {
          "output_type": "execute_result",
          "data": {
            "text/plain": [
              "120"
            ]
          },
          "metadata": {},
          "execution_count": 20
        }
      ]
    },
    {
      "cell_type": "code",
      "metadata": {
        "colab": {
          "base_uri": "https://localhost:8080/"
        },
        "id": "kWqqUoAmAnDh",
        "outputId": "ddcd922c-033a-4558-d7f5-9f341de53b77"
      },
      "source": [
        "o2.fun2(10)"
      ],
      "execution_count": null,
      "outputs": [
        {
          "output_type": "execute_result",
          "data": {
            "text/plain": [
              "300"
            ]
          },
          "metadata": {},
          "execution_count": 22
        }
      ]
    },
    {
      "cell_type": "code",
      "metadata": {
        "colab": {
          "base_uri": "https://localhost:8080/",
          "height": 163
        },
        "id": "Vet8Ok3OA4FJ",
        "outputId": "d6e128be-a01d-4abe-8987-c1f26137f7f7"
      },
      "source": [
        "self.p=20"
      ],
      "execution_count": null,
      "outputs": [
        {
          "output_type": "error",
          "ename": "NameError",
          "evalue": "ignored",
          "traceback": [
            "\u001b[0;31m---------------------------------------------------------------------------\u001b[0m",
            "\u001b[0;31mNameError\u001b[0m                                 Traceback (most recent call last)",
            "\u001b[0;32m<ipython-input-23-cb18f0a6181c>\u001b[0m in \u001b[0;36m<module>\u001b[0;34m()\u001b[0m\n\u001b[0;32m----> 1\u001b[0;31m \u001b[0mself\u001b[0m\u001b[0;34m.\u001b[0m\u001b[0mp\u001b[0m\u001b[0;34m=\u001b[0m\u001b[0;36m20\u001b[0m\u001b[0;34m\u001b[0m\u001b[0;34m\u001b[0m\u001b[0m\n\u001b[0m",
            "\u001b[0;31mNameError\u001b[0m: name 'self' is not defined"
          ]
        }
      ]
    },
    {
      "cell_type": "code",
      "metadata": {
        "id": "slCz-DoJB3Pb"
      },
      "source": [
        "#global environment\n",
        "\n",
        "x=100\n",
        "class demo:\n",
        "\n",
        "  def fun1(self,a):\n",
        "    return x+a\n",
        "  \n",
        "  def fun2(self,b):\n",
        "    return x*b"
      ],
      "execution_count": null,
      "outputs": []
    },
    {
      "cell_type": "code",
      "metadata": {
        "id": "zluoWx44DYbS"
      },
      "source": [
        "ob1=demo()\n"
      ],
      "execution_count": null,
      "outputs": []
    },
    {
      "cell_type": "code",
      "metadata": {
        "colab": {
          "base_uri": "https://localhost:8080/"
        },
        "id": "2sBBYX0gDcRQ",
        "outputId": "825603c4-ea41-4def-9f3c-cc9e2f623763"
      },
      "source": [
        "ob1.fun1(100)"
      ],
      "execution_count": null,
      "outputs": [
        {
          "output_type": "execute_result",
          "data": {
            "text/plain": [
              "200"
            ]
          },
          "metadata": {},
          "execution_count": 28
        }
      ]
    },
    {
      "cell_type": "code",
      "metadata": {
        "colab": {
          "base_uri": "https://localhost:8080/"
        },
        "id": "gand0GR2Dg3y",
        "outputId": "ef26a1ce-3729-4d78-d338-acec63dd31e7"
      },
      "source": [
        "ob1.fun2(3)"
      ],
      "execution_count": null,
      "outputs": [
        {
          "output_type": "execute_result",
          "data": {
            "text/plain": [
              "300"
            ]
          },
          "metadata": {},
          "execution_count": 29
        }
      ]
    },
    {
      "cell_type": "code",
      "metadata": {
        "id": "n4ewN4WQDkHQ"
      },
      "source": [
        "#case study --> Banking system (view all your variables)\n",
        "\n",
        "# check balance ==> chelps to view  current balance (main_balance)\n",
        "\n",
        "# credit/deposit ==> helps to credit amount (adding it to main_balance)\n",
        "\n",
        "# debit/withdraw ==> helps to debit amount (deducting from main_balance)\n",
        "\n",
        "class banking_system:\n",
        "\n",
        "  main_balance=0\n",
        "\n",
        "  def check_balance(self):\n",
        "    print(\"current balance is: \",self.main_balance)\n",
        "\n",
        "\n",
        "  def deposit(self,credit_amount):\n",
        "     self.main_balance = self.main_balance+credit_amount\n",
        "     print(\"creditied amount is: \",credit_amount)    \n",
        "\n",
        "  def withdraw(self,debit_amount):\n",
        "      if self.main_balance >= debit_amount:\n",
        "        self.main_balance = self.main_balance - debit_amount\n",
        "        print (\"debited amount is:\",debit_amount)\n",
        "      else:\n",
        "        print(\"insufficient funds\")\n",
        "\n",
        "\n",
        "\n",
        "\n"
      ],
      "execution_count": null,
      "outputs": []
    },
    {
      "cell_type": "code",
      "metadata": {
        "id": "PkJEK1edJGNk"
      },
      "source": [
        "p1=banking_system()"
      ],
      "execution_count": null,
      "outputs": []
    },
    {
      "cell_type": "code",
      "metadata": {
        "colab": {
          "base_uri": "https://localhost:8080/"
        },
        "id": "-G_3g9MxJWfI",
        "outputId": "37b5c25a-0db3-406c-8a4a-7bffa26d7881"
      },
      "source": [
        "p1.check_balance()"
      ],
      "execution_count": null,
      "outputs": [
        {
          "output_type": "stream",
          "name": "stdout",
          "text": [
            "current balance is:  0\n"
          ]
        }
      ]
    },
    {
      "cell_type": "code",
      "metadata": {
        "colab": {
          "base_uri": "https://localhost:8080/"
        },
        "id": "3QUw0mBtJdpu",
        "outputId": "9f5194b0-36d7-47eb-eb84-095b6e594edb"
      },
      "source": [
        "p1.deposit(10000)"
      ],
      "execution_count": null,
      "outputs": [
        {
          "output_type": "stream",
          "name": "stdout",
          "text": [
            "creditied amount is:  10000\n"
          ]
        }
      ]
    },
    {
      "cell_type": "code",
      "metadata": {
        "colab": {
          "base_uri": "https://localhost:8080/"
        },
        "id": "_8nHIogIKMsp",
        "outputId": "66629bce-62af-4e26-e3b6-286507a2d0c0"
      },
      "source": [
        "p1.check_balance()"
      ],
      "execution_count": null,
      "outputs": [
        {
          "output_type": "stream",
          "name": "stdout",
          "text": [
            "current balance is:  10000\n"
          ]
        }
      ]
    },
    {
      "cell_type": "code",
      "metadata": {
        "colab": {
          "base_uri": "https://localhost:8080/"
        },
        "id": "40ySrcFiKRH-",
        "outputId": "94588e31-e762-4cfa-ae57-28ec284ea351"
      },
      "source": [
        "p1.withdraw(5000)"
      ],
      "execution_count": null,
      "outputs": [
        {
          "output_type": "stream",
          "name": "stdout",
          "text": [
            "debited amount is: 5000\n"
          ]
        }
      ]
    },
    {
      "cell_type": "code",
      "metadata": {
        "colab": {
          "base_uri": "https://localhost:8080/"
        },
        "id": "kNWQPtOoKUjG",
        "outputId": "dfc4c761-9c0e-4f39-8c1a-7df60ac84294"
      },
      "source": [
        "p1.withdraw(7000)"
      ],
      "execution_count": null,
      "outputs": [
        {
          "output_type": "stream",
          "name": "stdout",
          "text": [
            "insufficient funds\n"
          ]
        }
      ]
    },
    {
      "cell_type": "code",
      "metadata": {
        "id": "4rPJcWoBMM8O"
      },
      "source": [
        "#constructor  __init__(): is a self calling function which will help in inititalize the data members\n",
        "#helps to assign or pass the input in class at once\n",
        "#\n"
      ],
      "execution_count": null,
      "outputs": []
    },
    {
      "cell_type": "code",
      "metadata": {
        "id": "af0CG06NxcW-"
      },
      "source": [
        "#types of constructors\n",
        "# parameterized - will accept the parameter and helps to assign values to a data member\n",
        "#non parameterized constructors --> will not accept parameters except self"
      ],
      "execution_count": null,
      "outputs": []
    },
    {
      "cell_type": "code",
      "metadata": {
        "id": "t2CaoqUsx8to"
      },
      "source": [
        "#non parameterized constructor\n",
        "\n",
        "class demo:\n",
        "  def __init__(self):\n",
        "    print(\"constructor invoked\")\n",
        "  \n",
        "  def fun1(self,x,y):\n",
        "    return x*y"
      ],
      "execution_count": null,
      "outputs": []
    },
    {
      "cell_type": "code",
      "metadata": {
        "colab": {
          "base_uri": "https://localhost:8080/"
        },
        "id": "eQEVBjbeyU64",
        "outputId": "ac03dc36-9834-48c6-e7c4-a93f6c112bca"
      },
      "source": [
        "obj1=demo()"
      ],
      "execution_count": null,
      "outputs": [
        {
          "output_type": "stream",
          "name": "stdout",
          "text": [
            "constructor invoked\n"
          ]
        }
      ]
    },
    {
      "cell_type": "code",
      "metadata": {
        "colab": {
          "base_uri": "https://localhost:8080/"
        },
        "id": "DVQ4vUozyjsv",
        "outputId": "e8fc0319-46ef-4aea-f0fd-1a2647a07d03"
      },
      "source": [
        "obj1.fun1(10,20)"
      ],
      "execution_count": null,
      "outputs": [
        {
          "output_type": "execute_result",
          "data": {
            "text/plain": [
              "200"
            ]
          },
          "metadata": {},
          "execution_count": 5
        }
      ]
    },
    {
      "cell_type": "code",
      "metadata": {
        "id": "TuFLYsaxy5tf"
      },
      "source": [
        "#class with constructor\n",
        "\n",
        "class student:\n",
        "\n",
        "  def __init__(self,ID,name,age,grade,year):\n",
        "    self.ID=ID\n",
        "    self.name=name\n",
        "    self.age=age\n",
        "    self.grade=grade\n",
        "    self.year=year\n",
        "    print(\"constructor called\")\n",
        "  \n",
        "  def details(self):\n",
        "    print(\"student ID \",self.ID)\n",
        "    print(\"name of the student is \",self.name)\n",
        "    print(\"age of the student \",self.age)\n",
        "    print(\"grade of the student is \",self.grade)\n",
        "    print(\"student pass out year \",self.year)\n",
        "\n",
        "  def academic_track(self):\n",
        "    print(\"student id is\",self.ID)\n",
        "    print(\"grade of the student \",self.grade)\n",
        "    print(\"student passout year is \",self.year)\n",
        "\n",
        "\n",
        "\n",
        "\n"
      ],
      "execution_count": null,
      "outputs": []
    },
    {
      "cell_type": "code",
      "metadata": {
        "colab": {
          "base_uri": "https://localhost:8080/",
          "height": 163
        },
        "id": "5BKY_JKm2zOn",
        "outputId": "d72d115c-c520-4eb2-822f-20196e964aae"
      },
      "source": [
        "s1=student()"
      ],
      "execution_count": null,
      "outputs": [
        {
          "output_type": "error",
          "ename": "TypeError",
          "evalue": "ignored",
          "traceback": [
            "\u001b[0;31m---------------------------------------------------------------------------\u001b[0m",
            "\u001b[0;31mTypeError\u001b[0m                                 Traceback (most recent call last)",
            "\u001b[0;32m<ipython-input-12-892cbd0816f2>\u001b[0m in \u001b[0;36m<module>\u001b[0;34m()\u001b[0m\n\u001b[0;32m----> 1\u001b[0;31m \u001b[0ms1\u001b[0m\u001b[0;34m=\u001b[0m\u001b[0mstudent\u001b[0m\u001b[0;34m(\u001b[0m\u001b[0;34m)\u001b[0m\u001b[0;34m\u001b[0m\u001b[0;34m\u001b[0m\u001b[0m\n\u001b[0m",
            "\u001b[0;31mTypeError\u001b[0m: __init__() missing 5 required positional arguments: 'ID', 'name', 'age', 'grade', and 'year'"
          ]
        }
      ]
    },
    {
      "cell_type": "code",
      "metadata": {
        "colab": {
          "base_uri": "https://localhost:8080/"
        },
        "id": "TDpAQP7G4mFu",
        "outputId": "27aef7f0-bd6a-4390-ee28-72b82d27481f"
      },
      "source": [
        "s2=student(101,\"ramana\",25,\"male\",2024)"
      ],
      "execution_count": null,
      "outputs": [
        {
          "output_type": "stream",
          "name": "stdout",
          "text": [
            "constructor called\n"
          ]
        }
      ]
    },
    {
      "cell_type": "code",
      "metadata": {
        "colab": {
          "base_uri": "https://localhost:8080/"
        },
        "id": "ueYX5Xbe4561",
        "outputId": "6a01946f-6101-444e-dd2d-1f39d7ab2998"
      },
      "source": [
        "s2.details()"
      ],
      "execution_count": null,
      "outputs": [
        {
          "output_type": "stream",
          "name": "stdout",
          "text": [
            "student ID  101\n",
            "name of the student is  ramana\n",
            "age of the student  25\n",
            "grade of the student is  male\n",
            "student pass out year  2024\n"
          ]
        }
      ]
    },
    {
      "cell_type": "code",
      "metadata": {
        "colab": {
          "base_uri": "https://localhost:8080/"
        },
        "id": "aQBH3S5p50ke",
        "outputId": "b8931076-9118-4dbc-f994-0a065569a5ad"
      },
      "source": [
        "s2.academic_track()"
      ],
      "execution_count": null,
      "outputs": [
        {
          "output_type": "stream",
          "name": "stdout",
          "text": [
            "student id is 101\n",
            "grade of the student  male\n",
            "student passout year is  2024\n"
          ]
        }
      ]
    },
    {
      "cell_type": "code",
      "metadata": {
        "colab": {
          "base_uri": "https://localhost:8080/"
        },
        "id": "LtF3Bpoj6ITt",
        "outputId": "cd6aba3e-04b0-4b7e-9c6f-62bef7b00b80"
      },
      "source": [
        "s3=student(102,\"chandhini\",23,\"female\",2027)"
      ],
      "execution_count": null,
      "outputs": [
        {
          "output_type": "stream",
          "name": "stdout",
          "text": [
            "constructor called\n"
          ]
        }
      ]
    },
    {
      "cell_type": "code",
      "metadata": {
        "colab": {
          "base_uri": "https://localhost:8080/"
        },
        "id": "gqyodZ3w6djd",
        "outputId": "5e53fd74-e997-47b5-ef30-a17296fda3b8"
      },
      "source": [
        "s3.details()"
      ],
      "execution_count": null,
      "outputs": [
        {
          "output_type": "stream",
          "name": "stdout",
          "text": [
            "student ID  102\n",
            "name of the student is  chandhini\n",
            "age of the student  23\n",
            "grade of the student is  female\n",
            "student pass out year  2027\n"
          ]
        }
      ]
    },
    {
      "cell_type": "code",
      "metadata": {
        "colab": {
          "base_uri": "https://localhost:8080/"
        },
        "id": "e9fcLpf46iKO",
        "outputId": "d90005fc-6f58-4a8d-a902-c895a97566c9"
      },
      "source": [
        "s3.academic_track()"
      ],
      "execution_count": null,
      "outputs": [
        {
          "output_type": "stream",
          "name": "stdout",
          "text": [
            "student id is 102\n",
            "grade of the student  female\n",
            "student passout year is  2027\n"
          ]
        }
      ]
    },
    {
      "cell_type": "code",
      "metadata": {
        "colab": {
          "base_uri": "https://localhost:8080/"
        },
        "id": "-ScO0G_56laV",
        "outputId": "0c2d9e6e-08a9-4ec0-cfd3-4e7d1a9d27ec"
      },
      "source": [
        "s2.details()"
      ],
      "execution_count": null,
      "outputs": [
        {
          "output_type": "stream",
          "name": "stdout",
          "text": [
            "student ID  101\n",
            "name of the student is  ramana\n",
            "age of the student  25\n",
            "grade of the student is  male\n",
            "student pass out year  2024\n"
          ]
        }
      ]
    },
    {
      "cell_type": "code",
      "metadata": {
        "colab": {
          "base_uri": "https://localhost:8080/"
        },
        "id": "wIOoy_of6oQ1",
        "outputId": "aacfd163-2151-49d0-9921-6a22093dde52"
      },
      "source": [
        "s3.details()"
      ],
      "execution_count": null,
      "outputs": [
        {
          "output_type": "stream",
          "name": "stdout",
          "text": [
            "student ID  102\n",
            "name of the student is  chandhini\n",
            "age of the student  23\n",
            "grade of the student is  female\n",
            "student pass out year  2027\n"
          ]
        }
      ]
    },
    {
      "cell_type": "code",
      "metadata": {
        "id": "AHkhqN256taF"
      },
      "source": [
        "#inheritance\n",
        "# single\n",
        "# multiple\n",
        "#multi level\n"
      ],
      "execution_count": null,
      "outputs": []
    },
    {
      "cell_type": "code",
      "metadata": {
        "id": "-bYnhCs-8iGl"
      },
      "source": [
        "#single inheritance ==> single parent class and single child class\n",
        "\n",
        "class A:\n",
        "\n",
        "  def fun1(self):\n",
        "    print(\"parent class\")\n",
        "\n",
        "class B(A): # B inherits from A\n",
        "\n",
        "  def fun2(self):\n",
        "    print(\"child class\")\n",
        "  \n"
      ],
      "execution_count": null,
      "outputs": []
    },
    {
      "cell_type": "code",
      "metadata": {
        "id": "nn4d_pTtCQ2_"
      },
      "source": [
        "o1=B()\n"
      ],
      "execution_count": null,
      "outputs": []
    },
    {
      "cell_type": "code",
      "metadata": {
        "colab": {
          "base_uri": "https://localhost:8080/"
        },
        "id": "qwmX0AvICWMV",
        "outputId": "91fe7aa6-2308-41fb-bb9f-1dce33433078"
      },
      "source": [
        "o1.fun2()"
      ],
      "execution_count": null,
      "outputs": [
        {
          "output_type": "stream",
          "name": "stdout",
          "text": [
            "child class\n"
          ]
        }
      ]
    },
    {
      "cell_type": "code",
      "metadata": {
        "colab": {
          "base_uri": "https://localhost:8080/"
        },
        "id": "16a3fYBzCauV",
        "outputId": "cb2b4227-de31-420d-92c0-27abf9a9a62e"
      },
      "source": [
        "o1.fun1()"
      ],
      "execution_count": null,
      "outputs": [
        {
          "output_type": "stream",
          "name": "stdout",
          "text": [
            "parent class\n"
          ]
        }
      ]
    },
    {
      "cell_type": "code",
      "metadata": {
        "id": "v51rhaUVCdkr"
      },
      "source": [
        "o2=A()"
      ],
      "execution_count": null,
      "outputs": []
    },
    {
      "cell_type": "code",
      "metadata": {
        "colab": {
          "base_uri": "https://localhost:8080/"
        },
        "id": "6MAitTd7C2ar",
        "outputId": "1aa5e3f1-1a8e-46dd-94ad-1ac4cd5c1adc"
      },
      "source": [
        "o2.fun1()"
      ],
      "execution_count": null,
      "outputs": [
        {
          "output_type": "stream",
          "name": "stdout",
          "text": [
            "parent class\n"
          ]
        }
      ]
    },
    {
      "cell_type": "code",
      "metadata": {
        "colab": {
          "base_uri": "https://localhost:8080/",
          "height": 163
        },
        "id": "nFp-pHz1C5AM",
        "outputId": "7a0c9546-aa29-497d-c4cc-42ed5efafe00"
      },
      "source": [
        "o2.fun2()"
      ],
      "execution_count": null,
      "outputs": [
        {
          "output_type": "error",
          "ename": "AttributeError",
          "evalue": "ignored",
          "traceback": [
            "\u001b[0;31m---------------------------------------------------------------------------\u001b[0m",
            "\u001b[0;31mAttributeError\u001b[0m                            Traceback (most recent call last)",
            "\u001b[0;32m<ipython-input-39-b522fa4dc31c>\u001b[0m in \u001b[0;36m<module>\u001b[0;34m()\u001b[0m\n\u001b[0;32m----> 1\u001b[0;31m \u001b[0mo2\u001b[0m\u001b[0;34m.\u001b[0m\u001b[0mfun2\u001b[0m\u001b[0;34m(\u001b[0m\u001b[0;34m)\u001b[0m\u001b[0;34m\u001b[0m\u001b[0;34m\u001b[0m\u001b[0m\n\u001b[0m",
            "\u001b[0;31mAttributeError\u001b[0m: 'A' object has no attribute 'fun2'"
          ]
        }
      ]
    },
    {
      "cell_type": "code",
      "metadata": {
        "id": "TiANeXnBC7AE"
      },
      "source": [
        "class parent:\n",
        "\n",
        "  a=100\n",
        "\n",
        "\n",
        "  def __init__(self):\n",
        "\n",
        "\n",
        "    print(\"parent class constructor\")\n",
        "\n",
        "  def fun1(self):\n",
        "    print(\"parent class\")\n",
        "\n"
      ],
      "execution_count": null,
      "outputs": []
    },
    {
      "cell_type": "code",
      "metadata": {
        "id": "wCPtRHVhD278"
      },
      "source": [
        "class child(parent): # child class inherits from parent class\n",
        "  def __init__(self):\n",
        "    print(\"child class constructor\")\n",
        "  def fun2(self):\n",
        "    print(\"parent class variable is: \",self.a)\n",
        "    print(\"child class\")\n",
        "    parent.__init__(self)\n",
        "    parent.fun1(self)"
      ],
      "execution_count": null,
      "outputs": []
    },
    {
      "cell_type": "code",
      "metadata": {
        "colab": {
          "base_uri": "https://localhost:8080/"
        },
        "id": "5XYAPpw9ERZi",
        "outputId": "8dad8872-aa47-431d-de8a-0b493c341f82"
      },
      "source": [
        "c1=child()"
      ],
      "execution_count": null,
      "outputs": [
        {
          "output_type": "stream",
          "name": "stdout",
          "text": [
            "child class constructor\n"
          ]
        }
      ]
    },
    {
      "cell_type": "code",
      "metadata": {
        "colab": {
          "base_uri": "https://localhost:8080/"
        },
        "id": "jvfXDdkWEmar",
        "outputId": "4986e15c-2eec-4445-f65a-0a2bb8290c59"
      },
      "source": [
        "c1.fun2()\n"
      ],
      "execution_count": null,
      "outputs": [
        {
          "output_type": "stream",
          "name": "stdout",
          "text": [
            "parent class variable is:  100\n",
            "child class\n",
            "parent class constructor\n",
            "parent class\n"
          ]
        }
      ]
    },
    {
      "cell_type": "code",
      "metadata": {
        "id": "Pl45V7cvExDC"
      },
      "source": [
        "#multiple inheritance\n",
        "#more than one parent class\n",
        "\n",
        "#A --> parent1\n",
        "#B --> parent2\n",
        "#C --> child\n",
        "\n"
      ],
      "execution_count": null,
      "outputs": []
    },
    {
      "cell_type": "code",
      "metadata": {
        "id": "eJrCA7L7LJ3I"
      },
      "source": [
        "class A:\n",
        "\n",
        "  def __init__(self):\n",
        "    print(\"class A constructor\")\n",
        "  def fun1(self):\n",
        "    print(\"A class function\")\n",
        "\n",
        "\n",
        "\n"
      ],
      "execution_count": null,
      "outputs": []
    },
    {
      "cell_type": "code",
      "metadata": {
        "id": "7-4R1VnfMzc4"
      },
      "source": [
        "class B:\n",
        "\n",
        "  def __init__(self):\n",
        "    print(\"B class constructor\")\n",
        "  \n",
        "  def fun2(self):\n",
        "    print(\"class B function\")"
      ],
      "execution_count": null,
      "outputs": []
    },
    {
      "cell_type": "code",
      "metadata": {
        "id": "8umcqLmbLw1k"
      },
      "source": [
        "#multiple inheritance\n",
        "\n",
        "class C(A,B):\n",
        "\n",
        "  def __init__(self):\n",
        "    print(\"class C constructor\")\n",
        "  \n",
        "  def fun3(self):\n",
        "    A.__init__(self)\n",
        "    A.fun1(self)\n",
        "    B.__init__(self)\n",
        "    B.fun2(self)\n",
        "    print(\"class C function\")"
      ],
      "execution_count": null,
      "outputs": []
    },
    {
      "cell_type": "code",
      "metadata": {
        "colab": {
          "base_uri": "https://localhost:8080/"
        },
        "id": "02AyjqSUMZW4",
        "outputId": "6a3581ba-722c-498b-9db8-86dcd66efdd2"
      },
      "source": [
        "C1=C()"
      ],
      "execution_count": null,
      "outputs": [
        {
          "output_type": "stream",
          "name": "stdout",
          "text": [
            "class C constructor\n"
          ]
        }
      ]
    },
    {
      "cell_type": "code",
      "metadata": {
        "colab": {
          "base_uri": "https://localhost:8080/"
        },
        "id": "iDZ-OXOvMeRx",
        "outputId": "8d8a394b-58eb-4447-90c4-091aa913dab7"
      },
      "source": [
        "C1.fun3()"
      ],
      "execution_count": null,
      "outputs": [
        {
          "output_type": "stream",
          "name": "stdout",
          "text": [
            "class A constructor\n",
            "A class function\n",
            "B class constructor\n",
            "class B function\n",
            "class C function\n"
          ]
        }
      ]
    },
    {
      "cell_type": "code",
      "metadata": {
        "id": "y9medfuiMg64"
      },
      "source": [
        "#multilevel\n",
        "\n",
        "#A --> B --> C"
      ],
      "execution_count": null,
      "outputs": []
    },
    {
      "cell_type": "code",
      "metadata": {
        "id": "UbnxXJ7DNxYr"
      },
      "source": [
        "class A:\n",
        "\n",
        "  def __init__(self):\n",
        "    print(\"class A constructor\")\n",
        "  def fun1(self):\n",
        "    print(\"A class function\")\n",
        "\n",
        "\n",
        "class B(A):\n",
        "\n",
        "  def __init__(self):\n",
        "    print(\"B class constructor\")\n",
        "  \n",
        "  def fun2(self):\n",
        "    print(\"class B function\")\n",
        "\n",
        "class C(B):\n",
        "\n",
        "  def __init__(self):\n",
        "    print(\"class C constructor\")\n",
        "  \n",
        "  def fun3(self):\n",
        "    print(\"class C function\")\n",
        "\n"
      ],
      "execution_count": null,
      "outputs": []
    },
    {
      "cell_type": "code",
      "metadata": {
        "colab": {
          "base_uri": "https://localhost:8080/"
        },
        "id": "tmeqd6_cOp9D",
        "outputId": "94ececec-479b-48c2-86bc-a62d8d8a15e9"
      },
      "source": [
        "o1=B()"
      ],
      "execution_count": null,
      "outputs": [
        {
          "output_type": "stream",
          "name": "stdout",
          "text": [
            "B class constructor\n"
          ]
        }
      ]
    },
    {
      "cell_type": "code",
      "metadata": {
        "colab": {
          "base_uri": "https://localhost:8080/"
        },
        "id": "lF4VIzSPOr0Y",
        "outputId": "198fadec-e867-43bd-a31f-8b310b9a4faf"
      },
      "source": [
        "o2=C()"
      ],
      "execution_count": null,
      "outputs": [
        {
          "output_type": "stream",
          "name": "stdout",
          "text": [
            "class C constructor\n"
          ]
        }
      ]
    },
    {
      "cell_type": "code",
      "metadata": {
        "colab": {
          "base_uri": "https://localhost:8080/"
        },
        "id": "8DGxoW9YOuJA",
        "outputId": "a135886b-d191-441f-b82e-3ebf6770e15f"
      },
      "source": [
        "o2.fun1()"
      ],
      "execution_count": null,
      "outputs": [
        {
          "output_type": "stream",
          "name": "stdout",
          "text": [
            "A class function\n"
          ]
        }
      ]
    },
    {
      "cell_type": "code",
      "metadata": {
        "colab": {
          "base_uri": "https://localhost:8080/"
        },
        "id": "uSOy2u7FOxU4",
        "outputId": "e94b3047-deba-4cfa-d67a-a333aaa47e88"
      },
      "source": [
        "o2.fun2()"
      ],
      "execution_count": null,
      "outputs": [
        {
          "output_type": "stream",
          "name": "stdout",
          "text": [
            "class B function\n"
          ]
        }
      ]
    },
    {
      "cell_type": "code",
      "metadata": {
        "colab": {
          "base_uri": "https://localhost:8080/"
        },
        "id": "4kHh6l94Oz2A",
        "outputId": "7da848e5-5361-4588-c5d4-624f063dae57"
      },
      "source": [
        "o2.fun3()"
      ],
      "execution_count": null,
      "outputs": [
        {
          "output_type": "stream",
          "name": "stdout",
          "text": [
            "class C function\n"
          ]
        }
      ]
    },
    {
      "cell_type": "code",
      "metadata": {
        "id": "HJpp7WCmO1xw"
      },
      "source": [
        "#polymorphism --> many forms\n",
        "#method overloading\n",
        "\n",
        "#method overriding"
      ],
      "execution_count": null,
      "outputs": []
    },
    {
      "cell_type": "code",
      "metadata": {
        "id": "K2bXJtbpQdwc"
      },
      "source": [
        "#method overloading is not supported by python\n",
        "\n",
        "def add(x,y):\n",
        "  return x+y"
      ],
      "execution_count": null,
      "outputs": []
    },
    {
      "cell_type": "code",
      "metadata": {
        "id": "uFgEuiQbQmBH"
      },
      "source": [
        "def add(x,y,z):\n",
        "  return x+y+z"
      ],
      "execution_count": null,
      "outputs": []
    },
    {
      "cell_type": "code",
      "metadata": {
        "colab": {
          "base_uri": "https://localhost:8080/",
          "height": 163
        },
        "id": "WNG4bZ_IQqxX",
        "outputId": "3e9a8927-2243-4782-cae1-fe87e1e4411c"
      },
      "source": [
        "add(1,2)"
      ],
      "execution_count": null,
      "outputs": [
        {
          "output_type": "error",
          "ename": "TypeError",
          "evalue": "ignored",
          "traceback": [
            "\u001b[0;31m---------------------------------------------------------------------------\u001b[0m",
            "\u001b[0;31mTypeError\u001b[0m                                 Traceback (most recent call last)",
            "\u001b[0;32m<ipython-input-121-944f4051a32c>\u001b[0m in \u001b[0;36m<module>\u001b[0;34m()\u001b[0m\n\u001b[0;32m----> 1\u001b[0;31m \u001b[0madd\u001b[0m\u001b[0;34m(\u001b[0m\u001b[0;36m1\u001b[0m\u001b[0;34m,\u001b[0m\u001b[0;36m2\u001b[0m\u001b[0;34m)\u001b[0m\u001b[0;34m\u001b[0m\u001b[0;34m\u001b[0m\u001b[0m\n\u001b[0m",
            "\u001b[0;31mTypeError\u001b[0m: add() missing 1 required positional argument: 'z'"
          ]
        }
      ]
    },
    {
      "cell_type": "code",
      "metadata": {
        "id": "Pgxo7GzpQsa_"
      },
      "source": [
        "#polymorphism implementation\n",
        "\n",
        "class xyz:\n",
        "  def fun1(self,x,y):\n",
        "    return x*y\n",
        "\n",
        "class test(xyz):\n",
        "  def fun1(self,x,y):\n",
        "    return x+y\n",
        "\n"
      ],
      "execution_count": null,
      "outputs": []
    },
    {
      "cell_type": "code",
      "metadata": {
        "id": "gAWZmahuSeZ5"
      },
      "source": [
        "o1=xyz()"
      ],
      "execution_count": null,
      "outputs": []
    },
    {
      "cell_type": "code",
      "metadata": {
        "id": "jHwekFNXS2W_"
      },
      "source": [
        "o2=test()"
      ],
      "execution_count": null,
      "outputs": []
    },
    {
      "cell_type": "code",
      "metadata": {
        "colab": {
          "base_uri": "https://localhost:8080/"
        },
        "id": "bV4pfMddS4yv",
        "outputId": "6f436f74-1f4e-4495-fd78-2e41fdf7ba0e"
      },
      "source": [
        "o1.fun1(30,40)"
      ],
      "execution_count": null,
      "outputs": [
        {
          "output_type": "execute_result",
          "data": {
            "text/plain": [
              "1200"
            ]
          },
          "metadata": {},
          "execution_count": 127
        }
      ]
    },
    {
      "cell_type": "code",
      "metadata": {
        "colab": {
          "base_uri": "https://localhost:8080/"
        },
        "id": "QBr-UxtxS8lu",
        "outputId": "5dcad52d-6e3e-4395-813a-0b59ce3b5f8f"
      },
      "source": [
        "o2.fun1(10,30)"
      ],
      "execution_count": null,
      "outputs": [
        {
          "output_type": "execute_result",
          "data": {
            "text/plain": [
              "40"
            ]
          },
          "metadata": {},
          "execution_count": 128
        }
      ]
    },
    {
      "cell_type": "code",
      "metadata": {
        "id": "ALvzRbKgTBJm"
      },
      "source": [
        "#encapsulation"
      ],
      "execution_count": null,
      "outputs": []
    }
  ]
}