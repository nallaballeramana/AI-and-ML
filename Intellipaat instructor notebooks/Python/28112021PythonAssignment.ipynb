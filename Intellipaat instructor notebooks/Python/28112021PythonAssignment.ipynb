{
  "cells": [
    {
      "cell_type": "code",
      "execution_count": null,
      "id": "8ceec51e",
      "metadata": {
        "id": "8ceec51e"
      },
      "outputs": [],
      "source": [
        "Create a list named ‘myList’ that is having the following elements: 10,20,30,’apple’, True,\n",
        "8.10\n",
        "a. Now in the ‘myList’, append these values: 30,40\n",
        "b. After that reverse the elements of the ‘myList’ and store that in ‘reversedList’"
      ]
    },
    {
      "cell_type": "code",
      "execution_count": null,
      "id": "17620084",
      "metadata": {
        "id": "17620084"
      },
      "outputs": [],
      "source": [
        "import numpy as np"
      ]
    },
    {
      "cell_type": "code",
      "execution_count": null,
      "id": "39d9135b",
      "metadata": {
        "id": "39d9135b"
      },
      "outputs": [],
      "source": [
        "myList = np.array([10,20,30,'apple',True,8.10])"
      ]
    },
    {
      "cell_type": "code",
      "execution_count": null,
      "id": "b66d947e",
      "metadata": {
        "id": "b66d947e",
        "outputId": "5d8f0dfb-c237-4fc0-83db-d3f40b5202b0"
      },
      "outputs": [
        {
          "name": "stdout",
          "output_type": "stream",
          "text": [
            "['10' '20' '30' 'apple' 'True' '8.1']\n"
          ]
        }
      ],
      "source": [
        "print(myList)"
      ]
    },
    {
      "cell_type": "code",
      "execution_count": null,
      "id": "a2ad215a",
      "metadata": {
        "id": "a2ad215a"
      },
      "outputs": [],
      "source": [
        "myList = np.concatenate((myList,[30,40]))"
      ]
    },
    {
      "cell_type": "code",
      "execution_count": null,
      "id": "8d600a84",
      "metadata": {
        "id": "8d600a84"
      },
      "outputs": [],
      "source": [
        "#After that reverse the elements of the ‘myList’ and store that in ‘reversedList’"
      ]
    },
    {
      "cell_type": "code",
      "execution_count": null,
      "id": "5b46b595",
      "metadata": {
        "id": "5b46b595",
        "outputId": "27f3c97e-5426-4ea6-959f-78528efe1e34"
      },
      "outputs": [
        {
          "name": "stdout",
          "output_type": "stream",
          "text": [
            "['40' '30' '8.1' 'True' 'apple' '30' '20' '10']\n"
          ]
        }
      ],
      "source": [
        "reversedList = myList[::-1]\n",
        "print(reversedList)"
      ]
    },
    {
      "cell_type": "code",
      "execution_count": null,
      "id": "d7217574",
      "metadata": {
        "id": "d7217574",
        "outputId": "335faebf-99bd-443d-934d-82f6ff2c7641"
      },
      "outputs": [
        {
          "name": "stdout",
          "output_type": "stream",
          "text": [
            "['40' '30' '8.1' 'True' 'apple' '30' '20' '10']\n"
          ]
        }
      ],
      "source": [
        "newreversedList = np.flipud(myList)\n",
        "print(newreversedList)"
      ]
    },
    {
      "cell_type": "markdown",
      "id": "d8c53c59",
      "metadata": {
        "id": "d8c53c59"
      },
      "source": [
        "2. Create a dictonary with key values as 1,2,3 and the values as ‘data’,’information’, and ‘text’.\n",
        "a. After that eliminate the ‘text’ value form the dictonary.\n",
        "b. Add ‘features’ in the dictonary.\n",
        "c. Fetch the ‘data’ element from the dictonary and display it in the output."
      ]
    },
    {
      "cell_type": "code",
      "execution_count": null,
      "id": "6f174be1",
      "metadata": {
        "id": "6f174be1",
        "outputId": "befb2361-c0b4-4430-82c6-cc58259136ed"
      },
      "outputs": [
        {
          "name": "stdout",
          "output_type": "stream",
          "text": [
            "{1: 'data', 2: 'information', 3: 'text'}\n"
          ]
        }
      ],
      "source": [
        "#Create a dictonary with key values as 1,2,3 and the values as ‘data’,’information’, and ‘text’.\n",
        "dict1 = {1:'data',2:'information',3:'text'}\n",
        "print(dict1)"
      ]
    },
    {
      "cell_type": "code",
      "execution_count": null,
      "id": "effd6313",
      "metadata": {
        "id": "effd6313",
        "outputId": "d8517b01-76f5-4e33-cec7-1ca6f40196c5"
      },
      "outputs": [
        {
          "data": {
            "text/plain": [
              "'text'"
            ]
          },
          "execution_count": 14,
          "metadata": {},
          "output_type": "execute_result"
        }
      ],
      "source": [
        "#After that eliminate the ‘text’ value form the dictonary\n",
        "dict1.pop(3)"
      ]
    },
    {
      "cell_type": "code",
      "execution_count": null,
      "id": "c0c6ca3e",
      "metadata": {
        "id": "c0c6ca3e",
        "outputId": "b66904cb-5ced-4f64-8e4f-d617d5b0e166"
      },
      "outputs": [
        {
          "name": "stdout",
          "output_type": "stream",
          "text": [
            "{1: 'data', 2: 'information'}\n"
          ]
        }
      ],
      "source": [
        "print(dict1)"
      ]
    },
    {
      "cell_type": "code",
      "execution_count": null,
      "id": "15a66569",
      "metadata": {
        "id": "15a66569"
      },
      "outputs": [],
      "source": [
        "dict1[3] = 'Features'"
      ]
    },
    {
      "cell_type": "code",
      "execution_count": null,
      "id": "ab94c06f",
      "metadata": {
        "id": "ab94c06f",
        "outputId": "b3d7b251-62e5-4aa7-8f88-e9125e78e4c5"
      },
      "outputs": [
        {
          "name": "stdout",
          "output_type": "stream",
          "text": [
            "{1: 'data', 2: 'information', 3: 'Features'}\n"
          ]
        }
      ],
      "source": [
        "print(dict1)"
      ]
    },
    {
      "cell_type": "code",
      "execution_count": null,
      "id": "93020d81",
      "metadata": {
        "id": "93020d81"
      },
      "outputs": [],
      "source": [
        " #Fetch the ‘data’ element from the dictonary and display it in the output"
      ]
    },
    {
      "cell_type": "code",
      "execution_count": null,
      "id": "1573c11e",
      "metadata": {
        "id": "1573c11e",
        "outputId": "43cf1e13-43e1-479c-a1ec-ee2e4e0b4333"
      },
      "outputs": [
        {
          "data": {
            "text/plain": [
              "'data'"
            ]
          },
          "execution_count": 20,
          "metadata": {},
          "output_type": "execute_result"
        }
      ],
      "source": [
        "dict1[1]"
      ]
    },
    {
      "cell_type": "code",
      "execution_count": null,
      "id": "23b2d62e",
      "metadata": {
        "id": "23b2d62e"
      },
      "outputs": [],
      "source": [
        "#3. Create a tuple and add these elements 1,2,3,apple,mango in ‘my_tuple"
      ]
    },
    {
      "cell_type": "code",
      "execution_count": null,
      "id": "7fe30b4a",
      "metadata": {
        "id": "7fe30b4a",
        "outputId": "ff2d8322-6c58-4e7d-d576-354e71189011"
      },
      "outputs": [
        {
          "name": "stdout",
          "output_type": "stream",
          "text": [
            "(1, 2, 3, 'apple', 'mango')\n"
          ]
        }
      ],
      "source": [
        "my_tuple = 1,2,3,'apple','mango'\n",
        "print(my_tuple)"
      ]
    },
    {
      "cell_type": "markdown",
      "id": "b7938c09",
      "metadata": {
        "id": "b7938c09"
      },
      "source": [
        " 4. Create another tuple named numeric_tuple consisting of only integer values 10,20,30,40,50\n",
        "a. Find the minimum value from the numeric_tuple.\n",
        "b. Concatenate my_tuple with numeric_tuple and store the result in r1.\n",
        "c. Duplicate the tuple named my_tuple 2 times and store that in ‘newdupli’."
      ]
    },
    {
      "cell_type": "code",
      "execution_count": null,
      "id": "ce56d52a",
      "metadata": {
        "id": "ce56d52a"
      },
      "outputs": [],
      "source": [
        " #Create another tuple named numeric_tuple consisting of only integer values 10,20,30,40,50"
      ]
    },
    {
      "cell_type": "code",
      "execution_count": null,
      "id": "b90ef1a0",
      "metadata": {
        "id": "b90ef1a0"
      },
      "outputs": [],
      "source": [
        "numeric_tuple = ((10,20,30,40,50,))"
      ]
    },
    {
      "cell_type": "code",
      "execution_count": null,
      "id": "04a3af8b",
      "metadata": {
        "id": "04a3af8b",
        "outputId": "0200dd38-77e6-4a07-d9d2-248034a82142"
      },
      "outputs": [
        {
          "name": "stdout",
          "output_type": "stream",
          "text": [
            "(10, 20, 30, 40, 50)\n"
          ]
        }
      ],
      "source": [
        "print(numeric_tuple)"
      ]
    },
    {
      "cell_type": "code",
      "execution_count": null,
      "id": "1a15d033",
      "metadata": {
        "id": "1a15d033"
      },
      "outputs": [],
      "source": [
        "#Find the minimum value from the numeric_tuple"
      ]
    },
    {
      "cell_type": "code",
      "execution_count": null,
      "id": "2ebfe960",
      "metadata": {
        "id": "2ebfe960",
        "outputId": "9b158a0a-b08d-4506-961f-da49cb891a2a"
      },
      "outputs": [
        {
          "data": {
            "text/plain": [
              "10"
            ]
          },
          "execution_count": 27,
          "metadata": {},
          "output_type": "execute_result"
        }
      ],
      "source": [
        "np.min(numeric_tuple)"
      ]
    },
    {
      "cell_type": "code",
      "execution_count": null,
      "id": "1dd377a6",
      "metadata": {
        "id": "1dd377a6"
      },
      "outputs": [],
      "source": [
        "#Concatenate my_tuple with numeric_tuple and store the result in r1."
      ]
    },
    {
      "cell_type": "code",
      "execution_count": null,
      "id": "10b42881",
      "metadata": {
        "id": "10b42881",
        "outputId": "e850873a-2b39-4a0e-831f-872bb5642324"
      },
      "outputs": [
        {
          "name": "stdout",
          "output_type": "stream",
          "text": [
            "(1, 2, 3, 'apple', 'mango', 10, 20, 30, 40, 50)\n"
          ]
        }
      ],
      "source": [
        "r1 = my_tuple + numeric_tuple\n",
        "print(r1)"
      ]
    },
    {
      "cell_type": "code",
      "execution_count": null,
      "id": "15430bb4",
      "metadata": {
        "id": "15430bb4"
      },
      "outputs": [],
      "source": [
        "r1 = np.concatenate((numeric_tuple,my_tuple))"
      ]
    },
    {
      "cell_type": "code",
      "execution_count": null,
      "id": "adb5e4b1",
      "metadata": {
        "id": "adb5e4b1",
        "outputId": "211cbf06-7c27-44fb-9488-1d812c13e7ed"
      },
      "outputs": [
        {
          "name": "stdout",
          "output_type": "stream",
          "text": [
            "['10' '20' '30' '40' '50' '1' '2' '3' 'apple' 'mango']\n"
          ]
        }
      ],
      "source": [
        "print(r1)"
      ]
    },
    {
      "cell_type": "code",
      "execution_count": null,
      "id": "d00e8b53",
      "metadata": {
        "id": "d00e8b53"
      },
      "outputs": [],
      "source": [
        "#c. Duplicate the tuple named my_tuple 2 times and store that in ‘newdupli’."
      ]
    },
    {
      "cell_type": "code",
      "execution_count": null,
      "id": "878cb42f",
      "metadata": {
        "id": "878cb42f",
        "outputId": "ded752dd-da05-48c6-a502-d3ab7d709361"
      },
      "outputs": [
        {
          "name": "stdout",
          "output_type": "stream",
          "text": [
            "(1, 2, 3, 'apple', 'mango', 1, 2, 3, 'apple', 'mango')\n"
          ]
        }
      ],
      "source": [
        "#newdupli = my_tuple *2\n",
        "newdupli = my_tuple + my_tuple\n",
        "print(newdupli)"
      ]
    },
    {
      "cell_type": "markdown",
      "id": "c5a3fa24",
      "metadata": {
        "id": "c5a3fa24"
      },
      "source": [
        "5. Create 2 sets with name set1 and set2, where set1 contains{1,2,3,4,5} and set2 to\n",
        "contains{2,3,7,6,1}\n",
        "a. Perform the below operation:\n",
        "a. set1 union set2\n",
        "b. set1 intersection set2\n",
        "c. set1 difference set2"
      ]
    },
    {
      "cell_type": "code",
      "execution_count": null,
      "id": "eeeeef60",
      "metadata": {
        "id": "eeeeef60"
      },
      "outputs": [],
      "source": [
        "Create 2 sets with name set1 and set2, where set1 contains{1,2,3,4,5} and set2 to\n",
        "contains{2,3,7,6,1}"
      ]
    },
    {
      "cell_type": "code",
      "execution_count": null,
      "id": "63cd6e75",
      "metadata": {
        "id": "63cd6e75"
      },
      "outputs": [],
      "source": [
        "set1 = {1,2,3,4,5}\n",
        "set2 = {2,3,7,6,1}"
      ]
    },
    {
      "cell_type": "code",
      "execution_count": null,
      "id": "3c7cb061",
      "metadata": {
        "id": "3c7cb061"
      },
      "outputs": [],
      "source": [
        "# set1 union set2"
      ]
    },
    {
      "cell_type": "code",
      "execution_count": null,
      "id": "09f0416f",
      "metadata": {
        "id": "09f0416f",
        "outputId": "396a2445-2c9c-4b91-db98-c6ad061633de"
      },
      "outputs": [
        {
          "name": "stdout",
          "output_type": "stream",
          "text": [
            "{1, 2, 3, 4, 5, 6, 7}\n"
          ]
        }
      ],
      "source": [
        "#print(set1 | set2)\n",
        "print(set1.union(set2))"
      ]
    },
    {
      "cell_type": "code",
      "execution_count": null,
      "id": "5f29748a",
      "metadata": {
        "id": "5f29748a"
      },
      "outputs": [],
      "source": [
        "#set1 intersection set2"
      ]
    },
    {
      "cell_type": "code",
      "execution_count": null,
      "id": "ccf19791",
      "metadata": {
        "id": "ccf19791",
        "outputId": "9c5362cb-94d1-4a98-8238-9bd0fe1e337b"
      },
      "outputs": [
        {
          "name": "stdout",
          "output_type": "stream",
          "text": [
            "{1, 2, 3}\n"
          ]
        }
      ],
      "source": [
        "print(set1.intersection(set2))"
      ]
    },
    {
      "cell_type": "code",
      "execution_count": null,
      "id": "0fa1168f",
      "metadata": {
        "id": "0fa1168f"
      },
      "outputs": [],
      "source": [
        "#set1 difference set2"
      ]
    },
    {
      "cell_type": "code",
      "execution_count": null,
      "id": "dd0ac42b",
      "metadata": {
        "id": "dd0ac42b",
        "outputId": "6f4fd3cf-9ffa-4496-f3a9-91a7a57e025a"
      },
      "outputs": [
        {
          "name": "stdout",
          "output_type": "stream",
          "text": [
            "{4, 5}\n"
          ]
        }
      ],
      "source": [
        "print(set1.difference(set2))"
      ]
    },
    {
      "cell_type": "code",
      "execution_count": null,
      "id": "7bb26d1c",
      "metadata": {
        "id": "7bb26d1c"
      },
      "outputs": [],
      "source": [
        "#Assignment 2"
      ]
    },
    {
      "cell_type": "code",
      "execution_count": null,
      "id": "b9fca59c",
      "metadata": {
        "id": "b9fca59c"
      },
      "outputs": [],
      "source": [
        "#1. Create a 3x3 matrix array with values ranging from 2 to 10."
      ]
    },
    {
      "cell_type": "code",
      "execution_count": null,
      "id": "de2c4970",
      "metadata": {
        "id": "de2c4970",
        "outputId": "42c10bf0-0410-467b-dae7-e78058775edf"
      },
      "outputs": [
        {
          "name": "stdout",
          "output_type": "stream",
          "text": [
            "[[5 8 2]\n",
            " [8 5 9]\n",
            " [5 9 6]]\n"
          ]
        }
      ],
      "source": [
        "ar1 = np.random.randint(2,11,(3,3))\n",
        "print(ar1)"
      ]
    },
    {
      "cell_type": "code",
      "execution_count": null,
      "id": "dfc9ee0c",
      "metadata": {
        "id": "dfc9ee0c",
        "outputId": "049665e7-f480-48f3-d5cf-4cde778e29f0"
      },
      "outputs": [
        {
          "name": "stdout",
          "output_type": "stream",
          "text": [
            "[[ 2  3  4]\n",
            " [ 5  6  7]\n",
            " [ 8  9 10]]\n"
          ]
        }
      ],
      "source": [
        "ar2 = np.arange(2,11).reshape(3,3)\n",
        "print(ar2)"
      ]
    },
    {
      "cell_type": "code",
      "execution_count": null,
      "id": "deb9b2ca",
      "metadata": {
        "id": "deb9b2ca"
      },
      "outputs": [],
      "source": [
        "2. Create a numpy array having user input values and convert the integer type to the float type\n",
        "of the elements of the array. For instance:\n",
        "Original array\n",
        "[1, 2, 3, 4]\n",
        "Array converted to a float type:\n",
        "[ 1. 2. 3. 4.]"
      ]
    },
    {
      "cell_type": "code",
      "execution_count": null,
      "id": "7551b6df",
      "metadata": {
        "id": "7551b6df",
        "outputId": "e3ab55a7-5ac5-4506-cfbf-0fccf1d3eb36"
      },
      "outputs": [
        {
          "name": "stdout",
          "output_type": "stream",
          "text": [
            "5\n"
          ]
        },
        {
          "data": {
            "text/plain": [
              "array([0., 1., 2., 3., 4.])"
            ]
          },
          "execution_count": 55,
          "metadata": {},
          "output_type": "execute_result"
        }
      ],
      "source": [
        "x = int(input())\n",
        "arr = np.arange(x,dtype = float)\n",
        "arr"
      ]
    },
    {
      "cell_type": "code",
      "execution_count": null,
      "id": "01a69786",
      "metadata": {
        "id": "01a69786"
      },
      "outputs": [],
      "source": [
        "3. Write a Numpy program to append values to the end of an array. For instance:\n",
        "Original array:\n",
        "[10, 20, 30]\n",
        "After append values to the end of the array:\n",
        "[10 20 30 40 50 60 70 80 90]"
      ]
    },
    {
      "cell_type": "code",
      "execution_count": null,
      "id": "497307ef",
      "metadata": {
        "id": "497307ef",
        "outputId": "a4f544e5-164e-4cf1-9abc-acf4e4900583"
      },
      "outputs": [
        {
          "data": {
            "text/plain": [
              "array([10, 20, 30, 40, 50, 60, 70, 80, 90])"
            ]
          },
          "execution_count": 61,
          "metadata": {},
          "output_type": "execute_result"
        }
      ],
      "source": [
        "arr_one = np.arange(10,31,10)\n",
        "arr_two = np.arange(40,91,10)\n",
        "#np.concatenate((arr_one,arr_two))\n",
        "np.append(arr_one,arr_two)"
      ]
    },
    {
      "cell_type": "code",
      "execution_count": null,
      "id": "3a59d7e0",
      "metadata": {
        "id": "3a59d7e0"
      },
      "outputs": [],
      "source": [
        "4. Create two numpy arrays and add the elements of both the arrays and store the result in\n",
        "sumArray"
      ]
    },
    {
      "cell_type": "code",
      "execution_count": null,
      "id": "f7295403",
      "metadata": {
        "id": "f7295403"
      },
      "outputs": [],
      "source": [
        "ar1 = np.arange(10,91,10).reshape(3,3)\n",
        "ar2 = np.arange(20,101,10).reshape(3,3)\n",
        "#sumArray = ar1+ar2\n",
        "sumArray = np.sum(ar1) + np.sum(ar2)"
      ]
    },
    {
      "cell_type": "code",
      "execution_count": null,
      "id": "3599d076",
      "metadata": {
        "id": "3599d076",
        "outputId": "13570a8c-df48-4756-cd47-3510959713d3"
      },
      "outputs": [
        {
          "data": {
            "text/plain": [
              "990"
            ]
          },
          "execution_count": 65,
          "metadata": {},
          "output_type": "execute_result"
        }
      ],
      "source": [
        "sumArray"
      ]
    },
    {
      "cell_type": "code",
      "execution_count": null,
      "id": "2865bd8b",
      "metadata": {
        "id": "2865bd8b"
      },
      "outputs": [],
      "source": [
        "5. Create a 3*3 array having values from 10-90(interval of 10) and store that in array1. Perform\n",
        "the following tasks:\n",
        "a. Extract the 1st row from the array.\n",
        "b. Extract the last element from the array."
      ]
    },
    {
      "cell_type": "code",
      "execution_count": null,
      "id": "6b537ce9",
      "metadata": {
        "id": "6b537ce9",
        "outputId": "d80cbca7-bfec-4093-f9d6-79ec5564f5ac"
      },
      "outputs": [
        {
          "data": {
            "text/plain": [
              "array([[10, 20, 30],\n",
              "       [40, 50, 60],\n",
              "       [70, 80, 90]])"
            ]
          },
          "execution_count": 66,
          "metadata": {},
          "output_type": "execute_result"
        }
      ],
      "source": [
        "array1 = np.arange(10,91,10).reshape(3,3)\n",
        "array1"
      ]
    },
    {
      "cell_type": "code",
      "execution_count": null,
      "id": "e36277e9",
      "metadata": {
        "id": "e36277e9",
        "outputId": "31985e37-dea2-4bee-bcb8-66fff9a5391f"
      },
      "outputs": [
        {
          "data": {
            "text/plain": [
              "array([[10, 20, 30]])"
            ]
          },
          "execution_count": 67,
          "metadata": {},
          "output_type": "execute_result"
        }
      ],
      "source": [
        "array1[0:1]"
      ]
    },
    {
      "cell_type": "code",
      "execution_count": null,
      "id": "de57f6c3",
      "metadata": {
        "id": "de57f6c3",
        "outputId": "0c268da9-3110-4869-9413-ad6585489f23"
      },
      "outputs": [
        {
          "data": {
            "text/plain": [
              "array([10, 20, 30])"
            ]
          },
          "execution_count": 69,
          "metadata": {},
          "output_type": "execute_result"
        }
      ],
      "source": [
        "array1[0,0:]"
      ]
    },
    {
      "cell_type": "code",
      "execution_count": null,
      "id": "8aa644ad",
      "metadata": {
        "id": "8aa644ad",
        "outputId": "8a1bcac8-caa5-44d9-def2-9ecab5ae2a74"
      },
      "outputs": [
        {
          "data": {
            "text/plain": [
              "array([10, 20, 30])"
            ]
          },
          "execution_count": 70,
          "metadata": {},
          "output_type": "execute_result"
        }
      ],
      "source": [
        "array1[0]"
      ]
    },
    {
      "cell_type": "code",
      "execution_count": null,
      "id": "fd298eeb",
      "metadata": {
        "id": "fd298eeb",
        "outputId": "f64dbd45-3743-4874-e0d8-4948c856f02b"
      },
      "outputs": [
        {
          "data": {
            "text/plain": [
              "30"
            ]
          },
          "execution_count": 72,
          "metadata": {},
          "output_type": "execute_result"
        }
      ],
      "source": [
        "array1[0,2]"
      ]
    },
    {
      "cell_type": "code",
      "execution_count": null,
      "id": "8be15f82",
      "metadata": {
        "id": "8be15f82",
        "outputId": "287d5c8d-15e8-4fc0-9e9c-efab5baffa9f"
      },
      "outputs": [
        {
          "data": {
            "text/plain": [
              "array([10, 20, 30])"
            ]
          },
          "execution_count": 74,
          "metadata": {},
          "output_type": "execute_result"
        }
      ],
      "source": [
        "array1[0]"
      ]
    },
    {
      "cell_type": "code",
      "execution_count": null,
      "id": "a6a410b8",
      "metadata": {
        "id": "a6a410b8",
        "outputId": "fe1609ef-1147-44d7-8337-2d898bfd2a88"
      },
      "outputs": [
        {
          "name": "stdout",
          "output_type": "stream",
          "text": [
            "First Row: [10 20 30]\n",
            "East Element: 90\n"
          ]
        }
      ],
      "source": [
        "array_one = np.arange(10,91, 10).reshape(3,3)\n",
        "#for first row\n",
        "array_5 = array_one[0,:]\n",
        "print(\"First Row:\",array_5)\n",
        "\n",
        "#for last element\n",
        "array_6 = array_one[-1,-1]\n",
        "print(\"East Element:\",array_6)\n"
      ]
    },
    {
      "cell_type": "code",
      "execution_count": null,
      "id": "02ca438a",
      "metadata": {
        "id": "02ca438a",
        "outputId": "2ba5d947-57be-4b74-9b10-3e9e212a89b1"
      },
      "outputs": [
        {
          "data": {
            "text/plain": [
              "90"
            ]
          },
          "execution_count": 76,
          "metadata": {},
          "output_type": "execute_result"
        }
      ],
      "source": [
        "array1[2,2]"
      ]
    },
    {
      "cell_type": "code",
      "execution_count": null,
      "id": "6559782a",
      "metadata": {
        "id": "6559782a",
        "outputId": "21d725ac-3c94-4280-ff99-ed3936c6e33b"
      },
      "outputs": [
        {
          "data": {
            "text/plain": [
              "90"
            ]
          },
          "execution_count": 77,
          "metadata": {},
          "output_type": "execute_result"
        }
      ],
      "source": [
        "array1[-1,-1]"
      ]
    },
    {
      "cell_type": "code",
      "execution_count": null,
      "id": "77cd9617",
      "metadata": {
        "id": "77cd9617",
        "outputId": "a31cdeca-a88d-4fc1-aa23-a63184facca7"
      },
      "outputs": [
        {
          "data": {
            "text/plain": [
              "array([[90]])"
            ]
          },
          "execution_count": 78,
          "metadata": {},
          "output_type": "execute_result"
        }
      ],
      "source": [
        "array1[2:,-1:]"
      ]
    },
    {
      "cell_type": "code",
      "execution_count": null,
      "id": "5161cbf4",
      "metadata": {
        "id": "5161cbf4"
      },
      "outputs": [],
      "source": []
    }
  ],
  "metadata": {
    "kernelspec": {
      "display_name": "Python 3",
      "language": "python",
      "name": "python3"
    },
    "language_info": {
      "codemirror_mode": {
        "name": "ipython",
        "version": 3
      },
      "file_extension": ".py",
      "mimetype": "text/x-python",
      "name": "python",
      "nbconvert_exporter": "python",
      "pygments_lexer": "ipython3",
      "version": "3.8.8"
    },
    "colab": {
      "provenance": []
    }
  },
  "nbformat": 4,
  "nbformat_minor": 5
}