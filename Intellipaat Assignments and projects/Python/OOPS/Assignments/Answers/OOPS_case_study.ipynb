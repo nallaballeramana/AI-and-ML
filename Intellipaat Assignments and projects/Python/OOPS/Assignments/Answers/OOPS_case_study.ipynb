{
  "nbformat": 4,
  "nbformat_minor": 0,
  "metadata": {
    "colab": {
      "name": "OOPS case study.ipynb",
      "provenance": []
    },
    "kernelspec": {
      "name": "python3",
      "display_name": "Python 3"
    },
    "language_info": {
      "name": "python"
    }
  },
  "cells": [
    {
      "cell_type": "markdown",
      "metadata": {
        "id": "eIusy4oDZx3R"
      },
      "source": [
        "1. Create a class names Employee, with a constructor ‘__init__’ method that accepts name and \n",
        "salary as parameters and set properties named name and salary.\n",
        "2. Define __str__ method in Employee class so that when someone tries to print the object the \n",
        "string Name: employee_name, Salary: employee_salary is printed with the actual employee \n",
        "name and salary.\n",
        "3. Create another class named Calculator, with methods to add, subtract, multiply and divide two \n",
        "numbers.\n",
        "4. These methods take two numbers as parameters.\n",
        "5. These methods will be called by method named execute command.\n",
        "6. Execute command takes in 3 parameters command which is string that can be either ‘add’, ‘sub’, \n",
        "‘mul’, ‘div’, and two numbers and it will call the appropriate method based on command \n",
        "parameter"
      ]
    },
    {
      "cell_type": "code",
      "metadata": {
        "id": "agpwv30dZzF3"
      },
      "source": [
        "class Employee:\n",
        "  def __init__(self,name,salary):\n",
        "    self.name=name\n",
        "    self.salary=salary\n",
        "  \n",
        "  def str(self,name,salary):\n",
        "    print(\"Employee Name is:\",self.name)\n",
        "    print(\"Employee salary is:\",self.salary)\n",
        "  \n",
        "\n",
        "class Calculator:\n",
        "  def add(self,x,y):\n",
        "    z=x+y\n",
        "    print(z)\n",
        "\n",
        "    def sub(self,x,y):\n",
        "      z=x-y\n",
        "      print(z)\n",
        "    \n",
        "    def mul(self,x,y):\n",
        "      z=x*y\n",
        "      print(z)\n",
        "\n",
        "    def div(self,x,y):\n",
        "      z=x/y\n",
        "      print(z)\n",
        "\n",
        "\n",
        "\n"
      ],
      "execution_count": 3,
      "outputs": []
    },
    {
      "cell_type": "code",
      "metadata": {
        "id": "X7fGAXrBEP2v"
      },
      "source": [
        "cal=Calculator()"
      ],
      "execution_count": 5,
      "outputs": []
    },
    {
      "cell_type": "code",
      "metadata": {
        "colab": {
          "base_uri": "https://localhost:8080/",
          "height": 163
        },
        "id": "QQ1f5kKQcbvD",
        "outputId": "86e068c1-c625-4b74-9618-a116afa285d5"
      },
      "source": [
        "exec(\"add(2,3)\")"
      ],
      "execution_count": 6,
      "outputs": [
        {
          "output_type": "error",
          "ename": "AttributeError",
          "evalue": "ignored",
          "traceback": [
            "\u001b[0;31m---------------------------------------------------------------------------\u001b[0m",
            "\u001b[0;31mAttributeError\u001b[0m                            Traceback (most recent call last)",
            "\u001b[0;32m<ipython-input-6-cff92a3b88bc>\u001b[0m in \u001b[0;36m<module>\u001b[0;34m()\u001b[0m\n\u001b[0;32m----> 1\u001b[0;31m \u001b[0mcal\u001b[0m\u001b[0;34m.\u001b[0m\u001b[0mexec\u001b[0m\u001b[0;34m(\u001b[0m\u001b[0;34m\"add(2,3)\"\u001b[0m\u001b[0;34m)\u001b[0m\u001b[0;34m\u001b[0m\u001b[0;34m\u001b[0m\u001b[0m\n\u001b[0m",
            "\u001b[0;31mAttributeError\u001b[0m: 'Calculator' object has no attribute 'exec'"
          ]
        }
      ]
    },
    {
      "cell_type": "code",
      "metadata": {
        "id": "_8cqpg1yDqQd"
      },
      "source": [
        ""
      ],
      "execution_count": null,
      "outputs": []
    }
  ]
}