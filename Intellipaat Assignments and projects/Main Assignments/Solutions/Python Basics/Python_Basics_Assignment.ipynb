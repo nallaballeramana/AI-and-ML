{
  "nbformat": 4,
  "nbformat_minor": 0,
  "metadata": {
    "colab": {
      "name": "Python Basics Assignment.ipynb",
      "provenance": []
    },
    "kernelspec": {
      "name": "python3",
      "display_name": "Python 3"
    },
    "language_info": {
      "name": "python"
    }
  },
  "cells": [
    {
      "cell_type": "markdown",
      "source": [
        "1.\tUsing Python script as a calculator for performing the below tasks:\n",
        "\n",
        "\n",
        "a)\tCreate the variables n, r, p and assign them values 10, 5, and 100 respectively. Then evaluate the following expression in the Python console.\n",
        "𝐴 = 𝑝 (1 + 𝑟/ 100)^n\n",
        "\n",
        "b)\tWhat are the data types of the variables p, r, n, and A in problem (1(a))?\n",
        "\n",
        "c)\tIf the data type of the variable ‘n’ is not integer, then redefine ‘n’ as integer with its value being 10 and again compute the value of A.  \n"
      ],
      "metadata": {
        "id": "FBRtTjUChJuK"
      }
    },
    {
      "cell_type": "code",
      "source": [
        "n=10\n",
        "r=5\n",
        "p=100\n",
        "\n",
        "A = p*(1+r/100)**n\n",
        "\n",
        "print(A)\n",
        "\n"
      ],
      "metadata": {
        "colab": {
          "base_uri": "https://localhost:8080/"
        },
        "id": "Bmj2I7jdhimW",
        "outputId": "5d1c9998-fb87-453f-9ac1-5251dabe468a"
      },
      "execution_count": 4,
      "outputs": [
        {
          "output_type": "stream",
          "name": "stdout",
          "text": [
            "162.8894626777442\n"
          ]
        }
      ]
    },
    {
      "cell_type": "code",
      "source": [
        "print(\"n is of data type \",type(n))\n",
        "print(\"r is of data type \",type(r))\n",
        "print(\"p is of data type \",type(p))\n",
        "print(\"A is of data type \",type(A))"
      ],
      "metadata": {
        "colab": {
          "base_uri": "https://localhost:8080/"
        },
        "id": "ggr_OmlFh1wU",
        "outputId": "e504382d-f7b9-4bdf-ab4f-e23636296dea"
      },
      "execution_count": 6,
      "outputs": [
        {
          "output_type": "stream",
          "name": "stdout",
          "text": [
            "n is of data type  <class 'int'>\n",
            "r is of data type  <class 'int'>\n",
            "p is of data type  <class 'int'>\n",
            "A is of data type  <class 'float'>\n"
          ]
        }
      ]
    },
    {
      "cell_type": "code",
      "source": [
        "# from above result we can see data type of n is int ..so as per question I am not proceeding with point 1(c)"
      ],
      "metadata": {
        "id": "aDuD3TDSmAGM"
      },
      "execution_count": null,
      "outputs": []
    },
    {
      "cell_type": "markdown",
      "source": [
        "2.\tWhat will be the output of the following code? \n",
        "\n",
        "![py basics que 2.png](data:image/png;base64,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)"
      ],
      "metadata": {
        "id": "fPOSR5e8naIF"
      }
    },
    {
      "cell_type": "code",
      "source": [
        "# output of above code is \n",
        "#1) prints list [2,7,3,5,4,6]\n",
        "#then throws NameError: numpy is not defined as we imported numpy as np and using as numpy."
      ],
      "metadata": {
        "id": "V8Q1qJwAn0qh"
      },
      "execution_count": null,
      "outputs": []
    },
    {
      "cell_type": "markdown",
      "source": [
        "3.\tCreate a string called ‘string’ with the value as “Machine Learning”. \n",
        "Which of the following code(s) is/are appropriate to slice the sub-string \"Learn”?"
      ],
      "metadata": {
        "id": "5_c8lRPEpRzY"
      }
    },
    {
      "cell_type": "code",
      "source": [
        "string = \"Machine Learning\"\n",
        "string[8:13]\n"
      ],
      "metadata": {
        "colab": {
          "base_uri": "https://localhost:8080/",
          "height": 35
        },
        "id": "2_Swpu8DpUmU",
        "outputId": "7df35d01-ffac-457d-8e28-948ee64584fc"
      },
      "execution_count": 25,
      "outputs": [
        {
          "output_type": "execute_result",
          "data": {
            "application/vnd.google.colaboratory.intrinsic+json": {
              "type": "string"
            },
            "text/plain": [
              "'Learn'"
            ]
          },
          "metadata": {},
          "execution_count": 25
        }
      ]
    },
    {
      "cell_type": "markdown",
      "source": [
        "4.\tCreate a sequence of numbers from 15 to 25 and increment by 4. What is the index of the value 19?"
      ],
      "metadata": {
        "id": "1ztSM3Bnpdpk"
      }
    },
    {
      "cell_type": "code",
      "source": [
        "L=[]\n",
        "for i in range(15,25,4):\n",
        "  L.append(i)\n",
        "print(L)\n",
        "\n",
        "print(\"index of 19 is: \",L.index(19))"
      ],
      "metadata": {
        "colab": {
          "base_uri": "https://localhost:8080/"
        },
        "id": "K1de5Q1Rpg8T",
        "outputId": "7444b9c7-220a-4a96-ca91-10157e9d064f"
      },
      "execution_count": 18,
      "outputs": [
        {
          "output_type": "stream",
          "name": "stdout",
          "text": [
            "[15, 19, 23]\n",
            "index of 19 is:  1\n"
          ]
        }
      ]
    },
    {
      "cell_type": "markdown",
      "source": [
        "5.\tWhich of the following is true with respect to the below codes?\n",
        "\n",
        "![image.png](data:image/png;base64,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)\n",
        "\n",
        "A.\tnum1 = num2 \n",
        "\n",
        "B.\tnum1 ≠ num2\n",
        "\n",
        "C.\tnum1 < num2\n",
        "\n",
        "D.\tnum1 > num2\n"
      ],
      "metadata": {
        "id": "Q-HcX5Tbt5bl"
      }
    },
    {
      "cell_type": "code",
      "source": [
        "# Answer is option A  num1 = num2 as we can write exponent in both ways\n",
        "num1 = 5**4\n",
        "num2 = pow(5,4)\n",
        "print(num1,num2)"
      ],
      "metadata": {
        "colab": {
          "base_uri": "https://localhost:8080/"
        },
        "id": "1hfb5lMluLeZ",
        "outputId": "9a61e837-2ca9-44a5-83f8-a41f39d83719"
      },
      "execution_count": 27,
      "outputs": [
        {
          "output_type": "stream",
          "name": "stdout",
          "text": [
            "625 625\n"
          ]
        }
      ]
    },
    {
      "cell_type": "markdown",
      "source": [
        "6.\tWe have two lists. L1 = ['Coffee', 'Tea'] L2 = ['Hot', 'Ice']. Using  a  nested while loop   compute the following output:\n",
        "\n",
        "Coffee\n",
        "* Hot\n",
        "* Ice\n",
        "\n",
        "Tea\n",
        "* Hot\n",
        "* Ice\n"
      ],
      "metadata": {
        "id": "TIJUD1w6u6Sf"
      }
    },
    {
      "cell_type": "code",
      "source": [
        "L1=['Coffee','Tea']\n",
        "L2 = ['Hot','Ice']\n",
        "i=0\n",
        "\n",
        "while i<len(L1) :\n",
        "  print(L1[i])\n",
        "  j=0\n",
        "  while j<len(L2):\n",
        "    print(\"*\",L2[j])\n",
        "    j+=1\n",
        "  i+=1"
      ],
      "metadata": {
        "colab": {
          "base_uri": "https://localhost:8080/"
        },
        "id": "zSye9ODNvF8b",
        "outputId": "3d96dc8f-26a1-49f9-c060-14cc57ff871d"
      },
      "execution_count": 5,
      "outputs": [
        {
          "output_type": "stream",
          "name": "stdout",
          "text": [
            "Coffee\n",
            "* Hot\n",
            "* Ice\n",
            "Tea\n",
            "* Hot\n",
            "* Ice\n"
          ]
        }
      ]
    }
  ]
}