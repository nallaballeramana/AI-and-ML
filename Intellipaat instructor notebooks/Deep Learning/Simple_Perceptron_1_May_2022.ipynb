{
  "cells": [
    {
      "cell_type": "code",
      "execution_count": null,
      "metadata": {
        "id": "8PPCD4Ampq3b"
      },
      "outputs": [],
      "source": [
        "import numpy as np"
      ]
    },
    {
      "cell_type": "code",
      "execution_count": null,
      "metadata": {
        "id": "ZK3CnXx5pq3g"
      },
      "outputs": [],
      "source": [
        "x1 = [10, 8, 15]\n",
        "x2 = [8, 20, 25]\n",
        "y = [30, 15, 20]\n",
        "\n",
        "n = len(y)"
      ]
    },
    {
      "cell_type": "code",
      "execution_count": null,
      "metadata": {
        "id": "K57K6B41pq3h"
      },
      "outputs": [],
      "source": [
        "# Forward pass\n",
        "\n",
        "def forward_pass(w1, w2, b):\n",
        "    total_error = 0\n",
        "    y_pred  = []\n",
        "\n",
        "    for i in range(n):\n",
        "        y_hat = x1[i]*w1 + x2[i]*w2 + b # y_pred = x1.w1 + x2.w2 + b\n",
        "        E = (y[i] - y_hat)**2 # Squared Error of the current point\n",
        "        y_pred.append(y_hat)\n",
        "        total_error+=E # Total error of all points\n",
        "    return total_error, y_pred"
      ]
    },
    {
      "cell_type": "code",
      "execution_count": null,
      "metadata": {
        "id": "fLExwHEVpq3i"
      },
      "outputs": [],
      "source": [
        "def weightUpdate(w1, w2, b):\n",
        "    for i in range(n):\n",
        "        dE_dw1 = -2 * x1[i] * (y[i] - y_pred[i])\n",
        "        dE_dw2 = -2 * x2[i] * (y[i] - y_pred[i])\n",
        "        dE_db = -2 * (y[i] - y_pred[i])\n",
        "\n",
        "        w1 -= lr * dE_dw1\n",
        "        w2 -= lr * dE_dw2\n",
        "        b -= lr * dE_db\n",
        "    return w1, w2, b"
      ]
    },
    {
      "cell_type": "code",
      "execution_count": null,
      "metadata": {
        "scrolled": true,
        "id": "gPS-g9TRpq3j",
        "outputId": "7971e6fd-a203-431f-a2d8-209d13690fc0",
        "colab": {
          "base_uri": "https://localhost:8080/"
        }
      },
      "outputs": [
        {
          "output_type": "stream",
          "name": "stdout",
          "text": [
            "Epoch: 0 | MSE = 552.47\n",
            "Epoch: 1 | MSE = 411.72\n",
            "Epoch: 2 | MSE = 339.7\n",
            "Epoch: 3 | MSE = 302.37\n",
            "Epoch: 4 | MSE = 282.54\n",
            "Epoch: 5 | MSE = 271.55\n",
            "Epoch: 6 | MSE = 265.02\n",
            "Epoch: 7 | MSE = 260.76\n",
            "Epoch: 8 | MSE = 257.66\n",
            "Epoch: 9 | MSE = 255.15\n",
            "Epoch: 10 | MSE = 252.96\n",
            "Epoch: 11 | MSE = 250.93\n",
            "Epoch: 12 | MSE = 249.0\n",
            "Epoch: 13 | MSE = 247.13\n",
            "Epoch: 14 | MSE = 245.3\n",
            "Epoch: 15 | MSE = 243.5\n",
            "Epoch: 16 | MSE = 241.73\n",
            "Epoch: 17 | MSE = 239.98\n",
            "Epoch: 18 | MSE = 238.26\n",
            "Epoch: 19 | MSE = 236.56\n",
            "Epoch: 20 | MSE = 234.88\n",
            "Epoch: 21 | MSE = 233.22\n",
            "Epoch: 22 | MSE = 231.58\n",
            "Epoch: 23 | MSE = 229.96\n",
            "Epoch: 24 | MSE = 228.37\n",
            "Epoch: 25 | MSE = 226.79\n",
            "Epoch: 26 | MSE = 225.23\n",
            "Epoch: 27 | MSE = 223.69\n",
            "Epoch: 28 | MSE = 222.18\n",
            "Epoch: 29 | MSE = 220.68\n",
            "Epoch: 30 | MSE = 219.2\n",
            "Epoch: 31 | MSE = 217.73\n",
            "Epoch: 32 | MSE = 216.29\n",
            "Epoch: 33 | MSE = 214.86\n",
            "Epoch: 34 | MSE = 213.45\n",
            "Epoch: 35 | MSE = 212.06\n",
            "Epoch: 36 | MSE = 210.69\n",
            "Epoch: 37 | MSE = 209.33\n",
            "Epoch: 38 | MSE = 207.99\n",
            "Epoch: 39 | MSE = 206.67\n",
            "Epoch: 40 | MSE = 205.37\n",
            "Epoch: 41 | MSE = 204.08\n",
            "Epoch: 42 | MSE = 202.8\n",
            "Epoch: 43 | MSE = 201.55\n",
            "Epoch: 44 | MSE = 200.3\n",
            "Epoch: 45 | MSE = 199.08\n",
            "Epoch: 46 | MSE = 197.87\n",
            "Epoch: 47 | MSE = 196.67\n",
            "Epoch: 48 | MSE = 195.49\n",
            "Epoch: 49 | MSE = 194.32\n",
            "Epoch: 50 | MSE = 193.17\n",
            "Epoch: 51 | MSE = 192.03\n",
            "Epoch: 52 | MSE = 190.91\n",
            "Epoch: 53 | MSE = 189.8\n",
            "Epoch: 54 | MSE = 188.7\n",
            "Epoch: 55 | MSE = 187.62\n",
            "Epoch: 56 | MSE = 186.55\n",
            "Epoch: 57 | MSE = 185.5\n",
            "Epoch: 58 | MSE = 184.46\n",
            "Epoch: 59 | MSE = 183.43\n",
            "Epoch: 60 | MSE = 182.41\n",
            "Epoch: 61 | MSE = 181.41\n",
            "Epoch: 62 | MSE = 180.42\n",
            "Epoch: 63 | MSE = 179.44\n",
            "Epoch: 64 | MSE = 178.47\n",
            "Epoch: 65 | MSE = 177.52\n",
            "Epoch: 66 | MSE = 176.58\n",
            "Epoch: 67 | MSE = 175.64\n",
            "Epoch: 68 | MSE = 174.73\n",
            "Epoch: 69 | MSE = 173.82\n",
            "Epoch: 70 | MSE = 172.92\n",
            "Epoch: 71 | MSE = 172.04\n",
            "Epoch: 72 | MSE = 171.16\n",
            "Epoch: 73 | MSE = 170.3\n",
            "Epoch: 74 | MSE = 169.45\n",
            "Epoch: 75 | MSE = 168.6\n",
            "Epoch: 76 | MSE = 167.77\n",
            "Epoch: 77 | MSE = 166.95\n",
            "Epoch: 78 | MSE = 166.14\n",
            "Epoch: 79 | MSE = 165.34\n",
            "Epoch: 80 | MSE = 164.55\n",
            "Epoch: 81 | MSE = 163.77\n",
            "Epoch: 82 | MSE = 163.0\n",
            "Epoch: 83 | MSE = 162.23\n",
            "Epoch: 84 | MSE = 161.48\n",
            "Epoch: 85 | MSE = 160.74\n",
            "Epoch: 86 | MSE = 160.0\n",
            "Epoch: 87 | MSE = 159.28\n",
            "Epoch: 88 | MSE = 158.56\n",
            "Epoch: 89 | MSE = 157.86\n",
            "Epoch: 90 | MSE = 157.16\n",
            "Epoch: 91 | MSE = 156.47\n",
            "Epoch: 92 | MSE = 155.79\n",
            "Epoch: 93 | MSE = 155.12\n",
            "Epoch: 94 | MSE = 154.45\n",
            "Epoch: 95 | MSE = 153.8\n",
            "Epoch: 96 | MSE = 153.15\n",
            "Epoch: 97 | MSE = 152.51\n",
            "Epoch: 98 | MSE = 151.88\n",
            "Epoch: 99 | MSE = 151.26\n",
            "Epoch: 100 | MSE = 150.64\n",
            "Epoch: 101 | MSE = 150.03\n",
            "Epoch: 102 | MSE = 149.43\n",
            "Epoch: 103 | MSE = 148.84\n",
            "Epoch: 104 | MSE = 148.25\n",
            "Epoch: 105 | MSE = 147.67\n",
            "Epoch: 106 | MSE = 147.1\n",
            "Epoch: 107 | MSE = 146.54\n",
            "Epoch: 108 | MSE = 145.98\n",
            "Epoch: 109 | MSE = 145.43\n",
            "Epoch: 110 | MSE = 144.88\n",
            "Epoch: 111 | MSE = 144.35\n",
            "Epoch: 112 | MSE = 143.82\n",
            "Epoch: 113 | MSE = 143.29\n",
            "Epoch: 114 | MSE = 142.77\n",
            "Epoch: 115 | MSE = 142.26\n",
            "Epoch: 116 | MSE = 141.76\n",
            "Epoch: 117 | MSE = 141.26\n",
            "Epoch: 118 | MSE = 140.77\n",
            "Epoch: 119 | MSE = 140.28\n",
            "Epoch: 120 | MSE = 139.8\n",
            "Epoch: 121 | MSE = 139.33\n",
            "Epoch: 122 | MSE = 138.86\n",
            "Epoch: 123 | MSE = 138.4\n",
            "Epoch: 124 | MSE = 137.94\n",
            "Epoch: 125 | MSE = 137.49\n",
            "Epoch: 126 | MSE = 137.04\n",
            "Epoch: 127 | MSE = 136.6\n",
            "Epoch: 128 | MSE = 136.17\n",
            "Epoch: 129 | MSE = 135.74\n",
            "Epoch: 130 | MSE = 135.31\n",
            "Epoch: 131 | MSE = 134.89\n",
            "Epoch: 132 | MSE = 134.48\n",
            "Epoch: 133 | MSE = 134.07\n",
            "Epoch: 134 | MSE = 133.67\n",
            "Epoch: 135 | MSE = 133.27\n",
            "Epoch: 136 | MSE = 132.88\n",
            "Epoch: 137 | MSE = 132.49\n",
            "Epoch: 138 | MSE = 132.1\n",
            "Epoch: 139 | MSE = 131.72\n",
            "Epoch: 140 | MSE = 131.35\n",
            "Epoch: 141 | MSE = 130.98\n",
            "Epoch: 142 | MSE = 130.61\n",
            "Epoch: 143 | MSE = 130.25\n",
            "Epoch: 144 | MSE = 129.89\n",
            "Epoch: 145 | MSE = 129.54\n",
            "Epoch: 146 | MSE = 129.19\n",
            "Epoch: 147 | MSE = 128.85\n",
            "Epoch: 148 | MSE = 128.51\n",
            "Epoch: 149 | MSE = 128.18\n",
            "Epoch: 150 | MSE = 127.84\n",
            "Epoch: 151 | MSE = 127.52\n",
            "Epoch: 152 | MSE = 127.19\n",
            "Epoch: 153 | MSE = 126.88\n",
            "Epoch: 154 | MSE = 126.56\n",
            "Epoch: 155 | MSE = 126.25\n",
            "Epoch: 156 | MSE = 125.94\n",
            "Epoch: 157 | MSE = 125.64\n",
            "Epoch: 158 | MSE = 125.34\n",
            "Epoch: 159 | MSE = 125.04\n",
            "Epoch: 160 | MSE = 124.75\n",
            "Epoch: 161 | MSE = 124.46\n",
            "Epoch: 162 | MSE = 124.17\n",
            "Epoch: 163 | MSE = 123.89\n",
            "Epoch: 164 | MSE = 123.61\n",
            "Epoch: 165 | MSE = 123.34\n",
            "Epoch: 166 | MSE = 123.06\n",
            "Epoch: 167 | MSE = 122.8\n",
            "Epoch: 168 | MSE = 122.53\n",
            "Epoch: 169 | MSE = 122.27\n",
            "Epoch: 170 | MSE = 122.01\n",
            "Epoch: 171 | MSE = 121.75\n",
            "Epoch: 172 | MSE = 121.5\n",
            "Epoch: 173 | MSE = 121.25\n",
            "Epoch: 174 | MSE = 121.0\n",
            "Epoch: 175 | MSE = 120.76\n",
            "Epoch: 176 | MSE = 120.52\n",
            "Epoch: 177 | MSE = 120.28\n",
            "Epoch: 178 | MSE = 120.05\n",
            "Epoch: 179 | MSE = 119.82\n",
            "Epoch: 180 | MSE = 119.59\n",
            "Epoch: 181 | MSE = 119.36\n",
            "Epoch: 182 | MSE = 119.14\n",
            "Epoch: 183 | MSE = 118.92\n",
            "Epoch: 184 | MSE = 118.7\n",
            "Epoch: 185 | MSE = 118.48\n",
            "Epoch: 186 | MSE = 118.27\n",
            "Epoch: 187 | MSE = 118.06\n",
            "Epoch: 188 | MSE = 117.85\n",
            "Epoch: 189 | MSE = 117.65\n",
            "Epoch: 190 | MSE = 117.44\n",
            "Epoch: 191 | MSE = 117.24\n",
            "Epoch: 192 | MSE = 117.04\n",
            "Epoch: 193 | MSE = 116.85\n",
            "Epoch: 194 | MSE = 116.65\n",
            "Epoch: 195 | MSE = 116.46\n",
            "Epoch: 196 | MSE = 116.28\n",
            "Epoch: 197 | MSE = 116.09\n",
            "Epoch: 198 | MSE = 115.9\n",
            "Epoch: 199 | MSE = 115.72\n"
          ]
        }
      ],
      "source": [
        "# Random initialization of weights\n",
        "random_init = np.random.randn(3) \n",
        "w1, w2, b = random_init[0], random_init[1], random_init[2]\n",
        "lr = 0.0001\n",
        "\n",
        "error = list()\n",
        "for i in range(200):\n",
        "    total_error, y_pred = forward_pass(w1,w2,b)\n",
        "    error.append(total_error)\n",
        "    print(f\"Epoch: {i} | MSE = {round(total_error,2)}\")\n",
        "    w1, w2, b = weightUpdate(w1, w2, b)"
      ]
    },
    {
      "cell_type": "code",
      "execution_count": null,
      "metadata": {
        "id": "U7XphXTRpq3l",
        "outputId": "92c798fc-6b7b-4089-dfc5-7e8ff3ce9d1c",
        "colab": {
          "base_uri": "https://localhost:8080/"
        }
      },
      "outputs": [
        {
          "output_type": "execute_result",
          "data": {
            "text/plain": [
              "2.564803616368314"
            ]
          },
          "metadata": {},
          "execution_count": 6
        }
      ],
      "source": [
        "w1"
      ]
    },
    {
      "cell_type": "code",
      "execution_count": null,
      "metadata": {
        "id": "wSr10BE_pq3n",
        "outputId": "daf4e27c-fd81-41a3-e77d-8bc20f4d12bd",
        "colab": {
          "base_uri": "https://localhost:8080/"
        }
      },
      "outputs": [
        {
          "output_type": "execute_result",
          "data": {
            "text/plain": [
              "-0.5222547328194899"
            ]
          },
          "metadata": {},
          "execution_count": 7
        }
      ],
      "source": [
        "w2"
      ]
    },
    {
      "cell_type": "code",
      "execution_count": null,
      "metadata": {
        "id": "MfXInpOTpq3o",
        "outputId": "695500fa-5dc9-431c-907f-7b5d60b6f3a4",
        "colab": {
          "base_uri": "https://localhost:8080/"
        }
      },
      "outputs": [
        {
          "output_type": "execute_result",
          "data": {
            "text/plain": [
              "0.7888702429431002"
            ]
          },
          "metadata": {},
          "execution_count": 8
        }
      ],
      "source": [
        "b"
      ]
    },
    {
      "cell_type": "code",
      "execution_count": null,
      "metadata": {
        "id": "8e6bnKjopq3p",
        "outputId": "65788d33-b2fd-4f4b-fa7f-0ba990f2bb2b",
        "colab": {
          "base_uri": "https://localhost:8080/",
          "height": 279
        }
      },
      "outputs": [
        {
          "output_type": "display_data",
          "data": {
            "text/plain": [
              "<Figure size 432x288 with 1 Axes>"
            ],
            "image/png": "[encoded data removed]"
          },
          "metadata": {
            "needs_background": "light"
          }
        }
      ],
      "source": [
        "import matplotlib.pyplot as plt\n",
        "\n",
        "plt.plot(error)\n",
        "plt.xlabel(\"EPOCH\")\n",
        "plt.ylabel(\"ERROR\")\n",
        "plt.grid()\n",
        "plt.show()\n"
      ]
    },
    {
      "cell_type": "markdown",
      "metadata": {
        "id": "o5tEE4Ispq3r"
      },
      "source": [
        "#### Numpy"
      ]
    },
    {
      "cell_type": "code",
      "execution_count": null,
      "metadata": {
        "id": "7n_PvuZ9pq3u"
      },
      "outputs": [],
      "source": [
        "X = np.array([[10, 8],\n",
        "              [8, 20],\n",
        "               [15, 25]])\n",
        "y = np.array([30, 15, 20])\n",
        "\n",
        "n = len(y)"
      ]
    },
    {
      "cell_type": "code",
      "execution_count": null,
      "metadata": {
        "id": "iwTRx-2Fpq3u"
      },
      "outputs": [],
      "source": [
        "weights = np.random.randn(2) \n",
        "b = np.random.randn(1)[0] \n",
        "weights = weights.reshape(-1,1)"
      ]
    },
    {
      "cell_type": "code",
      "execution_count": null,
      "metadata": {
        "id": "IqUjHBcSpq3v",
        "outputId": "8eeae7af-75cd-4366-c001-e221e243ef0f",
        "colab": {
          "base_uri": "https://localhost:8080/"
        }
      },
      "outputs": [
        {
          "output_type": "execute_result",
          "data": {
            "text/plain": [
              "array([[0.44768533],\n",
              "       [1.58652076]])"
            ]
          },
          "metadata": {},
          "execution_count": 12
        }
      ],
      "source": [
        "weights"
      ]
    },
    {
      "cell_type": "code",
      "execution_count": null,
      "metadata": {
        "id": "Be-fLw3Apq3w",
        "outputId": "dd4bf60f-285d-4645-b3d9-458af54c2477",
        "colab": {
          "base_uri": "https://localhost:8080/"
        }
      },
      "outputs": [
        {
          "output_type": "execute_result",
          "data": {
            "text/plain": [
              "array([[10,  8],\n",
              "       [ 8, 20],\n",
              "       [15, 25]])"
            ]
          },
          "metadata": {},
          "execution_count": 13
        }
      ],
      "source": [
        "X"
      ]
    },
    {
      "cell_type": "code",
      "execution_count": null,
      "metadata": {
        "id": "OMvrqcI7pq3x",
        "outputId": "548ad1e0-3b82-4c20-d991-a9b5498adda0",
        "colab": {
          "base_uri": "https://localhost:8080/"
        }
      },
      "outputs": [
        {
          "output_type": "execute_result",
          "data": {
            "text/plain": [
              "array([30, 15, 20])"
            ]
          },
          "metadata": {},
          "execution_count": 14
        }
      ],
      "source": [
        "y"
      ]
    },
    {
      "cell_type": "code",
      "execution_count": null,
      "metadata": {
        "id": "Hd7kXfRJpq3y"
      },
      "outputs": [],
      "source": [
        "y_pred = np.matmul(X, weights) + b\n",
        "mse = np.mean((y-y_pred)**2)"
      ]
    },
    {
      "cell_type": "code",
      "execution_count": null,
      "metadata": {
        "id": "b_C27AOepq3z"
      },
      "outputs": [],
      "source": [
        "# Forward pass\n",
        "\n",
        "def forward_pass(weights):\n",
        "    y_pred = np.matmul(X, weights) + b\n",
        "    mse = np.mean((y-y_pred)**2)\n",
        "    return y_pred, mse"
      ]
    }
  ],
  "metadata": {
    "kernelspec": {
      "display_name": "Python 3",
      "language": "python",
      "name": "python3"
    },
    "language_info": {
      "codemirror_mode": {
        "name": "ipython",
        "version": 3
      },
      "file_extension": ".py",
      "mimetype": "text/x-python",
      "name": "python",
      "nbconvert_exporter": "python",
      "pygments_lexer": "ipython3",
      "version": "3.8.5"
    },
    "colab": {
      "provenance": []
    }
  },
  "nbformat": 4,
  "nbformat_minor": 0
}