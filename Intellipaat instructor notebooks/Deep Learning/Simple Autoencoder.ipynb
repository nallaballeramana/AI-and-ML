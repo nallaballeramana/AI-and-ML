{
 "cells": [
  {
   "cell_type": "code",
   "execution_count": 16,
   "metadata": {},
   "outputs": [],
   "source": [
    "%matplotlib inline"
   ]
  },
  {
   "cell_type": "code",
   "execution_count": 40,
   "metadata": {},
   "outputs": [],
   "source": [
    "from keras.layers import Input, Dense\n",
    "from keras.models import Model\n",
    "\n",
    "\n",
    "# this is the size of our encoded representations # Code size\n",
    "encoding_dim = 32  # 32 floats -> compression of factor 24.5, assuming the input is 784 floats\n",
    "\n",
    "# this is our input placeholder\n",
    "input_img = Input(shape=(784,))\n",
    "\n",
    "layer1 = Dense(256, activation='relu')(input_img)\n",
    "\n",
    "# \"encoded\" is the encoded representation of the input\n",
    "encoded = Dense(encoding_dim, activation='relu')(layer1)\n",
    "\n",
    "# \"decoded\" is the lossy reconstruction of the input\n",
    "decoded = Dense(256)(encoded)\n",
    "\n",
    "layer2 = Dense(784, activation='relu')(decoded)\n",
    "\n",
    "# this model maps an input to its reconstruction\n",
    "autoencoder = Model(input_img, layer2)"
   ]
  },
  {
   "cell_type": "code",
   "execution_count": 41,
   "metadata": {},
   "outputs": [],
   "source": [
    "# this model maps an input to its encoded representation\n",
    "encoder = Model(input_img, encoded)"
   ]
  },
  {
   "cell_type": "code",
   "execution_count": 42,
   "metadata": {},
   "outputs": [],
   "source": [
    "# create a placeholder for an encoded (32-dimensional) input\n",
    "encoded_input = Input(shape=(encoding_dim,))\n",
    "\n",
    "# retrieve the last layer of the autoencoder model\n",
    "decoder_layer1 = autoencoder.layers[-2]\n",
    "decoder_layer2 = autoencoder.layers[-1]\n",
    "\n",
    "# create the decoder model\n",
    "decoder = Model(encoded_input, decoder_layer2(decoder_layer1(encoded_input)))"
   ]
  },
  {
   "cell_type": "code",
   "execution_count": 43,
   "metadata": {},
   "outputs": [],
   "source": [
    "autoencoder.compile(optimizer='rmsprop', loss='mean_squared_error')"
   ]
  },
  {
   "cell_type": "code",
   "execution_count": 44,
   "metadata": {},
   "outputs": [
    {
     "name": "stdout",
     "output_type": "stream",
     "text": [
      "Model: \"functional_13\"\n",
      "_________________________________________________________________\n",
      "Layer (type)                 Output Shape              Param #   \n",
      "=================================================================\n",
      "input_5 (InputLayer)         [(None, 784)]             0         \n",
      "_________________________________________________________________\n",
      "dense_8 (Dense)              (None, 256)               200960    \n",
      "_________________________________________________________________\n",
      "dense_9 (Dense)              (None, 32)                8224      \n",
      "_________________________________________________________________\n",
      "dense_10 (Dense)             (None, 256)               8448      \n",
      "_________________________________________________________________\n",
      "dense_11 (Dense)             (None, 784)               201488    \n",
      "=================================================================\n",
      "Total params: 419,120\n",
      "Trainable params: 419,120\n",
      "Non-trainable params: 0\n",
      "_________________________________________________________________\n"
     ]
    }
   ],
   "source": [
    "autoencoder.summary()"
   ]
  },
  {
   "cell_type": "code",
   "execution_count": 45,
   "metadata": {},
   "outputs": [
    {
     "data": {
      "text/plain": [
       "24.5"
      ]
     },
     "execution_count": 45,
     "metadata": {},
     "output_type": "execute_result"
    }
   ],
   "source": [
    "784/32"
   ]
  },
  {
   "cell_type": "markdown",
   "metadata": {},
   "source": [
    "#### Model Training"
   ]
  },
  {
   "cell_type": "code",
   "execution_count": 46,
   "metadata": {},
   "outputs": [],
   "source": [
    "from keras.datasets import mnist\n",
    "import numpy as np\n",
    "(x_train, _), (x_test, _) = mnist.load_data()"
   ]
  },
  {
   "cell_type": "code",
   "execution_count": 47,
   "metadata": {},
   "outputs": [
    {
     "name": "stdout",
     "output_type": "stream",
     "text": [
      "(60000, 784)\n",
      "(10000, 784)\n"
     ]
    }
   ],
   "source": [
    "x_train = x_train.astype('float32') / 255\n",
    "x_test = x_test.astype('float32') / 255\n",
    "\n",
    "x_train = x_train.reshape((len(x_train), np.prod(x_train.shape[1:])))\n",
    "x_test = x_test.reshape((len(x_test), np.prod(x_test.shape[1:])))\n",
    "print ( x_train.shape )\n",
    "print ( x_test.shape )"
   ]
  },
  {
   "cell_type": "code",
   "execution_count": 48,
   "metadata": {
    "scrolled": true
   },
   "outputs": [
    {
     "name": "stdout",
     "output_type": "stream",
     "text": [
      "Epoch 1/100\n",
      "235/235 [==============================] - 2s 9ms/step - loss: 0.0321 - val_loss: 0.0184\n",
      "Epoch 2/100\n",
      "235/235 [==============================] - 2s 9ms/step - loss: 0.0188 - val_loss: 0.0180\n",
      "Epoch 3/100\n",
      "235/235 [==============================] - 2s 9ms/step - loss: 0.0166 - val_loss: 0.0155\n",
      "Epoch 4/100\n",
      "235/235 [==============================] - 2s 9ms/step - loss: 0.0155 - val_loss: 0.0148\n",
      "Epoch 5/100\n",
      "235/235 [==============================] - 2s 9ms/step - loss: 0.0146 - val_loss: 0.0134\n",
      "Epoch 6/100\n",
      "235/235 [==============================] - 2s 9ms/step - loss: 0.0140 - val_loss: 0.0129\n",
      "Epoch 7/100\n",
      "235/235 [==============================] - 2s 9ms/step - loss: 0.0135 - val_loss: 0.0145\n",
      "Epoch 8/100\n",
      "235/235 [==============================] - 2s 9ms/step - loss: 0.0131 - val_loss: 0.0132\n",
      "Epoch 9/100\n",
      "235/235 [==============================] - 2s 11ms/step - loss: 0.0127 - val_loss: 0.0119\n",
      "Epoch 10/100\n",
      "235/235 [==============================] - 2s 10ms/step - loss: 0.0124 - val_loss: 0.0126\n",
      "Epoch 11/100\n",
      "235/235 [==============================] - 2s 10ms/step - loss: 0.0122 - val_loss: 0.0126\n",
      "Epoch 12/100\n",
      "235/235 [==============================] - 2s 9ms/step - loss: 0.0120 - val_loss: 0.0124\n",
      "Epoch 13/100\n",
      "235/235 [==============================] - 2s 9ms/step - loss: 0.0119 - val_loss: 0.0121\n",
      "Epoch 14/100\n",
      "235/235 [==============================] - 2s 9ms/step - loss: 0.0117 - val_loss: 0.0114\n",
      "Epoch 15/100\n",
      "235/235 [==============================] - 3s 12ms/step - loss: 0.0116 - val_loss: 0.0117\n",
      "Epoch 16/100\n",
      "235/235 [==============================] - 3s 11ms/step - loss: 0.0115 - val_loss: 0.0113\n",
      "Epoch 17/100\n",
      "235/235 [==============================] - 2s 10ms/step - loss: 0.0113 - val_loss: 0.0107\n",
      "Epoch 18/100\n",
      "235/235 [==============================] - 2s 10ms/step - loss: 0.0113 - val_loss: 0.0116\n",
      "Epoch 19/100\n",
      "235/235 [==============================] - 2s 10ms/step - loss: 0.0112 - val_loss: 0.0117\n",
      "Epoch 20/100\n",
      "235/235 [==============================] - 3s 11ms/step - loss: 0.0111 - val_loss: 0.0105\n",
      "Epoch 21/100\n",
      "235/235 [==============================] - 3s 12ms/step - loss: 0.0110 - val_loss: 0.0113\n",
      "Epoch 22/100\n",
      "235/235 [==============================] - 3s 11ms/step - loss: 0.0109 - val_loss: 0.0111\n",
      "Epoch 23/100\n",
      "235/235 [==============================] - 3s 11ms/step - loss: 0.0109 - val_loss: 0.0112\n",
      "Epoch 24/100\n",
      "235/235 [==============================] - 3s 13ms/step - loss: 0.0108 - val_loss: 0.0114\n",
      "Epoch 25/100\n",
      "235/235 [==============================] - 2s 10ms/step - loss: 0.0108 - val_loss: 0.0105\n",
      "Epoch 26/100\n",
      "235/235 [==============================] - 2s 8ms/step - loss: 0.0107 - val_loss: 0.0112\n",
      "Epoch 27/100\n",
      "235/235 [==============================] - 2s 9ms/step - loss: 0.0106 - val_loss: 0.0102\n",
      "Epoch 28/100\n",
      "235/235 [==============================] - 3s 11ms/step - loss: 0.0106 - val_loss: 0.0106\n",
      "Epoch 29/100\n",
      "235/235 [==============================] - 2s 10ms/step - loss: 0.0105 - val_loss: 0.0107\n",
      "Epoch 30/100\n",
      "235/235 [==============================] - 2s 8ms/step - loss: 0.0105 - val_loss: 0.0102\n",
      "Epoch 31/100\n",
      "235/235 [==============================] - 2s 8ms/step - loss: 0.0104 - val_loss: 0.0107\n",
      "Epoch 32/100\n",
      "235/235 [==============================] - 2s 8ms/step - loss: 0.0104 - val_loss: 0.0101\n",
      "Epoch 33/100\n",
      "235/235 [==============================] - 2s 8ms/step - loss: 0.0103 - val_loss: 0.0105\n",
      "Epoch 34/100\n",
      "235/235 [==============================] - 2s 8ms/step - loss: 0.0103 - val_loss: 0.0103\n",
      "Epoch 35/100\n",
      "235/235 [==============================] - 2s 8ms/step - loss: 0.0103 - val_loss: 0.0103\n",
      "Epoch 36/100\n",
      "235/235 [==============================] - 2s 8ms/step - loss: 0.0102 - val_loss: 0.0110\n",
      "Epoch 37/100\n",
      "235/235 [==============================] - 2s 8ms/step - loss: 0.0102 - val_loss: 0.0096\n",
      "Epoch 38/100\n",
      "235/235 [==============================] - 2s 8ms/step - loss: 0.0102 - val_loss: 0.0102\n",
      "Epoch 39/100\n",
      "235/235 [==============================] - 2s 8ms/step - loss: 0.0101 - val_loss: 0.0101\n",
      "Epoch 40/100\n",
      "235/235 [==============================] - 2s 8ms/step - loss: 0.0101 - val_loss: 0.0108\n",
      "Epoch 41/100\n",
      "235/235 [==============================] - 2s 8ms/step - loss: 0.0101 - val_loss: 0.0101\n",
      "Epoch 42/100\n",
      "235/235 [==============================] - 2s 9ms/step - loss: 0.0100 - val_loss: 0.0096\n",
      "Epoch 43/100\n",
      "235/235 [==============================] - 2s 9ms/step - loss: 0.0100 - val_loss: 0.0096\n",
      "Epoch 44/100\n",
      "235/235 [==============================] - 2s 8ms/step - loss: 0.0100 - val_loss: 0.0102\n",
      "Epoch 45/100\n",
      "235/235 [==============================] - 2s 8ms/step - loss: 0.0099 - val_loss: 0.0099\n",
      "Epoch 46/100\n",
      "235/235 [==============================] - 2s 8ms/step - loss: 0.0099 - val_loss: 0.0103\n",
      "Epoch 47/100\n",
      "235/235 [==============================] - 2s 8ms/step - loss: 0.0099 - val_loss: 0.0095\n",
      "Epoch 48/100\n",
      "235/235 [==============================] - 2s 9ms/step - loss: 0.0099 - val_loss: 0.0099\n",
      "Epoch 49/100\n",
      "235/235 [==============================] - 2s 8ms/step - loss: 0.0099 - val_loss: 0.0098\n",
      "Epoch 50/100\n",
      "235/235 [==============================] - 2s 9ms/step - loss: 0.0098 - val_loss: 0.0099\n",
      "Epoch 51/100\n",
      "235/235 [==============================] - 2s 8ms/step - loss: 0.0098 - val_loss: 0.0101\n",
      "Epoch 52/100\n",
      "235/235 [==============================] - 2s 8ms/step - loss: 0.0098 - val_loss: 0.0099\n",
      "Epoch 53/100\n",
      "235/235 [==============================] - 2s 8ms/step - loss: 0.0097 - val_loss: 0.0097\n",
      "Epoch 54/100\n",
      "235/235 [==============================] - 2s 8ms/step - loss: 0.0097 - val_loss: 0.0106\n",
      "Epoch 55/100\n",
      "235/235 [==============================] - 2s 8ms/step - loss: 0.0097 - val_loss: 0.0100\n",
      "Epoch 56/100\n",
      "235/235 [==============================] - 2s 8ms/step - loss: 0.0097 - val_loss: 0.0093\n",
      "Epoch 57/100\n",
      "235/235 [==============================] - 2s 8ms/step - loss: 0.0097 - val_loss: 0.0097\n",
      "Epoch 58/100\n",
      "235/235 [==============================] - 2s 8ms/step - loss: 0.0096 - val_loss: 0.0097\n",
      "Epoch 59/100\n",
      "235/235 [==============================] - 2s 9ms/step - loss: 0.0096 - val_loss: 0.0094\n",
      "Epoch 60/100\n",
      "235/235 [==============================] - 2s 10ms/step - loss: 0.0096 - val_loss: 0.0102\n",
      "Epoch 61/100\n",
      "235/235 [==============================] - 2s 8ms/step - loss: 0.0096 - val_loss: 0.0090\n",
      "Epoch 62/100\n",
      "235/235 [==============================] - 2s 8ms/step - loss: 0.0096 - val_loss: 0.0095\n",
      "Epoch 63/100\n",
      "235/235 [==============================] - 2s 8ms/step - loss: 0.0095 - val_loss: 0.0098\n",
      "Epoch 64/100\n",
      "235/235 [==============================] - 2s 8ms/step - loss: 0.0095 - val_loss: 0.0089\n",
      "Epoch 65/100\n",
      "235/235 [==============================] - 2s 8ms/step - loss: 0.0095 - val_loss: 0.0096\n",
      "Epoch 66/100\n",
      "235/235 [==============================] - 2s 8ms/step - loss: 0.0095 - val_loss: 0.0097\n",
      "Epoch 67/100\n",
      "235/235 [==============================] - 2s 8ms/step - loss: 0.0095 - val_loss: 0.0094\n",
      "Epoch 68/100\n",
      "235/235 [==============================] - 2s 8ms/step - loss: 0.0094 - val_loss: 0.0097\n",
      "Epoch 69/100\n",
      "235/235 [==============================] - 2s 8ms/step - loss: 0.0094 - val_loss: 0.0094\n",
      "Epoch 70/100\n",
      "235/235 [==============================] - 2s 8ms/step - loss: 0.0094 - val_loss: 0.0099\n",
      "Epoch 71/100\n",
      "235/235 [==============================] - 2s 8ms/step - loss: 0.0094 - val_loss: 0.0089\n",
      "Epoch 72/100\n",
      "235/235 [==============================] - 2s 8ms/step - loss: 0.0094 - val_loss: 0.0089\n",
      "Epoch 73/100\n",
      "235/235 [==============================] - 2s 9ms/step - loss: 0.0094 - val_loss: 0.0098\n",
      "Epoch 74/100\n",
      "235/235 [==============================] - 2s 8ms/step - loss: 0.0093 - val_loss: 0.0099\n",
      "Epoch 75/100\n",
      "235/235 [==============================] - 2s 8ms/step - loss: 0.0093 - val_loss: 0.0098\n",
      "Epoch 76/100\n",
      "235/235 [==============================] - 2s 8ms/step - loss: 0.0093 - val_loss: 0.0099\n",
      "Epoch 77/100\n",
      "235/235 [==============================] - 2s 8ms/step - loss: 0.0093 - val_loss: 0.0094\n",
      "Epoch 78/100\n",
      "235/235 [==============================] - 2s 8ms/step - loss: 0.0093 - val_loss: 0.0089\n",
      "Epoch 79/100\n",
      "235/235 [==============================] - 2s 9ms/step - loss: 0.0093 - val_loss: 0.0093\n",
      "Epoch 80/100\n",
      "235/235 [==============================] - 2s 8ms/step - loss: 0.0092 - val_loss: 0.0094\n",
      "Epoch 81/100\n"
     ]
    },
    {
     "name": "stdout",
     "output_type": "stream",
     "text": [
      "235/235 [==============================] - 2s 8ms/step - loss: 0.0092 - val_loss: 0.0089\n",
      "Epoch 82/100\n",
      "235/235 [==============================] - 2s 8ms/step - loss: 0.0092 - val_loss: 0.0096\n",
      "Epoch 83/100\n",
      "235/235 [==============================] - 2s 8ms/step - loss: 0.0092 - val_loss: 0.0102\n",
      "Epoch 84/100\n",
      "235/235 [==============================] - 2s 9ms/step - loss: 0.0092 - val_loss: 0.0088\n",
      "Epoch 85/100\n",
      "235/235 [==============================] - 2s 9ms/step - loss: 0.0092 - val_loss: 0.0095\n",
      "Epoch 86/100\n",
      "235/235 [==============================] - 2s 9ms/step - loss: 0.0092 - val_loss: 0.0089\n",
      "Epoch 87/100\n",
      "235/235 [==============================] - 2s 10ms/step - loss: 0.0091 - val_loss: 0.0094\n",
      "Epoch 88/100\n",
      "235/235 [==============================] - 2s 9ms/step - loss: 0.0091 - val_loss: 0.0090\n",
      "Epoch 89/100\n",
      "235/235 [==============================] - 2s 8ms/step - loss: 0.0091 - val_loss: 0.0092\n",
      "Epoch 90/100\n",
      "235/235 [==============================] - 2s 8ms/step - loss: 0.0091 - val_loss: 0.0091\n",
      "Epoch 91/100\n",
      "235/235 [==============================] - 2s 8ms/step - loss: 0.0091 - val_loss: 0.0092\n",
      "Epoch 92/100\n",
      "235/235 [==============================] - 2s 9ms/step - loss: 0.0091 - val_loss: 0.0094\n",
      "Epoch 93/100\n",
      "235/235 [==============================] - 2s 8ms/step - loss: 0.0091 - val_loss: 0.0091\n",
      "Epoch 94/100\n",
      "235/235 [==============================] - 2s 8ms/step - loss: 0.0091 - val_loss: 0.0088\n",
      "Epoch 95/100\n",
      "235/235 [==============================] - 2s 9ms/step - loss: 0.0090 - val_loss: 0.0096\n",
      "Epoch 96/100\n",
      "235/235 [==============================] - 2s 8ms/step - loss: 0.0091 - val_loss: 0.0094\n",
      "Epoch 97/100\n",
      "235/235 [==============================] - 2s 8ms/step - loss: 0.0090 - val_loss: 0.0091\n",
      "Epoch 98/100\n",
      "235/235 [==============================] - 2s 8ms/step - loss: 0.0090 - val_loss: 0.0087\n",
      "Epoch 99/100\n",
      "235/235 [==============================] - 2s 7ms/step - loss: 0.0090 - val_loss: 0.0090\n",
      "Epoch 100/100\n",
      "235/235 [==============================] - 2s 10ms/step - loss: 0.0090 - val_loss: 0.0096\n"
     ]
    },
    {
     "data": {
      "text/plain": [
       "<tensorflow.python.keras.callbacks.History at 0x20d32521dc0>"
      ]
     },
     "execution_count": 48,
     "metadata": {},
     "output_type": "execute_result"
    }
   ],
   "source": [
    "autoencoder.fit(x_train, \n",
    "                x_train,\n",
    "                epochs=100,\n",
    "                batch_size=256,\n",
    "                shuffle=True,\n",
    "                validation_data=(x_test, x_test))"
   ]
  },
  {
   "cell_type": "code",
   "execution_count": 49,
   "metadata": {},
   "outputs": [],
   "source": [
    "# encode and decode some digits\n",
    "# note that we take them from the *test* set\n",
    "encoded_imgs = encoder.predict(x_test)\n",
    "decoded_imgs = decoder.predict(encoded_imgs)"
   ]
  },
  {
   "cell_type": "code",
   "execution_count": 31,
   "metadata": {},
   "outputs": [],
   "source": [
    "import matplotlib.pyplot as plt"
   ]
  },
  {
   "cell_type": "code",
   "execution_count": 50,
   "metadata": {},
   "outputs": [
    {
     "data": {
      "image/png": "[encoded data removed]",
      "text/plain": [
       "<Figure size 640x480 with 1 Axes>"
      ]
     },
     "metadata": {},
     "output_type": "display_data"
    }
   ],
   "source": [
    "plt.imshow(x_test[100].reshape(28,28), cmap='gray')\n",
    "plt.show()"
   ]
  },
  {
   "cell_type": "code",
   "execution_count": 51,
   "metadata": {},
   "outputs": [
    {
     "data": {
      "image/png": "[encoded data removed]",
      "text/plain": [
       "<Figure size 640x480 with 1 Axes>"
      ]
     },
     "metadata": {},
     "output_type": "display_data"
    }
   ],
   "source": [
    "plt.imshow(decoded_imgs[100].reshape(28,28), cmap='gray')\n",
    "plt.show()"
   ]
  },
  {
   "cell_type": "code",
   "execution_count": 29,
   "metadata": {},
   "outputs": [
    {
     "data": {
      "text/plain": [
       "array([3.1127124 , 1.3009022 , 0.4684448 , 0.8714099 , 2.5000646 ,\n",
       "       0.4531023 , 2.23847   , 3.0801585 , 1.7020136 , 3.2695148 ,\n",
       "       0.8741158 , 0.31284136, 0.18936726, 1.453485  , 1.7050745 ,\n",
       "       5.3412833 ], dtype=float32)"
      ]
     },
     "execution_count": 29,
     "metadata": {},
     "output_type": "execute_result"
    }
   ],
   "source": [
    "encoded_imgs[0]"
   ]
  },
  {
   "cell_type": "code",
   "execution_count": 52,
   "metadata": {
    "scrolled": false
   },
   "outputs": [
    {
     "data": {
      "image/png": "[encoded data removed]",
      "text/plain": [
       "<Figure size 640x480 with 1 Axes>"
      ]
     },
     "metadata": {},
     "output_type": "display_data"
    }
   ],
   "source": [
    "import matplotlib.pyplot as plt\n",
    "plt.imshow(x_test[0].reshape(28, 28), cmap='gray')\n",
    "plt.show()"
   ]
  },
  {
   "cell_type": "code",
   "execution_count": 53,
   "metadata": {
    "scrolled": true
   },
   "outputs": [
    {
     "data": {
      "image/png": "[encoded data removed]",
      "text/plain": [
       "<Figure size 640x480 with 1 Axes>"
      ]
     },
     "metadata": {},
     "output_type": "display_data"
    }
   ],
   "source": [
    "plt.imshow(decoded_imgs[0].reshape(28, 28), cmap='gray')\n",
    "plt.show()"
   ]
  },
  {
   "cell_type": "code",
   "execution_count": 37,
   "metadata": {
    "scrolled": true
   },
   "outputs": [
    {
     "data": {
      "image/png": "[encoded data removed]",
      "text/plain": [
       "<Figure size 2000x400 with 20 Axes>"
      ]
     },
     "metadata": {},
     "output_type": "display_data"
    }
   ],
   "source": [
    "# use Matplotlib (don't ask)\n",
    "import matplotlib.pyplot as plt\n",
    "\n",
    "n = 10  # how many digits we will display\n",
    "plt.figure(figsize=(20, 4))\n",
    "for i in range(n):\n",
    "    # display original\n",
    "    ax = plt.subplot(2, n, i + 1)\n",
    "    plt.imshow(x_test[i].reshape(28, 28))\n",
    "    plt.gray()\n",
    "    ax.get_xaxis().set_visible(False)\n",
    "    ax.get_yaxis().set_visible(False)\n",
    "\n",
    "    # display reconstruction\n",
    "    ax = plt.subplot(2, n, i + 1 + n)\n",
    "    plt.imshow(decoded_imgs[i].reshape(28, 28))\n",
    "    plt.gray()\n",
    "    ax.get_xaxis().set_visible(False)\n",
    "    ax.get_yaxis().set_visible(False)\n",
    "plt.show()"
   ]
  },
  {
   "cell_type": "code",
   "execution_count": 54,
   "metadata": {
    "scrolled": true
   },
   "outputs": [
    {
     "data": {
      "image/png": "[encoded data removed]",
      "text/plain": [
       "<Figure size 2000x400 with 20 Axes>"
      ]
     },
     "metadata": {},
     "output_type": "display_data"
    }
   ],
   "source": [
    "# use Matplotlib (don't ask)\n",
    "import matplotlib.pyplot as plt\n",
    "\n",
    "n = 10  # how many digits we will display\n",
    "plt.figure(figsize=(20, 4))\n",
    "for i in range(n):\n",
    "    # display original\n",
    "    ax = plt.subplot(2, n, i + 1)\n",
    "    plt.imshow(x_test[i].reshape(28, 28))\n",
    "    plt.gray()\n",
    "    ax.get_xaxis().set_visible(False)\n",
    "    ax.get_yaxis().set_visible(False)\n",
    "\n",
    "    # display reconstruction\n",
    "    ax = plt.subplot(2, n, i + 1 + n)\n",
    "    plt.imshow(decoded_imgs[i].reshape(28, 28))\n",
    "    plt.gray()\n",
    "    ax.get_xaxis().set_visible(False)\n",
    "    ax.get_yaxis().set_visible(False)\n",
    "plt.show()"
   ]
  }
 ],
 "metadata": {
  "kernelspec": {
   "display_name": "tf",
   "language": "python",
   "name": "tf"
  },
  "language_info": {
   "codemirror_mode": {
    "name": "ipython",
    "version": 3
   },
   "file_extension": ".py",
   "mimetype": "text/x-python",
   "name": "python",
   "nbconvert_exporter": "python",
   "pygments_lexer": "ipython3",
   "version": "3.8.8"
  }
 },
 "nbformat": 4,
 "nbformat_minor": 2
}
