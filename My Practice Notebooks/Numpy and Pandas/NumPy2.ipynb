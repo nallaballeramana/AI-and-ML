{
  "nbformat": 4,
  "nbformat_minor": 0,
  "metadata": {
    "colab": {
      "provenance": []
    },
    "kernelspec": {
      "name": "python3",
      "display_name": "Python 3"
    },
    "language_info": {
      "name": "python"
    }
  },
  "cells": [
    {
      "cell_type": "code",
      "metadata": {
        "id": "PqsGF94Wzx97"
      },
      "source": [
        "import numpy as np"
      ],
      "execution_count": null,
      "outputs": []
    },
    {
      "cell_type": "code",
      "metadata": {
        "id": "WXkzVnjIz4vl"
      },
      "source": [
        "a_arr=np.random.randint(low=10,high=90,size=(4,5))"
      ],
      "execution_count": null,
      "outputs": []
    },
    {
      "cell_type": "code",
      "metadata": {
        "colab": {
          "base_uri": "https://localhost:8080/"
        },
        "id": "_k5q69QL0fiT",
        "outputId": "4adca773-734a-4118-98db-6e5b7ce5244a"
      },
      "source": [
        "a_arr"
      ],
      "execution_count": null,
      "outputs": [
        {
          "output_type": "execute_result",
          "data": {
            "text/plain": [
              "array([[57, 63, 58, 40, 33],\n",
              "       [14, 80, 57, 22, 30],\n",
              "       [66, 18, 30, 10, 69],\n",
              "       [13, 53, 30, 27, 24]])"
            ]
          },
          "metadata": {},
          "execution_count": 3
        }
      ]
    },
    {
      "cell_type": "code",
      "metadata": {
        "colab": {
          "base_uri": "https://localhost:8080/"
        },
        "id": "lZ7sXm_m0hJ1",
        "outputId": "f763cbbc-6521-4931-aeb5-e28529112111"
      },
      "source": [
        "a_arr[1,4:1:-1]"
      ],
      "execution_count": null,
      "outputs": [
        {
          "output_type": "execute_result",
          "data": {
            "text/plain": [
              "array([30, 22, 57])"
            ]
          },
          "metadata": {},
          "execution_count": 4
        }
      ]
    },
    {
      "cell_type": "code",
      "metadata": {
        "colab": {
          "base_uri": "https://localhost:8080/"
        },
        "id": "cyHtLF1p11Xx",
        "outputId": "7e14e3b3-2404-4d31-c497-5ec717edb507"
      },
      "source": [
        "a_arr[-3,-1:-4:-1]"
      ],
      "execution_count": null,
      "outputs": [
        {
          "output_type": "execute_result",
          "data": {
            "text/plain": [
              "array([30, 22, 57])"
            ]
          },
          "metadata": {},
          "execution_count": 6
        }
      ]
    },
    {
      "cell_type": "code",
      "metadata": {
        "id": "jON4VzaU2UtU"
      },
      "source": [
        "#filtering\n",
        "#syntax\n",
        "#np.where(condition,what_to_do_if_true,what_to_do_if_false)\n",
        "b_arr=np.random.randint(10,90,12)"
      ],
      "execution_count": null,
      "outputs": []
    },
    {
      "cell_type": "code",
      "metadata": {
        "colab": {
          "base_uri": "https://localhost:8080/"
        },
        "id": "Eiz4Fbyc4f-M",
        "outputId": "0dff9be3-430e-4d97-cdca-c3e0411a4a52"
      },
      "source": [
        "b_arr"
      ],
      "execution_count": null,
      "outputs": [
        {
          "output_type": "execute_result",
          "data": {
            "text/plain": [
              "array([13, 75, 54, 24, 49, 45, 82, 51, 28, 67, 89, 62])"
            ]
          },
          "metadata": {},
          "execution_count": 8
        }
      ]
    },
    {
      "cell_type": "code",
      "metadata": {
        "colab": {
          "base_uri": "https://localhost:8080/"
        },
        "id": "SzHHCT7c4h9c",
        "outputId": "08f2613c-6de6-41e2-b2d9-a28626f09bb6"
      },
      "source": [
        "np.where(b_arr>80)"
      ],
      "execution_count": null,
      "outputs": [
        {
          "output_type": "execute_result",
          "data": {
            "text/plain": [
              "(array([ 6, 10]),)"
            ]
          },
          "metadata": {},
          "execution_count": 9
        }
      ]
    },
    {
      "cell_type": "code",
      "metadata": {
        "colab": {
          "base_uri": "https://localhost:8080/"
        },
        "id": "_Pgkg_cU4vmT",
        "outputId": "2c5b37da-9a09-43cb-e39c-fb0d568ae47d"
      },
      "source": [
        "np.where(b_arr>80,b_arr,0)"
      ],
      "execution_count": null,
      "outputs": [
        {
          "output_type": "execute_result",
          "data": {
            "text/plain": [
              "array([ 0,  0,  0,  0,  0,  0, 82,  0,  0,  0, 89,  0])"
            ]
          },
          "metadata": {},
          "execution_count": 10
        }
      ]
    },
    {
      "cell_type": "code",
      "metadata": {
        "id": "hAqmk2S95dG1"
      },
      "source": [],
      "execution_count": null,
      "outputs": []
    }
  ]
}