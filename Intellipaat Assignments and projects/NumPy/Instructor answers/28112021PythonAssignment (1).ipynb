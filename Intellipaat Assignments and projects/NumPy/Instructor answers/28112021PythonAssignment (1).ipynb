{
 "cells": [
  {
   "cell_type": "code",
   "execution_count": null,
   "id": "8ceec51e",
   "metadata": {},
   "outputs": [],
   "source": [
    "Create a list named ‘myList’ that is having the following elements: 10,20,30,’apple’, True,\n",
    "8.10\n",
    "a. Now in the ‘myList’, append these values: 30,40\n",
    "b. After that reverse the elements of the ‘myList’ and store that in ‘reversedList’"
   ]
  },
  {
   "cell_type": "code",
   "execution_count": 1,
   "id": "17620084",
   "metadata": {},
   "outputs": [],
   "source": [
    "import numpy as np"
   ]
  },
  {
   "cell_type": "code",
   "execution_count": 2,
   "id": "39d9135b",
   "metadata": {},
   "outputs": [],
   "source": [
    "myList = np.array([10,20,30,'apple',True,8.10])"
   ]
  },
  {
   "cell_type": "code",
   "execution_count": 3,
   "id": "b66d947e",
   "metadata": {},
   "outputs": [
    {
     "name": "stdout",
     "output_type": "stream",
     "text": [
      "['10' '20' '30' 'apple' 'True' '8.1']\n"
     ]
    }
   ],
   "source": [
    "print(myList)"
   ]
  },
  {
   "cell_type": "code",
   "execution_count": 8,
   "id": "a2ad215a",
   "metadata": {},
   "outputs": [],
   "source": [
    "myList = np.concatenate((myList,[30,40]))"
   ]
  },
  {
   "cell_type": "code",
   "execution_count": 9,
   "id": "8d600a84",
   "metadata": {},
   "outputs": [],
   "source": [
    "#After that reverse the elements of the ‘myList’ and store that in ‘reversedList’"
   ]
  },
  {
   "cell_type": "code",
   "execution_count": 10,
   "id": "5b46b595",
   "metadata": {},
   "outputs": [
    {
     "name": "stdout",
     "output_type": "stream",
     "text": [
      "['40' '30' '8.1' 'True' 'apple' '30' '20' '10']\n"
     ]
    }
   ],
   "source": [
    "reversedList = myList[::-1]\n",
    "print(reversedList)"
   ]
  },
  {
   "cell_type": "code",
   "execution_count": 11,
   "id": "d7217574",
   "metadata": {},
   "outputs": [
    {
     "name": "stdout",
     "output_type": "stream",
     "text": [
      "['40' '30' '8.1' 'True' 'apple' '30' '20' '10']\n"
     ]
    }
   ],
   "source": [
    "newreversedList = np.flipud(myList)\n",
    "print(newreversedList)"
   ]
  },
  {
   "cell_type": "markdown",
   "id": "d8c53c59",
   "metadata": {},
   "source": [
    "2. Create a dictonary with key values as 1,2,3 and the values as ‘data’,’information’, and ‘text’.\n",
    "a. After that eliminate the ‘text’ value form the dictonary.\n",
    "b. Add ‘features’ in the dictonary.\n",
    "c. Fetch the ‘data’ element from the dictonary and display it in the output."
   ]
  },
  {
   "cell_type": "code",
   "execution_count": 12,
   "id": "6f174be1",
   "metadata": {},
   "outputs": [
    {
     "name": "stdout",
     "output_type": "stream",
     "text": [
      "{1: 'data', 2: 'information', 3: 'text'}\n"
     ]
    }
   ],
   "source": [
    "#Create a dictonary with key values as 1,2,3 and the values as ‘data’,’information’, and ‘text’.\n",
    "dict1 = {1:'data',2:'information',3:'text'}\n",
    "print(dict1)"
   ]
  },
  {
   "cell_type": "code",
   "execution_count": 14,
   "id": "effd6313",
   "metadata": {},
   "outputs": [
    {
     "data": {
      "text/plain": [
       "'text'"
      ]
     },
     "execution_count": 14,
     "metadata": {},
     "output_type": "execute_result"
    }
   ],
   "source": [
    "#After that eliminate the ‘text’ value form the dictonary\n",
    "dict1.pop(3)"
   ]
  },
  {
   "cell_type": "code",
   "execution_count": 15,
   "id": "c0c6ca3e",
   "metadata": {},
   "outputs": [
    {
     "name": "stdout",
     "output_type": "stream",
     "text": [
      "{1: 'data', 2: 'information'}\n"
     ]
    }
   ],
   "source": [
    "print(dict1)"
   ]
  },
  {
   "cell_type": "code",
   "execution_count": 16,
   "id": "15a66569",
   "metadata": {},
   "outputs": [],
   "source": [
    "dict1[3] = 'Features'"
   ]
  },
  {
   "cell_type": "code",
   "execution_count": 17,
   "id": "ab94c06f",
   "metadata": {},
   "outputs": [
    {
     "name": "stdout",
     "output_type": "stream",
     "text": [
      "{1: 'data', 2: 'information', 3: 'Features'}\n"
     ]
    }
   ],
   "source": [
    "print(dict1)"
   ]
  },
  {
   "cell_type": "code",
   "execution_count": 18,
   "id": "93020d81",
   "metadata": {},
   "outputs": [],
   "source": [
    " #Fetch the ‘data’ element from the dictonary and display it in the output"
   ]
  },
  {
   "cell_type": "code",
   "execution_count": 20,
   "id": "1573c11e",
   "metadata": {},
   "outputs": [
    {
     "data": {
      "text/plain": [
       "'data'"
      ]
     },
     "execution_count": 20,
     "metadata": {},
     "output_type": "execute_result"
    }
   ],
   "source": [
    "dict1[1]"
   ]
  },
  {
   "cell_type": "code",
   "execution_count": 21,
   "id": "23b2d62e",
   "metadata": {},
   "outputs": [],
   "source": [
    "#3. Create a tuple and add these elements 1,2,3,apple,mango in ‘my_tuple"
   ]
  },
  {
   "cell_type": "code",
   "execution_count": 22,
   "id": "7fe30b4a",
   "metadata": {},
   "outputs": [
    {
     "name": "stdout",
     "output_type": "stream",
     "text": [
      "(1, 2, 3, 'apple', 'mango')\n"
     ]
    }
   ],
   "source": [
    "my_tuple = 1,2,3,'apple','mango'\n",
    "print(my_tuple)"
   ]
  },
  {
   "cell_type": "markdown",
   "id": "b7938c09",
   "metadata": {},
   "source": [
    " 4. Create another tuple named numeric_tuple consisting of only integer values 10,20,30,40,50\n",
    "a. Find the minimum value from the numeric_tuple.\n",
    "b. Concatenate my_tuple with numeric_tuple and store the result in r1.\n",
    "c. Duplicate the tuple named my_tuple 2 times and store that in ‘newdupli’."
   ]
  },
  {
   "cell_type": "code",
   "execution_count": 23,
   "id": "ce56d52a",
   "metadata": {},
   "outputs": [],
   "source": [
    " #Create another tuple named numeric_tuple consisting of only integer values 10,20,30,40,50"
   ]
  },
  {
   "cell_type": "code",
   "execution_count": 24,
   "id": "b90ef1a0",
   "metadata": {},
   "outputs": [],
   "source": [
    "numeric_tuple = ((10,20,30,40,50,))"
   ]
  },
  {
   "cell_type": "code",
   "execution_count": 25,
   "id": "04a3af8b",
   "metadata": {},
   "outputs": [
    {
     "name": "stdout",
     "output_type": "stream",
     "text": [
      "(10, 20, 30, 40, 50)\n"
     ]
    }
   ],
   "source": [
    "print(numeric_tuple)"
   ]
  },
  {
   "cell_type": "code",
   "execution_count": 26,
   "id": "1a15d033",
   "metadata": {},
   "outputs": [],
   "source": [
    "#Find the minimum value from the numeric_tuple"
   ]
  },
  {
   "cell_type": "code",
   "execution_count": 27,
   "id": "2ebfe960",
   "metadata": {},
   "outputs": [
    {
     "data": {
      "text/plain": [
       "10"
      ]
     },
     "execution_count": 27,
     "metadata": {},
     "output_type": "execute_result"
    }
   ],
   "source": [
    "np.min(numeric_tuple)"
   ]
  },
  {
   "cell_type": "code",
   "execution_count": 28,
   "id": "1dd377a6",
   "metadata": {},
   "outputs": [],
   "source": [
    "#Concatenate my_tuple with numeric_tuple and store the result in r1."
   ]
  },
  {
   "cell_type": "code",
   "execution_count": 29,
   "id": "10b42881",
   "metadata": {},
   "outputs": [
    {
     "name": "stdout",
     "output_type": "stream",
     "text": [
      "(1, 2, 3, 'apple', 'mango', 10, 20, 30, 40, 50)\n"
     ]
    }
   ],
   "source": [
    "r1 = my_tuple + numeric_tuple\n",
    "print(r1)"
   ]
  },
  {
   "cell_type": "code",
   "execution_count": 30,
   "id": "15430bb4",
   "metadata": {},
   "outputs": [],
   "source": [
    "r1 = np.concatenate((numeric_tuple,my_tuple))"
   ]
  },
  {
   "cell_type": "code",
   "execution_count": 31,
   "id": "adb5e4b1",
   "metadata": {},
   "outputs": [
    {
     "name": "stdout",
     "output_type": "stream",
     "text": [
      "['10' '20' '30' '40' '50' '1' '2' '3' 'apple' 'mango']\n"
     ]
    }
   ],
   "source": [
    "print(r1)"
   ]
  },
  {
   "cell_type": "code",
   "execution_count": 32,
   "id": "d00e8b53",
   "metadata": {},
   "outputs": [],
   "source": [
    "#c. Duplicate the tuple named my_tuple 2 times and store that in ‘newdupli’."
   ]
  },
  {
   "cell_type": "code",
   "execution_count": 34,
   "id": "878cb42f",
   "metadata": {},
   "outputs": [
    {
     "name": "stdout",
     "output_type": "stream",
     "text": [
      "(1, 2, 3, 'apple', 'mango', 1, 2, 3, 'apple', 'mango')\n"
     ]
    }
   ],
   "source": [
    "#newdupli = my_tuple *2\n",
    "newdupli = my_tuple + my_tuple\n",
    "print(newdupli)"
   ]
  },
  {
   "cell_type": "markdown",
   "id": "c5a3fa24",
   "metadata": {},
   "source": [
    "5. Create 2 sets with name set1 and set2, where set1 contains{1,2,3,4,5} and set2 to\n",
    "contains{2,3,7,6,1}\n",
    "a. Perform the below operation:\n",
    "a. set1 union set2\n",
    "b. set1 intersection set2\n",
    "c. set1 difference set2"
   ]
  },
  {
   "cell_type": "code",
   "execution_count": null,
   "id": "eeeeef60",
   "metadata": {},
   "outputs": [],
   "source": [
    "Create 2 sets with name set1 and set2, where set1 contains{1,2,3,4,5} and set2 to\n",
    "contains{2,3,7,6,1}"
   ]
  },
  {
   "cell_type": "code",
   "execution_count": 35,
   "id": "63cd6e75",
   "metadata": {},
   "outputs": [],
   "source": [
    "set1 = {1,2,3,4,5}\n",
    "set2 = {2,3,7,6,1}"
   ]
  },
  {
   "cell_type": "code",
   "execution_count": null,
   "id": "3c7cb061",
   "metadata": {},
   "outputs": [],
   "source": [
    "# set1 union set2"
   ]
  },
  {
   "cell_type": "code",
   "execution_count": 39,
   "id": "09f0416f",
   "metadata": {},
   "outputs": [
    {
     "name": "stdout",
     "output_type": "stream",
     "text": [
      "{1, 2, 3, 4, 5, 6, 7}\n"
     ]
    }
   ],
   "source": [
    "#print(set1 | set2)\n",
    "print(set1.union(set2))"
   ]
  },
  {
   "cell_type": "code",
   "execution_count": 40,
   "id": "5f29748a",
   "metadata": {},
   "outputs": [],
   "source": [
    "#set1 intersection set2"
   ]
  },
  {
   "cell_type": "code",
   "execution_count": 41,
   "id": "ccf19791",
   "metadata": {},
   "outputs": [
    {
     "name": "stdout",
     "output_type": "stream",
     "text": [
      "{1, 2, 3}\n"
     ]
    }
   ],
   "source": [
    "print(set1.intersection(set2))"
   ]
  },
  {
   "cell_type": "code",
   "execution_count": 42,
   "id": "0fa1168f",
   "metadata": {},
   "outputs": [],
   "source": [
    "#set1 difference set2"
   ]
  },
  {
   "cell_type": "code",
   "execution_count": 43,
   "id": "dd0ac42b",
   "metadata": {},
   "outputs": [
    {
     "name": "stdout",
     "output_type": "stream",
     "text": [
      "{4, 5}\n"
     ]
    }
   ],
   "source": [
    "print(set1.difference(set2))"
   ]
  },
  {
   "cell_type": "code",
   "execution_count": 45,
   "id": "7bb26d1c",
   "metadata": {},
   "outputs": [],
   "source": [
    "#Assignment 2"
   ]
  },
  {
   "cell_type": "code",
   "execution_count": 46,
   "id": "b9fca59c",
   "metadata": {},
   "outputs": [],
   "source": [
    "#1. Create a 3x3 matrix array with values ranging from 2 to 10."
   ]
  },
  {
   "cell_type": "code",
   "execution_count": 48,
   "id": "de2c4970",
   "metadata": {},
   "outputs": [
    {
     "name": "stdout",
     "output_type": "stream",
     "text": [
      "[[5 8 2]\n",
      " [8 5 9]\n",
      " [5 9 6]]\n"
     ]
    }
   ],
   "source": [
    "ar1 = np.random.randint(2,11,(3,3))\n",
    "print(ar1)"
   ]
  },
  {
   "cell_type": "code",
   "execution_count": 50,
   "id": "dfc9ee0c",
   "metadata": {},
   "outputs": [
    {
     "name": "stdout",
     "output_type": "stream",
     "text": [
      "[[ 2  3  4]\n",
      " [ 5  6  7]\n",
      " [ 8  9 10]]\n"
     ]
    }
   ],
   "source": [
    "ar2 = np.arange(2,11).reshape(3,3)\n",
    "print(ar2)"
   ]
  },
  {
   "cell_type": "code",
   "execution_count": null,
   "id": "deb9b2ca",
   "metadata": {},
   "outputs": [],
   "source": [
    "2. Create a numpy array having user input values and convert the integer type to the float type\n",
    "of the elements of the array. For instance:\n",
    "Original array\n",
    "[1, 2, 3, 4]\n",
    "Array converted to a float type:\n",
    "[ 1. 2. 3. 4.]"
   ]
  },
  {
   "cell_type": "code",
   "execution_count": 55,
   "id": "7551b6df",
   "metadata": {},
   "outputs": [
    {
     "name": "stdout",
     "output_type": "stream",
     "text": [
      "5\n"
     ]
    },
    {
     "data": {
      "text/plain": [
       "array([0., 1., 2., 3., 4.])"
      ]
     },
     "execution_count": 55,
     "metadata": {},
     "output_type": "execute_result"
    }
   ],
   "source": [
    "x = int(input())\n",
    "arr = np.arange(x,dtype = float)\n",
    "arr"
   ]
  },
  {
   "cell_type": "code",
   "execution_count": null,
   "id": "01a69786",
   "metadata": {},
   "outputs": [],
   "source": [
    "3. Write a Numpy program to append values to the end of an array. For instance:\n",
    "Original array:\n",
    "[10, 20, 30]\n",
    "After append values to the end of the array:\n",
    "[10 20 30 40 50 60 70 80 90]"
   ]
  },
  {
   "cell_type": "code",
   "execution_count": 61,
   "id": "497307ef",
   "metadata": {},
   "outputs": [
    {
     "data": {
      "text/plain": [
       "array([10, 20, 30, 40, 50, 60, 70, 80, 90])"
      ]
     },
     "execution_count": 61,
     "metadata": {},
     "output_type": "execute_result"
    }
   ],
   "source": [
    "arr_one = np.arange(10,31,10)\n",
    "arr_two = np.arange(40,91,10)\n",
    "#np.concatenate((arr_one,arr_two))\n",
    "np.append(arr_one,arr_two)"
   ]
  },
  {
   "cell_type": "code",
   "execution_count": null,
   "id": "3a59d7e0",
   "metadata": {},
   "outputs": [],
   "source": [
    "4. Create two numpy arrays and add the elements of both the arrays and store the result in\n",
    "sumArray"
   ]
  },
  {
   "cell_type": "code",
   "execution_count": 64,
   "id": "f7295403",
   "metadata": {},
   "outputs": [],
   "source": [
    "ar1 = np.arange(10,91,10).reshape(3,3)\n",
    "ar2 = np.arange(20,101,10).reshape(3,3)\n",
    "#sumArray = ar1+ar2\n",
    "sumArray = np.sum(ar1) + np.sum(ar2)"
   ]
  },
  {
   "cell_type": "code",
   "execution_count": 65,
   "id": "3599d076",
   "metadata": {},
   "outputs": [
    {
     "data": {
      "text/plain": [
       "990"
      ]
     },
     "execution_count": 65,
     "metadata": {},
     "output_type": "execute_result"
    }
   ],
   "source": [
    "sumArray"
   ]
  },
  {
   "cell_type": "code",
   "execution_count": null,
   "id": "2865bd8b",
   "metadata": {},
   "outputs": [],
   "source": [
    "5. Create a 3*3 array having values from 10-90(interval of 10) and store that in array1. Perform\n",
    "the following tasks:\n",
    "a. Extract the 1st row from the array.\n",
    "b. Extract the last element from the array."
   ]
  },
  {
   "cell_type": "code",
   "execution_count": 66,
   "id": "6b537ce9",
   "metadata": {},
   "outputs": [
    {
     "data": {
      "text/plain": [
       "array([[10, 20, 30],\n",
       "       [40, 50, 60],\n",
       "       [70, 80, 90]])"
      ]
     },
     "execution_count": 66,
     "metadata": {},
     "output_type": "execute_result"
    }
   ],
   "source": [
    "array1 = np.arange(10,91,10).reshape(3,3)\n",
    "array1"
   ]
  },
  {
   "cell_type": "code",
   "execution_count": 67,
   "id": "e36277e9",
   "metadata": {},
   "outputs": [
    {
     "data": {
      "text/plain": [
       "array([[10, 20, 30]])"
      ]
     },
     "execution_count": 67,
     "metadata": {},
     "output_type": "execute_result"
    }
   ],
   "source": [
    "array1[0:1]"
   ]
  },
  {
   "cell_type": "code",
   "execution_count": 69,
   "id": "de57f6c3",
   "metadata": {},
   "outputs": [
    {
     "data": {
      "text/plain": [
       "array([10, 20, 30])"
      ]
     },
     "execution_count": 69,
     "metadata": {},
     "output_type": "execute_result"
    }
   ],
   "source": [
    "array1[0,0:]"
   ]
  },
  {
   "cell_type": "code",
   "execution_count": 70,
   "id": "8aa644ad",
   "metadata": {},
   "outputs": [
    {
     "data": {
      "text/plain": [
       "array([10, 20, 30])"
      ]
     },
     "execution_count": 70,
     "metadata": {},
     "output_type": "execute_result"
    }
   ],
   "source": [
    "array1[0]"
   ]
  },
  {
   "cell_type": "code",
   "execution_count": 72,
   "id": "fd298eeb",
   "metadata": {},
   "outputs": [
    {
     "data": {
      "text/plain": [
       "30"
      ]
     },
     "execution_count": 72,
     "metadata": {},
     "output_type": "execute_result"
    }
   ],
   "source": [
    "array1[0,2]"
   ]
  },
  {
   "cell_type": "code",
   "execution_count": 74,
   "id": "8be15f82",
   "metadata": {},
   "outputs": [
    {
     "data": {
      "text/plain": [
       "array([10, 20, 30])"
      ]
     },
     "execution_count": 74,
     "metadata": {},
     "output_type": "execute_result"
    }
   ],
   "source": [
    "array1[0]"
   ]
  },
  {
   "cell_type": "code",
   "execution_count": 75,
   "id": "a6a410b8",
   "metadata": {},
   "outputs": [
    {
     "name": "stdout",
     "output_type": "stream",
     "text": [
      "First Row: [10 20 30]\n",
      "East Element: 90\n"
     ]
    }
   ],
   "source": [
    "array_one = np.arange(10,91, 10).reshape(3,3)\n",
    "#for first row\n",
    "array_5 = array_one[0,:]\n",
    "print(\"First Row:\",array_5)\n",
    "\n",
    "#for last element\n",
    "array_6 = array_one[-1,-1]\n",
    "print(\"East Element:\",array_6)\n"
   ]
  },
  {
   "cell_type": "code",
   "execution_count": 76,
   "id": "02ca438a",
   "metadata": {},
   "outputs": [
    {
     "data": {
      "text/plain": [
       "90"
      ]
     },
     "execution_count": 76,
     "metadata": {},
     "output_type": "execute_result"
    }
   ],
   "source": [
    "array1[2,2]"
   ]
  },
  {
   "cell_type": "code",
   "execution_count": 77,
   "id": "6559782a",
   "metadata": {},
   "outputs": [
    {
     "data": {
      "text/plain": [
       "90"
      ]
     },
     "execution_count": 77,
     "metadata": {},
     "output_type": "execute_result"
    }
   ],
   "source": [
    "array1[-1,-1]"
   ]
  },
  {
   "cell_type": "code",
   "execution_count": 78,
   "id": "77cd9617",
   "metadata": {},
   "outputs": [
    {
     "data": {
      "text/plain": [
       "array([[90]])"
      ]
     },
     "execution_count": 78,
     "metadata": {},
     "output_type": "execute_result"
    }
   ],
   "source": [
    "array1[2:,-1:]"
   ]
  },
  {
   "cell_type": "code",
   "execution_count": null,
   "id": "5161cbf4",
   "metadata": {},
   "outputs": [],
   "source": []
  }
 ],
 "metadata": {
  "kernelspec": {
   "display_name": "Python 3",
   "language": "python",
   "name": "python3"
  },
  "language_info": {
   "codemirror_mode": {
    "name": "ipython",
    "version": 3
   },
   "file_extension": ".py",
   "mimetype": "text/x-python",
   "name": "python",
   "nbconvert_exporter": "python",
   "pygments_lexer": "ipython3",
   "version": "3.8.8"
  }
 },
 "nbformat": 4,
 "nbformat_minor": 5
}
