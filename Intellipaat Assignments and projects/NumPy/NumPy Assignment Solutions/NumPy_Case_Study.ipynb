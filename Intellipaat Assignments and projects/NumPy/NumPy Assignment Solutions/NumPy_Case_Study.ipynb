{
  "nbformat": 4,
  "nbformat_minor": 0,
  "metadata": {
    "colab": {
      "name": "NumPy Case Study.ipynb",
      "provenance": []
    },
    "kernelspec": {
      "name": "python3",
      "display_name": "Python 3"
    },
    "language_info": {
      "name": "python"
    }
  },
  "cells": [
    {
      "cell_type": "markdown",
      "source": [
        "1.Create a function that takes dimensions as tuples e.g.(3, 3) and a numeric value and returns a \n",
        "Numpy array of the given dimension filled with the given value e.g.: solve((3, 3), 5) will return \n",
        "[\n",
        " [5, 5, 5],\n",
        " [5, 5, 5],\n",
        " [5, 5, 5]\n",
        "]\n"
      ],
      "metadata": {
        "id": "KqpOfS7f4KCm"
      }
    },
    {
      "cell_type": "code",
      "source": [
        "import numpy as np"
      ],
      "metadata": {
        "id": "WrmE8VbOKppC"
      },
      "execution_count": 1,
      "outputs": []
    },
    {
      "cell_type": "code",
      "source": [
        "A=[(3,3),5]\n",
        "print(A)\n",
        "\n",
        "B=A[0]\n",
        "print(B)\n",
        "\n",
        "C=A[1]\n",
        "print(C)\n",
        "\n",
        "def array(x,y):\n",
        "  arr=np.ones(x,dtype=int)*y\n",
        "  return arr\n",
        "  #print(arr)\n",
        "\n",
        "array(B,C)"
      ],
      "metadata": {
        "colab": {
          "base_uri": "https://localhost:8080/"
        },
        "id": "avT3Zrf84NvT",
        "outputId": "c7701f16-67d5-499a-c252-19a32ffd8b84"
      },
      "execution_count": 2,
      "outputs": [
        {
          "output_type": "stream",
          "name": "stdout",
          "text": [
            "[(3, 3), 5]\n",
            "(3, 3)\n",
            "5\n"
          ]
        },
        {
          "output_type": "execute_result",
          "data": {
            "text/plain": [
              "array([[5, 5, 5],\n",
              "       [5, 5, 5],\n",
              "       [5, 5, 5]])"
            ]
          },
          "metadata": {},
          "execution_count": 2
        }
      ]
    },
    {
      "cell_type": "markdown",
      "source": [
        "2. Create a method that takes n Numpy arrays of same dimensions sums them and return the \n",
        "answer"
      ],
      "metadata": {
        "id": "ZgiWE7GmLbuG"
      }
    },
    {
      "cell_type": "code",
      "source": [
        "A1=np.random.randint(1,10,(4,4))\n",
        "print(A1)\n",
        "A2=np.random.randint(10,20,(4,4))\n",
        "print(A2)\n",
        "A3=np.random.randint(20,30,(4,4))\n",
        "print(A3)\n",
        "\n",
        "def arrSum(A1,A2,A3):\n",
        "  A4 = A1+A2+A3\n",
        "  return A4\n",
        "\n",
        "arrSum(A1,A2,A3)"
      ],
      "metadata": {
        "colab": {
          "base_uri": "https://localhost:8080/"
        },
        "id": "EiC83Js54npW",
        "outputId": "8d0b0044-cf35-4732-9188-8d1c581bc3af"
      },
      "execution_count": 14,
      "outputs": [
        {
          "output_type": "stream",
          "name": "stdout",
          "text": [
            "[[4 7 4 5]\n",
            " [3 1 3 7]\n",
            " [5 7 8 3]\n",
            " [4 6 2 7]]\n",
            "[[11 11 12 16]\n",
            " [12 18 17 15]\n",
            " [18 16 10 13]\n",
            " [11 15 14 11]]\n",
            "[[23 21 20 29]\n",
            " [24 27 20 27]\n",
            " [29 21 21 20]\n",
            " [20 26 27 24]]\n"
          ]
        },
        {
          "output_type": "execute_result",
          "data": {
            "text/plain": [
              "array([[38, 39, 36, 50],\n",
              "       [39, 46, 40, 49],\n",
              "       [52, 44, 39, 36],\n",
              "       [35, 47, 43, 42]])"
            ]
          },
          "metadata": {},
          "execution_count": 14
        }
      ]
    },
    {
      "cell_type": "markdown",
      "source": [
        "3.Given a 2 D Array of N X M Dimension, Write a function that accepts this array as well as two \n",
        "numbers N and M. The method should return the top-left N X M sub matrix e.g:\n",
        " [\n",
        " [1, 2, 3],\n",
        " [4, 5, 6],\n",
        " [7, 8, 9],\n",
        " ]\n",
        "top_left_sub_matrix (matrix, 2, 2) -> should return:\n",
        " [\n",
        " [1, 2]\n",
        " [4, 5]\n",
        " ]\n"
      ],
      "metadata": {
        "id": "19pX3gxPzTrX"
      }
    },
    {
      "cell_type": "code",
      "source": [
        "N=int(input(\"please enter num of rows:\"))\n",
        "M=int(input(\"please enter num of columns:\"))\n",
        "\n",
        "arr=np.random.randint(1,10,(N,M))\n",
        "print(arr)\n",
        "\n",
        "def subMat(arr,N,M):\n",
        "  sub_matrix=arr[:N-1,:M-1]\n",
        "  return sub_matrix\n",
        "\n",
        "subMat(arr,N,M)"
      ],
      "metadata": {
        "colab": {
          "base_uri": "https://localhost:8080/"
        },
        "id": "wotPK4ePzZ85",
        "outputId": "138072b3-4a38-4d33-e863-e68ff77dbb4b"
      },
      "execution_count": 6,
      "outputs": [
        {
          "output_type": "stream",
          "name": "stdout",
          "text": [
            "please enter num of rows:3\n",
            "please enter num of columns:3\n",
            "[[5 3 6]\n",
            " [1 7 4]\n",
            " [4 8 9]]\n"
          ]
        },
        {
          "output_type": "execute_result",
          "data": {
            "text/plain": [
              "array([[5, 3],\n",
              "       [1, 7]])"
            ]
          },
          "metadata": {},
          "execution_count": 6
        }
      ]
    },
    {
      "cell_type": "markdown",
      "source": [
        "4. Given a 2 D Array of N X M Dimension, Write a function that accepts this array as well as two \n",
        "numbers N and M The method should return the bottom-right N X M sub matrix e.g.:\n",
        " [\n",
        " [1, 2, 3],\n",
        " [4, 5, 6],\n",
        " [7, 8, 9],\n",
        " ]\n",
        "sub_matrix(matrix, 1, 1) -> should return : (Keep in mind these arrays are zero indexed)\n",
        " [\n",
        " [5, 6]\n",
        " [8, 9]\n",
        " ]"
      ],
      "metadata": {
        "id": "vAd98Day2C0d"
      }
    },
    {
      "cell_type": "code",
      "source": [
        "N=int(input(\"please enter num of rows:\"))\n",
        "M=int(input(\"please enter num of columns:\"))\n",
        "\n",
        "arr=np.random.randint(1,10,(N,M))\n",
        "print(arr)\n",
        "\n",
        "def subMat(arr,N,M):\n",
        "  sub_matrix=arr[-N+1:,-M+1:]\n",
        "  return sub_matrix\n",
        "\n",
        "subMat(arr,N,M)"
      ],
      "metadata": {
        "colab": {
          "base_uri": "https://localhost:8080/"
        },
        "id": "ZwEI3BsG0HNA",
        "outputId": "397ef8bc-87cc-43e0-94d6-8480e65e9ea9"
      },
      "execution_count": 11,
      "outputs": [
        {
          "output_type": "stream",
          "name": "stdout",
          "text": [
            "please enter num of rows:4\n",
            "please enter num of columns:5\n",
            "[[4 3 7 8 9]\n",
            " [3 2 9 7 8]\n",
            " [8 5 3 8 2]\n",
            " [4 3 5 6 4]]\n"
          ]
        },
        {
          "output_type": "execute_result",
          "data": {
            "text/plain": [
              "array([[2, 9, 7, 8],\n",
              "       [5, 3, 8, 2],\n",
              "       [3, 5, 6, 4]])"
            ]
          },
          "metadata": {},
          "execution_count": 11
        }
      ]
    },
    {
      "cell_type": "markdown",
      "source": [
        " 5.Given a 1 D Numpy Array. Write a function that accepts this array as parameters. The method \n",
        "should return a dictionary with 'mean' and 'std_dev' as key and array's mean and array's \n",
        "standard deviation as values:\n",
        " [1, 1, 1]\n",
        "solution(arr) -> should return :\n",
        " {'mean': 1.0, 'std_dev': 0.0}"
      ],
      "metadata": {
        "id": "Wgc9KiJe3lZr"
      }
    },
    {
      "cell_type": "code",
      "source": [
        "arr=[2,4,6,8,10]\n",
        "dict1={}\n",
        "def dict(arr):\n",
        "  avg=np.mean(arr)\n",
        "  dict1[\"mean\"]=avg\n",
        "  print(dict1)\n",
        "\n",
        "  dev=np.std(arr)\n",
        "  dict1[\"std_dev\"]=dev\n",
        "  print(dict1)\n",
        "\n",
        "dict(arr)"
      ],
      "metadata": {
        "colab": {
          "base_uri": "https://localhost:8080/"
        },
        "id": "sYcrQ7KL3m-l",
        "outputId": "78d9b4d8-1cce-4dfa-87fd-85be4a76ea65"
      },
      "execution_count": 13,
      "outputs": [
        {
          "output_type": "stream",
          "name": "stdout",
          "text": [
            "{'mean': 6.0}\n",
            "{'mean': 6.0, 'std_dev': 2.8284271247461903}\n"
          ]
        }
      ]
    }
  ]
}