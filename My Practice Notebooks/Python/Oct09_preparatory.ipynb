{
  "nbformat": 4,
  "nbformat_minor": 0,
  "metadata": {
    "colab": {
      "provenance": []
    },
    "kernelspec": {
      "name": "python3",
      "display_name": "Python 3"
    },
    "language_info": {
      "name": "python"
    }
  },
  "cells": [
    {
      "cell_type": "code",
      "metadata": {
        "id": "z05zTr_wd7vJ"
      },
      "source": [],
      "execution_count": null,
      "outputs": []
    },
    {
      "cell_type": "code",
      "metadata": {
        "id": "AVz9JR8UtgW0"
      },
      "source": [],
      "execution_count": null,
      "outputs": []
    },
    {
      "cell_type": "markdown",
      "metadata": {
        "id": "wjhD42wVnBbP"
      },
      "source": [
        "Datatypes\n",
        "\n"
      ]
    },
    {
      "cell_type": "code",
      "metadata": {
        "id": "19AOGGjKnG6Y"
      },
      "source": [
        "#Mutable datatypes  - changeble - List,Dictionary,sets\n",
        "#Immutable - unchangeble - tuple,,string"
      ],
      "execution_count": null,
      "outputs": []
    },
    {
      "cell_type": "code",
      "metadata": {
        "id": "ejCGGyrEycYI"
      },
      "source": [
        "data={'name':('ruchi','ananya','amit'),'age':[18,19,20]}\n"
      ],
      "execution_count": null,
      "outputs": []
    },
    {
      "cell_type": "code",
      "metadata": {
        "colab": {
          "base_uri": "https://localhost:8080/"
        },
        "id": "vnHMIHsW2FOh",
        "outputId": "d6780411-0892-4f04-d6c5-83b1f21262f5"
      },
      "source": [
        "s1={1,2,3,4}  \n",
        "s1\n"
      ],
      "execution_count": null,
      "outputs": [
        {
          "output_type": "execute_result",
          "data": {
            "text/plain": [
              "{1, 2, 3, 4}"
            ]
          },
          "metadata": {},
          "execution_count": 9
        }
      ]
    },
    {
      "cell_type": "code",
      "metadata": {
        "colab": {
          "base_uri": "https://localhost:8080/",
          "height": 165
        },
        "id": "5yyiuKIo2PGL",
        "outputId": "4cb87f5b-246e-4886-de99-528a753ef7ee"
      },
      "source": [
        "s1.append(5)"
      ],
      "execution_count": null,
      "outputs": [
        {
          "output_type": "error",
          "ename": "AttributeError",
          "evalue": "ignored",
          "traceback": [
            "\u001b[0;31m---------------------------------------------------------------------------\u001b[0m",
            "\u001b[0;31mAttributeError\u001b[0m                            Traceback (most recent call last)",
            "\u001b[0;32m<ipython-input-10-a031f74284fc>\u001b[0m in \u001b[0;36m<module>\u001b[0;34m()\u001b[0m\n\u001b[0;32m----> 1\u001b[0;31m \u001b[0ms1\u001b[0m\u001b[0;34m.\u001b[0m\u001b[0mappend\u001b[0m\u001b[0;34m(\u001b[0m\u001b[0;36m5\u001b[0m\u001b[0;34m)\u001b[0m\u001b[0;34m\u001b[0m\u001b[0;34m\u001b[0m\u001b[0m\n\u001b[0m",
            "\u001b[0;31mAttributeError\u001b[0m: 'set' object has no attribute 'append'"
          ]
        }
      ]
    },
    {
      "cell_type": "code",
      "metadata": {
        "id": "On1I4rlz5BIM"
      },
      "source": [
        "a1=int(input(\"enter first value\"))\n",
        "a2=int(input(\"enter second value\"))\n",
        "a3=a1+a2\n",
        "if a3>0:\n",
        "  print(positive)\n",
        "else:\n",
        "  print(\"negative\")\n",
        "\n",
        "  "
      ],
      "execution_count": null,
      "outputs": []
    },
    {
      "cell_type": "code",
      "metadata": {
        "colab": {
          "base_uri": "https://localhost:8080/"
        },
        "id": "D94PuOLvtkZB",
        "outputId": "290d5567-7039-4fe9-fa9a-fe2e814c1f07"
      },
      "source": [
        "l=[10,21,4,45,66,93,11]\n",
        "c1=0\n",
        "c2=0\n",
        "for i in range(len(l)):\n",
        "  if (l[i]%2==0):\n",
        "    c1+=1\n",
        "  else:\n",
        "    c2+=1\n",
        "print(c1)\n",
        "print(c2)\n",
        "\n",
        "   \n"
      ],
      "execution_count": null,
      "outputs": [
        {
          "output_type": "stream",
          "name": "stdout",
          "text": [
            "3\n",
            "4\n"
          ]
        }
      ]
    },
    {
      "cell_type": "code",
      "metadata": {
        "id": "2e9IRtVH6toJ"
      },
      "source": [
        "abs"
      ],
      "execution_count": null,
      "outputs": []
    }
  ]
}