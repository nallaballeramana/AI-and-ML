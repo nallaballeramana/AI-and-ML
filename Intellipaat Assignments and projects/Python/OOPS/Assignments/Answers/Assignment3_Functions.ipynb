{
  "nbformat": 4,
  "nbformat_minor": 0,
  "metadata": {
    "colab": {
      "name": "Assignment3 - Functions.ipynb",
      "provenance": []
    },
    "kernelspec": {
      "name": "python3",
      "display_name": "Python 3"
    },
    "language_info": {
      "name": "python"
    }
  },
  "cells": [
    {
      "cell_type": "markdown",
      "metadata": {
        "id": "K1iX6xhSG8BY"
      },
      "source": [
        "1. Create a class named ‘Super’ and inside that class define a user-defined function named \n",
        "fun1.\n",
        "a. Inside the ‘fun1’ function, pass the message “This is function 1 in the Super class.” \n",
        "in the print statement.\n",
        "2. Create another classed named ‘Modified_Super’ and inherit this class from the Super class.\n",
        "a. Inside the Modified_Super class, create a function named ‘fun1’ and pass the \n",
        "following message inside the print statement: ‘This is function 1 in the Modified \n",
        "Super class.’\n",
        "b. Create another user-defined function named ‘fun2’ and pass the message: ‘This is \n",
        "the 2\n",
        "nd function from the Modified Super class’ in the print statement.\n",
        "c. After that, now create an object for the Modified_Super class and call the fun1().\n",
        "3. Create 2 methods named ‘Hello’. In the 1st Hello method, pass only one argument and pass \n",
        "this message: ‘This function is only having 1 argument’. And in the 2nd Hello method, pass \n",
        "two arguments and pass this message: ‘This function is having 2 arguments’.\n",
        "a. Try to call both the methods and analyze the output of both the methods.\n",
        "4. Create a method named ‘Sum’ that can accept multiple user inputs. Now add those user\u0002defined input values using for loop and the function should return the addition of the \n",
        "numbers.\n",
        "5. Create a class named ‘Encapsulation’:\n",
        "a. Inside the class, first create a constructor. Inside the constructor, initialize \n",
        "originalValue variable as 10.\n",
        "b. After creating the constructor, define a function named ‘Value’ and this function \n",
        "should return the variable that we have initialized in the constructor.\n",
        "c. Now create 2nd function named setValue, and pass an argument named \n",
        "‘newValue’. The task of this function will be to replace the value of the \n",
        "originalValue variable by the value of newValue variable"
      ]
    },
    {
      "cell_type": "markdown",
      "metadata": {
        "id": "ykEz77UxHKZg"
      },
      "source": [
        "1.Create a class named ‘Super’ and inside that class define a user-defined function named fun1. a. Inside the ‘fun1’ function, pass the message “This is function 1 in the Super class.” in the print statement."
      ]
    },
    {
      "cell_type": "code",
      "metadata": {
        "id": "Q6lD_T3OHOW1"
      },
      "source": [
        "class Super:\n",
        "    def fun1(self):\n",
        "      print(\"This is function 1 in the Super class.\")\n",
        "    \n"
      ],
      "execution_count": 7,
      "outputs": []
    },
    {
      "cell_type": "markdown",
      "metadata": {
        "id": "xPUvRcLsJAq-"
      },
      "source": [
        "2.Create another classed named ‘Modified_Super’ and inherit this class from the Super class. a. Inside the Modified_Super class, create a function named ‘fun1’ and pass the following message inside the print statement: ‘This is function 1 in the Modified Super class.’ b. Create another user-defined function named ‘fun2’ and pass the message: ‘This is the 2 nd function from the Modified Super class’ in the print statement. c. After that, now create an object for the Modified_Super class and call the fun1()."
      ]
    },
    {
      "cell_type": "code",
      "metadata": {
        "id": "iubThJy3JbhU"
      },
      "source": [
        "class Modified_Super(Super):\n",
        "    def fun1(self):\n",
        "        print(\"This is function 1 in the Modified Super class\");\n",
        "    \n",
        "    def fun2(self):\n",
        "        print(\"This is the 2 nd function from the Modified Super class\");\n",
        "    \n"
      ],
      "execution_count": 8,
      "outputs": []
    },
    {
      "cell_type": "code",
      "metadata": {
        "id": "_gp_gzmjLXi7"
      },
      "source": [
        "obj=Modified_Super()"
      ],
      "execution_count": 9,
      "outputs": []
    },
    {
      "cell_type": "code",
      "metadata": {
        "colab": {
          "base_uri": "https://localhost:8080/"
        },
        "id": "D5ush9njLiw7",
        "outputId": "c2d649b1-6636-40b1-bb51-b1942c8d9982"
      },
      "source": [
        "obj.fun1()"
      ],
      "execution_count": 10,
      "outputs": [
        {
          "output_type": "stream",
          "name": "stdout",
          "text": [
            "This is function 1 in the Modified Super class\n"
          ]
        }
      ]
    },
    {
      "cell_type": "markdown",
      "metadata": {
        "id": "PgP7DOBOKZlL"
      },
      "source": [
        "3.Create 2 methods named ‘Hello’. In the 1st Hello method, pass only one argument and pass this message: ‘This function is only having 1 argument’. And in the 2nd Hello method, pass two arguments and pass this message: ‘This function is having 2 arguments’. a. Try to call both the methods and analyze the output of both the methods."
      ]
    },
    {
      "cell_type": "code",
      "metadata": {
        "id": "6cDtrhq1LrGc"
      },
      "source": [
        "def hello(a):\n",
        "  print(\"This function is only having 1 argument\")\n",
        "  print(a)\n",
        "  \n",
        "def hello(b,c):\n",
        "  print(\"This function is having 2 arguments\") \n",
        "  print(b+c) "
      ],
      "execution_count": 4,
      "outputs": []
    },
    {
      "cell_type": "code",
      "metadata": {
        "colab": {
          "base_uri": "https://localhost:8080/",
          "height": 163
        },
        "id": "I5oy9RFaJO6R",
        "outputId": "3d8c6488-7ab6-4957-f54f-aea5874bfae5"
      },
      "source": [
        "hello(5)"
      ],
      "execution_count": 5,
      "outputs": [
        {
          "output_type": "error",
          "ename": "TypeError",
          "evalue": "ignored",
          "traceback": [
            "\u001b[0;31m---------------------------------------------------------------------------\u001b[0m",
            "\u001b[0;31mTypeError\u001b[0m                                 Traceback (most recent call last)",
            "\u001b[0;32m<ipython-input-5-c8bbaafb0f2b>\u001b[0m in \u001b[0;36m<module>\u001b[0;34m()\u001b[0m\n\u001b[0;32m----> 1\u001b[0;31m \u001b[0mhello\u001b[0m\u001b[0;34m(\u001b[0m\u001b[0;36m5\u001b[0m\u001b[0;34m)\u001b[0m\u001b[0;34m\u001b[0m\u001b[0;34m\u001b[0m\u001b[0m\n\u001b[0m",
            "\u001b[0;31mTypeError\u001b[0m: hello() missing 1 required positional argument: 'c'"
          ]
        }
      ]
    },
    {
      "cell_type": "code",
      "metadata": {
        "colab": {
          "base_uri": "https://localhost:8080/"
        },
        "id": "ErrgYtMKMY7S",
        "outputId": "44e36c03-149c-4d56-b59f-434bd396e534"
      },
      "source": [
        "hello(3,9)"
      ],
      "execution_count": 6,
      "outputs": [
        {
          "output_type": "stream",
          "name": "stdout",
          "text": [
            "This function is having 2 arguments\n",
            "12\n"
          ]
        }
      ]
    },
    {
      "cell_type": "markdown",
      "metadata": {
        "id": "FRbPhJ22OZvh"
      },
      "source": [
        "4.Create a method named ‘Sum’ that can accept multiple user inputs. Now add those user\u0002defined input values using for loop and the function should return the addition of the numbers."
      ]
    },
    {
      "cell_type": "code",
      "metadata": {
        "colab": {
          "base_uri": "https://localhost:8080/"
        },
        "id": "RGf3qLBvOeQV",
        "outputId": "77590adf-2e0e-4838-ac92-ba05fb52bfec"
      },
      "source": [
        "values=input(\"Please enter numbers seperated by comma:\")\n",
        "\n",
        "num=values.split(\",\")\n",
        "def sum(num):\n",
        "  num1=0\n",
        "  for i in range(0,len(num)):\n",
        "    num2=int(num[i])\n",
        "    num1=num1+num2\n",
        "  return num1\n",
        "\n",
        "sum(num)\n",
        "\n"
      ],
      "execution_count": 9,
      "outputs": [
        {
          "name": "stdout",
          "output_type": "stream",
          "text": [
            "Please enter numbers seperated by comma:8,20,12\n"
          ]
        },
        {
          "output_type": "execute_result",
          "data": {
            "text/plain": [
              "40"
            ]
          },
          "metadata": {},
          "execution_count": 9
        }
      ]
    },
    {
      "cell_type": "markdown",
      "metadata": {
        "id": "E_s10mWkQ7Xk"
      },
      "source": [
        "5.Create a class named ‘Encapsulation’: a. Inside the class, first create a constructor. Inside the constructor, initialize originalValue variable as 10. b. After creating the constructor, define a function named ‘Value’ and this function should return the variable that we have initialized in the constructor. c. Now create 2nd function named setValue, and pass an argument named ‘newValue’. The task of this function will be to replace the value of the originalValue variable by the value of newValue variable"
      ]
    },
    {
      "cell_type": "code",
      "metadata": {
        "id": "d_Z72I19Q9fa"
      },
      "source": [
        "class Encapsulation:\n",
        "\n",
        "  def __init__(self):\n",
        "    self.balance=10\n",
        "  \n",
        "  def Value(self):\n",
        "    return self.balance\n",
        "  \n",
        "  def setValue(self,newValue):\n",
        "    self.balance=newValue"
      ],
      "execution_count": 15,
      "outputs": []
    },
    {
      "cell_type": "code",
      "metadata": {
        "id": "zdHuqWPXoeui"
      },
      "source": [
        "obj1=Encapsulation()"
      ],
      "execution_count": 16,
      "outputs": []
    },
    {
      "cell_type": "code",
      "metadata": {
        "colab": {
          "base_uri": "https://localhost:8080/"
        },
        "id": "cLbiX4Rsohly",
        "outputId": "6098b465-56ef-4a0c-eaa4-b79162f5b2c8"
      },
      "source": [
        "obj1.Value()"
      ],
      "execution_count": 17,
      "outputs": [
        {
          "output_type": "execute_result",
          "data": {
            "text/plain": [
              "10"
            ]
          },
          "metadata": {},
          "execution_count": 17
        }
      ]
    },
    {
      "cell_type": "code",
      "metadata": {
        "id": "60yHh-pcopLK"
      },
      "source": [
        "obj1.setValue(20)"
      ],
      "execution_count": 18,
      "outputs": []
    },
    {
      "cell_type": "code",
      "metadata": {
        "colab": {
          "base_uri": "https://localhost:8080/"
        },
        "id": "cAqlPDtIo3GK",
        "outputId": "e659cb6e-0d08-440a-c43d-6f48a73cf27d"
      },
      "source": [
        "obj1.Value()"
      ],
      "execution_count": 19,
      "outputs": [
        {
          "output_type": "execute_result",
          "data": {
            "text/plain": [
              "20"
            ]
          },
          "metadata": {},
          "execution_count": 19
        }
      ]
    }
  ]
}