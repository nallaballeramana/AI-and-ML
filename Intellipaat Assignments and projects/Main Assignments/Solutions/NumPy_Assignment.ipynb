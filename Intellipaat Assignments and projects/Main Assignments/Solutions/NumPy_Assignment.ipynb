{
  "nbformat": 4,
  "nbformat_minor": 0,
  "metadata": {
    "colab": {
      "name": "NumPy Assignment.ipynb",
      "provenance": []
    },
    "kernelspec": {
      "name": "python3",
      "display_name": "Python 3"
    },
    "language_info": {
      "name": "python"
    }
  },
  "cells": [
    {
      "cell_type": "markdown",
      "source": [
        "1. Create a list named ‘myList’ that has the following elements: 10,20,30,’apple’, True, 8.10. \n",
        "\n",
        "a. Now in the ‘myList’, append these values: 30,40 \n",
        "\n",
        "b. After that reverse the elements of the ‘myList’ and store that in ‘reversedList’ \n"
      ],
      "metadata": {
        "id": "lPiA3r-JM_iS"
      }
    },
    {
      "cell_type": "code",
      "source": [
        "myList = [10,20,30,'apple',True,8.10]\n",
        "myList\n",
        "myList.append(30)\n",
        "myList.append(40)\n",
        "print(myList)\n",
        "\n",
        "reversedList = reversed(myList)\n",
        "reversedList\n"
      ],
      "metadata": {
        "colab": {
          "base_uri": "https://localhost:8080/"
        },
        "id": "-nVSf1R7NF7L",
        "outputId": "5b7fe866-82bc-4a0e-fd51-92a165d150c2"
      },
      "execution_count": 21,
      "outputs": [
        {
          "output_type": "stream",
          "name": "stdout",
          "text": [
            "[10, 20, 30, 'apple', True, 8.1, 30, 40]\n"
          ]
        },
        {
          "output_type": "execute_result",
          "data": {
            "text/plain": [
              "[40, 30, 8.1, True, 'apple', 30, 20, 10]"
            ]
          },
          "metadata": {},
          "execution_count": 21
        }
      ]
    },
    {
      "cell_type": "markdown",
      "source": [
        "2. Create a dictionary ‘Country’ that maps the following countries to their capitals respectively:\n",
        "\n",
        "Country\tIndia\tChina\tJapan\tQatar\tFrance\n",
        "\n",
        "State\tDelhi\tBeijing\tTokyo\tDoha\tMarseilles\n",
        "\n",
        "Find 2 commands to replace “Marseilles” with “Paris”.\n",
        "\n",
        "\n"
      ],
      "metadata": {
        "id": "NzvDEIKpZU2i"
      }
    },
    {
      "cell_type": "code",
      "source": [
        "\n",
        "country = {\"India\":\"Delhi\",\"China\":\"Beijing\",\"Japan\":\"Tokyo\",\"Quatar\":\"Doha\",\"France\":\"Marseilles\"}\n",
        "\n",
        "print(country)\n",
        "\n",
        "country[\"France\"] = \"Paris\"\n",
        "\n",
        "print(country)\n"
      ],
      "metadata": {
        "colab": {
          "base_uri": "https://localhost:8080/"
        },
        "id": "gt13VQkhNbUD",
        "outputId": "d9fac78f-5685-4321-ffb4-b5570be12946"
      },
      "execution_count": 34,
      "outputs": [
        {
          "output_type": "stream",
          "name": "stdout",
          "text": [
            "{'India': 'Delhi', 'China': 'Beijing', 'Japan': 'Tokyo', 'Quatar': 'Doha', 'France': 'Marseilles'}\n",
            "{'India': 'Delhi', 'China': 'Beijing', 'Japan': 'Tokyo', 'Quatar': 'Doha', 'France': 'Paris'}\n"
          ]
        }
      ]
    },
    {
      "cell_type": "markdown",
      "source": [
        "3. Create the tuples given below \n",
        "\n",
        "tuple_1 = (1,5,6,7,8) \n",
        "\n",
        "tuple_2 = (8,9,4) \n",
        "\n",
        "Identify which of the following code does not work on a tuple.\n",
        "\n",
        "\ta) sum(tuple_1)\n",
        "\tb) len(tuple_2)\n",
        "\tc) tuple_2 + tuple_1\n",
        "\td) tuple_1[3] = 45\n"
      ],
      "metadata": {
        "id": "KSsYyAr7iK72"
      }
    },
    {
      "cell_type": "code",
      "source": [
        "tuple_1 = (1,5,6,7,8) \n",
        "tuple_2 = (8,9,4) \n",
        "\n",
        "print(sum(tuple_1))\n",
        "print(len(tuple_2))\n",
        "print(tuple_2 + tuple_1)\n",
        "\n",
        "# below command doesnot work as tuple is immutable\n",
        "tuple_1[3] = 45\n"
      ],
      "metadata": {
        "colab": {
          "base_uri": "https://localhost:8080/",
          "height": 252
        },
        "id": "KnIwC33miKKx",
        "outputId": "13533ce5-d1bb-417a-bfd0-29ceaaefeffa"
      },
      "execution_count": 40,
      "outputs": [
        {
          "output_type": "stream",
          "name": "stdout",
          "text": [
            "27\n",
            "3\n",
            "(8, 9, 4, 1, 5, 6, 7, 8)\n"
          ]
        },
        {
          "output_type": "error",
          "ename": "TypeError",
          "evalue": "ignored",
          "traceback": [
            "\u001b[0;31m---------------------------------------------------------------------------\u001b[0m",
            "\u001b[0;31mTypeError\u001b[0m                                 Traceback (most recent call last)",
            "\u001b[0;32m<ipython-input-40-7f0968de7c53>\u001b[0m in \u001b[0;36m<module>\u001b[0;34m()\u001b[0m\n\u001b[1;32m      7\u001b[0m \u001b[0;34m\u001b[0m\u001b[0m\n\u001b[1;32m      8\u001b[0m \u001b[0;31m# below command doesnot work as tuple is immutable\u001b[0m\u001b[0;34m\u001b[0m\u001b[0;34m\u001b[0m\u001b[0;34m\u001b[0m\u001b[0m\n\u001b[0;32m----> 9\u001b[0;31m \u001b[0mtuple_1\u001b[0m\u001b[0;34m[\u001b[0m\u001b[0;36m3\u001b[0m\u001b[0;34m]\u001b[0m \u001b[0;34m=\u001b[0m \u001b[0;36m45\u001b[0m\u001b[0;34m\u001b[0m\u001b[0;34m\u001b[0m\u001b[0m\n\u001b[0m",
            "\u001b[0;31mTypeError\u001b[0m: 'tuple' object does not support item assignment"
          ]
        }
      ]
    },
    {
      "cell_type": "markdown",
      "source": [
        "4. Create two tuples named numeric_tuple consisting of only integer values 10,20,30,40,50 and my_tuple which will have 30,60,50,’tup’ values\n",
        "\n",
        "a. Find the minimum value from the numeric_tuple.\n",
        "\n",
        "b. Concatenate my_tuple with numeric_tuple and store the result in r1.\n",
        "\n",
        "c. Duplicate the tuple named my_tuple 2 times and store that in ‘newdupli’.\n"
      ],
      "metadata": {
        "id": "uljFMkkzjObw"
      }
    },
    {
      "cell_type": "code",
      "source": [
        "numeric_tuple = (10,20,30,40,50)\n",
        "my_tuple = (30,60,50,'tup')\n",
        "\n",
        "print(\"min of numeric_tuple is:\",min(numeric_tuple))\n",
        "\n",
        "r1 = numeric_tuple + my_tuple\n",
        "print(r1)\n",
        "\n",
        "newdupli = my_tuple*2\n",
        "\n",
        "print(newdupli)"
      ],
      "metadata": {
        "colab": {
          "base_uri": "https://localhost:8080/"
        },
        "id": "yJTSXrohjUT0",
        "outputId": "2560b331-a31c-4f84-e0ba-a24c76101abd"
      },
      "execution_count": 42,
      "outputs": [
        {
          "output_type": "stream",
          "name": "stdout",
          "text": [
            "min of numeric_tuple is: 10\n",
            "(10, 20, 30, 40, 50, 30, 60, 50, 'tup')\n",
            "(30, 60, 50, 'tup', 30, 60, 50, 'tup')\n"
          ]
        }
      ]
    },
    {
      "cell_type": "markdown",
      "source": [
        "5. Find the total number of elements present in the below set:\n",
        "\n",
        "![image.png](data:image/png;base64,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)"
      ],
      "metadata": {
        "id": "sPamaJOgkkN_"
      }
    },
    {
      "cell_type": "code",
      "source": [
        "S = {1,2,3,4,4,4,5,6}\n",
        "print(S)\n",
        "\n",
        "# number of elements in set will be 6 as set doesnot store duplicate values\n",
        "\n",
        "#first way\n",
        "print(\"number of elements in S are:\",len(S))\n",
        "\n",
        "#Second way\n",
        "count = 0\n",
        "for i in S:\n",
        "  count+=1\n",
        "\n",
        "print(\"number of elements in S are:\",count)"
      ],
      "metadata": {
        "colab": {
          "base_uri": "https://localhost:8080/"
        },
        "id": "VW-lWFsEknoh",
        "outputId": "ff5180d5-ad8b-4e31-dfd2-929a72f1286d"
      },
      "execution_count": 49,
      "outputs": [
        {
          "output_type": "stream",
          "name": "stdout",
          "text": [
            "{1, 2, 3, 4, 5, 6}\n",
            "number of elements in S are: 6\n",
            "number of elements in S are: 6\n"
          ]
        }
      ]
    },
    {
      "cell_type": "markdown",
      "source": [
        "6. Create an array with whole numbers values from 0 to 10 and find what is the command to extract the elements in the following sequence - \n",
        "array ([7,4,1])\n",
        "\n",
        "\n"
      ],
      "metadata": {
        "id": "pJrZJIRunLAJ"
      }
    },
    {
      "cell_type": "code",
      "source": [
        "import numpy as np\n",
        "\n",
        "arr = np.arange(11)\n",
        "print(arr)\n",
        "\n",
        "#extracting [7,4,1] with negative indexing\n",
        "print(arr[-4::-3])\n",
        "\n",
        "#extracting with positive indexing\n",
        "print(arr[7::-3])\n"
      ],
      "metadata": {
        "colab": {
          "base_uri": "https://localhost:8080/"
        },
        "id": "JWqRVizTnGA2",
        "outputId": "96b14b79-bf38-43c2-e776-309b7ff9a09f"
      },
      "execution_count": 76,
      "outputs": [
        {
          "output_type": "stream",
          "name": "stdout",
          "text": [
            "[ 0  1  2  3  4  5  6  7  8  9 10]\n",
            "[7 4 1]\n",
            "[7 4 1]\n"
          ]
        }
      ]
    },
    {
      "cell_type": "markdown",
      "source": [
        "7. Create a NumPy array having user input values and convert the integer type to the float type of the elements of the array. \n",
        "\n",
        "For instance:\n",
        "\n",
        "Original array [1, 2, 3, 4] \n",
        "\n",
        "Array converted to a float type: [ 1. 2. 3. 4.]\n"
      ],
      "metadata": {
        "id": "9U4R3BqKqYj1"
      }
    },
    {
      "cell_type": "code",
      "source": [
        "\n",
        "arr = np.array([1,2,3,4])\n",
        "print(arr)\n",
        "\n",
        "b_arr = arr.astype(float)\n",
        "print(b_arr)"
      ],
      "metadata": {
        "colab": {
          "base_uri": "https://localhost:8080/"
        },
        "id": "1fj5jhE6k6Kh",
        "outputId": "e468f077-1e80-4e11-ef36-03599422e013"
      },
      "execution_count": 74,
      "outputs": [
        {
          "output_type": "stream",
          "name": "stdout",
          "text": [
            "[1 2 3 4]\n",
            "[1. 2. 3. 4.]\n"
          ]
        }
      ]
    },
    {
      "cell_type": "markdown",
      "source": [
        "8. Write a NumPy program to append values to the end of an array. \n",
        "\n",
        "For instance:\n",
        "Original array: [10, 20, 30] \n",
        "\n",
        "After append values to the end of the array:\n",
        "\n",
        " [10 20 30 40 50 60 70 80 90]\n"
      ],
      "metadata": {
        "id": "a6qGTb72vpWj"
      }
    },
    {
      "cell_type": "code",
      "source": [
        "arr1 = np.array([10,20,30])\n",
        "arr2 = np.array([40,50,60,70,80,90])\n",
        "\n",
        "np.append(arr1,arr2)\n"
      ],
      "metadata": {
        "colab": {
          "base_uri": "https://localhost:8080/"
        },
        "id": "3xXC55kvq5e7",
        "outputId": "08e77dc1-3f68-4d2c-8a89-cc4f436453f9"
      },
      "execution_count": 79,
      "outputs": [
        {
          "output_type": "execute_result",
          "data": {
            "text/plain": [
              "array([10, 20, 30, 40, 50, 60, 70, 80, 90])"
            ]
          },
          "metadata": {},
          "execution_count": 79
        }
      ]
    },
    {
      "cell_type": "markdown",
      "source": [
        "9. Create a 2 dimensional array with 3 rows and 3 columns containing random numbers from 1 to 9. Find the difference between the maximum element across the columns and the minimum element across the rows."
      ],
      "metadata": {
        "id": "wQIl3cwMxld-"
      }
    },
    {
      "cell_type": "code",
      "source": [
        "a_arr = np.random.randint(1,9,(3,3))\n",
        "\n",
        "print(a_arr)\n",
        "\n",
        "b= a_arr.max(axis=0)\n",
        "print(\"Max across column is: \",b)\n",
        "c = a_arr.min(axis=1)\n",
        "print(\"Min across row is: \",c)\n",
        "\n",
        "diff = b - c\n",
        "print(\"Difference is:\",diff)\n"
      ],
      "metadata": {
        "colab": {
          "base_uri": "https://localhost:8080/"
        },
        "id": "0_I_WRlFxR73",
        "outputId": "99f9b4ce-b6f2-4856-a22c-3ebefec5ca9e"
      },
      "execution_count": 84,
      "outputs": [
        {
          "output_type": "stream",
          "name": "stdout",
          "text": [
            "[[8 1 7]\n",
            " [4 1 3]\n",
            " [6 3 6]]\n",
            "Max across column is:  [8 3 7]\n",
            "Min across row is:  [1 1 3]\n",
            "Difference is: [7 2 4]\n"
          ]
        }
      ]
    },
    {
      "cell_type": "markdown",
      "source": [
        "10. Create a 3*3 array having values from 10-90(interval of 10) and store that in array1. \n",
        "\n",
        "Perform the following tasks:\n",
        "\n",
        "a. Extract the 1st row from the array.\n",
        "\n",
        "b. Extract the last element from the array.\n"
      ],
      "metadata": {
        "id": "3uF67YnxzHzM"
      }
    },
    {
      "cell_type": "code",
      "source": [
        "array1 = np.arange(10,100,10)\n",
        "print(array1)\n",
        "array2 = np.reshape(array1,(3,3))\n",
        "print(array2)\n",
        "\n",
        "# first row of array2\n",
        "array2[0:1,:]\n",
        "\n",
        "#Last element of array\n",
        "array2[-1,-1]"
      ],
      "metadata": {
        "colab": {
          "base_uri": "https://localhost:8080/"
        },
        "id": "w8jQ4c8-zNDK",
        "outputId": "9c7fd441-e0f6-4cf0-a625-e5908decdf4c"
      },
      "execution_count": 95,
      "outputs": [
        {
          "output_type": "stream",
          "name": "stdout",
          "text": [
            "[10 20 30 40 50 60 70 80 90]\n",
            "[[10 20 30]\n",
            " [40 50 60]\n",
            " [70 80 90]]\n"
          ]
        },
        {
          "output_type": "execute_result",
          "data": {
            "text/plain": [
              "90"
            ]
          },
          "metadata": {},
          "execution_count": 95
        }
      ]
    }
  ]
}