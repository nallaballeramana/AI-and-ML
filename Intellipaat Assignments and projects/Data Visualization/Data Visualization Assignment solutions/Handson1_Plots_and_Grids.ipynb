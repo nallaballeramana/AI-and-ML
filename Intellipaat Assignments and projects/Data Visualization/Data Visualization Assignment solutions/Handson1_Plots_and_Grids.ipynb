{
  "nbformat": 4,
  "nbformat_minor": 0,
  "metadata": {
    "colab": {
      "name": "Handson1 Plots and Grids.ipynb",
      "provenance": []
    },
    "kernelspec": {
      "name": "python3",
      "display_name": "Python 3"
    },
    "language_info": {
      "name": "python"
    }
  },
  "cells": [
    {
      "cell_type": "markdown",
      "source": [
        "Import numpy and matplotlib.pyplot by typing the following code in the notebook and run it by pressing shift + enter"
      ],
      "metadata": {
        "id": "kzVaK1p6DxAp"
      }
    },
    {
      "cell_type": "code",
      "source": [
        "import numpy as np\n",
        "import matplotlib.pyplot as plt"
      ],
      "metadata": {
        "id": "EaFYtM-3DyqF"
      },
      "execution_count": 1,
      "outputs": []
    },
    {
      "cell_type": "markdown",
      "source": [
        "Type the following code to create a plot with grids.\n"
      ],
      "metadata": {
        "id": "pHYoYoqiEKkI"
      }
    },
    {
      "cell_type": "markdown",
      "source": [
        " Generate some data to plot."
      ],
      "metadata": {
        "id": "j27ulkGNEUP7"
      }
    },
    {
      "cell_type": "code",
      "source": [
        "x= [_ for _ in range(0,10)]\n",
        "y= [_*_ for _ in range(0,10)]\n",
        "print(x)\n",
        "print(y)"
      ],
      "metadata": {
        "colab": {
          "base_uri": "https://localhost:8080/"
        },
        "id": "tKQ8MIReEFX4",
        "outputId": "5c990555-3e3e-48a0-f83e-eae4af57c8e8"
      },
      "execution_count": 3,
      "outputs": [
        {
          "output_type": "stream",
          "name": "stdout",
          "text": [
            "[0, 1, 2, 3, 4, 5, 6, 7, 8, 9]\n",
            "[0, 1, 4, 9, 16, 25, 36, 49, 64, 81]\n"
          ]
        }
      ]
    },
    {
      "cell_type": "markdown",
      "source": [
        " Create a figure to plot data on."
      ],
      "metadata": {
        "id": "P1GJgF6oF6m4"
      }
    },
    {
      "cell_type": "code",
      "source": [
        "# Create a figure to plot data on.\n",
        "fig = plt.figure()\n",
        "# Get the current axes of the figure\n",
        "ax= fig.gca()\n",
        "# Set xticks and yticks on the axes.\n",
        "ax.set_xticks(np.arange(0,10,1))\n",
        "ax.set_yticks(np.arange(0,100,10))\n",
        "# Generate a scatter plot based on the data generated on previous step.\n",
        "plt.scatter(x,y)\n",
        "#Create a grid.\n",
        "plt.grid()\n",
        "#Show the plot.\n",
        "plt.show()"
      ],
      "metadata": {
        "colab": {
          "base_uri": "https://localhost:8080/",
          "height": 265
        },
        "id": "GztJhcj_F17K",
        "outputId": "3381c4e9-3f8e-42b3-9adc-a9a22c89f118"
      },
      "execution_count": 17,
      "outputs": [
        {
          "output_type": "display_data",
          "data": {
            "image/png": "[encoded data removed]",
            "text/plain": [
              "<Figure size 432x288 with 1 Axes>"
            ]
          },
          "metadata": {
            "needs_background": "light"
          }
        }
      ]
    }
  ]
}