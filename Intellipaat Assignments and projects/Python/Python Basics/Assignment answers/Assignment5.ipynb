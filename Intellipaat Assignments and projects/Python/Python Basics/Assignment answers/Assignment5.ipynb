{
  "nbformat": 4,
  "nbformat_minor": 0,
  "metadata": {
    "colab": {
      "name": "Assignment5.ipynb",
      "provenance": []
    },
    "kernelspec": {
      "name": "python3",
      "display_name": "Python 3"
    },
    "language_info": {
      "name": "python"
    }
  },
  "cells": [
    {
      "cell_type": "markdown",
      "metadata": {
        "id": "e7vuVSF5tdDe"
      },
      "source": [
        "Create a list that is having 10,23,4,26,4,75,24,54 values and with the help of while loop, fetch \n",
        "the even numbers and print the numbers\n"
      ]
    },
    {
      "cell_type": "code",
      "metadata": {
        "colab": {
          "base_uri": "https://localhost:8080/"
        },
        "id": "PTKzoju0teR8",
        "outputId": "7f7c5967-359a-4c78-f51f-3b5110fc8f88"
      },
      "source": [
        "mylist=[10,23,4,26,4,75,24,54]\n",
        "\n",
        "i=0\n",
        "while i < len(mylist):\n",
        "  if (mylist[i]%2==0):\n",
        "    print(mylist[i],\" is an even number\")\n",
        "  \n",
        "  i += 1 \n"
      ],
      "execution_count": 12,
      "outputs": [
        {
          "output_type": "stream",
          "name": "stdout",
          "text": [
            "10  is an even number\n",
            "4  is an even number\n",
            "26  is an even number\n",
            "4  is an even number\n",
            "24  is an even number\n",
            "54  is an even number\n"
          ]
        }
      ]
    },
    {
      "cell_type": "code",
      "metadata": {
        "id": "5fDgtaUCtvD5"
      },
      "source": [
        ""
      ],
      "execution_count": null,
      "outputs": []
    }
  ]
}