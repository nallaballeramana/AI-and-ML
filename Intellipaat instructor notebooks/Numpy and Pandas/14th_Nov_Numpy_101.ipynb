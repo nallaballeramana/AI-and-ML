{
  "nbformat": 4,
  "nbformat_minor": 0,
  "metadata": {
    "colab": {
      "provenance": [],
      "collapsed_sections": []
    },
    "kernelspec": {
      "name": "python3",
      "display_name": "Python 3"
    },
    "language_info": {
      "name": "python"
    }
  },
  "cells": [
    {
      "cell_type": "code",
      "metadata": {
        "id": "yEYjTRsf4B2M"
      },
      "source": [
        "# Numpy         Maths in Python \n",
        "# Pandas        Read, Edit the data \n",
        "# Matplotlib    Viz the data"
      ],
      "execution_count": null,
      "outputs": []
    },
    {
      "cell_type": "code",
      "metadata": {
        "id": "11Ko9rrV482U"
      },
      "source": [
        "# 3rd party library/ packages "
      ],
      "execution_count": null,
      "outputs": []
    },
    {
      "cell_type": "code",
      "metadata": {
        "id": "4v_Ji-Pj5D1w"
      },
      "source": [
        "# str, int, float, dict, set - base python"
      ],
      "execution_count": null,
      "outputs": []
    },
    {
      "cell_type": "code",
      "metadata": {
        "id": "huyO25hV5jTB"
      },
      "source": [
        "# Download, Install & Import in our project"
      ],
      "execution_count": null,
      "outputs": []
    },
    {
      "cell_type": "code",
      "metadata": {
        "id": "tuIRMci95vdC"
      },
      "source": [
        "# Install numpy package\n",
        "#! pip install numpy"
      ],
      "execution_count": null,
      "outputs": []
    },
    {
      "cell_type": "code",
      "metadata": {
        "colab": {
          "base_uri": "https://localhost:8080/"
        },
        "id": "iPvyJYpJ56S4",
        "outputId": "afeb040b-78f2-4596-b579-8bbfd2dd1b1f"
      },
      "source": [
        "# Check if numpy is installed or not ? \n",
        "! pip show numpy"
      ],
      "execution_count": null,
      "outputs": [
        {
          "output_type": "stream",
          "name": "stdout",
          "text": [
            "Name: numpy\n",
            "Version: 1.19.5\n",
            "Summary: NumPy is the fundamental package for array computing with Python.\n",
            "Home-page: https://www.numpy.org\n",
            "Author: Travis E. Oliphant et al.\n",
            "Author-email: None\n",
            "License: BSD\n",
            "Location: /usr/local/lib/python3.7/dist-packages\n",
            "Requires: \n",
            "Required-by: yellowbrick, xgboost, xarray, wordcloud, torchvision, torchtext, tifffile, thinc, Theano-PyMC, tensorflow, tensorflow-probability, tensorflow-hub, tensorflow-datasets, tensorboard, tables, statsmodels, spacy, sklearn-pandas, seaborn, scs, scipy, scikit-learn, resampy, qdldl, PyWavelets, python-louvain, pystan, pysndfile, pymc3, pyerfa, pyemd, pyarrow, plotnine, patsy, pandas, osqp, opt-einsum, opencv-python, opencv-contrib-python, numexpr, numba, nibabel, netCDF4, moviepy, mlxtend, mizani, missingno, matplotlib, matplotlib-venn, lightgbm, librosa, Keras-Preprocessing, kapre, jpeg4py, jaxlib, jax, imgaug, imbalanced-learn, imageio, hyperopt, holoviews, h5py, gym, gensim, folium, fix-yahoo-finance, fbprophet, fastprogress, fastdtw, fastai, fa2, ecos, daft, cvxpy, cufflinks, cmdstanpy, cftime, Bottleneck, bokeh, blis, autograd, atari-py, astropy, arviz, altair, albumentations\n"
          ]
        }
      ]
    },
    {
      "cell_type": "code",
      "metadata": {
        "id": "537hVJyM6I5c"
      },
      "source": [
        "# Uninstall numpy\n",
        "# ! pip uninstall numpy \n",
        "\n",
        "# Upgrade numpy package \n",
        "# ! pip install --upgrade numpy"
      ],
      "execution_count": null,
      "outputs": []
    },
    {
      "cell_type": "code",
      "metadata": {
        "id": "lL1wMJWB6tRY"
      },
      "source": [
        "# List of all the python packages installed\n",
        "! pip list"
      ],
      "execution_count": null,
      "outputs": []
    },
    {
      "cell_type": "code",
      "metadata": {
        "id": "FqvTE4Bc66Dx"
      },
      "source": [],
      "execution_count": null,
      "outputs": []
    },
    {
      "cell_type": "code",
      "metadata": {
        "id": "Bte0XYCS7H4T"
      },
      "source": [
        "alist = [1,2,3,4,5]\n",
        "# multiply each element by 2\n",
        "# output = [2,4,6,8,10]"
      ],
      "execution_count": null,
      "outputs": []
    },
    {
      "cell_type": "code",
      "metadata": {
        "colab": {
          "base_uri": "https://localhost:8080/"
        },
        "id": "OQ_RAqLQ7dPF",
        "outputId": "dd5ee3db-3e42-438f-c354-2c1bb1c346e5"
      },
      "source": [
        "alist * 2 "
      ],
      "execution_count": null,
      "outputs": [
        {
          "output_type": "execute_result",
          "data": {
            "text/plain": [
              "[1, 2, 3, 4, 5, 1, 2, 3, 4, 5]"
            ]
          },
          "metadata": {},
          "execution_count": 6
        }
      ]
    },
    {
      "cell_type": "code",
      "metadata": {
        "colab": {
          "base_uri": "https://localhost:8080/"
        },
        "id": "6-pr6Z8i7ivA",
        "outputId": "29ce8363-ba5d-49d0-9b76-906fa8d87366"
      },
      "source": [
        "blist = []\n",
        "for item in alist: \n",
        "  blist.append(item*2)\n",
        "blist "
      ],
      "execution_count": null,
      "outputs": [
        {
          "output_type": "execute_result",
          "data": {
            "text/plain": [
              "[2, 4, 6, 8, 10]"
            ]
          },
          "metadata": {},
          "execution_count": 8
        }
      ]
    },
    {
      "cell_type": "code",
      "metadata": {
        "colab": {
          "base_uri": "https://localhost:8080/"
        },
        "id": "L1-O9Jk370S2",
        "outputId": "119fe44d-4b1b-441e-9620-a34ce2ba3ccb"
      },
      "source": [
        "(1_000_000 / 3600)/24"
      ],
      "execution_count": null,
      "outputs": [
        {
          "output_type": "execute_result",
          "data": {
            "text/plain": [
              "11.574074074074074"
            ]
          },
          "metadata": {},
          "execution_count": 10
        }
      ]
    },
    {
      "cell_type": "code",
      "metadata": {
        "id": "raPRPLqK8d5A"
      },
      "source": [
        "# Base Python lacks 2 things - \n",
        "# 1. Loop are bad in terms of computation \n",
        "# 2. Dimentionality - base python data types (list, tuple & dict) cant understand 2D data (row & columns)"
      ],
      "execution_count": null,
      "outputs": []
    },
    {
      "cell_type": "code",
      "metadata": {
        "id": "wd3Ud3eh9oQo"
      },
      "source": [
        "# Numpy - data type array -> \n",
        "# 1. Array are multi dimentional in nature\n",
        "# 2. Numpy broadcasting . . . .  "
      ],
      "execution_count": null,
      "outputs": []
    },
    {
      "cell_type": "code",
      "metadata": {
        "id": "yLG-PWbg-Khl"
      },
      "source": [
        "import numpy as np"
      ],
      "execution_count": null,
      "outputs": []
    },
    {
      "cell_type": "code",
      "metadata": {
        "colab": {
          "base_uri": "https://localhost:8080/"
        },
        "id": "hFQaA9ZH-YG-",
        "outputId": "75c308d1-9cfe-4b49-cf46-d85473a14b38"
      },
      "source": [
        "# how to convert a list into an array \n",
        "print(alist)\n",
        "a_arr = np.array(alist)\n",
        "a_arr"
      ],
      "execution_count": null,
      "outputs": [
        {
          "output_type": "stream",
          "name": "stdout",
          "text": [
            "[1, 2, 3, 4, 5]\n"
          ]
        },
        {
          "output_type": "execute_result",
          "data": {
            "text/plain": [
              "array([1, 2, 3, 4, 5])"
            ]
          },
          "metadata": {},
          "execution_count": 16
        }
      ]
    },
    {
      "cell_type": "code",
      "metadata": {
        "colab": {
          "base_uri": "https://localhost:8080/"
        },
        "id": "FoZgHjYE-eTS",
        "outputId": "26a493af-b76a-4b25-f154-9956bc4910ab"
      },
      "source": [
        "type(alist)"
      ],
      "execution_count": null,
      "outputs": [
        {
          "output_type": "execute_result",
          "data": {
            "text/plain": [
              "list"
            ]
          },
          "metadata": {},
          "execution_count": 17
        }
      ]
    },
    {
      "cell_type": "code",
      "metadata": {
        "colab": {
          "base_uri": "https://localhost:8080/"
        },
        "id": "Est8rCWu-wC4",
        "outputId": "6d8ee8c5-0bbd-438c-94db-6446dacaecc8"
      },
      "source": [
        "type(a_arr) #ndarray - nth dimentional array"
      ],
      "execution_count": null,
      "outputs": [
        {
          "output_type": "execute_result",
          "data": {
            "text/plain": [
              "numpy.ndarray"
            ]
          },
          "metadata": {},
          "execution_count": 18
        }
      ]
    },
    {
      "cell_type": "code",
      "metadata": {
        "colab": {
          "base_uri": "https://localhost:8080/"
        },
        "id": "kHLaOCJX-xbS",
        "outputId": "155008e1-9e18-4346-9996-bdb4fad213b9"
      },
      "source": [
        "a_arr"
      ],
      "execution_count": null,
      "outputs": [
        {
          "output_type": "execute_result",
          "data": {
            "text/plain": [
              "array([1, 2, 3, 4, 5])"
            ]
          },
          "metadata": {},
          "execution_count": 19
        }
      ]
    },
    {
      "cell_type": "code",
      "metadata": {
        "colab": {
          "base_uri": "https://localhost:8080/"
        },
        "id": "A4nVeoy0_CDT",
        "outputId": "e7d0936e-6e0f-4110-c9c8-92d91d583c88"
      },
      "source": [
        "a_arr * 2 "
      ],
      "execution_count": null,
      "outputs": [
        {
          "output_type": "execute_result",
          "data": {
            "text/plain": [
              "array([ 2,  4,  6,  8, 10])"
            ]
          },
          "metadata": {},
          "execution_count": 20
        }
      ]
    },
    {
      "cell_type": "code",
      "metadata": {
        "colab": {
          "base_uri": "https://localhost:8080/"
        },
        "id": "Zt1h5vjZ_DJn",
        "outputId": "fcc549c3-d1f7-45ef-ea24-343f260acd90"
      },
      "source": [
        "b_arr = np.array([[1,2,3],\n",
        "                  [3,2,1],\n",
        "                  [9,8,7]])\n",
        "b_arr"
      ],
      "execution_count": null,
      "outputs": [
        {
          "output_type": "execute_result",
          "data": {
            "text/plain": [
              "array([[1, 2, 3],\n",
              "       [3, 2, 1],\n",
              "       [9, 8, 7]])"
            ]
          },
          "metadata": {},
          "execution_count": 21
        }
      ]
    },
    {
      "cell_type": "code",
      "metadata": {
        "colab": {
          "base_uri": "https://localhost:8080/"
        },
        "id": "1akECCh2_7Zt",
        "outputId": "7f68ad4d-e11f-441f-e328-729071bdb773"
      },
      "source": [
        "b_arr * 2"
      ],
      "execution_count": null,
      "outputs": [
        {
          "output_type": "execute_result",
          "data": {
            "text/plain": [
              "array([[ 2,  4,  6],\n",
              "       [ 6,  4,  2],\n",
              "       [18, 16, 14]])"
            ]
          },
          "metadata": {},
          "execution_count": 22
        }
      ]
    },
    {
      "cell_type": "code",
      "metadata": {
        "colab": {
          "base_uri": "https://localhost:8080/"
        },
        "id": "RqhR9xRWAIBv",
        "outputId": "8b07be16-7ab8-41ce-bb2a-5fc116d64e60"
      },
      "source": [
        "# How to make an array with ZERO's! \n",
        "\n",
        "# Always pass your shape in a tuple (row, column)\n",
        "np.zeros((3,4)) "
      ],
      "execution_count": null,
      "outputs": [
        {
          "output_type": "execute_result",
          "data": {
            "text/plain": [
              "array([[0., 0., 0., 0.],\n",
              "       [0., 0., 0., 0.],\n",
              "       [0., 0., 0., 0.]])"
            ]
          },
          "metadata": {},
          "execution_count": 24
        }
      ]
    },
    {
      "cell_type": "code",
      "metadata": {
        "colab": {
          "base_uri": "https://localhost:8080/"
        },
        "id": "zx_3AmD1BXie",
        "outputId": "9ced8dee-ddce-464c-e779-bcc22cec2d18"
      },
      "source": [
        "np.zeros((5,3), dtype=int)"
      ],
      "execution_count": null,
      "outputs": [
        {
          "output_type": "execute_result",
          "data": {
            "text/plain": [
              "array([[0, 0, 0],\n",
              "       [0, 0, 0],\n",
              "       [0, 0, 0],\n",
              "       [0, 0, 0],\n",
              "       [0, 0, 0]])"
            ]
          },
          "metadata": {},
          "execution_count": 25
        }
      ]
    },
    {
      "cell_type": "code",
      "metadata": {
        "id": "zO5CdmuiCBuJ"
      },
      "source": [
        "c_arr = np.zeros((5,3), dtype=int)"
      ],
      "execution_count": null,
      "outputs": []
    },
    {
      "cell_type": "code",
      "metadata": {
        "colab": {
          "base_uri": "https://localhost:8080/"
        },
        "id": "55b2w6YUCVzs",
        "outputId": "02fcef8a-f9d6-4d61-9a0b-40bc6c17d8ff"
      },
      "source": [
        "c_arr"
      ],
      "execution_count": null,
      "outputs": [
        {
          "output_type": "execute_result",
          "data": {
            "text/plain": [
              "array([[0, 0, 0],\n",
              "       [0, 0, 0],\n",
              "       [0, 0, 0],\n",
              "       [0, 0, 0],\n",
              "       [0, 0, 0]])"
            ]
          },
          "metadata": {},
          "execution_count": 27
        }
      ]
    },
    {
      "cell_type": "code",
      "metadata": {
        "colab": {
          "base_uri": "https://localhost:8080/"
        },
        "id": "Z2GnfOUnCWkk",
        "outputId": "344cf7d0-49d0-4593-a656-d5f3a858b9ae"
      },
      "source": [
        "np.ones((3,4), dtype=int)"
      ],
      "execution_count": null,
      "outputs": [
        {
          "output_type": "execute_result",
          "data": {
            "text/plain": [
              "array([[1, 1, 1, 1],\n",
              "       [1, 1, 1, 1],\n",
              "       [1, 1, 1, 1]])"
            ]
          },
          "metadata": {},
          "execution_count": 28
        }
      ]
    },
    {
      "cell_type": "code",
      "metadata": {
        "id": "tHaRqFXtCiwM"
      },
      "source": [
        "# Make an array with 3 rows and 5 columns and filled with 7"
      ],
      "execution_count": null,
      "outputs": []
    },
    {
      "cell_type": "code",
      "metadata": {
        "colab": {
          "base_uri": "https://localhost:8080/"
        },
        "id": "yetUMNjOCu3J",
        "outputId": "e3aef572-2539-4322-e138-595df7609a90"
      },
      "source": [
        "# only np.ones and np.zeros \n",
        "np.zeros((3,5)) + 7 "
      ],
      "execution_count": null,
      "outputs": [
        {
          "output_type": "execute_result",
          "data": {
            "text/plain": [
              "array([[7., 7., 7., 7., 7.],\n",
              "       [7., 7., 7., 7., 7.],\n",
              "       [7., 7., 7., 7., 7.]])"
            ]
          },
          "metadata": {},
          "execution_count": 31
        }
      ]
    },
    {
      "cell_type": "code",
      "metadata": {
        "colab": {
          "base_uri": "https://localhost:8080/"
        },
        "id": "9fy3oBdZDWKA",
        "outputId": "ee5359f3-39d0-45aa-927a-e3443f0878de"
      },
      "source": [
        "# generate random numbers from numpy\n",
        "\n",
        "np.random.randint(low=10, high=90, size=(4,5))"
      ],
      "execution_count": null,
      "outputs": [
        {
          "output_type": "execute_result",
          "data": {
            "text/plain": [
              "array([[35, 22, 88, 70, 22],\n",
              "       [25, 75, 25, 15, 65],\n",
              "       [72, 42, 53, 20, 32],\n",
              "       [34, 63, 76, 46, 24]])"
            ]
          },
          "metadata": {},
          "execution_count": 33
        }
      ]
    },
    {
      "cell_type": "code",
      "metadata": {
        "id": "I1MzCvfGEJHl"
      },
      "source": [
        "d_arr = np.random.randint(low=10, high=90, size=(4,5))"
      ],
      "execution_count": null,
      "outputs": []
    },
    {
      "cell_type": "code",
      "metadata": {
        "colab": {
          "base_uri": "https://localhost:8080/"
        },
        "id": "yr58j49zFeYy",
        "outputId": "4c8a3b38-18b5-473f-ff1a-6ac737b2d9d4"
      },
      "source": [
        "d_arr.shape # rows, columns"
      ],
      "execution_count": null,
      "outputs": [
        {
          "output_type": "execute_result",
          "data": {
            "text/plain": [
              "(4, 5)"
            ]
          },
          "metadata": {},
          "execution_count": 39
        }
      ]
    },
    {
      "cell_type": "code",
      "metadata": {
        "colab": {
          "base_uri": "https://localhost:8080/"
        },
        "id": "Ad507oT3InAn",
        "outputId": "be44919b-73e4-4a0f-a291-20fdc09bc223"
      },
      "source": [
        "d_arr.size"
      ],
      "execution_count": null,
      "outputs": [
        {
          "output_type": "execute_result",
          "data": {
            "text/plain": [
              "20"
            ]
          },
          "metadata": {},
          "execution_count": 40
        }
      ]
    },
    {
      "cell_type": "code",
      "metadata": {
        "colab": {
          "base_uri": "https://localhost:8080/"
        },
        "id": "M2jG77FfI_nx",
        "outputId": "534b7953-9a95-4a9a-8acd-7b510305e243"
      },
      "source": [
        "d_arr"
      ],
      "execution_count": null,
      "outputs": [
        {
          "output_type": "execute_result",
          "data": {
            "text/plain": [
              "array([[37, 28, 41, 33, 43],\n",
              "       [63, 70, 25, 66, 49],\n",
              "       [43, 19, 15, 74, 76],\n",
              "       [34, 36, 65, 60, 11]])"
            ]
          },
          "metadata": {},
          "execution_count": 41
        }
      ]
    },
    {
      "cell_type": "code",
      "metadata": {
        "colab": {
          "base_uri": "https://localhost:8080/"
        },
        "id": "NG_ediH9JD7G",
        "outputId": "5aa42554-7823-4d35-e4ea-992277d77cbc"
      },
      "source": [
        "d_arr.max()"
      ],
      "execution_count": null,
      "outputs": [
        {
          "output_type": "execute_result",
          "data": {
            "text/plain": [
              "76"
            ]
          },
          "metadata": {},
          "execution_count": 42
        }
      ]
    },
    {
      "cell_type": "code",
      "metadata": {
        "colab": {
          "base_uri": "https://localhost:8080/"
        },
        "id": "T_tWGz7oJGPr",
        "outputId": "bfcaf06b-12e0-49e6-ba62-ae38354427f3"
      },
      "source": [
        "d_arr.min()"
      ],
      "execution_count": null,
      "outputs": [
        {
          "output_type": "execute_result",
          "data": {
            "text/plain": [
              "11"
            ]
          },
          "metadata": {},
          "execution_count": 43
        }
      ]
    },
    {
      "cell_type": "code",
      "metadata": {
        "colab": {
          "base_uri": "https://localhost:8080/"
        },
        "id": "a9lEP-vXJJa_",
        "outputId": "ee1af290-b79e-4894-d165-3168118a6fd7"
      },
      "source": [
        "d_arr.sum()"
      ],
      "execution_count": null,
      "outputs": [
        {
          "output_type": "execute_result",
          "data": {
            "text/plain": [
              "888"
            ]
          },
          "metadata": {},
          "execution_count": 44
        }
      ]
    },
    {
      "cell_type": "code",
      "metadata": {
        "colab": {
          "base_uri": "https://localhost:8080/"
        },
        "id": "dz9PWeobJKNM",
        "outputId": "b545ba23-bed5-49a6-a929-e341e5be956e"
      },
      "source": [
        "d_arr.mean()"
      ],
      "execution_count": null,
      "outputs": [
        {
          "output_type": "execute_result",
          "data": {
            "text/plain": [
              "44.4"
            ]
          },
          "metadata": {},
          "execution_count": 45
        }
      ]
    },
    {
      "cell_type": "code",
      "metadata": {
        "id": "3V1yd5CcJLsq"
      },
      "source": [
        "# Operations across axis"
      ],
      "execution_count": null,
      "outputs": []
    },
    {
      "cell_type": "code",
      "metadata": {
        "colab": {
          "base_uri": "https://localhost:8080/"
        },
        "id": "MUPZcpvkJwdP",
        "outputId": "015486f4-d3f7-497b-aa6a-fbcbc72ea696"
      },
      "source": [
        "d_arr"
      ],
      "execution_count": null,
      "outputs": [
        {
          "output_type": "execute_result",
          "data": {
            "text/plain": [
              "array([[37, 28, 41, 33, 43],\n",
              "       [63, 70, 25, 66, 49],\n",
              "       [43, 19, 15, 74, 76],\n",
              "       [34, 36, 65, 60, 11]])"
            ]
          },
          "metadata": {},
          "execution_count": 46
        }
      ]
    },
    {
      "cell_type": "code",
      "metadata": {
        "colab": {
          "base_uri": "https://localhost:8080/"
        },
        "id": "mbBStnTvJxRA",
        "outputId": "81ab31b3-34f0-4f34-d98d-a32a4c5e47be"
      },
      "source": [
        "d_arr.max(axis=1) # across each row what is the max number"
      ],
      "execution_count": null,
      "outputs": [
        {
          "output_type": "execute_result",
          "data": {
            "text/plain": [
              "array([43, 70, 76, 65])"
            ]
          },
          "metadata": {},
          "execution_count": 47
        }
      ]
    },
    {
      "cell_type": "code",
      "metadata": {
        "colab": {
          "base_uri": "https://localhost:8080/"
        },
        "id": "x7G0ZeWFJ6c2",
        "outputId": "1a2a0c15-362e-4237-cfcc-c33f6c0df0db"
      },
      "source": [
        "d_arr.max(axis=0) # across each columns what is the max number"
      ],
      "execution_count": null,
      "outputs": [
        {
          "output_type": "execute_result",
          "data": {
            "text/plain": [
              "array([63, 70, 65, 74, 76])"
            ]
          },
          "metadata": {},
          "execution_count": 48
        }
      ]
    },
    {
      "cell_type": "code",
      "metadata": {
        "colab": {
          "base_uri": "https://localhost:8080/"
        },
        "id": "pzjP3isCKBYv",
        "outputId": "2c0f669e-12bd-4268-b2b4-02641842b2cd"
      },
      "source": [
        "d_arr.sum(axis=1)"
      ],
      "execution_count": null,
      "outputs": [
        {
          "output_type": "execute_result",
          "data": {
            "text/plain": [
              "array([182, 273, 227, 206])"
            ]
          },
          "metadata": {},
          "execution_count": 50
        }
      ]
    },
    {
      "cell_type": "code",
      "metadata": {
        "colab": {
          "base_uri": "https://localhost:8080/"
        },
        "id": "YZWSUKLzKL7U",
        "outputId": "b3d54720-00ad-49d8-bef6-f1ae3bbae4e2"
      },
      "source": [
        "d_arr.sum(axis=0)"
      ],
      "execution_count": null,
      "outputs": [
        {
          "output_type": "execute_result",
          "data": {
            "text/plain": [
              "array([177, 153, 146, 233, 179])"
            ]
          },
          "metadata": {},
          "execution_count": 51
        }
      ]
    },
    {
      "cell_type": "code",
      "metadata": {
        "colab": {
          "base_uri": "https://localhost:8080/"
        },
        "id": "_FIfXuGUKR6G",
        "outputId": "b20a3406-43df-409a-840b-47fff259860b"
      },
      "source": [
        "d_arr"
      ],
      "execution_count": null,
      "outputs": [
        {
          "output_type": "execute_result",
          "data": {
            "text/plain": [
              "array([[37, 28, 41, 33, 43],\n",
              "       [63, 70, 25, 66, 49],\n",
              "       [43, 19, 15, 74, 76],\n",
              "       [34, 36, 65, 60, 11]])"
            ]
          },
          "metadata": {},
          "execution_count": 52
        }
      ]
    },
    {
      "cell_type": "code",
      "metadata": {
        "colab": {
          "base_uri": "https://localhost:8080/"
        },
        "id": "XB162XKdKbVm",
        "outputId": "beaaa975-e58e-4c76-ac15-f7eeab9d89e2"
      },
      "source": [
        "d_arr.sum(axis=1)"
      ],
      "execution_count": null,
      "outputs": [
        {
          "output_type": "execute_result",
          "data": {
            "text/plain": [
              "array([182, 273, 227, 206])"
            ]
          },
          "metadata": {},
          "execution_count": 53
        }
      ]
    },
    {
      "cell_type": "code",
      "metadata": {
        "colab": {
          "base_uri": "https://localhost:8080/"
        },
        "id": "LjVCdDNrKhro",
        "outputId": "f5e4c6da-e229-4569-eb60-54be932f0511"
      },
      "source": [
        "d_arr.sum(axis=1)[2]"
      ],
      "execution_count": null,
      "outputs": [
        {
          "output_type": "execute_result",
          "data": {
            "text/plain": [
              "227"
            ]
          },
          "metadata": {},
          "execution_count": 54
        }
      ]
    },
    {
      "cell_type": "code",
      "metadata": {
        "id": "x2vWgRa5KtIT"
      },
      "source": [
        "# Indexing & Slicing"
      ],
      "execution_count": null,
      "outputs": []
    },
    {
      "cell_type": "code",
      "metadata": {
        "id": "Jfqhqe9YLIoP"
      },
      "source": [
        "# Indexing"
      ],
      "execution_count": null,
      "outputs": []
    },
    {
      "cell_type": "code",
      "metadata": {
        "id": "JZ_U_L9yLaOU"
      },
      "source": [
        "# 2 Golden Rule of Python \n",
        "# 1. When ever you are indexing in python, start from ZERO\n",
        "# 2. When ever you are calculating a range, the last limit is exclusive\n",
        "# range(4, 9) => 4,5,6,7,8 (not 9)"
      ],
      "execution_count": null,
      "outputs": []
    },
    {
      "cell_type": "code",
      "metadata": {
        "colab": {
          "base_uri": "https://localhost:8080/"
        },
        "id": "FtPR-OANL6BI",
        "outputId": "9fff49fd-2276-4c23-bb51-de1ec001b757"
      },
      "source": [
        "list(range(4,9))"
      ],
      "execution_count": null,
      "outputs": [
        {
          "output_type": "execute_result",
          "data": {
            "text/plain": [
              "[4, 5, 6, 7, 8]"
            ]
          },
          "metadata": {},
          "execution_count": 57
        }
      ]
    },
    {
      "cell_type": "code",
      "metadata": {
        "colab": {
          "base_uri": "https://localhost:8080/"
        },
        "id": "sTC-w2c7LM2k",
        "outputId": "ad7171fa-59d7-4f23-af3d-a03baf61c2ce"
      },
      "source": [
        "# Syntax -> arr_name[row_number, col_number]\n",
        "d_arr"
      ],
      "execution_count": null,
      "outputs": [
        {
          "output_type": "execute_result",
          "data": {
            "text/plain": [
              "array([[37, 28, 41, 33, 43],\n",
              "       [63, 70, 25, 66, 49],\n",
              "       [43, 19, 15, 74, 76],\n",
              "       [34, 36, 65, 60, 11]])"
            ]
          },
          "metadata": {},
          "execution_count": 59
        }
      ]
    },
    {
      "cell_type": "code",
      "metadata": {
        "colab": {
          "base_uri": "https://localhost:8080/"
        },
        "id": "fcJchhcjMP3y",
        "outputId": "d1970d58-1eca-408e-b570-03ff21240399"
      },
      "source": [
        "d_arr[1,2]"
      ],
      "execution_count": null,
      "outputs": [
        {
          "output_type": "execute_result",
          "data": {
            "text/plain": [
              "25"
            ]
          },
          "metadata": {},
          "execution_count": 60
        }
      ]
    },
    {
      "cell_type": "code",
      "metadata": {
        "colab": {
          "base_uri": "https://localhost:8080/"
        },
        "id": "w1grLCghMq4Q",
        "outputId": "d2bafcf6-fca1-4c64-a12b-8932d1ccdffd"
      },
      "source": [
        "d_arr[2,4]"
      ],
      "execution_count": null,
      "outputs": [
        {
          "output_type": "execute_result",
          "data": {
            "text/plain": [
              "76"
            ]
          },
          "metadata": {},
          "execution_count": 61
        }
      ]
    },
    {
      "cell_type": "code",
      "metadata": {
        "colab": {
          "base_uri": "https://localhost:8080/"
        },
        "id": "Apgx7J1rM3-M",
        "outputId": "5cf1e8dc-d493-46a9-8c95-e17c6800c16f"
      },
      "source": [
        "# Slicing \n",
        "# Syntax => arr_name[row_start_num:row_end_num, col_start_num:col_end_num]\n",
        "d_arr[1:3, 1:3]"
      ],
      "execution_count": null,
      "outputs": [
        {
          "output_type": "execute_result",
          "data": {
            "text/plain": [
              "array([[70, 25],\n",
              "       [19, 15]])"
            ]
          },
          "metadata": {},
          "execution_count": 62
        }
      ]
    },
    {
      "cell_type": "code",
      "metadata": {
        "colab": {
          "base_uri": "https://localhost:8080/"
        },
        "id": "YSNPWHY6N1R1",
        "outputId": "da47e741-4e6d-43a3-ae2b-236051361ff1"
      },
      "source": [
        "d_arr"
      ],
      "execution_count": null,
      "outputs": [
        {
          "output_type": "execute_result",
          "data": {
            "text/plain": [
              "array([[37, 28, 41, 33, 43],\n",
              "       [63, 70, 25, 66, 49],\n",
              "       [43, 19, 15, 74, 76],\n",
              "       [34, 36, 65, 60, 11]])"
            ]
          },
          "metadata": {},
          "execution_count": 63
        }
      ]
    },
    {
      "cell_type": "code",
      "metadata": {
        "colab": {
          "base_uri": "https://localhost:8080/"
        },
        "id": "UIBCg7xxN5kG",
        "outputId": "fbc112f8-c149-46dc-f008-bdaa2298ca40"
      },
      "source": [
        "d_arr[2:4, 2:5]"
      ],
      "execution_count": null,
      "outputs": [
        {
          "output_type": "execute_result",
          "data": {
            "text/plain": [
              "array([[15, 74, 76],\n",
              "       [65, 60, 11]])"
            ]
          },
          "metadata": {},
          "execution_count": 68
        }
      ]
    },
    {
      "cell_type": "code",
      "metadata": {
        "colab": {
          "base_uri": "https://localhost:8080/"
        },
        "id": "zhdJX4v9OU3o",
        "outputId": "ffbdaf27-5d27-4a1b-ef6f-5e71301fd4c0"
      },
      "source": [
        "d_arr[2:, 2:] # if you do not specify the end, numpy take the range to complete end"
      ],
      "execution_count": null,
      "outputs": [
        {
          "output_type": "execute_result",
          "data": {
            "text/plain": [
              "array([[15, 74, 76],\n",
              "       [65, 60, 11]])"
            ]
          },
          "metadata": {},
          "execution_count": 66
        }
      ]
    },
    {
      "cell_type": "code",
      "metadata": {
        "colab": {
          "base_uri": "https://localhost:8080/"
        },
        "id": "9U5RSQ0LOYRo",
        "outputId": "f5ad286e-2af0-4924-db24-a7301b67307f"
      },
      "source": [
        "d_arr[:3, :3]"
      ],
      "execution_count": null,
      "outputs": [
        {
          "output_type": "execute_result",
          "data": {
            "text/plain": [
              "array([[37, 28, 41],\n",
              "       [63, 70, 25],\n",
              "       [43, 19, 15]])"
            ]
          },
          "metadata": {},
          "execution_count": 69
        }
      ]
    },
    {
      "cell_type": "code",
      "metadata": {
        "id": "s6pka1GjPIO_"
      },
      "source": [
        "# Neg Indexing \n",
        "\n",
        "# Positive Indexing\n",
        "#.  0   1   2   3   4   5\n",
        "# [29, 45, 36, 47, 63, 71]\n",
        "# -6   -5  -4  -3  -2  -1\n",
        "# Negative Indexing"
      ],
      "execution_count": null,
      "outputs": []
    },
    {
      "cell_type": "code",
      "metadata": {
        "colab": {
          "base_uri": "https://localhost:8080/"
        },
        "id": "6BRsz7PjPqcV",
        "outputId": "d02ccdbc-5e0e-4753-fcb9-e576093dc058"
      },
      "source": [
        "e_arr = np.random.randint(10, 90, (20))\n",
        "e_arr"
      ],
      "execution_count": null,
      "outputs": [
        {
          "output_type": "execute_result",
          "data": {
            "text/plain": [
              "array([41, 48, 39, 22, 27, 46, 72, 61, 36, 25, 46, 13, 56, 86, 28, 50, 49,\n",
              "       15, 15, 11])"
            ]
          },
          "metadata": {},
          "execution_count": 84
        }
      ]
    },
    {
      "cell_type": "code",
      "metadata": {
        "colab": {
          "base_uri": "https://localhost:8080/"
        },
        "id": "eu5FA-C5P4IR",
        "outputId": "3a60b9de-3d22-4ced-8cef-05a7099dca90"
      },
      "source": [
        "e_arr[8]"
      ],
      "execution_count": null,
      "outputs": [
        {
          "output_type": "execute_result",
          "data": {
            "text/plain": [
              "87"
            ]
          },
          "metadata": {},
          "execution_count": 75
        }
      ]
    },
    {
      "cell_type": "code",
      "metadata": {
        "colab": {
          "base_uri": "https://localhost:8080/"
        },
        "id": "zl6LeNRaQFg9",
        "outputId": "750a0791-7a38-453a-bdbb-88a8dd08bbd4"
      },
      "source": [
        "e_arr[-2]"
      ],
      "execution_count": null,
      "outputs": [
        {
          "output_type": "execute_result",
          "data": {
            "text/plain": [
              "87"
            ]
          },
          "metadata": {},
          "execution_count": 76
        }
      ]
    },
    {
      "cell_type": "code",
      "metadata": {
        "colab": {
          "base_uri": "https://localhost:8080/"
        },
        "id": "TSecOzJ_QIwV",
        "outputId": "7b475dcf-9bdd-47e4-da90-e826671c544f"
      },
      "source": [
        "e_arr[-4]"
      ],
      "execution_count": null,
      "outputs": [
        {
          "output_type": "execute_result",
          "data": {
            "text/plain": [
              "76"
            ]
          },
          "metadata": {},
          "execution_count": 77
        }
      ]
    },
    {
      "cell_type": "code",
      "metadata": {
        "id": "pJmoYOeLQL62"
      },
      "source": [
        "# Stepping in Array"
      ],
      "execution_count": null,
      "outputs": []
    },
    {
      "cell_type": "code",
      "metadata": {
        "colab": {
          "base_uri": "https://localhost:8080/"
        },
        "id": "7yxaF7y9QVCv",
        "outputId": "3e8c8e9f-de27-48a0-ffb0-77ceb93f1fd6"
      },
      "source": [
        "e_arr"
      ],
      "execution_count": null,
      "outputs": [
        {
          "output_type": "execute_result",
          "data": {
            "text/plain": [
              "array([41, 48, 39, 22, 27, 46, 72, 61, 36, 25, 46, 13, 56, 86, 28, 50, 49,\n",
              "       15, 15, 11])"
            ]
          },
          "metadata": {},
          "execution_count": 85
        }
      ]
    },
    {
      "cell_type": "code",
      "metadata": {
        "colab": {
          "base_uri": "https://localhost:8080/"
        },
        "id": "K3FCRUkQQXxL",
        "outputId": "1392bb09-4ec7-4297-9a10-028297c4b2ec"
      },
      "source": [
        "e_arr[3:6]"
      ],
      "execution_count": null,
      "outputs": [
        {
          "output_type": "execute_result",
          "data": {
            "text/plain": [
              "array([22, 27, 46])"
            ]
          },
          "metadata": {},
          "execution_count": 86
        }
      ]
    },
    {
      "cell_type": "code",
      "metadata": {
        "colab": {
          "base_uri": "https://localhost:8080/"
        },
        "id": "EMdiO4iTQdzN",
        "outputId": "0a35d52b-58d2-4771-f64b-aa53e477502f"
      },
      "source": [
        "# start: stop: step \n",
        "e_arr[3:6:1]"
      ],
      "execution_count": null,
      "outputs": [
        {
          "output_type": "execute_result",
          "data": {
            "text/plain": [
              "array([22, 27, 46])"
            ]
          },
          "metadata": {},
          "execution_count": 87
        }
      ]
    },
    {
      "cell_type": "code",
      "metadata": {
        "colab": {
          "base_uri": "https://localhost:8080/"
        },
        "id": "d_DWXVoRQup9",
        "outputId": "815bafe9-3100-4ed6-dabd-33fce3474b27"
      },
      "source": [
        "e_arr[3:6:2]"
      ],
      "execution_count": null,
      "outputs": [
        {
          "output_type": "execute_result",
          "data": {
            "text/plain": [
              "array([22, 46])"
            ]
          },
          "metadata": {},
          "execution_count": 88
        }
      ]
    },
    {
      "cell_type": "code",
      "metadata": {
        "id": "NTF_a_AQQ7np"
      },
      "source": [
        "# start:stop: step \n",
        "# start \n",
        "# start + step \n",
        "# strat + step + step \n",
        "# start + step + step ... \n",
        "\n",
        "# continue with this untill you reach stop! "
      ],
      "execution_count": null,
      "outputs": []
    },
    {
      "cell_type": "code",
      "metadata": {
        "colab": {
          "base_uri": "https://localhost:8080/"
        },
        "id": "2LoSsAlCRK92",
        "outputId": "4f8accad-2953-4ee7-ea17-63d34d64bd01"
      },
      "source": [
        "e_arr"
      ],
      "execution_count": null,
      "outputs": [
        {
          "output_type": "execute_result",
          "data": {
            "text/plain": [
              "array([41, 48, 39, 22, 27, 46, 72, 61, 36, 25, 46, 13, 56, 86, 28, 50, 49,\n",
              "       15, 15, 11])"
            ]
          },
          "metadata": {},
          "execution_count": 89
        }
      ]
    },
    {
      "cell_type": "code",
      "metadata": {
        "colab": {
          "base_uri": "https://localhost:8080/"
        },
        "id": "Jnahj04kRQ_m",
        "outputId": "fcf26223-78ef-49bd-c1ad-b08758c310a6"
      },
      "source": [
        "e_arr[:6:3]\n",
        "# 0, 3"
      ],
      "execution_count": null,
      "outputs": [
        {
          "output_type": "execute_result",
          "data": {
            "text/plain": [
              "array([41, 22])"
            ]
          },
          "metadata": {},
          "execution_count": 90
        }
      ]
    },
    {
      "cell_type": "code",
      "metadata": {
        "colab": {
          "base_uri": "https://localhost:8080/"
        },
        "id": "i-3rf2gqRklP",
        "outputId": "2dff8057-49d5-4c6a-bbff-086ee23a8610"
      },
      "source": [
        "e_arr[2:7:4]\n",
        "# 2, 6"
      ],
      "execution_count": null,
      "outputs": [
        {
          "output_type": "execute_result",
          "data": {
            "text/plain": [
              "array([39, 72])"
            ]
          },
          "metadata": {},
          "execution_count": 91
        }
      ]
    },
    {
      "cell_type": "code",
      "metadata": {
        "colab": {
          "base_uri": "https://localhost:8080/"
        },
        "id": "uI5cqaFyR1DN",
        "outputId": "3e915eee-2f20-47c2-db88-c6bbe9adacd2"
      },
      "source": [
        "e_arr[2:5:7]"
      ],
      "execution_count": null,
      "outputs": [
        {
          "output_type": "execute_result",
          "data": {
            "text/plain": [
              "array([39])"
            ]
          },
          "metadata": {},
          "execution_count": 92
        }
      ]
    },
    {
      "cell_type": "code",
      "metadata": {
        "colab": {
          "base_uri": "https://localhost:8080/"
        },
        "id": "PFKrgpYFSEZj",
        "outputId": "aecfa0d3-6e87-48e6-a914-6f330e58a0ca"
      },
      "source": [
        "e_arr"
      ],
      "execution_count": null,
      "outputs": [
        {
          "output_type": "execute_result",
          "data": {
            "text/plain": [
              "array([41, 48, 39, 22, 27, 46, 72, 61, 36, 25, 46, 13, 56, 86, 28, 50, 49,\n",
              "       15, 15, 11])"
            ]
          },
          "metadata": {},
          "execution_count": 93
        }
      ]
    },
    {
      "cell_type": "code",
      "metadata": {
        "colab": {
          "base_uri": "https://localhost:8080/"
        },
        "id": "iMjDsltoSK-o",
        "outputId": "26a0c8c1-acca-4f69-8d3b-bef2ba1d3cd7"
      },
      "source": [
        "e_arr[-5:-2:1]\n",
        "# -5, -4, -3"
      ],
      "execution_count": null,
      "outputs": [
        {
          "output_type": "execute_result",
          "data": {
            "text/plain": [
              "array([50, 49, 15])"
            ]
          },
          "metadata": {},
          "execution_count": 94
        }
      ]
    },
    {
      "cell_type": "code",
      "metadata": {
        "colab": {
          "base_uri": "https://localhost:8080/"
        },
        "id": "59vfyikGSp9d",
        "outputId": "0a65b181-f67b-47bd-eb81-3dd5bf27a20c"
      },
      "source": [
        "e_arr[-3:-6:-1]\n",
        "# -3, -4, -5"
      ],
      "execution_count": null,
      "outputs": [
        {
          "output_type": "execute_result",
          "data": {
            "text/plain": [
              "array([15, 49, 50])"
            ]
          },
          "metadata": {},
          "execution_count": 95
        }
      ]
    },
    {
      "cell_type": "code",
      "metadata": {
        "colab": {
          "base_uri": "https://localhost:8080/"
        },
        "id": "rIsApyhrTDUe",
        "outputId": "649f8bcf-05fe-4b9b-d664-9ffec82a120d"
      },
      "source": [
        "e_arr[5:2:-1]"
      ],
      "execution_count": null,
      "outputs": [
        {
          "output_type": "execute_result",
          "data": {
            "text/plain": [
              "array([46, 27, 22])"
            ]
          },
          "metadata": {},
          "execution_count": 96
        }
      ]
    },
    {
      "cell_type": "code",
      "metadata": {
        "id": "nQbQGCBoTPMM"
      },
      "source": [
        "# add something "
      ],
      "execution_count": null,
      "outputs": []
    }
  ]
}