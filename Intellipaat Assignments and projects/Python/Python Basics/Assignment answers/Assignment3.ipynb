{
  "nbformat": 4,
  "nbformat_minor": 0,
  "metadata": {
    "colab": {
      "name": "Untitled0.ipynb",
      "provenance": []
    },
    "kernelspec": {
      "name": "python3",
      "display_name": "Python 3"
    },
    "language_info": {
      "name": "python"
    }
  },
  "cells": [
    {
      "cell_type": "markdown",
      "metadata": {
        "id": "eG2QkvV2pWLz"
      },
      "source": [
        "Create an array that is having user defined inputs and with the help of for loop, fetch all the prime \n",
        "numbers and print the numbers."
      ]
    },
    {
      "cell_type": "code",
      "metadata": {
        "colab": {
          "base_uri": "https://localhost:8080/"
        },
        "id": "yOMTp_zkpdYB",
        "outputId": "830b9db6-04f4-4fa1-d152-6e1347e72a70"
      },
      "source": [
        "input_num=input(\"Please enter numbers with comma: \")\n",
        "\n",
        "num = input_num.split(\",\")\n",
        "print(num)\n",
        "\n",
        "for i in range(0,len(num)):\n",
        "  num1=int(num[i])\n",
        "  if num1>1:\n",
        "    for j in range(2,num1):\n",
        "      if (num1%j==0):\n",
        "        print(num1,\" is not a prime number\")\n",
        "        break\n",
        "      else:\n",
        "          print(num1,\" is a prime number\")\n",
        "          break\n"
      ],
      "execution_count": 1,
      "outputs": [
        {
          "output_type": "stream",
          "name": "stdout",
          "text": [
            "Please enter numbers with comma: 12,13,14\n",
            "['12', '13', '14']\n",
            "12  is not a prime number\n",
            "13  is a prime number\n",
            "14  is not a prime number\n"
          ]
        }
      ]
    }
  ]
}