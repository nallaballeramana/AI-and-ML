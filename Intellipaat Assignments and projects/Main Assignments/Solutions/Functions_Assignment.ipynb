{
  "nbformat": 4,
  "nbformat_minor": 0,
  "metadata": {
    "colab": {
      "name": "Functions Assignment.ipynb",
      "provenance": []
    },
    "kernelspec": {
      "name": "python3",
      "display_name": "Python 3"
    },
    "language_info": {
      "name": "python"
    }
  },
  "cells": [
    {
      "cell_type": "markdown",
      "source": [
        "1.\tWrite a function which finds all Pythagorean triplets of triangles whose sides are no greater than a natural number N."
      ],
      "metadata": {
        "id": "oDTzOR8DtT7N"
      }
    },
    {
      "cell_type": "code",
      "source": [
        "num = int(input(\"Please enter a natural number:\"))\n",
        "\n",
        "#Here I am considering a,b,c such that a<b<c\n",
        "\n",
        "def PyTriplets(n):\n",
        "  if n>0:\n",
        "    for a in range(1,n-1):\n",
        "      for b in range(a+1,n):\n",
        "        for c in range(b+1,n+1):\n",
        "          if a*a + b*b == c*c:\n",
        "            print(a,b,c)\n",
        "  else:\n",
        "    print(\"Number entered is not a Natural number\")\n",
        "\n",
        "\n",
        "PyTriplets(num)\n"
      ],
      "metadata": {
        "colab": {
          "base_uri": "https://localhost:8080/"
        },
        "id": "KYvI3qAqtYP4",
        "outputId": "48690a04-145c-4f2e-bbce-32576654056d"
      },
      "execution_count": 16,
      "outputs": [
        {
          "output_type": "stream",
          "name": "stdout",
          "text": [
            "Please enter a natural number:50\n",
            "3 4 5\n",
            "5 12 13\n",
            "6 8 10\n",
            "7 24 25\n",
            "8 15 17\n",
            "9 12 15\n",
            "9 40 41\n",
            "10 24 26\n",
            "12 16 20\n",
            "12 35 37\n",
            "14 48 50\n",
            "15 20 25\n",
            "15 36 39\n",
            "16 30 34\n",
            "18 24 30\n",
            "20 21 29\n",
            "21 28 35\n",
            "24 32 40\n",
            "27 36 45\n",
            "30 40 50\n"
          ]
        }
      ]
    },
    {
      "cell_type": "markdown",
      "source": [
        "2.\tGiven a list of integers, write a function that finds the smallest and the largest value of this list. Given a list of numbers, write a function which finds their standard deviation."
      ],
      "metadata": {
        "id": "wMIwjHrZx3Ij"
      }
    },
    {
      "cell_type": "code",
      "source": [
        "#Here I am using user input to test the function to find minimum and maximum. \n",
        "#If you want to test with other input you can remove user input and pass  input to function to test the function.\n",
        "\n",
        "L = input(\"Please enter numbers seperated by comma:\")\n",
        "num = list(map(int,L.split(\",\")))\n",
        "print(num)\n",
        "\n",
        "def minmax(num):\n",
        "  min = num[0]\n",
        "  max = num[0]\n",
        "\n",
        "  for i in range(0,len(num)):\n",
        "    if num[i]<min:\n",
        "      min = num[i]\n",
        "    elif num[i]>max:\n",
        "      max = num[i]\n",
        "  print(\"Minimum is:\",min)\n",
        "  print(\"Maximum is:\",max)\n",
        "\n",
        "# function for standard deviation\n",
        "\n",
        "def StndDev(num):\n",
        "  # finding sum of numbers\n",
        "  sum = 0\n",
        "  for i in range(0,len(num)):\n",
        "    sum = sum+num[i]\n",
        "  \n",
        "  # mean of numbers\n",
        "  mean = sum/len(num)\n",
        "\n",
        "  # finding variance\n",
        "  var = []\n",
        "  for j in range(0,len(num)):\n",
        "    v = (num[j]-mean)**2\n",
        "    var.append(v)\n",
        "  varsum = 0\n",
        "  for k in range(0,len(var)):\n",
        "    varsum = varsum+var[k]\n",
        "   \n",
        "  #variance\n",
        "  variance = varsum/len(var)\n",
        "  \n",
        "  # standard deviation \n",
        "  dev = variance**0.5\n",
        "\n",
        "  print(\"standard deviation is:\",dev)\n",
        "\n",
        "\n",
        "minmax(num)\n",
        "StndDev(num)\n"
      ],
      "metadata": {
        "colab": {
          "base_uri": "https://localhost:8080/"
        },
        "id": "DFcO155NvXi8",
        "outputId": "5062c19e-6748-4d6a-b2ed-ccaf13c6ef19"
      },
      "execution_count": 41,
      "outputs": [
        {
          "output_type": "stream",
          "name": "stdout",
          "text": [
            "Please enter numbers seperated by comma:-10,60,-90,68,78,36\n",
            "[-10, 60, -90, 68, 78, 36]\n",
            "Minimum is: -90\n",
            "Maximum is: 78\n",
            "standard deviation is: 58.371416140284126\n"
          ]
        }
      ]
    }
  ]
}