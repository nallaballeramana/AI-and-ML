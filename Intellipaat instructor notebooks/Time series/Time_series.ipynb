{
  "nbformat": 4,
  "nbformat_minor": 0,
  "metadata": {
    "colab": {
      "provenance": []
    },
    "kernelspec": {
      "name": "python3",
      "display_name": "Python 3"
    },
    "language_info": {
      "name": "python"
    }
  },
  "cells": [
    {
      "cell_type": "code",
      "execution_count": null,
      "metadata": {
        "id": "MUYZeYTwwCpg"
      },
      "outputs": [],
      "source": [
        "import pandas as pd\n",
        "import numpy as np"
      ]
    },
    {
      "cell_type": "code",
      "source": [
        "df = pd.read_csv('MaunaLoaDailyTemps.csv',index_col = 'DATE', parse_dates = True)"
      ],
      "metadata": {
        "id": "URgDpf685W7P"
      },
      "execution_count": null,
      "outputs": []
    },
    {
      "cell_type": "code",
      "source": [
        "df.head()"
      ],
      "metadata": {
        "colab": {
          "base_uri": "https://localhost:8080/",
          "height": 238
        },
        "id": "WHiixOgm5fFU",
        "outputId": "45737518-51b7-4e6f-ece3-4bb13f0cb5d1"
      },
      "execution_count": null,
      "outputs": [
        {
          "output_type": "execute_result",
          "data": {
            "text/plain": [
              "            MinTemp  MaxTemp  AvgTemp  Sunrise  Sunset\n",
              "DATE                                                  \n",
              "2014-01-01     33.0     46.0     40.0      657    1756\n",
              "2014-01-02     35.0     50.0     43.0      657    1756\n",
              "2014-01-03     36.0     45.0     41.0      657    1757\n",
              "2014-01-04     32.0     41.0     37.0      658    1757\n",
              "2014-01-05     24.0     38.0     31.0      658    1758"
            ],
            "text/html": [
              "\n",
              "  <div id=\"df-3e0b83d4-335f-4b14-ad10-1a7032452236\">\n",
              "    <div class=\"colab-df-container\">\n",
              "      <div>\n",
              "<style scoped>\n",
              "    .dataframe tbody tr th:only-of-type {\n",
              "        vertical-align: middle;\n",
              "    }\n",
              "\n",
              "    .dataframe tbody tr th {\n",
              "        vertical-align: top;\n",
              "    }\n",
              "\n",
              "    .dataframe thead th {\n",
              "        text-align: right;\n",
              "    }\n",
              "</style>\n",
              "<table border=\"1\" class=\"dataframe\">\n",
              "  <thead>\n",
              "    <tr style=\"text-align: right;\">\n",
              "      <th></th>\n",
              "      <th>MinTemp</th>\n",
              "      <th>MaxTemp</th>\n",
              "      <th>AvgTemp</th>\n",
              "      <th>Sunrise</th>\n",
              "      <th>Sunset</th>\n",
              "    </tr>\n",
              "    <tr>\n",
              "      <th>DATE</th>\n",
              "      <th></th>\n",
              "      <th></th>\n",
              "      <th></th>\n",
              "      <th></th>\n",
              "      <th></th>\n",
              "    </tr>\n",
              "  </thead>\n",
              "  <tbody>\n",
              "    <tr>\n",
              "      <th>2014-01-01</th>\n",
              "      <td>33.0</td>\n",
              "      <td>46.0</td>\n",
              "      <td>40.0</td>\n",
              "      <td>657</td>\n",
              "      <td>1756</td>\n",
              "    </tr>\n",
              "    <tr>\n",
              "      <th>2014-01-02</th>\n",
              "      <td>35.0</td>\n",
              "      <td>50.0</td>\n",
              "      <td>43.0</td>\n",
              "      <td>657</td>\n",
              "      <td>1756</td>\n",
              "    </tr>\n",
              "    <tr>\n",
              "      <th>2014-01-03</th>\n",
              "      <td>36.0</td>\n",
              "      <td>45.0</td>\n",
              "      <td>41.0</td>\n",
              "      <td>657</td>\n",
              "      <td>1757</td>\n",
              "    </tr>\n",
              "    <tr>\n",
              "      <th>2014-01-04</th>\n",
              "      <td>32.0</td>\n",
              "      <td>41.0</td>\n",
              "      <td>37.0</td>\n",
              "      <td>658</td>\n",
              "      <td>1757</td>\n",
              "    </tr>\n",
              "    <tr>\n",
              "      <th>2014-01-05</th>\n",
              "      <td>24.0</td>\n",
              "      <td>38.0</td>\n",
              "      <td>31.0</td>\n",
              "      <td>658</td>\n",
              "      <td>1758</td>\n",
              "    </tr>\n",
              "  </tbody>\n",
              "</table>\n",
              "</div>\n",
              "      <button class=\"colab-df-convert\" onclick=\"convertToInteractive('df-3e0b83d4-335f-4b14-ad10-1a7032452236')\"\n",
              "              title=\"Convert this dataframe to an interactive table.\"\n",
              "              style=\"display:none;\">\n",
              "        \n",
              "  <svg xmlns=\"http://www.w3.org/2000/svg\" height=\"24px\"viewBox=\"0 0 24 24\"\n",
              "       width=\"24px\">\n",
              "    <path d=\"M0 0h24v24H0V0z\" fill=\"none\"/>\n",
              "    <path d=\"M18.56 5.44l.94 2.06.94-2.06 2.06-.94-2.06-.94-.94-2.06-.94 2.06-2.06.94zm-11 1L8.5 8.5l.94-2.06 2.06-.94-2.06-.94L8.5 2.5l-.94 2.06-2.06.94zm10 10l.94 2.06.94-2.06 2.06-.94-2.06-.94-.94-2.06-.94 2.06-2.06.94z\"/><path d=\"M17.41 7.96l-1.37-1.37c-.4-.4-.92-.59-1.43-.59-.52 0-1.04.2-1.43.59L10.3 9.45l-7.72 7.72c-.78.78-.78 2.05 0 2.83L4 21.41c.39.39.9.59 1.41.59.51 0 1.02-.2 1.41-.59l7.78-7.78 2.81-2.81c.8-.78.8-2.07 0-2.86zM5.41 20L4 18.59l7.72-7.72 1.47 1.35L5.41 20z\"/>\n",
              "  </svg>\n",
              "      </button>\n",
              "      \n",
              "  <style>\n",
              "    .colab-df-container {\n",
              "      display:flex;\n",
              "      flex-wrap:wrap;\n",
              "      gap: 12px;\n",
              "    }\n",
              "\n",
              "    .colab-df-convert {\n",
              "      background-color: #E8F0FE;\n",
              "      border: none;\n",
              "      border-radius: 50%;\n",
              "      cursor: pointer;\n",
              "      display: none;\n",
              "      fill: #1967D2;\n",
              "      height: 32px;\n",
              "      padding: 0 0 0 0;\n",
              "      width: 32px;\n",
              "    }\n",
              "\n",
              "    .colab-df-convert:hover {\n",
              "      background-color: #E2EBFA;\n",
              "      box-shadow: 0px 1px 2px rgba(60, 64, 67, 0.3), 0px 1px 3px 1px rgba(60, 64, 67, 0.15);\n",
              "      fill: #174EA6;\n",
              "    }\n",
              "\n",
              "    [theme=dark] .colab-df-convert {\n",
              "      background-color: #3B4455;\n",
              "      fill: #D2E3FC;\n",
              "    }\n",
              "\n",
              "    [theme=dark] .colab-df-convert:hover {\n",
              "      background-color: #434B5C;\n",
              "      box-shadow: 0px 1px 3px 1px rgba(0, 0, 0, 0.15);\n",
              "      filter: drop-shadow(0px 1px 2px rgba(0, 0, 0, 0.3));\n",
              "      fill: #FFFFFF;\n",
              "    }\n",
              "  </style>\n",
              "\n",
              "      <script>\n",
              "        const buttonEl =\n",
              "          document.querySelector('#df-3e0b83d4-335f-4b14-ad10-1a7032452236 button.colab-df-convert');\n",
              "        buttonEl.style.display =\n",
              "          google.colab.kernel.accessAllowed ? 'block' : 'none';\n",
              "\n",
              "        async function convertToInteractive(key) {\n",
              "          const element = document.querySelector('#df-3e0b83d4-335f-4b14-ad10-1a7032452236');\n",
              "          const dataTable =\n",
              "            await google.colab.kernel.invokeFunction('convertToInteractive',\n",
              "                                                     [key], {});\n",
              "          if (!dataTable) return;\n",
              "\n",
              "          const docLinkHtml = 'Like what you see? Visit the ' +\n",
              "            '<a target=\"_blank\" href=https://colab.research.google.com/notebooks/data_table.ipynb>data table notebook</a>'\n",
              "            + ' to learn more about interactive tables.';\n",
              "          element.innerHTML = '';\n",
              "          dataTable['output_type'] = 'display_data';\n",
              "          await google.colab.output.renderOutput(dataTable, element);\n",
              "          const docLink = document.createElement('div');\n",
              "          docLink.innerHTML = docLinkHtml;\n",
              "          element.appendChild(docLink);\n",
              "        }\n",
              "      </script>\n",
              "    </div>\n",
              "  </div>\n",
              "  "
            ]
          },
          "metadata": {},
          "execution_count": 8
        }
      ]
    },
    {
      "cell_type": "code",
      "source": [
        "df.shape"
      ],
      "metadata": {
        "colab": {
          "base_uri": "https://localhost:8080/"
        },
        "id": "xxF8oxu05gac",
        "outputId": "68a5f17c-e669-453f-a32b-19c99fc3ad3c"
      },
      "execution_count": null,
      "outputs": [
        {
          "output_type": "execute_result",
          "data": {
            "text/plain": [
              "(1825, 5)"
            ]
          },
          "metadata": {},
          "execution_count": 9
        }
      ]
    },
    {
      "cell_type": "code",
      "source": [
        "df.describe()"
      ],
      "metadata": {
        "colab": {
          "base_uri": "https://localhost:8080/",
          "height": 300
        },
        "id": "VIiM8q8q5yhV",
        "outputId": "5029698a-d20e-4618-9b57-41bb593cdfce"
      },
      "execution_count": null,
      "outputs": [
        {
          "output_type": "execute_result",
          "data": {
            "text/plain": [
              "           MinTemp      MaxTemp      AvgTemp      Sunrise       Sunset\n",
              "count  1821.000000  1821.000000  1821.000000  1825.000000  1825.000000\n",
              "mean     38.637013    54.515102    46.818781   607.074521  1823.002740\n",
              "std       3.798284     5.013654     4.143192    40.797585    49.555065\n",
              "min      22.000000    36.000000    31.000000   543.000000  1742.000000\n",
              "25%      36.000000    52.000000    44.000000   557.000000  1802.000000\n",
              "50%      39.000000    55.000000    47.000000   614.000000  1831.000000\n",
              "75%      41.000000    58.000000    50.000000   640.000000  1851.000000\n",
              "max      49.000000    67.000000    57.000000   700.000000  1905.000000"
            ],
            "text/html": [
              "\n",
              "  <div id=\"df-1a1de4b3-8013-4862-b3fa-9747f4f507f6\">\n",
              "    <div class=\"colab-df-container\">\n",
              "      <div>\n",
              "<style scoped>\n",
              "    .dataframe tbody tr th:only-of-type {\n",
              "        vertical-align: middle;\n",
              "    }\n",
              "\n",
              "    .dataframe tbody tr th {\n",
              "        vertical-align: top;\n",
              "    }\n",
              "\n",
              "    .dataframe thead th {\n",
              "        text-align: right;\n",
              "    }\n",
              "</style>\n",
              "<table border=\"1\" class=\"dataframe\">\n",
              "  <thead>\n",
              "    <tr style=\"text-align: right;\">\n",
              "      <th></th>\n",
              "      <th>MinTemp</th>\n",
              "      <th>MaxTemp</th>\n",
              "      <th>AvgTemp</th>\n",
              "      <th>Sunrise</th>\n",
              "      <th>Sunset</th>\n",
              "    </tr>\n",
              "  </thead>\n",
              "  <tbody>\n",
              "    <tr>\n",
              "      <th>count</th>\n",
              "      <td>1821.000000</td>\n",
              "      <td>1821.000000</td>\n",
              "      <td>1821.000000</td>\n",
              "      <td>1825.000000</td>\n",
              "      <td>1825.000000</td>\n",
              "    </tr>\n",
              "    <tr>\n",
              "      <th>mean</th>\n",
              "      <td>38.637013</td>\n",
              "      <td>54.515102</td>\n",
              "      <td>46.818781</td>\n",
              "      <td>607.074521</td>\n",
              "      <td>1823.002740</td>\n",
              "    </tr>\n",
              "    <tr>\n",
              "      <th>std</th>\n",
              "      <td>3.798284</td>\n",
              "      <td>5.013654</td>\n",
              "      <td>4.143192</td>\n",
              "      <td>40.797585</td>\n",
              "      <td>49.555065</td>\n",
              "    </tr>\n",
              "    <tr>\n",
              "      <th>min</th>\n",
              "      <td>22.000000</td>\n",
              "      <td>36.000000</td>\n",
              "      <td>31.000000</td>\n",
              "      <td>543.000000</td>\n",
              "      <td>1742.000000</td>\n",
              "    </tr>\n",
              "    <tr>\n",
              "      <th>25%</th>\n",
              "      <td>36.000000</td>\n",
              "      <td>52.000000</td>\n",
              "      <td>44.000000</td>\n",
              "      <td>557.000000</td>\n",
              "      <td>1802.000000</td>\n",
              "    </tr>\n",
              "    <tr>\n",
              "      <th>50%</th>\n",
              "      <td>39.000000</td>\n",
              "      <td>55.000000</td>\n",
              "      <td>47.000000</td>\n",
              "      <td>614.000000</td>\n",
              "      <td>1831.000000</td>\n",
              "    </tr>\n",
              "    <tr>\n",
              "      <th>75%</th>\n",
              "      <td>41.000000</td>\n",
              "      <td>58.000000</td>\n",
              "      <td>50.000000</td>\n",
              "      <td>640.000000</td>\n",
              "      <td>1851.000000</td>\n",
              "    </tr>\n",
              "    <tr>\n",
              "      <th>max</th>\n",
              "      <td>49.000000</td>\n",
              "      <td>67.000000</td>\n",
              "      <td>57.000000</td>\n",
              "      <td>700.000000</td>\n",
              "      <td>1905.000000</td>\n",
              "    </tr>\n",
              "  </tbody>\n",
              "</table>\n",
              "</div>\n",
              "      <button class=\"colab-df-convert\" onclick=\"convertToInteractive('df-1a1de4b3-8013-4862-b3fa-9747f4f507f6')\"\n",
              "              title=\"Convert this dataframe to an interactive table.\"\n",
              "              style=\"display:none;\">\n",
              "        \n",
              "  <svg xmlns=\"http://www.w3.org/2000/svg\" height=\"24px\"viewBox=\"0 0 24 24\"\n",
              "       width=\"24px\">\n",
              "    <path d=\"M0 0h24v24H0V0z\" fill=\"none\"/>\n",
              "    <path d=\"M18.56 5.44l.94 2.06.94-2.06 2.06-.94-2.06-.94-.94-2.06-.94 2.06-2.06.94zm-11 1L8.5 8.5l.94-2.06 2.06-.94-2.06-.94L8.5 2.5l-.94 2.06-2.06.94zm10 10l.94 2.06.94-2.06 2.06-.94-2.06-.94-.94-2.06-.94 2.06-2.06.94z\"/><path d=\"M17.41 7.96l-1.37-1.37c-.4-.4-.92-.59-1.43-.59-.52 0-1.04.2-1.43.59L10.3 9.45l-7.72 7.72c-.78.78-.78 2.05 0 2.83L4 21.41c.39.39.9.59 1.41.59.51 0 1.02-.2 1.41-.59l7.78-7.78 2.81-2.81c.8-.78.8-2.07 0-2.86zM5.41 20L4 18.59l7.72-7.72 1.47 1.35L5.41 20z\"/>\n",
              "  </svg>\n",
              "      </button>\n",
              "      \n",
              "  <style>\n",
              "    .colab-df-container {\n",
              "      display:flex;\n",
              "      flex-wrap:wrap;\n",
              "      gap: 12px;\n",
              "    }\n",
              "\n",
              "    .colab-df-convert {\n",
              "      background-color: #E8F0FE;\n",
              "      border: none;\n",
              "      border-radius: 50%;\n",
              "      cursor: pointer;\n",
              "      display: none;\n",
              "      fill: #1967D2;\n",
              "      height: 32px;\n",
              "      padding: 0 0 0 0;\n",
              "      width: 32px;\n",
              "    }\n",
              "\n",
              "    .colab-df-convert:hover {\n",
              "      background-color: #E2EBFA;\n",
              "      box-shadow: 0px 1px 2px rgba(60, 64, 67, 0.3), 0px 1px 3px 1px rgba(60, 64, 67, 0.15);\n",
              "      fill: #174EA6;\n",
              "    }\n",
              "\n",
              "    [theme=dark] .colab-df-convert {\n",
              "      background-color: #3B4455;\n",
              "      fill: #D2E3FC;\n",
              "    }\n",
              "\n",
              "    [theme=dark] .colab-df-convert:hover {\n",
              "      background-color: #434B5C;\n",
              "      box-shadow: 0px 1px 3px 1px rgba(0, 0, 0, 0.15);\n",
              "      filter: drop-shadow(0px 1px 2px rgba(0, 0, 0, 0.3));\n",
              "      fill: #FFFFFF;\n",
              "    }\n",
              "  </style>\n",
              "\n",
              "      <script>\n",
              "        const buttonEl =\n",
              "          document.querySelector('#df-1a1de4b3-8013-4862-b3fa-9747f4f507f6 button.colab-df-convert');\n",
              "        buttonEl.style.display =\n",
              "          google.colab.kernel.accessAllowed ? 'block' : 'none';\n",
              "\n",
              "        async function convertToInteractive(key) {\n",
              "          const element = document.querySelector('#df-1a1de4b3-8013-4862-b3fa-9747f4f507f6');\n",
              "          const dataTable =\n",
              "            await google.colab.kernel.invokeFunction('convertToInteractive',\n",
              "                                                     [key], {});\n",
              "          if (!dataTable) return;\n",
              "\n",
              "          const docLinkHtml = 'Like what you see? Visit the ' +\n",
              "            '<a target=\"_blank\" href=https://colab.research.google.com/notebooks/data_table.ipynb>data table notebook</a>'\n",
              "            + ' to learn more about interactive tables.';\n",
              "          element.innerHTML = '';\n",
              "          dataTable['output_type'] = 'display_data';\n",
              "          await google.colab.output.renderOutput(dataTable, element);\n",
              "          const docLink = document.createElement('div');\n",
              "          docLink.innerHTML = docLinkHtml;\n",
              "          element.appendChild(docLink);\n",
              "        }\n",
              "      </script>\n",
              "    </div>\n",
              "  </div>\n",
              "  "
            ]
          },
          "metadata": {},
          "execution_count": 10
        }
      ]
    },
    {
      "cell_type": "code",
      "source": [
        "df.isnull().sum()"
      ],
      "metadata": {
        "colab": {
          "base_uri": "https://localhost:8080/"
        },
        "id": "92_XYNGi505U",
        "outputId": "e91166fd-f4cf-4e26-b5e2-ca36b5eb7213"
      },
      "execution_count": null,
      "outputs": [
        {
          "output_type": "execute_result",
          "data": {
            "text/plain": [
              "MinTemp    4\n",
              "MaxTemp    4\n",
              "AvgTemp    4\n",
              "Sunrise    0\n",
              "Sunset     0\n",
              "dtype: int64"
            ]
          },
          "metadata": {},
          "execution_count": 11
        }
      ]
    },
    {
      "cell_type": "code",
      "source": [
        "df = df.dropna()"
      ],
      "metadata": {
        "id": "5FZ4xNq1AG8T"
      },
      "execution_count": null,
      "outputs": []
    },
    {
      "cell_type": "code",
      "source": [
        "df.isnull().sum()"
      ],
      "metadata": {
        "colab": {
          "base_uri": "https://localhost:8080/"
        },
        "id": "Pqg8dvvjAUlJ",
        "outputId": "ad83dec9-8b8f-4e3e-c15f-7d38ea289ea9"
      },
      "execution_count": null,
      "outputs": [
        {
          "output_type": "execute_result",
          "data": {
            "text/plain": [
              "MinTemp    0\n",
              "MaxTemp    0\n",
              "AvgTemp    0\n",
              "Sunrise    0\n",
              "Sunset     0\n",
              "dtype: int64"
            ]
          },
          "metadata": {},
          "execution_count": 23
        }
      ]
    },
    {
      "cell_type": "code",
      "source": [
        "import matplotlib.pyplot as plt"
      ],
      "metadata": {
        "id": "_J2ODqjv56bu"
      },
      "execution_count": null,
      "outputs": []
    },
    {
      "cell_type": "code",
      "source": [
        "\n",
        "plt.plot(df.AvgTemp)"
      ],
      "metadata": {
        "colab": {
          "base_uri": "https://localhost:8080/",
          "height": 282
        },
        "id": "NrJFloox637W",
        "outputId": "a7a474da-96ed-466d-eb49-e9e79f6e48da"
      },
      "execution_count": null,
      "outputs": [
        {
          "output_type": "execute_result",
          "data": {
            "text/plain": [
              "[<matplotlib.lines.Line2D at 0x7f492e752250>]"
            ]
          },
          "metadata": {},
          "execution_count": 25
        },
        {
          "output_type": "display_data",
          "data": {
            "text/plain": [
              "<Figure size 432x288 with 1 Axes>"
            ],
            "image/png": "[encoded data removed]"
          },
          "metadata": {
            "needs_background": "light"
          }
        }
      ]
    },
    {
      "cell_type": "code",
      "source": [
        "pip install pmdarima"
      ],
      "metadata": {
        "colab": {
          "base_uri": "https://localhost:8080/"
        },
        "id": "0dQGa6yU7AyV",
        "outputId": "5132171e-26df-4d8c-c064-0345e228b884"
      },
      "execution_count": null,
      "outputs": [
        {
          "output_type": "stream",
          "name": "stdout",
          "text": [
            "Collecting pmdarima\n",
            "  Downloading pmdarima-1.8.5-cp37-cp37m-manylinux_2_17_x86_64.manylinux2014_x86_64.manylinux_2_24_x86_64.whl (1.4 MB)\n",
            "\u001b[?25l\r\u001b[K     |▎                               | 10 kB 18.4 MB/s eta 0:00:01\r\u001b[K     |▌                               | 20 kB 21.1 MB/s eta 0:00:01\r\u001b[K     |▊                               | 30 kB 26.5 MB/s eta 0:00:01\r\u001b[K     |█                               | 40 kB 25.2 MB/s eta 0:00:01\r\u001b[K     |█▏                              | 51 kB 19.6 MB/s eta 0:00:01\r\u001b[K     |█▍                              | 61 kB 21.9 MB/s eta 0:00:01\r\u001b[K     |█▋                              | 71 kB 22.2 MB/s eta 0:00:01\r\u001b[K     |██                              | 81 kB 23.9 MB/s eta 0:00:01\r\u001b[K     |██▏                             | 92 kB 26.0 MB/s eta 0:00:01\r\u001b[K     |██▍                             | 102 kB 24.4 MB/s eta 0:00:01\r\u001b[K     |██▋                             | 112 kB 24.4 MB/s eta 0:00:01\r\u001b[K     |██▉                             | 122 kB 24.4 MB/s eta 0:00:01\r\u001b[K     |███                             | 133 kB 24.4 MB/s eta 0:00:01\r\u001b[K     |███▎                            | 143 kB 24.4 MB/s eta 0:00:01\r\u001b[K     |███▌                            | 153 kB 24.4 MB/s eta 0:00:01\r\u001b[K     |███▉                            | 163 kB 24.4 MB/s eta 0:00:01\r\u001b[K     |████                            | 174 kB 24.4 MB/s eta 0:00:01\r\u001b[K     |████▎                           | 184 kB 24.4 MB/s eta 0:00:01\r\u001b[K     |████▌                           | 194 kB 24.4 MB/s eta 0:00:01\r\u001b[K     |████▊                           | 204 kB 24.4 MB/s eta 0:00:01\r\u001b[K     |█████                           | 215 kB 24.4 MB/s eta 0:00:01\r\u001b[K     |█████▏                          | 225 kB 24.4 MB/s eta 0:00:01\r\u001b[K     |█████▍                          | 235 kB 24.4 MB/s eta 0:00:01\r\u001b[K     |█████▊                          | 245 kB 24.4 MB/s eta 0:00:01\r\u001b[K     |██████                          | 256 kB 24.4 MB/s eta 0:00:01\r\u001b[K     |██████▏                         | 266 kB 24.4 MB/s eta 0:00:01\r\u001b[K     |██████▍                         | 276 kB 24.4 MB/s eta 0:00:01\r\u001b[K     |██████▋                         | 286 kB 24.4 MB/s eta 0:00:01\r\u001b[K     |██████▉                         | 296 kB 24.4 MB/s eta 0:00:01\r\u001b[K     |███████                         | 307 kB 24.4 MB/s eta 0:00:01\r\u001b[K     |███████▎                        | 317 kB 24.4 MB/s eta 0:00:01\r\u001b[K     |███████▋                        | 327 kB 24.4 MB/s eta 0:00:01\r\u001b[K     |███████▉                        | 337 kB 24.4 MB/s eta 0:00:01\r\u001b[K     |████████                        | 348 kB 24.4 MB/s eta 0:00:01\r\u001b[K     |████████▎                       | 358 kB 24.4 MB/s eta 0:00:01\r\u001b[K     |████████▌                       | 368 kB 24.4 MB/s eta 0:00:01\r\u001b[K     |████████▊                       | 378 kB 24.4 MB/s eta 0:00:01\r\u001b[K     |█████████                       | 389 kB 24.4 MB/s eta 0:00:01\r\u001b[K     |█████████▎                      | 399 kB 24.4 MB/s eta 0:00:01\r\u001b[K     |█████████▌                      | 409 kB 24.4 MB/s eta 0:00:01\r\u001b[K     |█████████▊                      | 419 kB 24.4 MB/s eta 0:00:01\r\u001b[K     |██████████                      | 430 kB 24.4 MB/s eta 0:00:01\r\u001b[K     |██████████▏                     | 440 kB 24.4 MB/s eta 0:00:01\r\u001b[K     |██████████▍                     | 450 kB 24.4 MB/s eta 0:00:01\r\u001b[K     |██████████▋                     | 460 kB 24.4 MB/s eta 0:00:01\r\u001b[K     |██████████▉                     | 471 kB 24.4 MB/s eta 0:00:01\r\u001b[K     |███████████▏                    | 481 kB 24.4 MB/s eta 0:00:01\r\u001b[K     |███████████▍                    | 491 kB 24.4 MB/s eta 0:00:01\r\u001b[K     |███████████▋                    | 501 kB 24.4 MB/s eta 0:00:01\r\u001b[K     |███████████▉                    | 512 kB 24.4 MB/s eta 0:00:01\r\u001b[K     |████████████                    | 522 kB 24.4 MB/s eta 0:00:01\r\u001b[K     |████████████▎                   | 532 kB 24.4 MB/s eta 0:00:01\r\u001b[K     |████████████▌                   | 542 kB 24.4 MB/s eta 0:00:01\r\u001b[K     |████████████▊                   | 552 kB 24.4 MB/s eta 0:00:01\r\u001b[K     |█████████████                   | 563 kB 24.4 MB/s eta 0:00:01\r\u001b[K     |█████████████▎                  | 573 kB 24.4 MB/s eta 0:00:01\r\u001b[K     |█████████████▌                  | 583 kB 24.4 MB/s eta 0:00:01\r\u001b[K     |█████████████▊                  | 593 kB 24.4 MB/s eta 0:00:01\r\u001b[K     |██████████████                  | 604 kB 24.4 MB/s eta 0:00:01\r\u001b[K     |██████████████▏                 | 614 kB 24.4 MB/s eta 0:00:01\r\u001b[K     |██████████████▍                 | 624 kB 24.4 MB/s eta 0:00:01\r\u001b[K     |██████████████▋                 | 634 kB 24.4 MB/s eta 0:00:01\r\u001b[K     |███████████████                 | 645 kB 24.4 MB/s eta 0:00:01\r\u001b[K     |███████████████▏                | 655 kB 24.4 MB/s eta 0:00:01\r\u001b[K     |███████████████▍                | 665 kB 24.4 MB/s eta 0:00:01\r\u001b[K     |███████████████▋                | 675 kB 24.4 MB/s eta 0:00:01\r\u001b[K     |███████████████▉                | 686 kB 24.4 MB/s eta 0:00:01\r\u001b[K     |████████████████                | 696 kB 24.4 MB/s eta 0:00:01\r\u001b[K     |████████████████▎               | 706 kB 24.4 MB/s eta 0:00:01\r\u001b[K     |████████████████▋               | 716 kB 24.4 MB/s eta 0:00:01\r\u001b[K     |████████████████▉               | 727 kB 24.4 MB/s eta 0:00:01\r\u001b[K     |█████████████████               | 737 kB 24.4 MB/s eta 0:00:01\r\u001b[K     |█████████████████▎              | 747 kB 24.4 MB/s eta 0:00:01\r\u001b[K     |█████████████████▌              | 757 kB 24.4 MB/s eta 0:00:01\r\u001b[K     |█████████████████▊              | 768 kB 24.4 MB/s eta 0:00:01\r\u001b[K     |██████████████████              | 778 kB 24.4 MB/s eta 0:00:01\r\u001b[K     |██████████████████▏             | 788 kB 24.4 MB/s eta 0:00:01\r\u001b[K     |██████████████████▌             | 798 kB 24.4 MB/s eta 0:00:01\r\u001b[K     |██████████████████▊             | 808 kB 24.4 MB/s eta 0:00:01\r\u001b[K     |███████████████████             | 819 kB 24.4 MB/s eta 0:00:01\r\u001b[K     |███████████████████▏            | 829 kB 24.4 MB/s eta 0:00:01\r\u001b[K     |███████████████████▍            | 839 kB 24.4 MB/s eta 0:00:01\r\u001b[K     |███████████████████▋            | 849 kB 24.4 MB/s eta 0:00:01\r\u001b[K     |███████████████████▉            | 860 kB 24.4 MB/s eta 0:00:01\r\u001b[K     |████████████████████            | 870 kB 24.4 MB/s eta 0:00:01\r\u001b[K     |████████████████████▍           | 880 kB 24.4 MB/s eta 0:00:01\r\u001b[K     |████████████████████▋           | 890 kB 24.4 MB/s eta 0:00:01\r\u001b[K     |████████████████████▉           | 901 kB 24.4 MB/s eta 0:00:01\r\u001b[K     |█████████████████████           | 911 kB 24.4 MB/s eta 0:00:01\r\u001b[K     |█████████████████████▎          | 921 kB 24.4 MB/s eta 0:00:01\r\u001b[K     |█████████████████████▌          | 931 kB 24.4 MB/s eta 0:00:01\r\u001b[K     |█████████████████████▊          | 942 kB 24.4 MB/s eta 0:00:01\r\u001b[K     |██████████████████████          | 952 kB 24.4 MB/s eta 0:00:01\r\u001b[K     |██████████████████████▎         | 962 kB 24.4 MB/s eta 0:00:01\r\u001b[K     |██████████████████████▌         | 972 kB 24.4 MB/s eta 0:00:01\r\u001b[K     |██████████████████████▊         | 983 kB 24.4 MB/s eta 0:00:01\r\u001b[K     |███████████████████████         | 993 kB 24.4 MB/s eta 0:00:01\r\u001b[K     |███████████████████████▏        | 1.0 MB 24.4 MB/s eta 0:00:01\r\u001b[K     |███████████████████████▍        | 1.0 MB 24.4 MB/s eta 0:00:01\r\u001b[K     |███████████████████████▋        | 1.0 MB 24.4 MB/s eta 0:00:01\r\u001b[K     |████████████████████████        | 1.0 MB 24.4 MB/s eta 0:00:01\r\u001b[K     |████████████████████████▏       | 1.0 MB 24.4 MB/s eta 0:00:01\r\u001b[K     |████████████████████████▍       | 1.1 MB 24.4 MB/s eta 0:00:01\r\u001b[K     |████████████████████████▋       | 1.1 MB 24.4 MB/s eta 0:00:01\r\u001b[K     |████████████████████████▉       | 1.1 MB 24.4 MB/s eta 0:00:01\r\u001b[K     |█████████████████████████       | 1.1 MB 24.4 MB/s eta 0:00:01\r\u001b[K     |█████████████████████████▎      | 1.1 MB 24.4 MB/s eta 0:00:01\r\u001b[K     |█████████████████████████▌      | 1.1 MB 24.4 MB/s eta 0:00:01\r\u001b[K     |█████████████████████████▉      | 1.1 MB 24.4 MB/s eta 0:00:01\r\u001b[K     |██████████████████████████      | 1.1 MB 24.4 MB/s eta 0:00:01\r\u001b[K     |██████████████████████████▎     | 1.1 MB 24.4 MB/s eta 0:00:01\r\u001b[K     |██████████████████████████▌     | 1.1 MB 24.4 MB/s eta 0:00:01\r\u001b[K     |██████████████████████████▊     | 1.2 MB 24.4 MB/s eta 0:00:01\r\u001b[K     |███████████████████████████     | 1.2 MB 24.4 MB/s eta 0:00:01\r\u001b[K     |███████████████████████████▏    | 1.2 MB 24.4 MB/s eta 0:00:01\r\u001b[K     |███████████████████████████▍    | 1.2 MB 24.4 MB/s eta 0:00:01\r\u001b[K     |███████████████████████████▊    | 1.2 MB 24.4 MB/s eta 0:00:01\r\u001b[K     |████████████████████████████    | 1.2 MB 24.4 MB/s eta 0:00:01\r\u001b[K     |████████████████████████████▏   | 1.2 MB 24.4 MB/s eta 0:00:01\r\u001b[K     |████████████████████████████▍   | 1.2 MB 24.4 MB/s eta 0:00:01\r\u001b[K     |████████████████████████████▋   | 1.2 MB 24.4 MB/s eta 0:00:01\r\u001b[K     |████████████████████████████▉   | 1.2 MB 24.4 MB/s eta 0:00:01\r\u001b[K     |█████████████████████████████   | 1.3 MB 24.4 MB/s eta 0:00:01\r\u001b[K     |█████████████████████████████▎  | 1.3 MB 24.4 MB/s eta 0:00:01\r\u001b[K     |█████████████████████████████▋  | 1.3 MB 24.4 MB/s eta 0:00:01\r\u001b[K     |█████████████████████████████▉  | 1.3 MB 24.4 MB/s eta 0:00:01\r\u001b[K     |██████████████████████████████  | 1.3 MB 24.4 MB/s eta 0:00:01\r\u001b[K     |██████████████████████████████▎ | 1.3 MB 24.4 MB/s eta 0:00:01\r\u001b[K     |██████████████████████████████▌ | 1.3 MB 24.4 MB/s eta 0:00:01\r\u001b[K     |██████████████████████████████▊ | 1.3 MB 24.4 MB/s eta 0:00:01\r\u001b[K     |███████████████████████████████ | 1.3 MB 24.4 MB/s eta 0:00:01\r\u001b[K     |███████████████████████████████▎| 1.4 MB 24.4 MB/s eta 0:00:01\r\u001b[K     |███████████████████████████████▌| 1.4 MB 24.4 MB/s eta 0:00:01\r\u001b[K     |███████████████████████████████▊| 1.4 MB 24.4 MB/s eta 0:00:01\r\u001b[K     |████████████████████████████████| 1.4 MB 24.4 MB/s eta 0:00:01\r\u001b[K     |████████████████████████████████| 1.4 MB 24.4 MB/s \n",
            "\u001b[?25hRequirement already satisfied: Cython!=0.29.18,>=0.29 in /usr/local/lib/python3.7/dist-packages (from pmdarima) (0.29.28)\n",
            "Requirement already satisfied: pandas>=0.19 in /usr/local/lib/python3.7/dist-packages (from pmdarima) (1.3.5)\n",
            "Requirement already satisfied: numpy>=1.19.3 in /usr/local/lib/python3.7/dist-packages (from pmdarima) (1.21.5)\n",
            "Requirement already satisfied: joblib>=0.11 in /usr/local/lib/python3.7/dist-packages (from pmdarima) (1.1.0)\n",
            "Requirement already satisfied: scikit-learn>=0.22 in /usr/local/lib/python3.7/dist-packages (from pmdarima) (1.0.2)\n",
            "Requirement already satisfied: scipy>=1.3.2 in /usr/local/lib/python3.7/dist-packages (from pmdarima) (1.4.1)\n",
            "Requirement already satisfied: setuptools!=50.0.0,>=38.6.0 in /usr/local/lib/python3.7/dist-packages (from pmdarima) (57.4.0)\n",
            "Requirement already satisfied: urllib3 in /usr/local/lib/python3.7/dist-packages (from pmdarima) (1.24.3)\n",
            "Collecting statsmodels!=0.12.0,>=0.11\n",
            "  Downloading statsmodels-0.13.2-cp37-cp37m-manylinux_2_17_x86_64.manylinux2014_x86_64.whl (9.8 MB)\n",
            "\u001b[K     |████████████████████████████████| 9.8 MB 46.8 MB/s \n",
            "\u001b[?25hRequirement already satisfied: pytz>=2017.3 in /usr/local/lib/python3.7/dist-packages (from pandas>=0.19->pmdarima) (2018.9)\n",
            "Requirement already satisfied: python-dateutil>=2.7.3 in /usr/local/lib/python3.7/dist-packages (from pandas>=0.19->pmdarima) (2.8.2)\n",
            "Requirement already satisfied: six>=1.5 in /usr/local/lib/python3.7/dist-packages (from python-dateutil>=2.7.3->pandas>=0.19->pmdarima) (1.15.0)\n",
            "Requirement already satisfied: threadpoolctl>=2.0.0 in /usr/local/lib/python3.7/dist-packages (from scikit-learn>=0.22->pmdarima) (3.1.0)\n",
            "Requirement already satisfied: packaging>=21.3 in /usr/local/lib/python3.7/dist-packages (from statsmodels!=0.12.0,>=0.11->pmdarima) (21.3)\n",
            "Requirement already satisfied: patsy>=0.5.2 in /usr/local/lib/python3.7/dist-packages (from statsmodels!=0.12.0,>=0.11->pmdarima) (0.5.2)\n",
            "Requirement already satisfied: pyparsing!=3.0.5,>=2.0.2 in /usr/local/lib/python3.7/dist-packages (from packaging>=21.3->statsmodels!=0.12.0,>=0.11->pmdarima) (3.0.7)\n",
            "Installing collected packages: statsmodels, pmdarima\n",
            "  Attempting uninstall: statsmodels\n",
            "    Found existing installation: statsmodels 0.10.2\n",
            "    Uninstalling statsmodels-0.10.2:\n",
            "      Successfully uninstalled statsmodels-0.10.2\n",
            "Successfully installed pmdarima-1.8.5 statsmodels-0.13.2\n"
          ]
        }
      ]
    },
    {
      "cell_type": "code",
      "source": [
        "from statsmodels.tsa.stattools import adfuller"
      ],
      "metadata": {
        "id": "Bvx4-tTv-GVl"
      },
      "execution_count": null,
      "outputs": []
    },
    {
      "cell_type": "code",
      "source": [
        "def adf_test(dataset):\n",
        "  dftest = adfuller(dataset, autolag = 'AIC')\n",
        "  print(\"1. ADF:\", dftest[0])\n",
        "  print('2. p-value:',dftest[1])\n",
        "  print('3. Num of lags:',dftest[2])\n",
        "  print('4. num of observations used for regression and critical value calcualtion:',dftest[3])\n",
        "  print('5. Critical values:')\n",
        "  for key,val in dftest[4].items():\n",
        "    print(\"\\t\",key, \": \",val)\n"
      ],
      "metadata": {
        "id": "TfibkLL3-sP0"
      },
      "execution_count": null,
      "outputs": []
    },
    {
      "cell_type": "code",
      "source": [
        "adf_test(df.AvgTemp)"
      ],
      "metadata": {
        "colab": {
          "base_uri": "https://localhost:8080/"
        },
        "id": "ZRVtDautAaec",
        "outputId": "0c81bb8b-cd23-4ca6-e730-d332d110952b"
      },
      "execution_count": null,
      "outputs": [
        {
          "output_type": "stream",
          "name": "stdout",
          "text": [
            "1. ADF: -6.554680125068778\n",
            "2. p-value: 8.675937480199557e-09\n",
            "3. Num of lags: 12\n",
            "4. num of observations used for regression and critical value calcualtion: 1808\n",
            "5. Critical values:\n",
            "\t 1% :  -3.433972018026501\n",
            "\t 5% :  -2.8631399192826676\n",
            "\t 10% :  -2.5676217442756872\n"
          ]
        }
      ]
    },
    {
      "cell_type": "code",
      "source": [
        "from pmdarima import auto_arima\n",
        "import warnings\n",
        "warnings.filterwarnings(\"ignore\")"
      ],
      "metadata": {
        "id": "gU2tmbrDAinz"
      },
      "execution_count": null,
      "outputs": []
    },
    {
      "cell_type": "code",
      "source": [
        "stepwise_fitting = auto_arima(df.AvgTemp,trace = True)\n",
        "stepwise_fitting.summary()"
      ],
      "metadata": {
        "colab": {
          "base_uri": "https://localhost:8080/",
          "height": 954
        },
        "id": "TvxnS2YIJCSP",
        "outputId": "df5def7b-bbf4-40a3-dc55-4b498cd11996"
      },
      "execution_count": null,
      "outputs": [
        {
          "output_type": "stream",
          "name": "stdout",
          "text": [
            "Performing stepwise search to minimize aic\n",
            " ARIMA(2,0,2)(0,0,0)[0] intercept   : AIC=8344.803, Time=3.25 sec\n",
            " ARIMA(0,0,0)(0,0,0)[0] intercept   : AIC=10347.755, Time=0.06 sec\n",
            " ARIMA(1,0,0)(0,0,0)[0] intercept   : AIC=8365.701, Time=0.20 sec\n",
            " ARIMA(0,0,1)(0,0,0)[0] intercept   : AIC=9136.225, Time=0.36 sec\n",
            " ARIMA(0,0,0)(0,0,0)[0]             : AIC=19192.139, Time=0.04 sec\n",
            " ARIMA(1,0,2)(0,0,0)[0] intercept   : AIC=8355.947, Time=2.28 sec\n",
            " ARIMA(2,0,1)(0,0,0)[0] intercept   : AIC=8356.308, Time=2.64 sec\n",
            " ARIMA(3,0,2)(0,0,0)[0] intercept   : AIC=8347.117, Time=3.67 sec\n",
            " ARIMA(2,0,3)(0,0,0)[0] intercept   : AIC=8317.613, Time=3.66 sec\n",
            " ARIMA(1,0,3)(0,0,0)[0] intercept   : AIC=8330.191, Time=3.55 sec\n",
            " ARIMA(3,0,3)(0,0,0)[0] intercept   : AIC=8312.479, Time=4.34 sec\n",
            " ARIMA(4,0,3)(0,0,0)[0] intercept   : AIC=8332.193, Time=4.66 sec\n",
            " ARIMA(3,0,4)(0,0,0)[0] intercept   : AIC=8317.480, Time=5.87 sec\n",
            " ARIMA(2,0,4)(0,0,0)[0] intercept   : AIC=8307.633, Time=4.81 sec\n",
            " ARIMA(1,0,4)(0,0,0)[0] intercept   : AIC=8296.993, Time=4.24 sec\n",
            " ARIMA(0,0,4)(0,0,0)[0] intercept   : AIC=8455.435, Time=1.23 sec\n",
            " ARIMA(1,0,5)(0,0,0)[0] intercept   : AIC=8294.718, Time=5.47 sec\n",
            " ARIMA(0,0,5)(0,0,0)[0] intercept   : AIC=8419.091, Time=1.51 sec\n",
            " ARIMA(2,0,5)(0,0,0)[0] intercept   : AIC=8302.477, Time=5.85 sec\n",
            " ARIMA(1,0,5)(0,0,0)[0]             : AIC=8304.533, Time=0.57 sec\n",
            "\n",
            "Best model:  ARIMA(1,0,5)(0,0,0)[0] intercept\n",
            "Total fit time: 58.298 seconds\n"
          ]
        },
        {
          "output_type": "execute_result",
          "data": {
            "text/plain": [
              "<class 'statsmodels.iolib.summary.Summary'>\n",
              "\"\"\"\n",
              "                               SARIMAX Results                                \n",
              "==============================================================================\n",
              "Dep. Variable:                      y   No. Observations:                 1821\n",
              "Model:               SARIMAX(1, 0, 5)   Log Likelihood               -4139.359\n",
              "Date:                Sat, 09 Apr 2022   AIC                           8294.718\n",
              "Time:                        16:31:14   BIC                           8338.775\n",
              "Sample:                             0   HQIC                          8310.972\n",
              "                               - 1821                                         \n",
              "Covariance Type:                  opg                                         \n",
              "==============================================================================\n",
              "                 coef    std err          z      P>|z|      [0.025      0.975]\n",
              "------------------------------------------------------------------------------\n",
              "intercept      1.2372      0.370      3.340      0.001       0.511       1.963\n",
              "ar.L1          0.9735      0.008    122.232      0.000       0.958       0.989\n",
              "ma.L1         -0.1244      0.024     -5.233      0.000      -0.171      -0.078\n",
              "ma.L2         -0.2191      0.024     -9.056      0.000      -0.266      -0.172\n",
              "ma.L3         -0.2073      0.024     -8.649      0.000      -0.254      -0.160\n",
              "ma.L4         -0.1360      0.023     -5.959      0.000      -0.181      -0.091\n",
              "ma.L5         -0.0485      0.024     -1.987      0.047      -0.096      -0.001\n",
              "sigma2         5.5112      0.173     31.871      0.000       5.172       5.850\n",
              "===================================================================================\n",
              "Ljung-Box (L1) (Q):                   0.00   Jarque-Bera (JB):                20.49\n",
              "Prob(Q):                              0.97   Prob(JB):                         0.00\n",
              "Heteroskedasticity (H):               0.81   Skew:                            -0.17\n",
              "Prob(H) (two-sided):                  0.01   Kurtosis:                         3.39\n",
              "===================================================================================\n",
              "\n",
              "Warnings:\n",
              "[1] Covariance matrix calculated using the outer product of gradients (complex-step).\n",
              "\"\"\""
            ],
            "text/html": [
              "<table class=\"simpletable\">\n",
              "<caption>SARIMAX Results</caption>\n",
              "<tr>\n",
              "  <th>Dep. Variable:</th>           <td>y</td>        <th>  No. Observations:  </th>   <td>1821</td>   \n",
              "</tr>\n",
              "<tr>\n",
              "  <th>Model:</th>           <td>SARIMAX(1, 0, 5)</td> <th>  Log Likelihood     </th> <td>-4139.359</td>\n",
              "</tr>\n",
              "<tr>\n",
              "  <th>Date:</th>            <td>Sat, 09 Apr 2022</td> <th>  AIC                </th> <td>8294.718</td> \n",
              "</tr>\n",
              "<tr>\n",
              "  <th>Time:</th>                <td>16:31:14</td>     <th>  BIC                </th> <td>8338.775</td> \n",
              "</tr>\n",
              "<tr>\n",
              "  <th>Sample:</th>                  <td>0</td>        <th>  HQIC               </th> <td>8310.972</td> \n",
              "</tr>\n",
              "<tr>\n",
              "  <th></th>                      <td> - 1821</td>     <th>                     </th>     <td> </td>    \n",
              "</tr>\n",
              "<tr>\n",
              "  <th>Covariance Type:</th>        <td>opg</td>       <th>                     </th>     <td> </td>    \n",
              "</tr>\n",
              "</table>\n",
              "<table class=\"simpletable\">\n",
              "<tr>\n",
              "      <td></td>         <th>coef</th>     <th>std err</th>      <th>z</th>      <th>P>|z|</th>  <th>[0.025</th>    <th>0.975]</th>  \n",
              "</tr>\n",
              "<tr>\n",
              "  <th>intercept</th> <td>    1.2372</td> <td>    0.370</td> <td>    3.340</td> <td> 0.001</td> <td>    0.511</td> <td>    1.963</td>\n",
              "</tr>\n",
              "<tr>\n",
              "  <th>ar.L1</th>     <td>    0.9735</td> <td>    0.008</td> <td>  122.232</td> <td> 0.000</td> <td>    0.958</td> <td>    0.989</td>\n",
              "</tr>\n",
              "<tr>\n",
              "  <th>ma.L1</th>     <td>   -0.1244</td> <td>    0.024</td> <td>   -5.233</td> <td> 0.000</td> <td>   -0.171</td> <td>   -0.078</td>\n",
              "</tr>\n",
              "<tr>\n",
              "  <th>ma.L2</th>     <td>   -0.2191</td> <td>    0.024</td> <td>   -9.056</td> <td> 0.000</td> <td>   -0.266</td> <td>   -0.172</td>\n",
              "</tr>\n",
              "<tr>\n",
              "  <th>ma.L3</th>     <td>   -0.2073</td> <td>    0.024</td> <td>   -8.649</td> <td> 0.000</td> <td>   -0.254</td> <td>   -0.160</td>\n",
              "</tr>\n",
              "<tr>\n",
              "  <th>ma.L4</th>     <td>   -0.1360</td> <td>    0.023</td> <td>   -5.959</td> <td> 0.000</td> <td>   -0.181</td> <td>   -0.091</td>\n",
              "</tr>\n",
              "<tr>\n",
              "  <th>ma.L5</th>     <td>   -0.0485</td> <td>    0.024</td> <td>   -1.987</td> <td> 0.047</td> <td>   -0.096</td> <td>   -0.001</td>\n",
              "</tr>\n",
              "<tr>\n",
              "  <th>sigma2</th>    <td>    5.5112</td> <td>    0.173</td> <td>   31.871</td> <td> 0.000</td> <td>    5.172</td> <td>    5.850</td>\n",
              "</tr>\n",
              "</table>\n",
              "<table class=\"simpletable\">\n",
              "<tr>\n",
              "  <th>Ljung-Box (L1) (Q):</th>     <td>0.00</td> <th>  Jarque-Bera (JB):  </th> <td>20.49</td>\n",
              "</tr>\n",
              "<tr>\n",
              "  <th>Prob(Q):</th>                <td>0.97</td> <th>  Prob(JB):          </th> <td>0.00</td> \n",
              "</tr>\n",
              "<tr>\n",
              "  <th>Heteroskedasticity (H):</th> <td>0.81</td> <th>  Skew:              </th> <td>-0.17</td>\n",
              "</tr>\n",
              "<tr>\n",
              "  <th>Prob(H) (two-sided):</th>    <td>0.01</td> <th>  Kurtosis:          </th> <td>3.39</td> \n",
              "</tr>\n",
              "</table><br/><br/>Warnings:<br/>[1] Covariance matrix calculated using the outer product of gradients (complex-step)."
            ]
          },
          "metadata": {},
          "execution_count": 32
        }
      ]
    },
    {
      "cell_type": "code",
      "source": [
        "from statsmodels.tsa.arima_model import ARIMA"
      ],
      "metadata": {
        "id": "ERYbrQHCKDRS"
      },
      "execution_count": null,
      "outputs": []
    },
    {
      "cell_type": "code",
      "source": [
        "from sklearn.model_selection import train_test_split"
      ],
      "metadata": {
        "id": "FATR_BlyKynd"
      },
      "execution_count": null,
      "outputs": []
    },
    {
      "cell_type": "code",
      "source": [
        "train = df.iloc[:-30]\n",
        "test = df.iloc[-30:]\n"
      ],
      "metadata": {
        "id": "9-iBi5feLhtH"
      },
      "execution_count": null,
      "outputs": []
    },
    {
      "cell_type": "code",
      "source": [
        "train.shape"
      ],
      "metadata": {
        "colab": {
          "base_uri": "https://localhost:8080/"
        },
        "id": "M3lQXkgXLwvz",
        "outputId": "7a0bbef6-b628-4889-9c43-7060636e4d4b"
      },
      "execution_count": null,
      "outputs": [
        {
          "output_type": "execute_result",
          "data": {
            "text/plain": [
              "(1791, 5)"
            ]
          },
          "metadata": {},
          "execution_count": 37
        }
      ]
    },
    {
      "cell_type": "code",
      "source": [
        "test.shape"
      ],
      "metadata": {
        "colab": {
          "base_uri": "https://localhost:8080/"
        },
        "id": "6EIl_kkELzfc",
        "outputId": "be434ff6-d0cf-4003-8e77-b15d59097dc9"
      },
      "execution_count": null,
      "outputs": [
        {
          "output_type": "execute_result",
          "data": {
            "text/plain": [
              "(30, 5)"
            ]
          },
          "metadata": {},
          "execution_count": 38
        }
      ]
    },
    {
      "cell_type": "code",
      "source": [
        "import statsmodels.api as sm"
      ],
      "metadata": {
        "id": "q_CAvJltL3D7"
      },
      "execution_count": null,
      "outputs": []
    },
    {
      "cell_type": "code",
      "source": [
        "model = sm.tsa.arima.ARIMA(train.AvgTemp,order=(1,0,5))\n",
        "model_fit = model.fit()\n"
      ],
      "metadata": {
        "id": "rde4LG_BMJS8"
      },
      "execution_count": null,
      "outputs": []
    },
    {
      "cell_type": "code",
      "source": [
        "start = len(train)\n",
        "end = len(train)+len(test)-1\n",
        "pred = model_fit.predict(start = start, end=end, type='levels').rename('ARIMA predictions')"
      ],
      "metadata": {
        "id": "aWW0rcmyMd2T"
      },
      "execution_count": null,
      "outputs": []
    },
    {
      "cell_type": "code",
      "source": [
        "pred"
      ],
      "metadata": {
        "colab": {
          "base_uri": "https://localhost:8080/"
        },
        "id": "VYQMN9_kNXKt",
        "outputId": "e488ee58-3bc1-4d56-e454-64be036e75cd"
      },
      "execution_count": null,
      "outputs": [
        {
          "output_type": "execute_result",
          "data": {
            "text/plain": [
              "1791    44.754109\n",
              "1792    44.987795\n",
              "1793    45.388741\n",
              "1794    45.721546\n",
              "1795    45.863733\n",
              "1796    45.874127\n",
              "1797    45.884370\n",
              "1798    45.894467\n",
              "1799    45.904418\n",
              "1800    45.914225\n",
              "1801    45.923892\n",
              "1802    45.933419\n",
              "1803    45.942809\n",
              "1804    45.952064\n",
              "1805    45.961186\n",
              "1806    45.970176\n",
              "1807    45.979037\n",
              "1808    45.987770\n",
              "1809    45.996378\n",
              "1810    46.004861\n",
              "1811    46.013223\n",
              "1812    46.021464\n",
              "1813    46.029586\n",
              "1814    46.037592\n",
              "1815    46.045482\n",
              "1816    46.053259\n",
              "1817    46.060923\n",
              "1818    46.068478\n",
              "1819    46.075923\n",
              "1820    46.083262\n",
              "Name: ARIMA predictions, dtype: float64"
            ]
          },
          "metadata": {},
          "execution_count": 49
        }
      ]
    },
    {
      "cell_type": "code",
      "source": [
        "plt.plot(pred)"
      ],
      "metadata": {
        "colab": {
          "base_uri": "https://localhost:8080/",
          "height": 282
        },
        "id": "vtwL3W8uO2eo",
        "outputId": "b493524f-16bb-4e8d-f69b-3f9c39e2385d"
      },
      "execution_count": null,
      "outputs": [
        {
          "output_type": "execute_result",
          "data": {
            "text/plain": [
              "[<matplotlib.lines.Line2D at 0x7f491c190a50>]"
            ]
          },
          "metadata": {},
          "execution_count": 50
        },
        {
          "output_type": "display_data",
          "data": {
            "text/plain": [
              "<Figure size 432x288 with 1 Axes>"
            ],
            "image/png": "[encoded data removed]"
          },
          "metadata": {
            "needs_background": "light"
          }
        }
      ]
    },
    {
      "cell_type": "code",
      "source": [
        "index_future_dates = pd.date_range(start = '2018-12-01',end = '2018-12-30')\n",
        "pred.index = index_future_dates\n",
        "pred.plot(legend=True)\n",
        "test.AvgTemp.plot(legend= True)"
      ],
      "metadata": {
        "colab": {
          "base_uri": "https://localhost:8080/",
          "height": 331
        },
        "id": "fySac1AmPVpe",
        "outputId": "152249c8-f2a8-41ed-9f11-d06f49ff74a0"
      },
      "execution_count": null,
      "outputs": [
        {
          "output_type": "execute_result",
          "data": {
            "text/plain": [
              "<matplotlib.axes._subplots.AxesSubplot at 0x7f4940504bd0>"
            ]
          },
          "metadata": {},
          "execution_count": 51
        },
        {
          "output_type": "display_data",
          "data": {
            "text/plain": [
              "<Figure size 432x288 with 1 Axes>"
            ],
            "image/png": "[encoded data removed]"
          },
          "metadata": {
            "needs_background": "light"
          }
        }
      ]
    },
    {
      "cell_type": "code",
      "source": [
        "from sklearn.metrics import mean_squared_error as MSE"
      ],
      "metadata": {
        "id": "BD89mbUHQUbq"
      },
      "execution_count": null,
      "outputs": []
    },
    {
      "cell_type": "code",
      "source": [
        "import math"
      ],
      "metadata": {
        "id": "yP5W1pTQR0SU"
      },
      "execution_count": null,
      "outputs": []
    },
    {
      "cell_type": "code",
      "source": [
        "mse = MSE(test.AvgTemp,pred)\n",
        "rmse = math.sqrt(mse)\n",
        "print(rmse)"
      ],
      "metadata": {
        "colab": {
          "base_uri": "https://localhost:8080/"
        },
        "id": "pdHEm389RQDY",
        "outputId": "fc7845a5-c400-4091-9089-417792841d5d"
      },
      "execution_count": null,
      "outputs": [
        {
          "output_type": "stream",
          "name": "stdout",
          "text": [
            "3.000464039240764\n"
          ]
        }
      ]
    },
    {
      "cell_type": "code",
      "source": [
        "test.AvgTemp.mean()\n"
      ],
      "metadata": {
        "colab": {
          "base_uri": "https://localhost:8080/"
        },
        "id": "rkSk1ajSSQoS",
        "outputId": "fe201549-29e8-4b80-a46d-1731edd8c60b"
      },
      "execution_count": null,
      "outputs": [
        {
          "output_type": "execute_result",
          "data": {
            "text/plain": [
              "45.0"
            ]
          },
          "metadata": {},
          "execution_count": 61
        }
      ]
    },
    {
      "cell_type": "code",
      "source": [
        "pred.mean()"
      ],
      "metadata": {
        "colab": {
          "base_uri": "https://localhost:8080/"
        },
        "id": "avfN4qq1SWwZ",
        "outputId": "4613064b-6c57-4e4e-d6ae-e81b03497d67"
      },
      "execution_count": null,
      "outputs": [
        {
          "output_type": "execute_result",
          "data": {
            "text/plain": [
              "45.87761044293135"
            ]
          },
          "metadata": {},
          "execution_count": 62
        }
      ]
    },
    {
      "cell_type": "code",
      "source": [],
      "metadata": {
        "id": "6NE5oCsFSdG7"
      },
      "execution_count": null,
      "outputs": []
    }
  ]
}