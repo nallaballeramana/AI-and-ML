{
  "nbformat": 4,
  "nbformat_minor": 0,
  "metadata": {
    "colab": {
      "provenance": []
    },
    "kernelspec": {
      "name": "python3",
      "display_name": "Python 3"
    },
    "language_info": {
      "name": "python"
    }
  },
  "cells": [
    {
      "cell_type": "code",
      "execution_count": null,
      "metadata": {
        "id": "EGQHeXFHVSvL"
      },
      "outputs": [],
      "source": [
        "%matplotlib inline\n",
        "import matplotlib.pyplot as plt\n",
        "from tensorflow.keras.datasets import mnist\n",
        "from tensorflow.keras.utils import to_categorical\n",
        "from tensorflow.keras.layers import Input , Dense\n",
        "from tensorflow.keras.models import Sequential\n",
        "from tensorflow.keras.optimizers import SGD\n",
        "import numpy as np"
      ]
    },
    {
      "cell_type": "code",
      "source": [
        "(xtrain,ytrain) , (xtest,ytest) = mnist.load_data()"
      ],
      "metadata": {
        "colab": {
          "base_uri": "https://localhost:8080/"
        },
        "id": "Fa-Wbp9JX3i3",
        "outputId": "1668ffac-eec9-4f1c-ced3-442e046e5179"
      },
      "execution_count": null,
      "outputs": [
        {
          "output_type": "stream",
          "name": "stdout",
          "text": [
            "Downloading data from https://storage.googleapis.com/tensorflow/tf-keras-datasets/mnist.npz\n",
            "11493376/11490434 [==============================] - 0s 0us/step\n",
            "11501568/11490434 [==============================] - 0s 0us/step\n"
          ]
        }
      ]
    },
    {
      "cell_type": "code",
      "source": [
        "xtrain.shape"
      ],
      "metadata": {
        "colab": {
          "base_uri": "https://localhost:8080/"
        },
        "id": "LKWcG6FpYjeM",
        "outputId": "91b5c7b2-2ad0-4c91-ebaf-56f740fa9d18"
      },
      "execution_count": null,
      "outputs": [
        {
          "output_type": "execute_result",
          "data": {
            "text/plain": [
              "(60000, 28, 28)"
            ]
          },
          "metadata": {},
          "execution_count": 3
        }
      ]
    },
    {
      "cell_type": "code",
      "source": [
        "ytrain.shape"
      ],
      "metadata": {
        "colab": {
          "base_uri": "https://localhost:8080/"
        },
        "id": "fz5URgmCYlk0",
        "outputId": "43da4fcd-ea25-41dc-917c-a5a49e231669"
      },
      "execution_count": null,
      "outputs": [
        {
          "output_type": "execute_result",
          "data": {
            "text/plain": [
              "(60000,)"
            ]
          },
          "metadata": {},
          "execution_count": 4
        }
      ]
    },
    {
      "cell_type": "code",
      "source": [
        "xtest.shape"
      ],
      "metadata": {
        "colab": {
          "base_uri": "https://localhost:8080/"
        },
        "id": "tuDCydLNYoDM",
        "outputId": "e8618bc5-4501-4613-c033-f3696bd67f3d"
      },
      "execution_count": null,
      "outputs": [
        {
          "output_type": "execute_result",
          "data": {
            "text/plain": [
              "(10000, 28, 28)"
            ]
          },
          "metadata": {},
          "execution_count": 5
        }
      ]
    },
    {
      "cell_type": "code",
      "source": [
        "x_train = xtrain.reshape(60000, 784)\n",
        "y_train_ohe = to_categorical(ytrain)\n",
        "x_test = xtest.reshape(10000, 784)\n",
        "y_test_ohe = to_categorical(ytest)"
      ],
      "metadata": {
        "id": "EahTJbe7YrGc"
      },
      "execution_count": null,
      "outputs": []
    },
    {
      "cell_type": "code",
      "source": [
        "x_train.shape"
      ],
      "metadata": {
        "colab": {
          "base_uri": "https://localhost:8080/"
        },
        "id": "bTVCjUcsY3U8",
        "outputId": "a718b713-e424-444a-948d-fc3e623c627d"
      },
      "execution_count": null,
      "outputs": [
        {
          "output_type": "execute_result",
          "data": {
            "text/plain": [
              "(60000, 784)"
            ]
          },
          "metadata": {},
          "execution_count": 9
        }
      ]
    },
    {
      "cell_type": "code",
      "source": [
        "y_train_ohe"
      ],
      "metadata": {
        "colab": {
          "base_uri": "https://localhost:8080/"
        },
        "id": "KLMg8ZtCZyru",
        "outputId": "5f17fc97-570c-43cb-f77f-c04f5ad35a6a"
      },
      "execution_count": null,
      "outputs": [
        {
          "output_type": "execute_result",
          "data": {
            "text/plain": [
              "array([[0., 0., 0., ..., 0., 0., 0.],\n",
              "       [1., 0., 0., ..., 0., 0., 0.],\n",
              "       [0., 0., 0., ..., 0., 0., 0.],\n",
              "       ...,\n",
              "       [0., 0., 0., ..., 0., 0., 0.],\n",
              "       [0., 0., 0., ..., 0., 0., 0.],\n",
              "       [0., 0., 0., ..., 0., 1., 0.]], dtype=float32)"
            ]
          },
          "metadata": {},
          "execution_count": 11
        }
      ]
    },
    {
      "cell_type": "code",
      "source": [
        "model = Sequential() #model initialization\n"
      ],
      "metadata": {
        "id": "D77yuo1rZ0nc"
      },
      "execution_count": null,
      "outputs": []
    },
    {
      "cell_type": "code",
      "source": [
        "model.add(Input(shape=(784,))) #input layer\n",
        "model.add(Dense(256,activation='relu')) #hidden layer\n",
        "model.add(Dense(10,activation='softmax')) #output layer"
      ],
      "metadata": {
        "id": "BzWeQLlxaTuL"
      },
      "execution_count": null,
      "outputs": []
    },
    {
      "cell_type": "code",
      "source": [
        "#model compilation\n",
        "model.compile(optimizer=SGD(learning_rate=0.01),\n",
        "              loss = 'categorical_crossentropy',\n",
        "              metrics = 'accuracy')"
      ],
      "metadata": {
        "id": "i3CQMDhBbXNa"
      },
      "execution_count": null,
      "outputs": []
    },
    {
      "cell_type": "code",
      "source": [
        "#fit the model\n",
        "model.fit(x=x_train,\n",
        "          y=y_train_ohe,\n",
        "          epochs = 30,\n",
        "          batch_size = 1000,\n",
        "          validation_data = (x_test, y_test_ohe))"
      ],
      "metadata": {
        "colab": {
          "base_uri": "https://localhost:8080/"
        },
        "id": "T62ogt6jcFEb",
        "outputId": "a4aa950c-cd2f-44bf-8103-c5f760c5e5da"
      },
      "execution_count": null,
      "outputs": [
        {
          "output_type": "stream",
          "name": "stdout",
          "text": [
            "Epoch 1/30\n",
            "60/60 [==============================] - 2s 24ms/step - loss: 505.0710 - accuracy: 0.3471 - val_loss: 1.5374 - val_accuracy: 0.4806\n",
            "Epoch 2/30\n",
            "60/60 [==============================] - 1s 22ms/step - loss: 1.4284 - accuracy: 0.5363 - val_loss: 1.3067 - val_accuracy: 0.5835\n",
            "Epoch 3/30\n",
            "60/60 [==============================] - 1s 21ms/step - loss: 1.2544 - accuracy: 0.5918 - val_loss: 1.1593 - val_accuracy: 0.6155\n",
            "Epoch 4/30\n",
            "60/60 [==============================] - 1s 21ms/step - loss: 1.2647 - accuracy: 0.5910 - val_loss: 1.1969 - val_accuracy: 0.6337\n",
            "Epoch 5/30\n",
            "60/60 [==============================] - 1s 21ms/step - loss: 1.1291 - accuracy: 0.6431 - val_loss: 1.0439 - val_accuracy: 0.6478\n",
            "Epoch 6/30\n",
            "60/60 [==============================] - 1s 21ms/step - loss: 1.0387 - accuracy: 0.6693 - val_loss: 0.9446 - val_accuracy: 0.6931\n",
            "Epoch 7/30\n",
            "60/60 [==============================] - 1s 21ms/step - loss: 1.0593 - accuracy: 0.6654 - val_loss: 0.9683 - val_accuracy: 0.7008\n",
            "Epoch 8/30\n",
            "60/60 [==============================] - 1s 21ms/step - loss: 0.9395 - accuracy: 0.6905 - val_loss: 0.8934 - val_accuracy: 0.7020\n",
            "Epoch 9/30\n",
            "60/60 [==============================] - 1s 21ms/step - loss: 0.8363 - accuracy: 0.7476 - val_loss: 0.8293 - val_accuracy: 0.7739\n",
            "Epoch 10/30\n",
            "60/60 [==============================] - 1s 21ms/step - loss: 0.6947 - accuracy: 0.8074 - val_loss: 0.6143 - val_accuracy: 0.8551\n",
            "Epoch 11/30\n",
            "60/60 [==============================] - 1s 21ms/step - loss: 0.6309 - accuracy: 0.8443 - val_loss: 0.5660 - val_accuracy: 0.8746\n",
            "Epoch 12/30\n",
            "60/60 [==============================] - 1s 21ms/step - loss: 0.5845 - accuracy: 0.8606 - val_loss: 0.5508 - val_accuracy: 0.8849\n",
            "Epoch 13/30\n",
            "60/60 [==============================] - 1s 21ms/step - loss: 0.5435 - accuracy: 0.8720 - val_loss: 0.5041 - val_accuracy: 0.8868\n",
            "Epoch 14/30\n",
            "60/60 [==============================] - 1s 21ms/step - loss: 0.5257 - accuracy: 0.8737 - val_loss: 0.4936 - val_accuracy: 0.8765\n",
            "Epoch 15/30\n",
            "60/60 [==============================] - 1s 22ms/step - loss: 0.5490 - accuracy: 0.8637 - val_loss: 0.6401 - val_accuracy: 0.8383\n",
            "Epoch 16/30\n",
            "60/60 [==============================] - 1s 22ms/step - loss: 0.5105 - accuracy: 0.8760 - val_loss: 0.4706 - val_accuracy: 0.8927\n",
            "Epoch 17/30\n",
            "60/60 [==============================] - 1s 22ms/step - loss: 0.4956 - accuracy: 0.8818 - val_loss: 0.4626 - val_accuracy: 0.9011\n",
            "Epoch 18/30\n",
            "60/60 [==============================] - 1s 22ms/step - loss: 0.4694 - accuracy: 0.8874 - val_loss: 0.4586 - val_accuracy: 0.8946\n",
            "Epoch 19/30\n",
            "60/60 [==============================] - 1s 22ms/step - loss: 0.4764 - accuracy: 0.8855 - val_loss: 0.4632 - val_accuracy: 0.9032\n",
            "Epoch 20/30\n",
            "60/60 [==============================] - 1s 22ms/step - loss: 0.5002 - accuracy: 0.8842 - val_loss: 0.4787 - val_accuracy: 0.8936\n",
            "Epoch 21/30\n",
            "60/60 [==============================] - 1s 22ms/step - loss: 0.4378 - accuracy: 0.8979 - val_loss: 0.4397 - val_accuracy: 0.8935\n",
            "Epoch 22/30\n",
            "60/60 [==============================] - 1s 22ms/step - loss: 0.4350 - accuracy: 0.8965 - val_loss: 0.4375 - val_accuracy: 0.9033\n",
            "Epoch 23/30\n",
            "60/60 [==============================] - 1s 22ms/step - loss: 0.4194 - accuracy: 0.8975 - val_loss: 0.4480 - val_accuracy: 0.8932\n",
            "Epoch 24/30\n",
            "60/60 [==============================] - 1s 22ms/step - loss: 0.4974 - accuracy: 0.8698 - val_loss: 0.5915 - val_accuracy: 0.8220\n",
            "Epoch 25/30\n",
            "60/60 [==============================] - 1s 22ms/step - loss: 0.5808 - accuracy: 0.8295 - val_loss: 0.5781 - val_accuracy: 0.8409\n",
            "Epoch 26/30\n",
            "60/60 [==============================] - 1s 22ms/step - loss: 0.5646 - accuracy: 0.8424 - val_loss: 0.5043 - val_accuracy: 0.8666\n",
            "Epoch 27/30\n",
            "60/60 [==============================] - 1s 22ms/step - loss: 0.4919 - accuracy: 0.8756 - val_loss: 0.4506 - val_accuracy: 0.9002\n",
            "Epoch 28/30\n",
            "60/60 [==============================] - 2s 31ms/step - loss: 0.4285 - accuracy: 0.8972 - val_loss: 0.4635 - val_accuracy: 0.8853\n",
            "Epoch 29/30\n",
            "60/60 [==============================] - 2s 32ms/step - loss: 0.4303 - accuracy: 0.8924 - val_loss: 0.4595 - val_accuracy: 0.8939\n",
            "Epoch 30/30\n",
            "60/60 [==============================] - 1s 22ms/step - loss: 0.4060 - accuracy: 0.9054 - val_loss: 0.4215 - val_accuracy: 0.9043\n"
          ]
        },
        {
          "output_type": "execute_result",
          "data": {
            "text/plain": [
              "<keras.callbacks.History at 0x7f49a8953b50>"
            ]
          },
          "metadata": {},
          "execution_count": 15
        }
      ]
    },
    {
      "cell_type": "code",
      "source": [
        "train_loss = model.history.history['loss']\n",
        "val_loss = model.history.history['val_loss']\n",
        "train_Accuracy = model.history.history['accuracy']\n",
        "val_accuracy = model.history.history['val_accuracy']\n"
      ],
      "metadata": {
        "id": "1cy_aYQwcTvC"
      },
      "execution_count": null,
      "outputs": []
    },
    {
      "cell_type": "code",
      "source": [
        "plt.plot(train_loss)\n",
        "plt.plot(val_loss)\n",
        "plt.xlabel('Epoch')\n",
        "plt.ylabel('Loss')\n",
        "plt.title('Loss Curve')\n",
        "plt.legend(['Train','Validation'])\n",
        "plt.grid()\n",
        "plt.show()\n"
      ],
      "metadata": {
        "colab": {
          "base_uri": "https://localhost:8080/",
          "height": 295
        },
        "id": "psQXifTWc5Wi",
        "outputId": "81f80e0f-a55d-47db-e902-2fbe4da12f3e"
      },
      "execution_count": null,
      "outputs": [
        {
          "output_type": "display_data",
          "data": {
            "text/plain": [
              "<Figure size 432x288 with 1 Axes>"
            ],
            "image/png": "[encoded data removed]"
          },
          "metadata": {
            "needs_background": "light"
          }
        }
      ]
    },
    {
      "cell_type": "code",
      "source": [
        "plt.plot(train_Accuracy)\n",
        "plt.plot(val_accuracy)\n",
        "plt.xlabel(\"Epoch\")\n",
        "plt.ylabel(\"Accuracy\")\n",
        "plt.title(\"ACCURACY CURVE\")\n",
        "plt.legend(['Train', 'Validation'])\n",
        "plt.grid()\n",
        "plt.show()"
      ],
      "metadata": {
        "colab": {
          "base_uri": "https://localhost:8080/",
          "height": 295
        },
        "id": "TB-Ms-INeAMe",
        "outputId": "4dcf9fce-eb2c-4bd1-a0b6-08e80d4a2431"
      },
      "execution_count": null,
      "outputs": [
        {
          "output_type": "display_data",
          "data": {
            "text/plain": [
              "<Figure size 432x288 with 1 Axes>"
            ],
            "image/png": "[encoded data removed]"
          },
          "metadata": {
            "needs_background": "light"
          }
        }
      ]
    },
    {
      "cell_type": "code",
      "source": [
        "#viewing the image\n",
        "\n",
        "x_train[10]"
      ],
      "metadata": {
        "colab": {
          "base_uri": "https://localhost:8080/"
        },
        "id": "qRc48KxWeU1J",
        "outputId": "aa3c4075-c844-4d1e-b29e-ff4bee407009"
      },
      "execution_count": null,
      "outputs": [
        {
          "output_type": "execute_result",
          "data": {
            "text/plain": [
              "array([  0,   0,   0,   0,   0,   0,   0,   0,   0,   0,   0,   0,   0,\n",
              "         0,   0,   0,   0,   0,   0,   0,   0,   0,   0,   0,   0,   0,\n",
              "         0,   0,   0,   0,   0,   0,   0,   0,   0,   0,   0,   0,   0,\n",
              "         0,   0,   0,   0,   0,   0,   0,   0,   0,   0,   0,   0,   0,\n",
              "         0,   0,   0,   0,   0,   0,   0,   0,   0,   0,   0,   0,   0,\n",
              "         0,   0,   0,   0,   0,   0,   0,   0,   0,   0,   0,   0,   0,\n",
              "         0,   0,   0,   0,   0,   0,   0,   0,   0,   0,   0,   0,   0,\n",
              "         0,   0,   0,   0,   0,   0,   0,   0,   0,   0,   0,   0,   0,\n",
              "         0,   0,   0,   0,   0,   0,   0,   0,   0,   0,   0,   0,   0,\n",
              "         0,   0,   0,   0,   0,   0,  42, 118, 219, 166, 118, 118,   6,\n",
              "         0,   0,   0,   0,   0,   0,   0,   0,   0,   0,   0,   0,   0,\n",
              "         0,   0,   0,   0,   0,   0,   0, 103, 242, 254, 254, 254, 254,\n",
              "       254,  66,   0,   0,   0,   0,   0,   0,   0,   0,   0,   0,   0,\n",
              "         0,   0,   0,   0,   0,   0,   0,   0,   0,  18, 232, 254, 254,\n",
              "       254, 254, 254, 238,  70,   0,   0,   0,   0,   0,   0,   0,   0,\n",
              "         0,   0,   0,   0,   0,   0,   0,   0,   0,   0,   0,   0, 104,\n",
              "       244, 254, 224, 254, 254, 254, 141,   0,   0,   0,   0,   0,   0,\n",
              "         0,   0,   0,   0,   0,   0,   0,   0,   0,   0,   0,   0,   0,\n",
              "         0,   0, 207, 254, 210, 254, 254, 254,  34,   0,   0,   0,   0,\n",
              "         0,   0,   0,   0,   0,   0,   0,   0,   0,   0,   0,   0,   0,\n",
              "         0,   0,   0,   0,  84, 206, 254, 254, 254, 254,  41,   0,   0,\n",
              "         0,   0,   0,   0,   0,   0,   0,   0,   0,   0,   0,   0,   0,\n",
              "         0,   0,   0,   0,   0,   0,   0,  24, 209, 254, 254, 254, 171,\n",
              "         0,   0,   0,   0,   0,   0,   0,   0,   0,   0,   0,   0,   0,\n",
              "         0,   0,   0,   0,   0,   0,   0,   0,  91, 137, 253, 254, 254,\n",
              "       254, 112,   0,   0,   0,   0,   0,   0,   0,   0,   0,   0,   0,\n",
              "         0,   0,   0,   0,   0,   0,   0,   0,  40, 214, 250, 254, 254,\n",
              "       254, 254, 254,  34,   0,   0,   0,   0,   0,   0,   0,   0,   0,\n",
              "         0,   0,   0,   0,   0,   0,   0,   0,   0,   0,  81, 247, 254,\n",
              "       254, 254, 254, 254, 254, 146,   0,   0,   0,   0,   0,   0,   0,\n",
              "         0,   0,   0,   0,   0,   0,   0,   0,   0,   0,   0,   0,   0,\n",
              "       110, 246, 254, 254, 254, 254, 254, 171,   0,   0,   0,   0,   0,\n",
              "         0,   0,   0,   0,   0,   0,   0,   0,   0,   0,   0,   0,   0,\n",
              "         0,   0,   0,  73,  89,  89,  93, 240, 254, 171,   0,   0,   0,\n",
              "         0,   0,   0,   0,   0,   0,   0,   0,   0,   0,   0,   0,   0,\n",
              "         0,   0,   0,   0,   0,   0,   0,   0,   1, 128, 254, 219,  31,\n",
              "         0,   0,   0,   0,   0,   0,   0,   0,   0,   0,   0,   0,   0,\n",
              "         0,   0,   0,   0,   0,   0,   0,   0,   0,   0,   7, 254, 254,\n",
              "       214,  28,   0,   0,   0,   0,   0,   0,   0,   0,   0,   0,   0,\n",
              "         0,   0,   0,   0,   0,   0,   0,   0,   0,   0,   0,   0, 138,\n",
              "       254, 254, 116,   0,   0,   0,   0,   0,   0,   0,   0,   0,   0,\n",
              "         0,   0,   0,   0,   0,  19, 177,  90,   0,   0,   0,   0,   0,\n",
              "        25, 240, 254, 254,  34,   0,   0,   0,   0,   0,   0,   0,   0,\n",
              "         0,   0,   0,   0,   0,   0,   0, 164, 254, 215,  63,  36,   0,\n",
              "        51,  89, 206, 254, 254, 139,   8,   0,   0,   0,   0,   0,   0,\n",
              "         0,   0,   0,   0,   0,   0,   0,   0,   0,  57, 197, 254, 254,\n",
              "       222, 180, 241, 254, 254, 253, 213,  11,   0,   0,   0,   0,   0,\n",
              "         0,   0,   0,   0,   0,   0,   0,   0,   0,   0,   0,   0, 140,\n",
              "       105, 254, 254, 254, 254, 254, 254, 236,   0,   0,   0,   0,   0,\n",
              "         0,   0,   0,   0,   0,   0,   0,   0,   0,   0,   0,   0,   0,\n",
              "         0,   0,   7, 117, 117, 165, 254, 254, 239,  50,   0,   0,   0,\n",
              "         0,   0,   0,   0,   0,   0,   0,   0,   0,   0,   0,   0,   0,\n",
              "         0,   0,   0,   0,   0,   0,   0,   0,   0,   0,   0,   0,   0,\n",
              "         0,   0,   0,   0,   0,   0,   0,   0,   0,   0,   0,   0,   0,\n",
              "         0,   0,   0,   0,   0,   0,   0,   0,   0,   0,   0,   0,   0,\n",
              "         0,   0,   0,   0,   0,   0,   0,   0,   0,   0,   0,   0,   0,\n",
              "         0,   0,   0,   0,   0,   0,   0,   0,   0,   0,   0,   0,   0,\n",
              "         0,   0,   0,   0,   0,   0,   0,   0,   0,   0,   0,   0,   0,\n",
              "         0,   0,   0,   0,   0,   0,   0,   0,   0,   0,   0,   0,   0,\n",
              "         0,   0,   0,   0,   0,   0,   0,   0,   0,   0,   0,   0,   0,\n",
              "         0,   0,   0,   0], dtype=uint8)"
            ]
          },
          "metadata": {},
          "execution_count": 20
        }
      ]
    },
    {
      "cell_type": "code",
      "source": [
        "plt.imshow(xtrain[10],cmap='gray')\n",
        "plt.show()"
      ],
      "metadata": {
        "colab": {
          "base_uri": "https://localhost:8080/",
          "height": 265
        },
        "id": "2r7pbJGbed9q",
        "outputId": "3413399b-288e-49c5-f37d-189dac9e9022"
      },
      "execution_count": null,
      "outputs": [
        {
          "output_type": "display_data",
          "data": {
            "text/plain": [
              "<Figure size 432x288 with 1 Axes>"
            ],
            "image/png": "[encoded data removed]"
          },
          "metadata": {
            "needs_background": "light"
          }
        }
      ]
    },
    {
      "cell_type": "code",
      "source": [
        "ytrain[10]"
      ],
      "metadata": {
        "colab": {
          "base_uri": "https://localhost:8080/"
        },
        "id": "6fDLwfi4et24",
        "outputId": "d320b564-bf5b-4c50-af55-7dfbf3327d86"
      },
      "execution_count": null,
      "outputs": [
        {
          "output_type": "execute_result",
          "data": {
            "text/plain": [
              "3"
            ]
          },
          "metadata": {},
          "execution_count": 23
        }
      ]
    },
    {
      "cell_type": "code",
      "source": [
        "y_train_ohe.shape"
      ],
      "metadata": {
        "colab": {
          "base_uri": "https://localhost:8080/"
        },
        "id": "kET8284xe6GX",
        "outputId": "f6b21c12-5c0e-4c47-b10c-b861bc1b35a7"
      },
      "execution_count": null,
      "outputs": [
        {
          "output_type": "execute_result",
          "data": {
            "text/plain": [
              "(60000, 10)"
            ]
          },
          "metadata": {},
          "execution_count": 25
        }
      ]
    },
    {
      "cell_type": "code",
      "source": [],
      "metadata": {
        "id": "MpztVAbQp0rF"
      },
      "execution_count": null,
      "outputs": []
    }
  ]
}