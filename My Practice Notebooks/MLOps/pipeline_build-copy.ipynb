{
  "cells": [
    {
      "cell_type": "code",
      "source": [
        "import azureml.core\r\n",
        "from azureml.core import Workspace, Datastore\r\n",
        "\r\n",
        "ws = Workspace.from_config()"
      ],
      "outputs": [],
      "execution_count": 1,
      "metadata": {
        "gather": {
          "logged": 1662373764113
        }
      }
    },
    {
      "cell_type": "code",
      "source": [
        "datastore = Datastore.get(ws,'mlteststore')"
      ],
      "outputs": [],
      "execution_count": 3,
      "metadata": {
        "jupyter": {
          "source_hidden": false,
          "outputs_hidden": false
        },
        "nteract": {
          "transient": {
            "deleting": false
          }
        },
        "gather": {
          "logged": 1662373802324
        }
      }
    },
    {
      "cell_type": "code",
      "source": [
        "from azureml.core.compute import ComputeTarget , AmlCompute\r\n",
        "compute_name = 'nallaballeramana1'\r\n",
        "vm_size = 'Standard_E4as_v4'\r\n",
        "compute_target = ws.compute_targets[compute_name]"
      ],
      "outputs": [],
      "execution_count": 5,
      "metadata": {
        "jupyter": {
          "source_hidden": false,
          "outputs_hidden": false
        },
        "nteract": {
          "transient": {
            "deleting": false
          }
        },
        "gather": {
          "logged": 1662374265475
        }
      }
    },
    {
      "cell_type": "code",
      "source": [
        "from azureml.core.runconfig import RunConfiguration\r\n",
        "from azureml.core.conda_dependencies import CondaDependencies\r\n",
        "from azureml.core import Environment\r\n",
        "\r\n",
        "aml_run_config = RunConfiguration()\r\n",
        "#compute target as defined in Azure machine learning compute section above\r\n",
        "aml_run_config.target = compute_target\r\n",
        "\r\n",
        "USE_CURATED_ENV = True\r\n",
        "\r\n",
        "if USE_CURATED_ENV:\r\n",
        "    curated_environment = Environment.get(workspace = ws, name = 'AzureML-sklearn-0.24-ubuntu18.04-py37-cpu')\r\n",
        "    aml_run_config.environment = curated_environment\r\n",
        "else:\r\n",
        "    aml_run_config.environment.python.user_managed_dependencies =False\r\n",
        "\r\n",
        "    #add some packages relied on by data prep step\r\n",
        "    aml_run_config.environment.python.conda_dependencies =CondaDependencies.create(\r\n",
        "        conda_packages = ['Pandas','scikit-learn'],\r\n",
        "        pip_packages = ['azureml-sdk', 'azureml-dataset-runtime[fuse,pandas]'],\r\n",
        "        pin_sdk_version = False\r\n",
        "    )\r\n"
      ],
      "outputs": [],
      "execution_count": 7,
      "metadata": {
        "jupyter": {
          "source_hidden": false,
          "outputs_hidden": false
        },
        "nteract": {
          "transient": {
            "deleting": false
          }
        },
        "gather": {
          "logged": 1662375576140
        }
      }
    },
    {
      "cell_type": "code",
      "source": [
        "from azureml.pipeline.steps import PythonScriptStep\r\n",
        "#dataprep_source_dir = \"./dataprep_src\"\r\n",
        "\r\n",
        "entry_point = 'Python_Script.ipynb'"
      ],
      "outputs": [],
      "execution_count": 6,
      "metadata": {
        "jupyter": {
          "source_hidden": false,
          "outputs_hidden": false
        },
        "nteract": {
          "transient": {
            "deleting": false
          }
        },
        "gather": {
          "logged": 1662375395398
        }
      }
    },
    {
      "cell_type": "code",
      "source": [
        "py_script_run_step = PythonScriptStep(\r\n",
        "    script_name = entry_point,\r\n",
        "    compute_target = compute_target,\r\n",
        "    runconfig = aml_run_config,\r\n",
        "    allow_reuse = False\r\n",
        ")"
      ],
      "outputs": [],
      "execution_count": 10,
      "metadata": {
        "jupyter": {
          "source_hidden": false,
          "outputs_hidden": false
        },
        "nteract": {
          "transient": {
            "deleting": false
          }
        },
        "gather": {
          "logged": 1662375778402
        }
      }
    },
    {
      "cell_type": "code",
      "source": [
        "pipeline_steps = [py_script_run_step]"
      ],
      "outputs": [],
      "execution_count": 11,
      "metadata": {
        "jupyter": {
          "source_hidden": false,
          "outputs_hidden": false
        },
        "nteract": {
          "transient": {
            "deleting": false
          }
        },
        "gather": {
          "logged": 1662375843043
        }
      }
    },
    {
      "cell_type": "code",
      "source": [
        "from azureml.pipeline.core import Pipeline\r\n",
        "#building the pipelne\r\n",
        "pipeline1 = Pipeline(workspace = ws, steps= [pipeline_steps])"
      ],
      "outputs": [],
      "execution_count": 13,
      "metadata": {
        "jupyter": {
          "source_hidden": false,
          "outputs_hidden": false
        },
        "nteract": {
          "transient": {
            "deleting": false
          }
        },
        "gather": {
          "logged": 1662376243813
        }
      }
    },
    {
      "cell_type": "code",
      "source": [
        "from azureml.core import Experiment\r\n",
        "#submit the pipeline to be run\r\n",
        "pipeline_run1 = Experiment(ws, 'First_trial_of_custom_pipeline').submit(pipeline1)\r\n",
        "pipeline_run1.wait_for_completion(show_output = True)"
      ],
      "outputs": [
        {
          "output_type": "stream",
          "name": "stdout",
          "text": "Submitted PipelineRun 91a28d35-1baf-498f-ac53-38443fcddda8\nLink to Azure Machine Learning Portal: https://ml.azure.com/runs/91a28d35-1baf-498f-ac53-38443fcddda8?wsid=/subscriptions/3739307c-4f3c-4bc6-b980-08d7dccd9bbd/resourcegroups/testgroup/workspaces/ml_testing_space&tid=45365ad3-eb1f-4a19-9433-e9528c41f196\nPipelineRunId: 91a28d35-1baf-498f-ac53-38443fcddda8\nLink to Azure Machine Learning Portal: https://ml.azure.com/runs/91a28d35-1baf-498f-ac53-38443fcddda8?wsid=/subscriptions/3739307c-4f3c-4bc6-b980-08d7dccd9bbd/resourcegroups/testgroup/workspaces/ml_testing_space&tid=45365ad3-eb1f-4a19-9433-e9528c41f196\nPipelineRun Status: NotStarted\nPipelineRun Status: Running\n\n\nStepRunId: e46f89d7-fb8a-4606-b2ca-ea3614f2b51d\nLink to Azure Machine Learning Portal: https://ml.azure.com/runs/e46f89d7-fb8a-4606-b2ca-ea3614f2b51d?wsid=/subscriptions/3739307c-4f3c-4bc6-b980-08d7dccd9bbd/resourcegroups/testgroup/workspaces/ml_testing_space&tid=45365ad3-eb1f-4a19-9433-e9528c41f196\nStepRun( Python_Script.ipynb ) Status: Running\n\nStepRun(Python_Script.ipynb) Execution Summary\n===============================================\nStepRun( Python_Script.ipynb ) Status: Failed\n\nWarnings:\nAzureMLCompute job failed.\nExecutionFailed: [REDACTED]\n\texit_codes: 1\n{\"NonCompliant\":\"Process 'python' exited with code 1 and error message 'Execution failed. Process exited with status code 1. Error: Traceback (most recent call last):\\n  File \\\"Python_Script.ipynb\\\", line 50, in <module>\\n    \\\"source_hidden\\\": false,\\nNa\n"
        },
        {
          "output_type": "error",
          "ename": "ActivityFailedException",
          "evalue": "ActivityFailedException:\n\tMessage: Activity Failed:\n{\n    \"error\": {\n        \"code\": \"UserError\",\n        \"message\": \"{\\\"NonCompliant\\\":\\\"Process 'python' exited with code 1 and error message 'Execution failed. Process exited with status code 1. Error: Traceback (most recent call last):\\\\n  File \\\\\\\"Python_Script.ipynb\\\\\\\", line 50, in <module>\\\\n    \\\\\\\"source_hidden\\\\\\\": false,\\\\nNameError: name 'false' is not defined\\\\n\\\\n'. Please check the log file 'user_logs/std_log.txt' for more details.\\\"}\\n{\\n  \\\"code\\\": \\\"ExecutionFailed\\\",\\n  \\\"target\\\": \\\"\\\",\\n  \\\"category\\\": \\\"UserError\\\",\\n  \\\"error_details\\\": [\\n    {\\n      \\\"key\\\": \\\"exit_codes\\\",\\n      \\\"value\\\": \\\"1\\\"\\n    }\\n  ]\\n}\",\n        \"messageParameters\": {},\n        \"details\": []\n    },\n    \"time\": \"0001-01-01T00:00:00.000Z\"\n}\n\tInnerException None\n\tErrorResponse \n{\n    \"error\": {\n        \"message\": \"Activity Failed:\\n{\\n    \\\"error\\\": {\\n        \\\"code\\\": \\\"UserError\\\",\\n        \\\"message\\\": \\\"{\\\\\\\"NonCompliant\\\\\\\":\\\\\\\"Process 'python' exited with code 1 and error message 'Execution failed. Process exited with status code 1. Error: Traceback (most recent call last):\\\\\\\\n  File \\\\\\\\\\\\\\\"Python_Script.ipynb\\\\\\\\\\\\\\\", line 50, in <module>\\\\\\\\n    \\\\\\\\\\\\\\\"source_hidden\\\\\\\\\\\\\\\": false,\\\\\\\\nNameError: name 'false' is not defined\\\\\\\\n\\\\\\\\n'. Please check the log file 'user_logs/std_log.txt' for more details.\\\\\\\"}\\\\n{\\\\n  \\\\\\\"code\\\\\\\": \\\\\\\"ExecutionFailed\\\\\\\",\\\\n  \\\\\\\"target\\\\\\\": \\\\\\\"\\\\\\\",\\\\n  \\\\\\\"category\\\\\\\": \\\\\\\"UserError\\\\\\\",\\\\n  \\\\\\\"error_details\\\\\\\": [\\\\n    {\\\\n      \\\\\\\"key\\\\\\\": \\\\\\\"exit_codes\\\\\\\",\\\\n      \\\\\\\"value\\\\\\\": \\\\\\\"1\\\\\\\"\\\\n    }\\\\n  ]\\\\n}\\\",\\n        \\\"messageParameters\\\": {},\\n        \\\"details\\\": []\\n    },\\n    \\\"time\\\": \\\"0001-01-01T00:00:00.000Z\\\"\\n}\"\n    }\n}",
          "traceback": [
            "\u001b[0;31m---------------------------------------------------------------------------\u001b[0m",
            "\u001b[0;31mActivityFailedException\u001b[0m                   Traceback (most recent call last)",
            "Input \u001b[0;32mIn [23]\u001b[0m, in \u001b[0;36m<cell line: 4>\u001b[0;34m()\u001b[0m\n\u001b[1;32m      2\u001b[0m \u001b[38;5;66;03m#submit the pipeline to be run\u001b[39;00m\n\u001b[1;32m      3\u001b[0m pipeline_run1 \u001b[38;5;241m=\u001b[39m Experiment(ws, \u001b[38;5;124m'\u001b[39m\u001b[38;5;124mFirst_trial_of_custom_pipeline\u001b[39m\u001b[38;5;124m'\u001b[39m)\u001b[38;5;241m.\u001b[39msubmit(pipeline1)\n\u001b[0;32m----> 4\u001b[0m \u001b[43mpipeline_run1\u001b[49m\u001b[38;5;241;43m.\u001b[39;49m\u001b[43mwait_for_completion\u001b[49m\u001b[43m(\u001b[49m\u001b[43mshow_output\u001b[49m\u001b[43m \u001b[49m\u001b[38;5;241;43m=\u001b[39;49m\u001b[43m \u001b[49m\u001b[38;5;28;43;01mTrue\u001b[39;49;00m\u001b[43m)\u001b[49m\n",
            "File \u001b[0;32m/anaconda/envs/azureml_py38/lib/python3.8/site-packages/azureml/pipeline/core/run.py:295\u001b[0m, in \u001b[0;36mPipelineRun.wait_for_completion\u001b[0;34m(self, show_output, timeout_seconds, raise_on_error)\u001b[0m\n\u001b[1;32m    293\u001b[0m \u001b[38;5;28mprint\u001b[39m(\u001b[38;5;124m'\u001b[39m\u001b[38;5;130;01m\\n\u001b[39;00m\u001b[38;5;124m'\u001b[39m)\n\u001b[1;32m    294\u001b[0m \u001b[38;5;28;01mtry\u001b[39;00m:\n\u001b[0;32m--> 295\u001b[0m     \u001b[43mstep_run\u001b[49m\u001b[38;5;241;43m.\u001b[39;49m\u001b[43mwait_for_completion\u001b[49m\u001b[43m(\u001b[49m\u001b[43mtimeout_seconds\u001b[49m\u001b[38;5;241;43m=\u001b[39;49m\u001b[43mtimeout_seconds\u001b[49m\u001b[43m \u001b[49m\u001b[38;5;241;43m-\u001b[39;49m\u001b[43m \u001b[49m\u001b[43mtime_elapsed\u001b[49m\u001b[43m,\u001b[49m\n\u001b[1;32m    296\u001b[0m \u001b[43m                                 \u001b[49m\u001b[43mraise_on_error\u001b[49m\u001b[38;5;241;43m=\u001b[39;49m\u001b[43mraise_on_error\u001b[49m\u001b[43m)\u001b[49m\n\u001b[1;32m    297\u001b[0m \u001b[38;5;28;01mexcept\u001b[39;00m \u001b[38;5;167;01mTypeError\u001b[39;00m \u001b[38;5;28;01mas\u001b[39;00m e:\n\u001b[1;32m    298\u001b[0m     \u001b[38;5;66;03m# If there are package conflicts in the user's environment, the run rehydration\u001b[39;00m\n\u001b[1;32m    299\u001b[0m     \u001b[38;5;66;03m# will not work and we will receive a Run object instead of StepRun.\u001b[39;00m\n\u001b[1;32m    300\u001b[0m     \u001b[38;5;66;03m# Run.wait_for_completion() does not have a parameter timeout_seconds, which\u001b[39;00m\n\u001b[1;32m    301\u001b[0m     \u001b[38;5;66;03m# will generate a TypeError here.  As a workaround, call the method without\u001b[39;00m\n\u001b[1;32m    302\u001b[0m     \u001b[38;5;66;03m# this parameter.\u001b[39;00m\n\u001b[1;32m    303\u001b[0m     \u001b[38;5;28;01mif\u001b[39;00m \u001b[38;5;129;01mnot\u001b[39;00m \u001b[38;5;28misinstance\u001b[39m(step_run, StepRun):\n",
            "File \u001b[0;32m/anaconda/envs/azureml_py38/lib/python3.8/site-packages/azureml/pipeline/core/run.py:738\u001b[0m, in \u001b[0;36mStepRun.wait_for_completion\u001b[0;34m(self, show_output, timeout_seconds, raise_on_error)\u001b[0m\n\u001b[1;32m    736\u001b[0m \u001b[38;5;28;01mif\u001b[39;00m show_output:\n\u001b[1;32m    737\u001b[0m     \u001b[38;5;28;01mtry\u001b[39;00m:\n\u001b[0;32m--> 738\u001b[0m         \u001b[38;5;28;01mreturn\u001b[39;00m \u001b[38;5;28;43mself\u001b[39;49m\u001b[38;5;241;43m.\u001b[39;49m\u001b[43m_stream_run_output\u001b[49m\u001b[43m(\u001b[49m\u001b[43mtimeout_seconds\u001b[49m\u001b[38;5;241;43m=\u001b[39;49m\u001b[43mtimeout_seconds\u001b[49m\u001b[43m,\u001b[49m\n\u001b[1;32m    739\u001b[0m \u001b[43m                                       \u001b[49m\u001b[43mraise_on_error\u001b[49m\u001b[38;5;241;43m=\u001b[39;49m\u001b[43mraise_on_error\u001b[49m\u001b[43m)\u001b[49m\n\u001b[1;32m    740\u001b[0m     \u001b[38;5;28;01mexcept\u001b[39;00m \u001b[38;5;167;01mKeyboardInterrupt\u001b[39;00m:\n\u001b[1;32m    741\u001b[0m         error_message \u001b[38;5;241m=\u001b[39m \u001b[38;5;124m\"\u001b[39m\u001b[38;5;124mThe output streaming for the run interrupted.\u001b[39m\u001b[38;5;130;01m\\n\u001b[39;00m\u001b[38;5;124m\"\u001b[39m \\\n\u001b[1;32m    742\u001b[0m                         \u001b[38;5;124m\"\u001b[39m\u001b[38;5;124mBut the run is still executing on the compute target. \u001b[39m\u001b[38;5;130;01m\\n\u001b[39;00m\u001b[38;5;124m\"\u001b[39m \\\n\u001b[1;32m    743\u001b[0m                         \u001b[38;5;124m\"\u001b[39m\u001b[38;5;124mDetails for canceling the run can be found here: \u001b[39m\u001b[38;5;124m\"\u001b[39m \\\n\u001b[1;32m    744\u001b[0m                         \u001b[38;5;124m\"\u001b[39m\u001b[38;5;124mhttps://aka.ms/aml-docs-cancel-run\u001b[39m\u001b[38;5;124m\"\u001b[39m\n",
            "File \u001b[0;32m/anaconda/envs/azureml_py38/lib/python3.8/site-packages/azureml/pipeline/core/run.py:831\u001b[0m, in \u001b[0;36mStepRun._stream_run_output\u001b[0;34m(self, timeout_seconds, raise_on_error)\u001b[0m\n\u001b[1;32m    829\u001b[0m     \u001b[38;5;28mprint\u001b[39m(json\u001b[38;5;241m.\u001b[39mdumps(error, indent\u001b[38;5;241m=\u001b[39m\u001b[38;5;241m4\u001b[39m))\n\u001b[1;32m    830\u001b[0m \u001b[38;5;28;01mif\u001b[39;00m error \u001b[38;5;129;01mand\u001b[39;00m raise_on_error:\n\u001b[0;32m--> 831\u001b[0m     \u001b[38;5;28;01mraise\u001b[39;00m ActivityFailedException(error_details\u001b[38;5;241m=\u001b[39mjson\u001b[38;5;241m.\u001b[39mdumps(error, indent\u001b[38;5;241m=\u001b[39m\u001b[38;5;241m4\u001b[39m))\n\u001b[1;32m    833\u001b[0m \u001b[38;5;28mprint\u001b[39m(final_details)\n\u001b[1;32m    834\u001b[0m \u001b[38;5;28mprint\u001b[39m(\u001b[38;5;124m'\u001b[39m\u001b[38;5;124m'\u001b[39m, flush\u001b[38;5;241m=\u001b[39m\u001b[38;5;28;01mTrue\u001b[39;00m)\n",
            "\u001b[0;31mActivityFailedException\u001b[0m: ActivityFailedException:\n\tMessage: Activity Failed:\n{\n    \"error\": {\n        \"code\": \"UserError\",\n        \"message\": \"{\\\"NonCompliant\\\":\\\"Process 'python' exited with code 1 and error message 'Execution failed. Process exited with status code 1. Error: Traceback (most recent call last):\\\\n  File \\\\\\\"Python_Script.ipynb\\\\\\\", line 50, in <module>\\\\n    \\\\\\\"source_hidden\\\\\\\": false,\\\\nNameError: name 'false' is not defined\\\\n\\\\n'. Please check the log file 'user_logs/std_log.txt' for more details.\\\"}\\n{\\n  \\\"code\\\": \\\"ExecutionFailed\\\",\\n  \\\"target\\\": \\\"\\\",\\n  \\\"category\\\": \\\"UserError\\\",\\n  \\\"error_details\\\": [\\n    {\\n      \\\"key\\\": \\\"exit_codes\\\",\\n      \\\"value\\\": \\\"1\\\"\\n    }\\n  ]\\n}\",\n        \"messageParameters\": {},\n        \"details\": []\n    },\n    \"time\": \"0001-01-01T00:00:00.000Z\"\n}\n\tInnerException None\n\tErrorResponse \n{\n    \"error\": {\n        \"message\": \"Activity Failed:\\n{\\n    \\\"error\\\": {\\n        \\\"code\\\": \\\"UserError\\\",\\n        \\\"message\\\": \\\"{\\\\\\\"NonCompliant\\\\\\\":\\\\\\\"Process 'python' exited with code 1 and error message 'Execution failed. Process exited with status code 1. Error: Traceback (most recent call last):\\\\\\\\n  File \\\\\\\\\\\\\\\"Python_Script.ipynb\\\\\\\\\\\\\\\", line 50, in <module>\\\\\\\\n    \\\\\\\\\\\\\\\"source_hidden\\\\\\\\\\\\\\\": false,\\\\\\\\nNameError: name 'false' is not defined\\\\\\\\n\\\\\\\\n'. Please check the log file 'user_logs/std_log.txt' for more details.\\\\\\\"}\\\\n{\\\\n  \\\\\\\"code\\\\\\\": \\\\\\\"ExecutionFailed\\\\\\\",\\\\n  \\\\\\\"target\\\\\\\": \\\\\\\"\\\\\\\",\\\\n  \\\\\\\"category\\\\\\\": \\\\\\\"UserError\\\\\\\",\\\\n  \\\\\\\"error_details\\\\\\\": [\\\\n    {\\\\n      \\\\\\\"key\\\\\\\": \\\\\\\"exit_codes\\\\\\\",\\\\n      \\\\\\\"value\\\\\\\": \\\\\\\"1\\\\\\\"\\\\n    }\\\\n  ]\\\\n}\\\",\\n        \\\"messageParameters\\\": {},\\n        \\\"details\\\": []\\n    },\\n    \\\"time\\\": \\\"0001-01-01T00:00:00.000Z\\\"\\n}\"\n    }\n}"
          ]
        }
      ],
      "execution_count": 23,
      "metadata": {
        "jupyter": {
          "source_hidden": false,
          "outputs_hidden": false
        },
        "nteract": {
          "transient": {
            "deleting": false
          }
        },
        "gather": {
          "logged": 1662376777526
        }
      }
    },
    {
      "cell_type": "code",
      "source": [],
      "outputs": [],
      "execution_count": null,
      "metadata": {
        "jupyter": {
          "source_hidden": false,
          "outputs_hidden": false
        },
        "nteract": {
          "transient": {
            "deleting": false
          }
        }
      }
    }
  ],
  "metadata": {
    "kernelspec": {
      "name": "python38-azureml",
      "language": "python",
      "display_name": "Python 3.8 - AzureML"
    },
    "language_info": {
      "name": "python",
      "version": "3.8.13",
      "mimetype": "text/x-python",
      "codemirror_mode": {
        "name": "ipython",
        "version": 3
      },
      "pygments_lexer": "ipython3",
      "nbconvert_exporter": "python",
      "file_extension": ".py"
    },
    "kernel_info": {
      "name": "python38-azureml"
    },
    "microsoft": {
      "host": {
        "AzureML": {
          "notebookHasBeenCompleted": true
        }
      }
    },
    "nteract": {
      "version": "nteract-front-end@1.0.0"
    }
  },
  "nbformat": 4,
  "nbformat_minor": 2
}