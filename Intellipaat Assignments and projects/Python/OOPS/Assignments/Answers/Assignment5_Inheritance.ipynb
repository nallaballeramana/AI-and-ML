{
  "nbformat": 4,
  "nbformat_minor": 0,
  "metadata": {
    "colab": {
      "name": "Assignment5 Inheritance.ipynb",
      "provenance": []
    },
    "kernelspec": {
      "name": "python3",
      "display_name": "Python 3"
    },
    "language_info": {
      "name": "python"
    }
  },
  "cells": [
    {
      "cell_type": "markdown",
      "metadata": {
        "id": "ElkJ0BrtEciy"
      },
      "source": [
        "1.Create a class named parent_Class and inside the class, initialize a global variable num as 10.\n",
        "a. Create another class named child_Class and this class should be inherited from the \n",
        "parent class.\n",
        "b. Now create an object for the child_Class and with the help of child_Class object, display \n",
        "the value of ‘num’.\n"
      ]
    },
    {
      "cell_type": "code",
      "metadata": {
        "id": "bBl30jTZEdeg"
      },
      "source": [
        "class parent_Class:\n",
        "\n",
        "  num=10\n",
        "\n",
        "class child_Class(parent_Class):\n",
        "  def fun1(self):\n",
        "    print(\"inside child class\")\n",
        "    print(\"value is:\",self.num)\n",
        "\n",
        "  \n"
      ],
      "execution_count": 7,
      "outputs": []
    },
    {
      "cell_type": "code",
      "metadata": {
        "id": "lnDKy4DLFFbv"
      },
      "source": [
        "o1=child_Class()"
      ],
      "execution_count": 8,
      "outputs": []
    },
    {
      "cell_type": "code",
      "metadata": {
        "colab": {
          "base_uri": "https://localhost:8080/"
        },
        "id": "3wA-gkY5MhJr",
        "outputId": "2a9af569-5d50-457e-a83d-f4ed737d4d52"
      },
      "source": [
        "o1.fun1()"
      ],
      "execution_count": 9,
      "outputs": [
        {
          "output_type": "stream",
          "name": "stdout",
          "text": [
            "inside child class\n",
            "value is: 10\n"
          ]
        }
      ]
    },
    {
      "cell_type": "markdown",
      "metadata": {
        "id": "Mi1xTl4BMqVr"
      },
      "source": [
        "2.Create three class named A, B, and C.\n",
        "a. Inside the A class, create a constructor. Inside the constructor, initilize 2 global variables\u0002name and age.\n",
        "b. After initializing the global variables inside the constructor, now create a funtion named \n",
        "‘details’ and that function should return the ‘name’ variable.\n",
        "c. Inside the B class, create a constructor. Inside the contructor, initialize 2 global veriables\u0002name and id.\n",
        "d. After initializing the global variables inside the constructor, now create a funtion named \n",
        "‘details’ and that function should return the ‘name’ variable.\n",
        "e. The C class should inherit from class A, and B. Inside the class C, create a constructor, \n",
        "and inside the constructor, call the contructor of class A.\n",
        "f. Now, create a method inside the class C, as get_details, and this fucntion should return \n",
        "the vaue of name.\n",
        "g. Atlast, create an object of class C, and with the help of the object, call the get_details().\n"
      ]
    },
    {
      "cell_type": "code",
      "metadata": {
        "id": "SgLGo0S0MscZ"
      },
      "source": [
        "class A:\n",
        "  def __init__(self):\n",
        "    self.name=\"Venkat\"\n",
        "    self.age=27\n",
        "  \n",
        "  def details(self):\n",
        "    print(\"Name in class A is:\",self.name)\n",
        "\n",
        "class B:\n",
        "  def __init__(self):\n",
        "    self.name=\"Ramana\"\n",
        "    self.id=101\n",
        "  \n",
        "  def details(self):\n",
        "    print(\"Name in class B is:\",self.name)\n",
        "  \n",
        "class C(A,B):\n",
        "  def __init__(self):\n",
        "    A.__init__(self)\n",
        "  \n",
        "  def get_details(self):\n",
        "    print(\"Name in class C is:\",self.name)\n"
      ],
      "execution_count": 23,
      "outputs": []
    },
    {
      "cell_type": "code",
      "metadata": {
        "id": "gIjBTBpuSbJX"
      },
      "source": [
        "obj=C()"
      ],
      "execution_count": 24,
      "outputs": []
    },
    {
      "cell_type": "code",
      "metadata": {
        "colab": {
          "base_uri": "https://localhost:8080/"
        },
        "id": "of2gSCYOSgH0",
        "outputId": "8c5fbc09-e98f-4128-971a-eeea676684e0"
      },
      "source": [
        "obj.get_details()"
      ],
      "execution_count": 25,
      "outputs": [
        {
          "output_type": "stream",
          "name": "stdout",
          "text": [
            "Name in class C is: Venkat\n"
          ]
        }
      ]
    },
    {
      "cell_type": "markdown",
      "metadata": {
        "id": "nEUm_cCfTCQ-"
      },
      "source": [
        "3. Create a class named ‘Sub1’, inside the class, generate a user defined function named ‘first’ \n",
        "and inside the function, pass the following statement in the print()- ‘This is the first function \n",
        "from Sub 1 class’.\n",
        "a. Now create another class named ‘Sub2’, and inside the class, create a function \n",
        "named ‘second’, and pass the following message in the print()- ‘This is the \n",
        "second function from the Sub 2 class’.\n",
        "b. After that, create another class named ‘Super’ and inside that class, create a \n",
        "method named ‘final’, and pass the below message in the print()- ‘This is the \n",
        "final method from the super class’.\n",
        "c. Now, create an object for the Super class and call all the 3 user defined \n",
        "methods, i.e., first(), second(), and final()"
      ]
    },
    {
      "cell_type": "code",
      "metadata": {
        "id": "4gRKX2EFTEv5"
      },
      "source": [
        "class Sub1:\n",
        "  def first(self):\n",
        "    print(\"This is the first function from Sub 1 class\")\n",
        "  \n",
        "class Sub2:\n",
        "  def second(self):\n",
        "    print(\"This is the second function from the Sub 2 class\")\n",
        "\n",
        "class Super(Sub1,Sub2):\n",
        "  def final(self):\n",
        "    print(\"This is the final method from the super class\")"
      ],
      "execution_count": 28,
      "outputs": []
    },
    {
      "cell_type": "code",
      "metadata": {
        "id": "x5InlNnXUN9I"
      },
      "source": [
        "sup=Super()"
      ],
      "execution_count": 29,
      "outputs": []
    },
    {
      "cell_type": "code",
      "metadata": {
        "colab": {
          "base_uri": "https://localhost:8080/"
        },
        "id": "k-vqxSWsUUNE",
        "outputId": "d13e6406-128c-437c-e7bb-9de19c1e43b0"
      },
      "source": [
        "sup.first()"
      ],
      "execution_count": 30,
      "outputs": [
        {
          "output_type": "stream",
          "name": "stdout",
          "text": [
            "This is the first function from Sub 1 class\n"
          ]
        }
      ]
    },
    {
      "cell_type": "code",
      "metadata": {
        "colab": {
          "base_uri": "https://localhost:8080/"
        },
        "id": "_7dZA8vnU2v9",
        "outputId": "da98f9fb-6181-4cf0-eb41-c045c651ad69"
      },
      "source": [
        "sup.second()"
      ],
      "execution_count": 31,
      "outputs": [
        {
          "output_type": "stream",
          "name": "stdout",
          "text": [
            "This is the second function from the Sub 2 class\n"
          ]
        }
      ]
    },
    {
      "cell_type": "code",
      "metadata": {
        "colab": {
          "base_uri": "https://localhost:8080/"
        },
        "id": "iSs2AgVoU6Dt",
        "outputId": "a6496411-fa1e-4180-b353-7995179d56a5"
      },
      "source": [
        "sup.final()"
      ],
      "execution_count": 32,
      "outputs": [
        {
          "output_type": "stream",
          "name": "stdout",
          "text": [
            "This is the final method from the super class\n"
          ]
        }
      ]
    },
    {
      "cell_type": "markdown",
      "metadata": {
        "id": "hTvCXIBYVAwx"
      },
      "source": [
        "4.Create a class named ‘Parent’, and inside the class, create a function named ‘fun1’ and pass \n",
        "the following message in the print()- ‘This is the message from the fun1’.\n",
        "a. Now create a class named ‘Child1’ and inside the class, create a method named ‘fun2’ \n",
        "and pass the following message in the print()- ‘This is the message from the fun2’.\n",
        "b. After that, create another class named ‘Child2’ and inside the class, create a method \n",
        "named ‘fun3’ and pass the following message in the print()- ‘This is the message from \n",
        "the fun3’.\n",
        "c. Now, create an object of Child2 class and with the help of the object, call the ‘fun1’ \n",
        "method from the ‘Parent’ class."
      ]
    },
    {
      "cell_type": "code",
      "metadata": {
        "id": "514Bw5fCVCQk"
      },
      "source": [
        "class Parent:\n",
        "  def fun1(self):\n",
        "    print(\"This is the message from the fun1 in parent class\")\n",
        "\n",
        "class Child1(Parent):\n",
        "  def fun2(self):\n",
        "    print(\"This is the message from the fun2\")\n",
        "\n",
        "class Child2(Parent):\n",
        "  def fun3(self):\n",
        "    print(\"This is the message from the fun3\")"
      ],
      "execution_count": 37,
      "outputs": []
    },
    {
      "cell_type": "code",
      "metadata": {
        "id": "fFIRKAGMWCge"
      },
      "source": [
        "ch2=Child2()"
      ],
      "execution_count": 38,
      "outputs": []
    },
    {
      "cell_type": "code",
      "metadata": {
        "colab": {
          "base_uri": "https://localhost:8080/"
        },
        "id": "-19wO1dNWG70",
        "outputId": "7f8ec842-c684-4e96-a050-36c17f80d56a"
      },
      "source": [
        "ch2.fun1()"
      ],
      "execution_count": 39,
      "outputs": [
        {
          "output_type": "stream",
          "name": "stdout",
          "text": [
            "This is the message from the fun1 in parent class\n"
          ]
        }
      ]
    },
    {
      "cell_type": "markdown",
      "metadata": {
        "id": "2wAcQlvIWY1h"
      },
      "source": [
        "5.Create a class named ‘Parent’, and inside the class, create a function named ‘fun1’ and pass \n",
        "the following message in the print()- ‘This is the message from the fun1’.\n",
        "a. Now create a class named ‘Child’ and inside the class, create a method named ‘fun2’ and \n",
        "pass the following message in the print()- ‘This is the message from the fun2’.\n",
        "b. After that, create another class named ‘Hybrid’ and inside the class, create a method \n",
        "named ‘fun3’ and pass the following message in the print()- ‘This is the message from \n",
        "the fun3’.\n",
        "c. Now, create an object of Hybrid class and with the help of the object, call the ‘fun1’, \n",
        "‘fun2’, and ‘fun3’ methods"
      ]
    },
    {
      "cell_type": "code",
      "metadata": {
        "id": "mGYXc6UUWbJs"
      },
      "source": [
        "class Parent:\n",
        "  def fun1(self):\n",
        "    print(\"This is the message from the fun1 \")\n",
        "\n",
        "class Child:\n",
        "  def fun2(self):\n",
        "    print(\"This is the message from the fun2\")\n",
        "\n",
        "class Hybrid(Parent,Child):\n",
        "  def fun3(self):\n",
        "    print(\"This is the message from the fun3\")"
      ],
      "execution_count": 42,
      "outputs": []
    },
    {
      "cell_type": "code",
      "metadata": {
        "id": "nhb4I8Q-W9B1"
      },
      "source": [
        "H1=Hybrid()"
      ],
      "execution_count": 43,
      "outputs": []
    },
    {
      "cell_type": "code",
      "metadata": {
        "colab": {
          "base_uri": "https://localhost:8080/"
        },
        "id": "wMDAjk8PXG6K",
        "outputId": "2ae08660-8811-4160-b795-11012c8409bc"
      },
      "source": [
        "H1.fun1()"
      ],
      "execution_count": 44,
      "outputs": [
        {
          "output_type": "stream",
          "name": "stdout",
          "text": [
            "This is the message from the fun1 \n"
          ]
        }
      ]
    },
    {
      "cell_type": "code",
      "metadata": {
        "colab": {
          "base_uri": "https://localhost:8080/"
        },
        "id": "AiwpoWIYXKUi",
        "outputId": "b6d4f0c9-86c4-49e7-b32a-68187076d395"
      },
      "source": [
        "H1.fun2()"
      ],
      "execution_count": 45,
      "outputs": [
        {
          "output_type": "stream",
          "name": "stdout",
          "text": [
            "This is the message from the fun2\n"
          ]
        }
      ]
    },
    {
      "cell_type": "code",
      "metadata": {
        "colab": {
          "base_uri": "https://localhost:8080/"
        },
        "id": "mYWForD6XMgU",
        "outputId": "7f06f201-46c9-4de2-b3e8-5507d40bb25b"
      },
      "source": [
        "H1.fun3()"
      ],
      "execution_count": 46,
      "outputs": [
        {
          "output_type": "stream",
          "name": "stdout",
          "text": [
            "This is the message from the fun3\n"
          ]
        }
      ]
    },
    {
      "cell_type": "code",
      "metadata": {
        "id": "T0WGZP_bXOcM"
      },
      "source": [
        ""
      ],
      "execution_count": null,
      "outputs": []
    }
  ]
}