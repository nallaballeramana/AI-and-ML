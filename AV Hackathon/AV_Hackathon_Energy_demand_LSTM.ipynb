{
  "nbformat": 4,
  "nbformat_minor": 0,
  "metadata": {
    "colab": {
      "provenance": []
    },
    "kernelspec": {
      "name": "python3",
      "display_name": "Python 3"
    },
    "language_info": {
      "name": "python"
    }
  },
  "cells": [
    {
      "cell_type": "code",
      "execution_count": 12,
      "metadata": {
        "id": "ty2iMbpB5GqB"
      },
      "outputs": [],
      "source": [
        "import pandas as pd\n",
        "import numpy as np\n",
        "import matplotlib.pyplot as plt\n",
        "from  sklearn.preprocessing import MinMaxScaler\n",
        "from statsmodels.tsa.seasonal import seasonal_decompose\n",
        "from tensorflow.keras.models import Sequential\n",
        "from tensorflow.keras.layers import LSTM,Dense\n"
      ]
    },
    {
      "cell_type": "code",
      "source": [
        "data = pd.read_csv('train.csv',parse_dates=True,index_col='datetime')\n",
        "data.head()"
      ],
      "metadata": {
        "colab": {
          "base_uri": "https://localhost:8080/",
          "height": 238
        },
        "id": "t7S46NP-6CSw",
        "outputId": "cbd50a8e-f1a5-47f0-8629-ffdf20f04b91"
      },
      "execution_count": 13,
      "outputs": [
        {
          "output_type": "execute_result",
          "data": {
            "text/plain": [
              "                     row_id       energy\n",
              "datetime                                \n",
              "2008-03-01 00:00:00       1  1259.985563\n",
              "2008-03-01 01:00:00       2  1095.541500\n",
              "2008-03-01 02:00:00       3  1056.247500\n",
              "2008-03-01 03:00:00       4  1034.742000\n",
              "2008-03-01 04:00:00       5  1026.334500"
            ],
            "text/html": [
              "\n",
              "  <div id=\"df-f1d15437-97c9-4c9b-bea0-6489033b4c4d\">\n",
              "    <div class=\"colab-df-container\">\n",
              "      <div>\n",
              "<style scoped>\n",
              "    .dataframe tbody tr th:only-of-type {\n",
              "        vertical-align: middle;\n",
              "    }\n",
              "\n",
              "    .dataframe tbody tr th {\n",
              "        vertical-align: top;\n",
              "    }\n",
              "\n",
              "    .dataframe thead th {\n",
              "        text-align: right;\n",
              "    }\n",
              "</style>\n",
              "<table border=\"1\" class=\"dataframe\">\n",
              "  <thead>\n",
              "    <tr style=\"text-align: right;\">\n",
              "      <th></th>\n",
              "      <th>row_id</th>\n",
              "      <th>energy</th>\n",
              "    </tr>\n",
              "    <tr>\n",
              "      <th>datetime</th>\n",
              "      <th></th>\n",
              "      <th></th>\n",
              "    </tr>\n",
              "  </thead>\n",
              "  <tbody>\n",
              "    <tr>\n",
              "      <th>2008-03-01 00:00:00</th>\n",
              "      <td>1</td>\n",
              "      <td>1259.985563</td>\n",
              "    </tr>\n",
              "    <tr>\n",
              "      <th>2008-03-01 01:00:00</th>\n",
              "      <td>2</td>\n",
              "      <td>1095.541500</td>\n",
              "    </tr>\n",
              "    <tr>\n",
              "      <th>2008-03-01 02:00:00</th>\n",
              "      <td>3</td>\n",
              "      <td>1056.247500</td>\n",
              "    </tr>\n",
              "    <tr>\n",
              "      <th>2008-03-01 03:00:00</th>\n",
              "      <td>4</td>\n",
              "      <td>1034.742000</td>\n",
              "    </tr>\n",
              "    <tr>\n",
              "      <th>2008-03-01 04:00:00</th>\n",
              "      <td>5</td>\n",
              "      <td>1026.334500</td>\n",
              "    </tr>\n",
              "  </tbody>\n",
              "</table>\n",
              "</div>\n",
              "      <button class=\"colab-df-convert\" onclick=\"convertToInteractive('df-f1d15437-97c9-4c9b-bea0-6489033b4c4d')\"\n",
              "              title=\"Convert this dataframe to an interactive table.\"\n",
              "              style=\"display:none;\">\n",
              "        \n",
              "  <svg xmlns=\"http://www.w3.org/2000/svg\" height=\"24px\"viewBox=\"0 0 24 24\"\n",
              "       width=\"24px\">\n",
              "    <path d=\"M0 0h24v24H0V0z\" fill=\"none\"/>\n",
              "    <path d=\"M18.56 5.44l.94 2.06.94-2.06 2.06-.94-2.06-.94-.94-2.06-.94 2.06-2.06.94zm-11 1L8.5 8.5l.94-2.06 2.06-.94-2.06-.94L8.5 2.5l-.94 2.06-2.06.94zm10 10l.94 2.06.94-2.06 2.06-.94-2.06-.94-.94-2.06-.94 2.06-2.06.94z\"/><path d=\"M17.41 7.96l-1.37-1.37c-.4-.4-.92-.59-1.43-.59-.52 0-1.04.2-1.43.59L10.3 9.45l-7.72 7.72c-.78.78-.78 2.05 0 2.83L4 21.41c.39.39.9.59 1.41.59.51 0 1.02-.2 1.41-.59l7.78-7.78 2.81-2.81c.8-.78.8-2.07 0-2.86zM5.41 20L4 18.59l7.72-7.72 1.47 1.35L5.41 20z\"/>\n",
              "  </svg>\n",
              "      </button>\n",
              "      \n",
              "  <style>\n",
              "    .colab-df-container {\n",
              "      display:flex;\n",
              "      flex-wrap:wrap;\n",
              "      gap: 12px;\n",
              "    }\n",
              "\n",
              "    .colab-df-convert {\n",
              "      background-color: #E8F0FE;\n",
              "      border: none;\n",
              "      border-radius: 50%;\n",
              "      cursor: pointer;\n",
              "      display: none;\n",
              "      fill: #1967D2;\n",
              "      height: 32px;\n",
              "      padding: 0 0 0 0;\n",
              "      width: 32px;\n",
              "    }\n",
              "\n",
              "    .colab-df-convert:hover {\n",
              "      background-color: #E2EBFA;\n",
              "      box-shadow: 0px 1px 2px rgba(60, 64, 67, 0.3), 0px 1px 3px 1px rgba(60, 64, 67, 0.15);\n",
              "      fill: #174EA6;\n",
              "    }\n",
              "\n",
              "    [theme=dark] .colab-df-convert {\n",
              "      background-color: #3B4455;\n",
              "      fill: #D2E3FC;\n",
              "    }\n",
              "\n",
              "    [theme=dark] .colab-df-convert:hover {\n",
              "      background-color: #434B5C;\n",
              "      box-shadow: 0px 1px 3px 1px rgba(0, 0, 0, 0.15);\n",
              "      filter: drop-shadow(0px 1px 2px rgba(0, 0, 0, 0.3));\n",
              "      fill: #FFFFFF;\n",
              "    }\n",
              "  </style>\n",
              "\n",
              "      <script>\n",
              "        const buttonEl =\n",
              "          document.querySelector('#df-f1d15437-97c9-4c9b-bea0-6489033b4c4d button.colab-df-convert');\n",
              "        buttonEl.style.display =\n",
              "          google.colab.kernel.accessAllowed ? 'block' : 'none';\n",
              "\n",
              "        async function convertToInteractive(key) {\n",
              "          const element = document.querySelector('#df-f1d15437-97c9-4c9b-bea0-6489033b4c4d');\n",
              "          const dataTable =\n",
              "            await google.colab.kernel.invokeFunction('convertToInteractive',\n",
              "                                                     [key], {});\n",
              "          if (!dataTable) return;\n",
              "\n",
              "          const docLinkHtml = 'Like what you see? Visit the ' +\n",
              "            '<a target=\"_blank\" href=https://colab.research.google.com/notebooks/data_table.ipynb>data table notebook</a>'\n",
              "            + ' to learn more about interactive tables.';\n",
              "          element.innerHTML = '';\n",
              "          dataTable['output_type'] = 'display_data';\n",
              "          await google.colab.output.renderOutput(dataTable, element);\n",
              "          const docLink = document.createElement('div');\n",
              "          docLink.innerHTML = docLinkHtml;\n",
              "          element.appendChild(docLink);\n",
              "        }\n",
              "      </script>\n",
              "    </div>\n",
              "  </div>\n",
              "  "
            ]
          },
          "metadata": {},
          "execution_count": 13
        }
      ]
    },
    {
      "cell_type": "code",
      "source": [
        "data.drop(columns=['row_id'],inplace=True)\n"
      ],
      "metadata": {
        "id": "9Z50xE-N6U49"
      },
      "execution_count": 14,
      "outputs": []
    },
    {
      "cell_type": "code",
      "source": [
        "data.isnull().sum()"
      ],
      "metadata": {
        "colab": {
          "base_uri": "https://localhost:8080/"
        },
        "id": "1TOXILn07HPu",
        "outputId": "ffe89a87-8b1f-4584-c447-d11fbf8b6ea3"
      },
      "execution_count": 15,
      "outputs": [
        {
          "output_type": "execute_result",
          "data": {
            "text/plain": [
              "energy    1900\n",
              "dtype: int64"
            ]
          },
          "metadata": {},
          "execution_count": 15
        }
      ]
    },
    {
      "cell_type": "code",
      "source": [
        "data.info()"
      ],
      "metadata": {
        "colab": {
          "base_uri": "https://localhost:8080/"
        },
        "id": "w1HXyXOY7LeW",
        "outputId": "0d12c01e-bdbf-40d0-87f3-375b55a0a691"
      },
      "execution_count": 16,
      "outputs": [
        {
          "output_type": "stream",
          "name": "stdout",
          "text": [
            "<class 'pandas.core.frame.DataFrame'>\n",
            "DatetimeIndex: 94992 entries, 2008-03-01 00:00:00 to 2018-12-31 23:00:00\n",
            "Data columns (total 1 columns):\n",
            " #   Column  Non-Null Count  Dtype  \n",
            "---  ------  --------------  -----  \n",
            " 0   energy  93092 non-null  float64\n",
            "dtypes: float64(1)\n",
            "memory usage: 1.4 MB\n"
          ]
        }
      ]
    },
    {
      "cell_type": "code",
      "source": [
        "data.fillna(method = 'ffill',inplace=True)\n",
        "data.isnull().sum()"
      ],
      "metadata": {
        "colab": {
          "base_uri": "https://localhost:8080/"
        },
        "id": "zktChbOE7Oa_",
        "outputId": "d6045fd4-bb80-4db5-821a-b986c2f4add3"
      },
      "execution_count": 17,
      "outputs": [
        {
          "output_type": "execute_result",
          "data": {
            "text/plain": [
              "energy    0\n",
              "dtype: int64"
            ]
          },
          "metadata": {},
          "execution_count": 17
        }
      ]
    },
    {
      "cell_type": "code",
      "source": [
        "plt.figure(figsize = (12,8))\n",
        "plt.plot(data)"
      ],
      "metadata": {
        "colab": {
          "base_uri": "https://localhost:8080/",
          "height": 500
        },
        "id": "9EzORykt7ee9",
        "outputId": "95893d6d-91ad-496e-b679-db592007bc9d"
      },
      "execution_count": 18,
      "outputs": [
        {
          "output_type": "execute_result",
          "data": {
            "text/plain": [
              "[<matplotlib.lines.Line2D at 0x7f6de7cc0e20>]"
            ]
          },
          "metadata": {},
          "execution_count": 18
        },
        {
          "output_type": "display_data",
          "data": {
            "text/plain": [
              "<Figure size 864x576 with 1 Axes>"
            ],
            "image/png": "[encoded data removed]"
          },
          "metadata": {
            "needs_background": "light"
          }
        }
      ]
    },
    {
      "cell_type": "code",
      "source": [
        "decompose = seasonal_decompose(data)\n",
        "decompose.plot()"
      ],
      "metadata": {
        "colab": {
          "base_uri": "https://localhost:8080/",
          "height": 577
        },
        "id": "gdWFz1x07oqI",
        "outputId": "d308778d-79a5-4fe1-fd76-8f0213535600"
      },
      "execution_count": 19,
      "outputs": [
        {
          "output_type": "execute_result",
          "data": {
            "text/plain": [
              "<Figure size 432x288 with 4 Axes>"
            ],
            "image/png": "[encoded data removed]"
          },
          "metadata": {},
          "execution_count": 19
        },
        {
          "output_type": "display_data",
          "data": {
            "text/plain": [
              "<Figure size 432x288 with 4 Axes>"
            ],
            "image/png": "[encoded data removed]"
          },
          "metadata": {
            "needs_background": "light"
          }
        }
      ]
    },
    {
      "cell_type": "code",
      "source": [
        "train1 = data[:7344]\n"
      ],
      "metadata": {
        "id": "u2fyYmVa8vQE"
      },
      "execution_count": 20,
      "outputs": []
    },
    {
      "cell_type": "code",
      "source": [
        "train1.tail()"
      ],
      "metadata": {
        "colab": {
          "base_uri": "https://localhost:8080/",
          "height": 238
        },
        "id": "gpcOpir7ykbl",
        "outputId": "13bb6b91-5d10-4e04-d101-1a97f7f714be"
      },
      "execution_count": 21,
      "outputs": [
        {
          "output_type": "execute_result",
          "data": {
            "text/plain": [
              "                        energy\n",
              "datetime                      \n",
              "2008-12-31 19:00:00  2027.2770\n",
              "2008-12-31 20:00:00  1968.6240\n",
              "2008-12-31 21:00:00  1927.0818\n",
              "2008-12-31 22:00:00  1902.5622\n",
              "2008-12-31 23:00:00  1771.2324"
            ],
            "text/html": [
              "\n",
              "  <div id=\"df-86aebfa9-e803-42cd-946e-4dfb98cc715a\">\n",
              "    <div class=\"colab-df-container\">\n",
              "      <div>\n",
              "<style scoped>\n",
              "    .dataframe tbody tr th:only-of-type {\n",
              "        vertical-align: middle;\n",
              "    }\n",
              "\n",
              "    .dataframe tbody tr th {\n",
              "        vertical-align: top;\n",
              "    }\n",
              "\n",
              "    .dataframe thead th {\n",
              "        text-align: right;\n",
              "    }\n",
              "</style>\n",
              "<table border=\"1\" class=\"dataframe\">\n",
              "  <thead>\n",
              "    <tr style=\"text-align: right;\">\n",
              "      <th></th>\n",
              "      <th>energy</th>\n",
              "    </tr>\n",
              "    <tr>\n",
              "      <th>datetime</th>\n",
              "      <th></th>\n",
              "    </tr>\n",
              "  </thead>\n",
              "  <tbody>\n",
              "    <tr>\n",
              "      <th>2008-12-31 19:00:00</th>\n",
              "      <td>2027.2770</td>\n",
              "    </tr>\n",
              "    <tr>\n",
              "      <th>2008-12-31 20:00:00</th>\n",
              "      <td>1968.6240</td>\n",
              "    </tr>\n",
              "    <tr>\n",
              "      <th>2008-12-31 21:00:00</th>\n",
              "      <td>1927.0818</td>\n",
              "    </tr>\n",
              "    <tr>\n",
              "      <th>2008-12-31 22:00:00</th>\n",
              "      <td>1902.5622</td>\n",
              "    </tr>\n",
              "    <tr>\n",
              "      <th>2008-12-31 23:00:00</th>\n",
              "      <td>1771.2324</td>\n",
              "    </tr>\n",
              "  </tbody>\n",
              "</table>\n",
              "</div>\n",
              "      <button class=\"colab-df-convert\" onclick=\"convertToInteractive('df-86aebfa9-e803-42cd-946e-4dfb98cc715a')\"\n",
              "              title=\"Convert this dataframe to an interactive table.\"\n",
              "              style=\"display:none;\">\n",
              "        \n",
              "  <svg xmlns=\"http://www.w3.org/2000/svg\" height=\"24px\"viewBox=\"0 0 24 24\"\n",
              "       width=\"24px\">\n",
              "    <path d=\"M0 0h24v24H0V0z\" fill=\"none\"/>\n",
              "    <path d=\"M18.56 5.44l.94 2.06.94-2.06 2.06-.94-2.06-.94-.94-2.06-.94 2.06-2.06.94zm-11 1L8.5 8.5l.94-2.06 2.06-.94-2.06-.94L8.5 2.5l-.94 2.06-2.06.94zm10 10l.94 2.06.94-2.06 2.06-.94-2.06-.94-.94-2.06-.94 2.06-2.06.94z\"/><path d=\"M17.41 7.96l-1.37-1.37c-.4-.4-.92-.59-1.43-.59-.52 0-1.04.2-1.43.59L10.3 9.45l-7.72 7.72c-.78.78-.78 2.05 0 2.83L4 21.41c.39.39.9.59 1.41.59.51 0 1.02-.2 1.41-.59l7.78-7.78 2.81-2.81c.8-.78.8-2.07 0-2.86zM5.41 20L4 18.59l7.72-7.72 1.47 1.35L5.41 20z\"/>\n",
              "  </svg>\n",
              "      </button>\n",
              "      \n",
              "  <style>\n",
              "    .colab-df-container {\n",
              "      display:flex;\n",
              "      flex-wrap:wrap;\n",
              "      gap: 12px;\n",
              "    }\n",
              "\n",
              "    .colab-df-convert {\n",
              "      background-color: #E8F0FE;\n",
              "      border: none;\n",
              "      border-radius: 50%;\n",
              "      cursor: pointer;\n",
              "      display: none;\n",
              "      fill: #1967D2;\n",
              "      height: 32px;\n",
              "      padding: 0 0 0 0;\n",
              "      width: 32px;\n",
              "    }\n",
              "\n",
              "    .colab-df-convert:hover {\n",
              "      background-color: #E2EBFA;\n",
              "      box-shadow: 0px 1px 2px rgba(60, 64, 67, 0.3), 0px 1px 3px 1px rgba(60, 64, 67, 0.15);\n",
              "      fill: #174EA6;\n",
              "    }\n",
              "\n",
              "    [theme=dark] .colab-df-convert {\n",
              "      background-color: #3B4455;\n",
              "      fill: #D2E3FC;\n",
              "    }\n",
              "\n",
              "    [theme=dark] .colab-df-convert:hover {\n",
              "      background-color: #434B5C;\n",
              "      box-shadow: 0px 1px 3px 1px rgba(0, 0, 0, 0.15);\n",
              "      filter: drop-shadow(0px 1px 2px rgba(0, 0, 0, 0.3));\n",
              "      fill: #FFFFFF;\n",
              "    }\n",
              "  </style>\n",
              "\n",
              "      <script>\n",
              "        const buttonEl =\n",
              "          document.querySelector('#df-86aebfa9-e803-42cd-946e-4dfb98cc715a button.colab-df-convert');\n",
              "        buttonEl.style.display =\n",
              "          google.colab.kernel.accessAllowed ? 'block' : 'none';\n",
              "\n",
              "        async function convertToInteractive(key) {\n",
              "          const element = document.querySelector('#df-86aebfa9-e803-42cd-946e-4dfb98cc715a');\n",
              "          const dataTable =\n",
              "            await google.colab.kernel.invokeFunction('convertToInteractive',\n",
              "                                                     [key], {});\n",
              "          if (!dataTable) return;\n",
              "\n",
              "          const docLinkHtml = 'Like what you see? Visit the ' +\n",
              "            '<a target=\"_blank\" href=https://colab.research.google.com/notebooks/data_table.ipynb>data table notebook</a>'\n",
              "            + ' to learn more about interactive tables.';\n",
              "          element.innerHTML = '';\n",
              "          dataTable['output_type'] = 'display_data';\n",
              "          await google.colab.output.renderOutput(dataTable, element);\n",
              "          const docLink = document.createElement('div');\n",
              "          docLink.innerHTML = docLinkHtml;\n",
              "          element.appendChild(docLink);\n",
              "        }\n",
              "      </script>\n",
              "    </div>\n",
              "  </div>\n",
              "  "
            ]
          },
          "metadata": {},
          "execution_count": 21
        }
      ]
    },
    {
      "cell_type": "code",
      "source": [
        "scaler = MinMaxScaler()\n",
        "train_scaled = scaler.fit_transform(train1)\n"
      ],
      "metadata": {
        "id": "AhYjhvvZ8NUV"
      },
      "execution_count": 22,
      "outputs": []
    },
    {
      "cell_type": "code",
      "source": [
        "train_scaled"
      ],
      "metadata": {
        "colab": {
          "base_uri": "https://localhost:8080/"
        },
        "id": "rDIPp1kK8njd",
        "outputId": "05aff6c8-7aa6-4e4d-97e8-5b39dccf53da"
      },
      "execution_count": 23,
      "outputs": [
        {
          "output_type": "execute_result",
          "data": {
            "text/plain": [
              "array([[0.31444128],\n",
              "       [0.18306831],\n",
              "       [0.15167667],\n",
              "       ...,\n",
              "       [0.8473788 ],\n",
              "       [0.8277903 ],\n",
              "       [0.72287204]])"
            ]
          },
          "metadata": {},
          "execution_count": 23
        }
      ]
    },
    {
      "cell_type": "code",
      "source": [
        "from tensorflow.keras.preprocessing.sequence import TimeseriesGenerator\n",
        "\n",
        "n_input = 24\n",
        "n_features= 1\n",
        "generator = TimeseriesGenerator(train_scaled, train_scaled, length=n_input, batch_size=1)"
      ],
      "metadata": {
        "id": "TF9lqjiGDxDM"
      },
      "execution_count": 24,
      "outputs": []
    },
    {
      "cell_type": "code",
      "source": [
        "x,y = generator[0]\n",
        "x.shape, y.shape"
      ],
      "metadata": {
        "colab": {
          "base_uri": "https://localhost:8080/"
        },
        "id": "neEJllJ-EDok",
        "outputId": "2395b167-0542-4b47-c8d0-58fd8e227179"
      },
      "execution_count": 25,
      "outputs": [
        {
          "output_type": "execute_result",
          "data": {
            "text/plain": [
              "((1, 24, 1), (1, 1))"
            ]
          },
          "metadata": {},
          "execution_count": 25
        }
      ]
    },
    {
      "cell_type": "code",
      "source": [
        "lstm_model = Sequential()\n",
        "lstm_model.add(LSTM(100,activation='relu',input_shape = (n_input,n_features)))\n",
        "lstm_model.add(Dense(1))\n"
      ],
      "metadata": {
        "id": "9CahELwG9Sbv"
      },
      "execution_count": 26,
      "outputs": []
    },
    {
      "cell_type": "code",
      "source": [
        "lstm_model.compile(optimizer='adam',\n",
        "              loss='mse'\n",
        "              )"
      ],
      "metadata": {
        "id": "mv3Tv5bw-SvG"
      },
      "execution_count": 27,
      "outputs": []
    },
    {
      "cell_type": "code",
      "source": [
        "lstm_model.summary()"
      ],
      "metadata": {
        "colab": {
          "base_uri": "https://localhost:8080/"
        },
        "id": "QW-qA8GJFTn_",
        "outputId": "fb39310b-cd0c-4087-a75c-16dcd473d42a"
      },
      "execution_count": 28,
      "outputs": [
        {
          "output_type": "stream",
          "name": "stdout",
          "text": [
            "Model: \"sequential\"\n",
            "_________________________________________________________________\n",
            " Layer (type)                Output Shape              Param #   \n",
            "=================================================================\n",
            " lstm (LSTM)                 (None, 100)               40800     \n",
            "                                                                 \n",
            " dense (Dense)               (None, 1)                 101       \n",
            "                                                                 \n",
            "=================================================================\n",
            "Total params: 40,901\n",
            "Trainable params: 40,901\n",
            "Non-trainable params: 0\n",
            "_________________________________________________________________\n"
          ]
        }
      ]
    },
    {
      "cell_type": "code",
      "source": [
        "lstm_model.fit(generator,epochs=50,batch_size = 1000)"
      ],
      "metadata": {
        "colab": {
          "base_uri": "https://localhost:8080/"
        },
        "id": "4g3ByzM9AoF1",
        "outputId": "f3f14875-95b8-4c87-da59-dce33828a75e"
      },
      "execution_count": 29,
      "outputs": [
        {
          "output_type": "stream",
          "name": "stdout",
          "text": [
            "Epoch 1/50\n",
            "7320/7320 [==============================] - 76s 10ms/step - loss: 0.0029\n",
            "Epoch 2/50\n",
            "7320/7320 [==============================] - 72s 10ms/step - loss: 7.6088e-04\n",
            "Epoch 3/50\n",
            "7320/7320 [==============================] - 72s 10ms/step - loss: 6.0748e-04\n",
            "Epoch 4/50\n",
            "7320/7320 [==============================] - 73s 10ms/step - loss: 5.2873e-04\n",
            "Epoch 5/50\n",
            "7320/7320 [==============================] - 72s 10ms/step - loss: 4.8905e-04\n",
            "Epoch 6/50\n",
            "7320/7320 [==============================] - 72s 10ms/step - loss: 4.5210e-04\n",
            "Epoch 7/50\n",
            "7320/7320 [==============================] - 74s 10ms/step - loss: 4.3981e-04\n",
            "Epoch 8/50\n",
            "7320/7320 [==============================] - 72s 10ms/step - loss: 4.2371e-04\n",
            "Epoch 9/50\n",
            "7320/7320 [==============================] - 74s 10ms/step - loss: 4.2399e-04\n",
            "Epoch 10/50\n",
            "7320/7320 [==============================] - 73s 10ms/step - loss: 4.0713e-04\n",
            "Epoch 11/50\n",
            "7320/7320 [==============================] - 73s 10ms/step - loss: 3.9809e-04\n",
            "Epoch 12/50\n",
            "7320/7320 [==============================] - 75s 10ms/step - loss: 3.8526e-04\n",
            "Epoch 13/50\n",
            "7320/7320 [==============================] - 74s 10ms/step - loss: 3.8510e-04\n",
            "Epoch 14/50\n",
            "7320/7320 [==============================] - 75s 10ms/step - loss: 4.1903e-04\n",
            "Epoch 15/50\n",
            "7320/7320 [==============================] - 73s 10ms/step - loss: 3.7423e-04\n",
            "Epoch 16/50\n",
            "7320/7320 [==============================] - 73s 10ms/step - loss: 3.6246e-04\n",
            "Epoch 17/50\n",
            "7320/7320 [==============================] - 74s 10ms/step - loss: 3.6389e-04\n",
            "Epoch 18/50\n",
            "7320/7320 [==============================] - 73s 10ms/step - loss: 3.5146e-04\n",
            "Epoch 19/50\n",
            "7320/7320 [==============================] - 73s 10ms/step - loss: 3.5643e-04\n",
            "Epoch 20/50\n",
            "7320/7320 [==============================] - 74s 10ms/step - loss: 3.4324e-04\n",
            "Epoch 21/50\n",
            "7320/7320 [==============================] - 74s 10ms/step - loss: 3.4203e-04\n",
            "Epoch 22/50\n",
            "7320/7320 [==============================] - 74s 10ms/step - loss: 3.3688e-04\n",
            "Epoch 23/50\n",
            "7320/7320 [==============================] - 73s 10ms/step - loss: 3.3249e-04\n",
            "Epoch 24/50\n",
            "7320/7320 [==============================] - 73s 10ms/step - loss: 3.2856e-04\n",
            "Epoch 25/50\n",
            "7320/7320 [==============================] - 74s 10ms/step - loss: 3.2357e-04\n",
            "Epoch 26/50\n",
            "7320/7320 [==============================] - 73s 10ms/step - loss: 3.3042e-04\n",
            "Epoch 27/50\n",
            "7320/7320 [==============================] - 74s 10ms/step - loss: 3.2469e-04\n",
            "Epoch 28/50\n",
            "7320/7320 [==============================] - 73s 10ms/step - loss: 3.1745e-04\n",
            "Epoch 29/50\n",
            "7320/7320 [==============================] - 73s 10ms/step - loss: 3.1852e-04\n",
            "Epoch 30/50\n",
            "7320/7320 [==============================] - 74s 10ms/step - loss: 3.1289e-04\n",
            "Epoch 31/50\n",
            "7320/7320 [==============================] - 73s 10ms/step - loss: 3.1400e-04\n",
            "Epoch 32/50\n",
            "7320/7320 [==============================] - 72s 10ms/step - loss: 3.1190e-04\n",
            "Epoch 33/50\n",
            "7320/7320 [==============================] - 76s 10ms/step - loss: 3.0793e-04\n",
            "Epoch 34/50\n",
            "7320/7320 [==============================] - 72s 10ms/step - loss: 3.1704e-04\n",
            "Epoch 35/50\n",
            "7320/7320 [==============================] - 72s 10ms/step - loss: 3.0668e-04\n",
            "Epoch 36/50\n",
            "7320/7320 [==============================] - 73s 10ms/step - loss: 3.0608e-04\n",
            "Epoch 37/50\n",
            "7320/7320 [==============================] - 72s 10ms/step - loss: 3.0248e-04\n",
            "Epoch 38/50\n",
            "7320/7320 [==============================] - 74s 10ms/step - loss: 2.9773e-04\n",
            "Epoch 39/50\n",
            "7320/7320 [==============================] - 74s 10ms/step - loss: 2.9958e-04\n",
            "Epoch 40/50\n",
            "7320/7320 [==============================] - 74s 10ms/step - loss: 2.9492e-04\n",
            "Epoch 41/50\n",
            "7320/7320 [==============================] - 76s 10ms/step - loss: 2.9199e-04\n",
            "Epoch 42/50\n",
            "7320/7320 [==============================] - 73s 10ms/step - loss: 2.9080e-04\n",
            "Epoch 43/50\n",
            "7320/7320 [==============================] - 73s 10ms/step - loss: 2.8927e-04\n",
            "Epoch 44/50\n",
            "7320/7320 [==============================] - 74s 10ms/step - loss: 2.8543e-04\n",
            "Epoch 45/50\n",
            "7320/7320 [==============================] - 73s 10ms/step - loss: 2.8764e-04\n",
            "Epoch 46/50\n",
            "7320/7320 [==============================] - 73s 10ms/step - loss: 2.8957e-04\n",
            "Epoch 47/50\n",
            "7320/7320 [==============================] - 74s 10ms/step - loss: 2.8449e-04\n",
            "Epoch 48/50\n",
            "7320/7320 [==============================] - 73s 10ms/step - loss: 2.8737e-04\n",
            "Epoch 49/50\n",
            "7320/7320 [==============================] - 74s 10ms/step - loss: 2.7636e-04\n",
            "Epoch 50/50\n",
            "7320/7320 [==============================] - 73s 10ms/step - loss: 2.7740e-04\n"
          ]
        },
        {
          "output_type": "execute_result",
          "data": {
            "text/plain": [
              "<keras.callbacks.History at 0x7f6de5072370>"
            ]
          },
          "metadata": {},
          "execution_count": 29
        }
      ]
    },
    {
      "cell_type": "code",
      "source": [
        "loss_per_epoch = lstm_model.history.history['loss']\n",
        "plt.plot(range(len(loss_per_epoch)),loss_per_epoch)"
      ],
      "metadata": {
        "colab": {
          "base_uri": "https://localhost:8080/",
          "height": 283
        },
        "id": "bKZbJbBIBOpc",
        "outputId": "30ef6708-b6ae-455d-b16b-18cd22a43c1e"
      },
      "execution_count": 30,
      "outputs": [
        {
          "output_type": "execute_result",
          "data": {
            "text/plain": [
              "[<matplotlib.lines.Line2D at 0x7f6ddd1ad250>]"
            ]
          },
          "metadata": {},
          "execution_count": 30
        },
        {
          "output_type": "display_data",
          "data": {
            "text/plain": [
              "<Figure size 432x288 with 1 Axes>"
            ],
            "image/png": "[encoded data removed]"
          },
          "metadata": {
            "needs_background": "light"
          }
        }
      ]
    },
    {
      "cell_type": "code",
      "source": [
        "last_train_batch = train_scaled[-24:]"
      ],
      "metadata": {
        "id": "EC9260l4NBJz"
      },
      "execution_count": 31,
      "outputs": []
    },
    {
      "cell_type": "code",
      "source": [
        "last_train_batch = last_train_batch.reshape((1, n_input, n_features))"
      ],
      "metadata": {
        "id": "kYnKmtfvNE4h"
      },
      "execution_count": 32,
      "outputs": []
    },
    {
      "cell_type": "code",
      "source": [
        "lstm_model.predict(last_train_batch)"
      ],
      "metadata": {
        "colab": {
          "base_uri": "https://localhost:8080/"
        },
        "id": "pfLurnhgNHFJ",
        "outputId": "48a3f13f-40f5-4424-a06c-3f394b1d4a14"
      },
      "execution_count": 33,
      "outputs": [
        {
          "output_type": "stream",
          "name": "stdout",
          "text": [
            "1/1 [==============================] - 0s 240ms/step\n"
          ]
        },
        {
          "output_type": "execute_result",
          "data": {
            "text/plain": [
              "array([[0.6129694]], dtype=float32)"
            ]
          },
          "metadata": {},
          "execution_count": 33
        }
      ]
    },
    {
      "cell_type": "code",
      "source": [
        "valid2 = data[7344:7489]\n",
        "valid_scaled = scaler.transform(valid2)"
      ],
      "metadata": {
        "id": "vmmtxvceVPd-"
      },
      "execution_count": 35,
      "outputs": []
    },
    {
      "cell_type": "code",
      "source": [
        "test_predictions = []\n",
        "\n",
        "first_eval_batch = train_scaled[-n_input:]\n",
        "current_batch = first_eval_batch.reshape((1, n_input, n_features))\n",
        "\n",
        "for i in range(len(valid2)):\n",
        "    \n",
        "    # get the prediction value for the first batch\n",
        "    current_pred = lstm_model.predict(current_batch)[0]\n",
        "    \n",
        "    # append the prediction into the array\n",
        "    test_predictions.append(current_pred) \n",
        "    \n",
        "    # use the prediction to update the batch and remove the first value\n",
        "    current_batch = np.append(current_batch[:,1:,:],[[current_pred]],axis=1)\n",
        "     "
      ],
      "metadata": {
        "colab": {
          "base_uri": "https://localhost:8080/"
        },
        "id": "G4UA0dcVNLDv",
        "outputId": "0a8170d5-b193-4c33-e615-05c38cdfaf72"
      },
      "execution_count": 36,
      "outputs": [
        {
          "output_type": "stream",
          "name": "stdout",
          "text": [
            "1/1 [==============================] - 0s 21ms/step\n",
            "1/1 [==============================] - 0s 20ms/step\n",
            "1/1 [==============================] - 0s 19ms/step\n",
            "1/1 [==============================] - 0s 19ms/step\n",
            "1/1 [==============================] - 0s 19ms/step\n",
            "1/1 [==============================] - 0s 19ms/step\n",
            "1/1 [==============================] - 0s 19ms/step\n",
            "1/1 [==============================] - 0s 19ms/step\n",
            "1/1 [==============================] - 0s 18ms/step\n",
            "1/1 [==============================] - 0s 22ms/step\n",
            "1/1 [==============================] - 0s 20ms/step\n",
            "1/1 [==============================] - 0s 23ms/step\n",
            "1/1 [==============================] - 0s 19ms/step\n",
            "1/1 [==============================] - 0s 30ms/step\n",
            "1/1 [==============================] - 0s 20ms/step\n",
            "1/1 [==============================] - 0s 19ms/step\n",
            "1/1 [==============================] - 0s 19ms/step\n",
            "1/1 [==============================] - 0s 21ms/step\n",
            "1/1 [==============================] - 0s 21ms/step\n",
            "1/1 [==============================] - 0s 21ms/step\n",
            "1/1 [==============================] - 0s 19ms/step\n",
            "1/1 [==============================] - 0s 22ms/step\n",
            "1/1 [==============================] - 0s 20ms/step\n",
            "1/1 [==============================] - 0s 18ms/step\n",
            "1/1 [==============================] - 0s 21ms/step\n",
            "1/1 [==============================] - 0s 19ms/step\n",
            "1/1 [==============================] - 0s 19ms/step\n",
            "1/1 [==============================] - 0s 21ms/step\n",
            "1/1 [==============================] - 0s 18ms/step\n",
            "1/1 [==============================] - 0s 19ms/step\n",
            "1/1 [==============================] - 0s 23ms/step\n",
            "1/1 [==============================] - 0s 19ms/step\n",
            "1/1 [==============================] - 0s 22ms/step\n",
            "1/1 [==============================] - 0s 18ms/step\n",
            "1/1 [==============================] - 0s 22ms/step\n",
            "1/1 [==============================] - 0s 18ms/step\n",
            "1/1 [==============================] - 0s 22ms/step\n",
            "1/1 [==============================] - 0s 22ms/step\n",
            "1/1 [==============================] - 0s 24ms/step\n",
            "1/1 [==============================] - 0s 21ms/step\n",
            "1/1 [==============================] - 0s 18ms/step\n",
            "1/1 [==============================] - 0s 19ms/step\n",
            "1/1 [==============================] - 0s 20ms/step\n",
            "1/1 [==============================] - 0s 22ms/step\n",
            "1/1 [==============================] - 0s 20ms/step\n",
            "1/1 [==============================] - 0s 19ms/step\n",
            "1/1 [==============================] - 0s 23ms/step\n",
            "1/1 [==============================] - 0s 21ms/step\n",
            "1/1 [==============================] - 0s 18ms/step\n",
            "1/1 [==============================] - 0s 23ms/step\n",
            "1/1 [==============================] - 0s 22ms/step\n",
            "1/1 [==============================] - 0s 19ms/step\n",
            "1/1 [==============================] - 0s 19ms/step\n",
            "1/1 [==============================] - 0s 20ms/step\n",
            "1/1 [==============================] - 0s 19ms/step\n",
            "1/1 [==============================] - 0s 18ms/step\n",
            "1/1 [==============================] - 0s 20ms/step\n",
            "1/1 [==============================] - 0s 21ms/step\n",
            "1/1 [==============================] - 0s 18ms/step\n",
            "1/1 [==============================] - 0s 21ms/step\n",
            "1/1 [==============================] - 0s 24ms/step\n",
            "1/1 [==============================] - 0s 19ms/step\n",
            "1/1 [==============================] - 0s 21ms/step\n",
            "1/1 [==============================] - 0s 20ms/step\n",
            "1/1 [==============================] - 0s 19ms/step\n",
            "1/1 [==============================] - 0s 19ms/step\n",
            "1/1 [==============================] - 0s 20ms/step\n",
            "1/1 [==============================] - 0s 19ms/step\n",
            "1/1 [==============================] - 0s 19ms/step\n",
            "1/1 [==============================] - 0s 19ms/step\n",
            "1/1 [==============================] - 0s 20ms/step\n",
            "1/1 [==============================] - 0s 23ms/step\n",
            "1/1 [==============================] - 0s 18ms/step\n",
            "1/1 [==============================] - 0s 19ms/step\n",
            "1/1 [==============================] - 0s 19ms/step\n",
            "1/1 [==============================] - 0s 22ms/step\n",
            "1/1 [==============================] - 0s 19ms/step\n",
            "1/1 [==============================] - 0s 19ms/step\n",
            "1/1 [==============================] - 0s 21ms/step\n",
            "1/1 [==============================] - 0s 19ms/step\n",
            "1/1 [==============================] - 0s 20ms/step\n",
            "1/1 [==============================] - 0s 18ms/step\n",
            "1/1 [==============================] - 0s 20ms/step\n",
            "1/1 [==============================] - 0s 19ms/step\n",
            "1/1 [==============================] - 0s 19ms/step\n",
            "1/1 [==============================] - 0s 18ms/step\n",
            "1/1 [==============================] - 0s 24ms/step\n",
            "1/1 [==============================] - 0s 20ms/step\n",
            "1/1 [==============================] - 0s 19ms/step\n",
            "1/1 [==============================] - 0s 20ms/step\n",
            "1/1 [==============================] - 0s 20ms/step\n",
            "1/1 [==============================] - 0s 19ms/step\n",
            "1/1 [==============================] - 0s 20ms/step\n",
            "1/1 [==============================] - 0s 22ms/step\n",
            "1/1 [==============================] - 0s 19ms/step\n",
            "1/1 [==============================] - 0s 20ms/step\n",
            "1/1 [==============================] - 0s 21ms/step\n",
            "1/1 [==============================] - 0s 19ms/step\n",
            "1/1 [==============================] - 0s 21ms/step\n",
            "1/1 [==============================] - 0s 20ms/step\n",
            "1/1 [==============================] - 0s 23ms/step\n",
            "1/1 [==============================] - 0s 21ms/step\n",
            "1/1 [==============================] - 0s 22ms/step\n",
            "1/1 [==============================] - 0s 19ms/step\n",
            "1/1 [==============================] - 0s 21ms/step\n",
            "1/1 [==============================] - 0s 23ms/step\n",
            "1/1 [==============================] - 0s 21ms/step\n",
            "1/1 [==============================] - 0s 19ms/step\n",
            "1/1 [==============================] - 0s 28ms/step\n",
            "1/1 [==============================] - 0s 21ms/step\n",
            "1/1 [==============================] - 0s 27ms/step\n",
            "1/1 [==============================] - 0s 19ms/step\n",
            "1/1 [==============================] - 0s 23ms/step\n",
            "1/1 [==============================] - 0s 19ms/step\n",
            "1/1 [==============================] - 0s 24ms/step\n",
            "1/1 [==============================] - 0s 19ms/step\n",
            "1/1 [==============================] - 0s 22ms/step\n",
            "1/1 [==============================] - 0s 19ms/step\n",
            "1/1 [==============================] - 0s 18ms/step\n",
            "1/1 [==============================] - 0s 22ms/step\n",
            "1/1 [==============================] - 0s 18ms/step\n",
            "1/1 [==============================] - 0s 20ms/step\n",
            "1/1 [==============================] - 0s 21ms/step\n",
            "1/1 [==============================] - 0s 24ms/step\n",
            "1/1 [==============================] - 0s 32ms/step\n",
            "1/1 [==============================] - 0s 23ms/step\n",
            "1/1 [==============================] - 0s 19ms/step\n",
            "1/1 [==============================] - 0s 19ms/step\n",
            "1/1 [==============================] - 0s 20ms/step\n",
            "1/1 [==============================] - 0s 19ms/step\n",
            "1/1 [==============================] - 0s 20ms/step\n",
            "1/1 [==============================] - 0s 20ms/step\n",
            "1/1 [==============================] - 0s 19ms/step\n",
            "1/1 [==============================] - 0s 19ms/step\n",
            "1/1 [==============================] - 0s 19ms/step\n",
            "1/1 [==============================] - 0s 20ms/step\n",
            "1/1 [==============================] - 0s 19ms/step\n",
            "1/1 [==============================] - 0s 19ms/step\n",
            "1/1 [==============================] - 0s 19ms/step\n",
            "1/1 [==============================] - 0s 20ms/step\n",
            "1/1 [==============================] - 0s 18ms/step\n",
            "1/1 [==============================] - 0s 27ms/step\n",
            "1/1 [==============================] - 0s 20ms/step\n",
            "1/1 [==============================] - 0s 20ms/step\n",
            "1/1 [==============================] - 0s 24ms/step\n"
          ]
        }
      ]
    },
    {
      "cell_type": "code",
      "source": [
        "test_predictions"
      ],
      "metadata": {
        "colab": {
          "base_uri": "https://localhost:8080/"
        },
        "id": "yNFVxrpRNOZj",
        "outputId": "6f418eec-c339-4567-dc2e-0dd5fea46053"
      },
      "execution_count": 37,
      "outputs": [
        {
          "output_type": "execute_result",
          "data": {
            "text/plain": [
              "[array([0.6129694], dtype=float32),\n",
              " array([0.51758265], dtype=float32),\n",
              " array([0.45314443], dtype=float32),\n",
              " array([0.3992454], dtype=float32),\n",
              " array([0.36304444], dtype=float32),\n",
              " array([0.35229552], dtype=float32),\n",
              " array([0.37775323], dtype=float32),\n",
              " array([0.4320748], dtype=float32),\n",
              " array([0.5068743], dtype=float32),\n",
              " array([0.5957736], dtype=float32),\n",
              " array([0.6951717], dtype=float32),\n",
              " array([0.79045904], dtype=float32),\n",
              " array([0.87544036], dtype=float32),\n",
              " array([0.9523151], dtype=float32),\n",
              " array([1.0184038], dtype=float32),\n",
              " array([1.073521], dtype=float32),\n",
              " array([1.1201748], dtype=float32),\n",
              " array([1.1523651], dtype=float32),\n",
              " array([1.1653951], dtype=float32),\n",
              " array([1.1570072], dtype=float32),\n",
              " array([1.1344008], dtype=float32),\n",
              " array([1.1060199], dtype=float32),\n",
              " array([1.0472212], dtype=float32),\n",
              " array([0.94135237], dtype=float32),\n",
              " array([0.8044908], dtype=float32),\n",
              " array([0.6989025], dtype=float32),\n",
              " array([0.6106025], dtype=float32),\n",
              " array([0.5183214], dtype=float32),\n",
              " array([0.45504463], dtype=float32),\n",
              " array([0.422021], dtype=float32),\n",
              " array([0.42281657], dtype=float32),\n",
              " array([0.45939672], dtype=float32),\n",
              " array([0.52136576], dtype=float32),\n",
              " array([0.60604477], dtype=float32),\n",
              " array([0.7026018], dtype=float32),\n",
              " array([0.8022225], dtype=float32),\n",
              " array([0.89738107], dtype=float32),\n",
              " array([0.98617923], dtype=float32),\n",
              " array([1.06728], dtype=float32),\n",
              " array([1.1414506], dtype=float32),\n",
              " array([1.2078413], dtype=float32),\n",
              " array([1.2633948], dtype=float32),\n",
              " array([1.3097543], dtype=float32),\n",
              " array([1.3400058], dtype=float32),\n",
              " array([1.3495132], dtype=float32),\n",
              " array([1.3404628], dtype=float32),\n",
              " array([1.3079575], dtype=float32),\n",
              " array([1.2020874], dtype=float32),\n",
              " array([1.0565339], dtype=float32),\n",
              " array([0.919232], dtype=float32),\n",
              " array([0.8620093], dtype=float32),\n",
              " array([0.7593776], dtype=float32),\n",
              " array([0.6164948], dtype=float32),\n",
              " array([0.52606744], dtype=float32),\n",
              " array([0.4795336], dtype=float32),\n",
              " array([0.4704665], dtype=float32),\n",
              " array([0.4857233], dtype=float32),\n",
              " array([0.53247714], dtype=float32),\n",
              " array([0.60804176], dtype=float32),\n",
              " array([0.700848], dtype=float32),\n",
              " array([0.79882205], dtype=float32),\n",
              " array([0.89730954], dtype=float32),\n",
              " array([0.99343956], dtype=float32),\n",
              " array([1.0869155], dtype=float32),\n",
              " array([1.1744229], dtype=float32),\n",
              " array([1.2574024], dtype=float32),\n",
              " array([1.3348039], dtype=float32),\n",
              " array([1.4045614], dtype=float32),\n",
              " array([1.4665884], dtype=float32),\n",
              " array([1.5097489], dtype=float32),\n",
              " array([1.5235848], dtype=float32),\n",
              " array([1.4867942], dtype=float32),\n",
              " array([1.4024587], dtype=float32),\n",
              " array([1.3243095], dtype=float32),\n",
              " array([1.1945251], dtype=float32),\n",
              " array([1.1029421], dtype=float32),\n",
              " array([1.0202312], dtype=float32),\n",
              " array([0.8843844], dtype=float32),\n",
              " array([0.71539485], dtype=float32),\n",
              " array([0.6336521], dtype=float32),\n",
              " array([0.5551505], dtype=float32),\n",
              " array([0.5201818], dtype=float32),\n",
              " array([0.51192397], dtype=float32),\n",
              " array([0.54294336], dtype=float32),\n",
              " array([0.5994058], dtype=float32),\n",
              " array([0.6788789], dtype=float32),\n",
              " array([0.76940584], dtype=float32),\n",
              " array([0.87005866], dtype=float32),\n",
              " array([0.97441554], dtype=float32),\n",
              " array([1.080134], dtype=float32),\n",
              " array([1.1860012], dtype=float32),\n",
              " array([1.2900023], dtype=float32),\n",
              " array([1.3916656], dtype=float32),\n",
              " array([1.49054], dtype=float32),\n",
              " array([1.5819223], dtype=float32),\n",
              " array([1.6557], dtype=float32),\n",
              " array([1.6912553], dtype=float32),\n",
              " array([1.6777806], dtype=float32),\n",
              " array([1.625547], dtype=float32),\n",
              " array([1.5497305], dtype=float32),\n",
              " array([1.4193028], dtype=float32),\n",
              " array([1.2957801], dtype=float32),\n",
              " array([1.2017492], dtype=float32),\n",
              " array([1.1151341], dtype=float32),\n",
              " array([0.8912152], dtype=float32),\n",
              " array([0.6906345], dtype=float32),\n",
              " array([0.58043915], dtype=float32),\n",
              " array([0.5328356], dtype=float32),\n",
              " array([0.49925795], dtype=float32),\n",
              " array([0.48078018], dtype=float32),\n",
              " array([0.54164475], dtype=float32),\n",
              " array([0.6122649], dtype=float32),\n",
              " array([0.6984602], dtype=float32),\n",
              " array([0.79988766], dtype=float32),\n",
              " array([0.9119384], dtype=float32),\n",
              " array([1.0291994], dtype=float32),\n",
              " array([1.1530604], dtype=float32),\n",
              " array([1.2831737], dtype=float32),\n",
              " array([1.4157952], dtype=float32),\n",
              " array([1.5526087], dtype=float32),\n",
              " array([1.6915723], dtype=float32),\n",
              " array([1.818006], dtype=float32),\n",
              " array([1.9213378], dtype=float32),\n",
              " array([1.9625125], dtype=float32),\n",
              " array([1.9451509], dtype=float32),\n",
              " array([1.8914245], dtype=float32),\n",
              " array([1.8314599], dtype=float32),\n",
              " array([1.7716793], dtype=float32),\n",
              " array([1.7483416], dtype=float32),\n",
              " array([1.7561541], dtype=float32),\n",
              " array([1.683975], dtype=float32),\n",
              " array([1.5782672], dtype=float32),\n",
              " array([1.3947895], dtype=float32),\n",
              " array([1.3630068], dtype=float32),\n",
              " array([1.4063373], dtype=float32),\n",
              " array([1.2821279], dtype=float32),\n",
              " array([1.220574], dtype=float32),\n",
              " array([1.2020497], dtype=float32),\n",
              " array([1.1967641], dtype=float32),\n",
              " array([1.1438582], dtype=float32),\n",
              " array([1.1127691], dtype=float32),\n",
              " array([1.0763284], dtype=float32),\n",
              " array([1.0658133], dtype=float32),\n",
              " array([1.0557827], dtype=float32),\n",
              " array([1.081602], dtype=float32)]"
            ]
          },
          "metadata": {},
          "execution_count": 37
        }
      ]
    },
    {
      "cell_type": "code",
      "source": [
        "\n",
        "valid2.head()"
      ],
      "metadata": {
        "colab": {
          "base_uri": "https://localhost:8080/",
          "height": 238
        },
        "id": "m_dQjRWwNQ3u",
        "outputId": "651398dc-b8ba-4b13-f2ac-abb078c07b39"
      },
      "execution_count": 38,
      "outputs": [
        {
          "output_type": "execute_result",
          "data": {
            "text/plain": [
              "                        energy\n",
              "datetime                      \n",
              "2009-01-01 00:00:00  1610.2674\n",
              "2009-01-01 01:00:00  1471.4406\n",
              "2009-01-01 02:00:00  1371.6864\n",
              "2009-01-01 03:00:00  1301.6556\n",
              "2009-01-01 04:00:00  1273.5198"
            ],
            "text/html": [
              "\n",
              "  <div id=\"df-b9a85bcd-3742-4b19-ad9e-68a77ba8b5de\">\n",
              "    <div class=\"colab-df-container\">\n",
              "      <div>\n",
              "<style scoped>\n",
              "    .dataframe tbody tr th:only-of-type {\n",
              "        vertical-align: middle;\n",
              "    }\n",
              "\n",
              "    .dataframe tbody tr th {\n",
              "        vertical-align: top;\n",
              "    }\n",
              "\n",
              "    .dataframe thead th {\n",
              "        text-align: right;\n",
              "    }\n",
              "</style>\n",
              "<table border=\"1\" class=\"dataframe\">\n",
              "  <thead>\n",
              "    <tr style=\"text-align: right;\">\n",
              "      <th></th>\n",
              "      <th>energy</th>\n",
              "    </tr>\n",
              "    <tr>\n",
              "      <th>datetime</th>\n",
              "      <th></th>\n",
              "    </tr>\n",
              "  </thead>\n",
              "  <tbody>\n",
              "    <tr>\n",
              "      <th>2009-01-01 00:00:00</th>\n",
              "      <td>1610.2674</td>\n",
              "    </tr>\n",
              "    <tr>\n",
              "      <th>2009-01-01 01:00:00</th>\n",
              "      <td>1471.4406</td>\n",
              "    </tr>\n",
              "    <tr>\n",
              "      <th>2009-01-01 02:00:00</th>\n",
              "      <td>1371.6864</td>\n",
              "    </tr>\n",
              "    <tr>\n",
              "      <th>2009-01-01 03:00:00</th>\n",
              "      <td>1301.6556</td>\n",
              "    </tr>\n",
              "    <tr>\n",
              "      <th>2009-01-01 04:00:00</th>\n",
              "      <td>1273.5198</td>\n",
              "    </tr>\n",
              "  </tbody>\n",
              "</table>\n",
              "</div>\n",
              "      <button class=\"colab-df-convert\" onclick=\"convertToInteractive('df-b9a85bcd-3742-4b19-ad9e-68a77ba8b5de')\"\n",
              "              title=\"Convert this dataframe to an interactive table.\"\n",
              "              style=\"display:none;\">\n",
              "        \n",
              "  <svg xmlns=\"http://www.w3.org/2000/svg\" height=\"24px\"viewBox=\"0 0 24 24\"\n",
              "       width=\"24px\">\n",
              "    <path d=\"M0 0h24v24H0V0z\" fill=\"none\"/>\n",
              "    <path d=\"M18.56 5.44l.94 2.06.94-2.06 2.06-.94-2.06-.94-.94-2.06-.94 2.06-2.06.94zm-11 1L8.5 8.5l.94-2.06 2.06-.94-2.06-.94L8.5 2.5l-.94 2.06-2.06.94zm10 10l.94 2.06.94-2.06 2.06-.94-2.06-.94-.94-2.06-.94 2.06-2.06.94z\"/><path d=\"M17.41 7.96l-1.37-1.37c-.4-.4-.92-.59-1.43-.59-.52 0-1.04.2-1.43.59L10.3 9.45l-7.72 7.72c-.78.78-.78 2.05 0 2.83L4 21.41c.39.39.9.59 1.41.59.51 0 1.02-.2 1.41-.59l7.78-7.78 2.81-2.81c.8-.78.8-2.07 0-2.86zM5.41 20L4 18.59l7.72-7.72 1.47 1.35L5.41 20z\"/>\n",
              "  </svg>\n",
              "      </button>\n",
              "      \n",
              "  <style>\n",
              "    .colab-df-container {\n",
              "      display:flex;\n",
              "      flex-wrap:wrap;\n",
              "      gap: 12px;\n",
              "    }\n",
              "\n",
              "    .colab-df-convert {\n",
              "      background-color: #E8F0FE;\n",
              "      border: none;\n",
              "      border-radius: 50%;\n",
              "      cursor: pointer;\n",
              "      display: none;\n",
              "      fill: #1967D2;\n",
              "      height: 32px;\n",
              "      padding: 0 0 0 0;\n",
              "      width: 32px;\n",
              "    }\n",
              "\n",
              "    .colab-df-convert:hover {\n",
              "      background-color: #E2EBFA;\n",
              "      box-shadow: 0px 1px 2px rgba(60, 64, 67, 0.3), 0px 1px 3px 1px rgba(60, 64, 67, 0.15);\n",
              "      fill: #174EA6;\n",
              "    }\n",
              "\n",
              "    [theme=dark] .colab-df-convert {\n",
              "      background-color: #3B4455;\n",
              "      fill: #D2E3FC;\n",
              "    }\n",
              "\n",
              "    [theme=dark] .colab-df-convert:hover {\n",
              "      background-color: #434B5C;\n",
              "      box-shadow: 0px 1px 3px 1px rgba(0, 0, 0, 0.15);\n",
              "      filter: drop-shadow(0px 1px 2px rgba(0, 0, 0, 0.3));\n",
              "      fill: #FFFFFF;\n",
              "    }\n",
              "  </style>\n",
              "\n",
              "      <script>\n",
              "        const buttonEl =\n",
              "          document.querySelector('#df-b9a85bcd-3742-4b19-ad9e-68a77ba8b5de button.colab-df-convert');\n",
              "        buttonEl.style.display =\n",
              "          google.colab.kernel.accessAllowed ? 'block' : 'none';\n",
              "\n",
              "        async function convertToInteractive(key) {\n",
              "          const element = document.querySelector('#df-b9a85bcd-3742-4b19-ad9e-68a77ba8b5de');\n",
              "          const dataTable =\n",
              "            await google.colab.kernel.invokeFunction('convertToInteractive',\n",
              "                                                     [key], {});\n",
              "          if (!dataTable) return;\n",
              "\n",
              "          const docLinkHtml = 'Like what you see? Visit the ' +\n",
              "            '<a target=\"_blank\" href=https://colab.research.google.com/notebooks/data_table.ipynb>data table notebook</a>'\n",
              "            + ' to learn more about interactive tables.';\n",
              "          element.innerHTML = '';\n",
              "          dataTable['output_type'] = 'display_data';\n",
              "          await google.colab.output.renderOutput(dataTable, element);\n",
              "          const docLink = document.createElement('div');\n",
              "          docLink.innerHTML = docLinkHtml;\n",
              "          element.appendChild(docLink);\n",
              "        }\n",
              "      </script>\n",
              "    </div>\n",
              "  </div>\n",
              "  "
            ]
          },
          "metadata": {},
          "execution_count": 38
        }
      ]
    },
    {
      "cell_type": "code",
      "source": [
        "true_predictions = scaler.inverse_transform(test_predictions)"
      ],
      "metadata": {
        "id": "-FLVT-PtNUqk"
      },
      "execution_count": 39,
      "outputs": []
    },
    {
      "cell_type": "code",
      "source": [
        "valid2['Predictions'] = true_predictions"
      ],
      "metadata": {
        "colab": {
          "base_uri": "https://localhost:8080/"
        },
        "id": "cxnUFRttNW3R",
        "outputId": "30bc2aa4-a6a8-4484-ee86-7cae989431ba"
      },
      "execution_count": 40,
      "outputs": [
        {
          "output_type": "stream",
          "name": "stderr",
          "text": [
            "<ipython-input-40-a112e37d590b>:1: SettingWithCopyWarning: \n",
            "A value is trying to be set on a copy of a slice from a DataFrame.\n",
            "Try using .loc[row_indexer,col_indexer] = value instead\n",
            "\n",
            "See the caveats in the documentation: https://pandas.pydata.org/pandas-docs/stable/user_guide/indexing.html#returning-a-view-versus-a-copy\n",
            "  valid2['Predictions'] = true_predictions\n"
          ]
        }
      ]
    },
    {
      "cell_type": "code",
      "source": [
        "valid2.plot(figsize=(12,8))"
      ],
      "metadata": {
        "colab": {
          "base_uri": "https://localhost:8080/",
          "height": 537
        },
        "id": "c4dwGw17NYqy",
        "outputId": "b26ae1f2-0333-49e3-c64e-9ace22cc6538"
      },
      "execution_count": 41,
      "outputs": [
        {
          "output_type": "execute_result",
          "data": {
            "text/plain": [
              "<matplotlib.axes._subplots.AxesSubplot at 0x7f6de7daf0a0>"
            ]
          },
          "metadata": {},
          "execution_count": 41
        },
        {
          "output_type": "display_data",
          "data": {
            "text/plain": [
              "<Figure size 864x576 with 1 Axes>"
            ],
            "image/png": "[encoded data removed]"
          },
          "metadata": {
            "needs_background": "light"
          }
        }
      ]
    },
    {
      "cell_type": "code",
      "source": [
        "from sklearn.metrics import mean_squared_error\n",
        "from math import sqrt\n",
        "rmse=sqrt(mean_squared_error(valid2['energy'],valid2['Predictions']))\n",
        "print(rmse)\n",
        "     "
      ],
      "metadata": {
        "colab": {
          "base_uri": "https://localhost:8080/"
        },
        "id": "cZajU2A-NbSW",
        "outputId": "32999642-4911-468e-fdcf-b98480cc3540"
      },
      "execution_count": 42,
      "outputs": [
        {
          "output_type": "stream",
          "name": "stdout",
          "text": [
            "822.4773050282038\n"
          ]
        }
      ]
    }
  ]
}