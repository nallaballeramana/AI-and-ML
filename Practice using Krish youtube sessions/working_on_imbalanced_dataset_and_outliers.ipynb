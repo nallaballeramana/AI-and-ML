{
  "nbformat": 4,
  "nbformat_minor": 0,
  "metadata": {
    "colab": {
      "provenance": []
    },
    "kernelspec": {
      "name": "python3",
      "display_name": "Python 3"
    },
    "language_info": {
      "name": "python"
    }
  },
  "cells": [
    {
      "cell_type": "code",
      "execution_count": null,
      "metadata": {
        "id": "b_dvKUQEtQlt"
      },
      "outputs": [],
      "source": [
        "import numpy as np\n",
        "import pandas as pd\n",
        "import matplotlib.pyplot as pyplot\n",
        "%matplotlib inline"
      ]
    },
    {
      "cell_type": "code",
      "source": [
        "!pip install imbalanced-learn"
      ],
      "metadata": {
        "colab": {
          "base_uri": "https://localhost:8080/"
        },
        "id": "W4WnyIslt6aI",
        "outputId": "c88a58db-b0f8-49ce-c910-b4c47548a124"
      },
      "execution_count": null,
      "outputs": [
        {
          "output_type": "stream",
          "name": "stdout",
          "text": [
            "Looking in indexes: https://pypi.org/simple, https://us-python.pkg.dev/colab-wheels/public/simple/\n",
            "Requirement already satisfied: imbalanced-learn in /usr/local/lib/python3.7/dist-packages (0.8.1)\n",
            "Requirement already satisfied: scipy>=0.19.1 in /usr/local/lib/python3.7/dist-packages (from imbalanced-learn) (1.7.3)\n",
            "Requirement already satisfied: numpy>=1.13.3 in /usr/local/lib/python3.7/dist-packages (from imbalanced-learn) (1.21.6)\n",
            "Requirement already satisfied: scikit-learn>=0.24 in /usr/local/lib/python3.7/dist-packages (from imbalanced-learn) (1.0.2)\n",
            "Requirement already satisfied: joblib>=0.11 in /usr/local/lib/python3.7/dist-packages (from imbalanced-learn) (1.1.0)\n",
            "Requirement already satisfied: threadpoolctl>=2.0.0 in /usr/local/lib/python3.7/dist-packages (from scikit-learn>=0.24->imbalanced-learn) (3.1.0)\n"
          ]
        }
      ]
    },
    {
      "cell_type": "code",
      "source": [
        "df = pd.read_csv('creditcard.csv')"
      ],
      "metadata": {
        "colab": {
          "base_uri": "https://localhost:8080/",
          "height": 328
        },
        "id": "X_95KkM5uCn1",
        "outputId": "32352c26-5387-4fec-cfa0-8c39ce917559"
      },
      "execution_count": null,
      "outputs": [
        {
          "output_type": "error",
          "ename": "FileNotFoundError",
          "evalue": "ignored",
          "traceback": [
            "\u001b[0;31m---------------------------------------------------------------------------\u001b[0m",
            "\u001b[0;31mFileNotFoundError\u001b[0m                         Traceback (most recent call last)",
            "\u001b[0;32m<ipython-input-61-d47ba750ceff>\u001b[0m in \u001b[0;36m<module>\u001b[0;34m\u001b[0m\n\u001b[0;32m----> 1\u001b[0;31m \u001b[0mdf\u001b[0m \u001b[0;34m=\u001b[0m \u001b[0mpd\u001b[0m\u001b[0;34m.\u001b[0m\u001b[0mread_csv\u001b[0m\u001b[0;34m(\u001b[0m\u001b[0;34m'creditcard.csv'\u001b[0m\u001b[0;34m)\u001b[0m\u001b[0;34m\u001b[0m\u001b[0;34m\u001b[0m\u001b[0m\n\u001b[0m",
            "\u001b[0;32m/usr/local/lib/python3.7/dist-packages/pandas/util/_decorators.py\u001b[0m in \u001b[0;36mwrapper\u001b[0;34m(*args, **kwargs)\u001b[0m\n\u001b[1;32m    309\u001b[0m                     \u001b[0mstacklevel\u001b[0m\u001b[0;34m=\u001b[0m\u001b[0mstacklevel\u001b[0m\u001b[0;34m,\u001b[0m\u001b[0;34m\u001b[0m\u001b[0;34m\u001b[0m\u001b[0m\n\u001b[1;32m    310\u001b[0m                 )\n\u001b[0;32m--> 311\u001b[0;31m             \u001b[0;32mreturn\u001b[0m \u001b[0mfunc\u001b[0m\u001b[0;34m(\u001b[0m\u001b[0;34m*\u001b[0m\u001b[0margs\u001b[0m\u001b[0;34m,\u001b[0m \u001b[0;34m**\u001b[0m\u001b[0mkwargs\u001b[0m\u001b[0;34m)\u001b[0m\u001b[0;34m\u001b[0m\u001b[0;34m\u001b[0m\u001b[0m\n\u001b[0m\u001b[1;32m    312\u001b[0m \u001b[0;34m\u001b[0m\u001b[0m\n\u001b[1;32m    313\u001b[0m         \u001b[0;32mreturn\u001b[0m \u001b[0mwrapper\u001b[0m\u001b[0;34m\u001b[0m\u001b[0;34m\u001b[0m\u001b[0m\n",
            "\u001b[0;32m/usr/local/lib/python3.7/dist-packages/pandas/io/parsers/readers.py\u001b[0m in \u001b[0;36mread_csv\u001b[0;34m(filepath_or_buffer, sep, delimiter, header, names, index_col, usecols, squeeze, prefix, mangle_dupe_cols, dtype, engine, converters, true_values, false_values, skipinitialspace, skiprows, skipfooter, nrows, na_values, keep_default_na, na_filter, verbose, skip_blank_lines, parse_dates, infer_datetime_format, keep_date_col, date_parser, dayfirst, cache_dates, iterator, chunksize, compression, thousands, decimal, lineterminator, quotechar, quoting, doublequote, escapechar, comment, encoding, encoding_errors, dialect, error_bad_lines, warn_bad_lines, on_bad_lines, delim_whitespace, low_memory, memory_map, float_precision, storage_options)\u001b[0m\n\u001b[1;32m    584\u001b[0m     \u001b[0mkwds\u001b[0m\u001b[0;34m.\u001b[0m\u001b[0mupdate\u001b[0m\u001b[0;34m(\u001b[0m\u001b[0mkwds_defaults\u001b[0m\u001b[0;34m)\u001b[0m\u001b[0;34m\u001b[0m\u001b[0;34m\u001b[0m\u001b[0m\n\u001b[1;32m    585\u001b[0m \u001b[0;34m\u001b[0m\u001b[0m\n\u001b[0;32m--> 586\u001b[0;31m     \u001b[0;32mreturn\u001b[0m \u001b[0m_read\u001b[0m\u001b[0;34m(\u001b[0m\u001b[0mfilepath_or_buffer\u001b[0m\u001b[0;34m,\u001b[0m \u001b[0mkwds\u001b[0m\u001b[0;34m)\u001b[0m\u001b[0;34m\u001b[0m\u001b[0;34m\u001b[0m\u001b[0m\n\u001b[0m\u001b[1;32m    587\u001b[0m \u001b[0;34m\u001b[0m\u001b[0m\n\u001b[1;32m    588\u001b[0m \u001b[0;34m\u001b[0m\u001b[0m\n",
            "\u001b[0;32m/usr/local/lib/python3.7/dist-packages/pandas/io/parsers/readers.py\u001b[0m in \u001b[0;36m_read\u001b[0;34m(filepath_or_buffer, kwds)\u001b[0m\n\u001b[1;32m    480\u001b[0m \u001b[0;34m\u001b[0m\u001b[0m\n\u001b[1;32m    481\u001b[0m     \u001b[0;31m# Create the parser.\u001b[0m\u001b[0;34m\u001b[0m\u001b[0;34m\u001b[0m\u001b[0;34m\u001b[0m\u001b[0m\n\u001b[0;32m--> 482\u001b[0;31m     \u001b[0mparser\u001b[0m \u001b[0;34m=\u001b[0m \u001b[0mTextFileReader\u001b[0m\u001b[0;34m(\u001b[0m\u001b[0mfilepath_or_buffer\u001b[0m\u001b[0;34m,\u001b[0m \u001b[0;34m**\u001b[0m\u001b[0mkwds\u001b[0m\u001b[0;34m)\u001b[0m\u001b[0;34m\u001b[0m\u001b[0;34m\u001b[0m\u001b[0m\n\u001b[0m\u001b[1;32m    483\u001b[0m \u001b[0;34m\u001b[0m\u001b[0m\n\u001b[1;32m    484\u001b[0m     \u001b[0;32mif\u001b[0m \u001b[0mchunksize\u001b[0m \u001b[0;32mor\u001b[0m \u001b[0miterator\u001b[0m\u001b[0;34m:\u001b[0m\u001b[0;34m\u001b[0m\u001b[0;34m\u001b[0m\u001b[0m\n",
            "\u001b[0;32m/usr/local/lib/python3.7/dist-packages/pandas/io/parsers/readers.py\u001b[0m in \u001b[0;36m__init__\u001b[0;34m(self, f, engine, **kwds)\u001b[0m\n\u001b[1;32m    809\u001b[0m             \u001b[0mself\u001b[0m\u001b[0;34m.\u001b[0m\u001b[0moptions\u001b[0m\u001b[0;34m[\u001b[0m\u001b[0;34m\"has_index_names\"\u001b[0m\u001b[0;34m]\u001b[0m \u001b[0;34m=\u001b[0m \u001b[0mkwds\u001b[0m\u001b[0;34m[\u001b[0m\u001b[0;34m\"has_index_names\"\u001b[0m\u001b[0;34m]\u001b[0m\u001b[0;34m\u001b[0m\u001b[0;34m\u001b[0m\u001b[0m\n\u001b[1;32m    810\u001b[0m \u001b[0;34m\u001b[0m\u001b[0m\n\u001b[0;32m--> 811\u001b[0;31m         \u001b[0mself\u001b[0m\u001b[0;34m.\u001b[0m\u001b[0m_engine\u001b[0m \u001b[0;34m=\u001b[0m \u001b[0mself\u001b[0m\u001b[0;34m.\u001b[0m\u001b[0m_make_engine\u001b[0m\u001b[0;34m(\u001b[0m\u001b[0mself\u001b[0m\u001b[0;34m.\u001b[0m\u001b[0mengine\u001b[0m\u001b[0;34m)\u001b[0m\u001b[0;34m\u001b[0m\u001b[0;34m\u001b[0m\u001b[0m\n\u001b[0m\u001b[1;32m    812\u001b[0m \u001b[0;34m\u001b[0m\u001b[0m\n\u001b[1;32m    813\u001b[0m     \u001b[0;32mdef\u001b[0m \u001b[0mclose\u001b[0m\u001b[0;34m(\u001b[0m\u001b[0mself\u001b[0m\u001b[0;34m)\u001b[0m\u001b[0;34m:\u001b[0m\u001b[0;34m\u001b[0m\u001b[0;34m\u001b[0m\u001b[0m\n",
            "\u001b[0;32m/usr/local/lib/python3.7/dist-packages/pandas/io/parsers/readers.py\u001b[0m in \u001b[0;36m_make_engine\u001b[0;34m(self, engine)\u001b[0m\n\u001b[1;32m   1038\u001b[0m             )\n\u001b[1;32m   1039\u001b[0m         \u001b[0;31m# error: Too many arguments for \"ParserBase\"\u001b[0m\u001b[0;34m\u001b[0m\u001b[0;34m\u001b[0m\u001b[0;34m\u001b[0m\u001b[0m\n\u001b[0;32m-> 1040\u001b[0;31m         \u001b[0;32mreturn\u001b[0m \u001b[0mmapping\u001b[0m\u001b[0;34m[\u001b[0m\u001b[0mengine\u001b[0m\u001b[0;34m]\u001b[0m\u001b[0;34m(\u001b[0m\u001b[0mself\u001b[0m\u001b[0;34m.\u001b[0m\u001b[0mf\u001b[0m\u001b[0;34m,\u001b[0m \u001b[0;34m**\u001b[0m\u001b[0mself\u001b[0m\u001b[0;34m.\u001b[0m\u001b[0moptions\u001b[0m\u001b[0;34m)\u001b[0m  \u001b[0;31m# type: ignore[call-arg]\u001b[0m\u001b[0;34m\u001b[0m\u001b[0;34m\u001b[0m\u001b[0m\n\u001b[0m\u001b[1;32m   1041\u001b[0m \u001b[0;34m\u001b[0m\u001b[0m\n\u001b[1;32m   1042\u001b[0m     \u001b[0;32mdef\u001b[0m \u001b[0m_failover_to_python\u001b[0m\u001b[0;34m(\u001b[0m\u001b[0mself\u001b[0m\u001b[0;34m)\u001b[0m\u001b[0;34m:\u001b[0m\u001b[0;34m\u001b[0m\u001b[0;34m\u001b[0m\u001b[0m\n",
            "\u001b[0;32m/usr/local/lib/python3.7/dist-packages/pandas/io/parsers/c_parser_wrapper.py\u001b[0m in \u001b[0;36m__init__\u001b[0;34m(self, src, **kwds)\u001b[0m\n\u001b[1;32m     49\u001b[0m \u001b[0;34m\u001b[0m\u001b[0m\n\u001b[1;32m     50\u001b[0m         \u001b[0;31m# open handles\u001b[0m\u001b[0;34m\u001b[0m\u001b[0;34m\u001b[0m\u001b[0;34m\u001b[0m\u001b[0m\n\u001b[0;32m---> 51\u001b[0;31m         \u001b[0mself\u001b[0m\u001b[0;34m.\u001b[0m\u001b[0m_open_handles\u001b[0m\u001b[0;34m(\u001b[0m\u001b[0msrc\u001b[0m\u001b[0;34m,\u001b[0m \u001b[0mkwds\u001b[0m\u001b[0;34m)\u001b[0m\u001b[0;34m\u001b[0m\u001b[0;34m\u001b[0m\u001b[0m\n\u001b[0m\u001b[1;32m     52\u001b[0m         \u001b[0;32massert\u001b[0m \u001b[0mself\u001b[0m\u001b[0;34m.\u001b[0m\u001b[0mhandles\u001b[0m \u001b[0;32mis\u001b[0m \u001b[0;32mnot\u001b[0m \u001b[0;32mNone\u001b[0m\u001b[0;34m\u001b[0m\u001b[0;34m\u001b[0m\u001b[0m\n\u001b[1;32m     53\u001b[0m \u001b[0;34m\u001b[0m\u001b[0m\n",
            "\u001b[0;32m/usr/local/lib/python3.7/dist-packages/pandas/io/parsers/base_parser.py\u001b[0m in \u001b[0;36m_open_handles\u001b[0;34m(self, src, kwds)\u001b[0m\n\u001b[1;32m    227\u001b[0m             \u001b[0mmemory_map\u001b[0m\u001b[0;34m=\u001b[0m\u001b[0mkwds\u001b[0m\u001b[0;34m.\u001b[0m\u001b[0mget\u001b[0m\u001b[0;34m(\u001b[0m\u001b[0;34m\"memory_map\"\u001b[0m\u001b[0;34m,\u001b[0m \u001b[0;32mFalse\u001b[0m\u001b[0;34m)\u001b[0m\u001b[0;34m,\u001b[0m\u001b[0;34m\u001b[0m\u001b[0;34m\u001b[0m\u001b[0m\n\u001b[1;32m    228\u001b[0m             \u001b[0mstorage_options\u001b[0m\u001b[0;34m=\u001b[0m\u001b[0mkwds\u001b[0m\u001b[0;34m.\u001b[0m\u001b[0mget\u001b[0m\u001b[0;34m(\u001b[0m\u001b[0;34m\"storage_options\"\u001b[0m\u001b[0;34m,\u001b[0m \u001b[0;32mNone\u001b[0m\u001b[0;34m)\u001b[0m\u001b[0;34m,\u001b[0m\u001b[0;34m\u001b[0m\u001b[0;34m\u001b[0m\u001b[0m\n\u001b[0;32m--> 229\u001b[0;31m             \u001b[0merrors\u001b[0m\u001b[0;34m=\u001b[0m\u001b[0mkwds\u001b[0m\u001b[0;34m.\u001b[0m\u001b[0mget\u001b[0m\u001b[0;34m(\u001b[0m\u001b[0;34m\"encoding_errors\"\u001b[0m\u001b[0;34m,\u001b[0m \u001b[0;34m\"strict\"\u001b[0m\u001b[0;34m)\u001b[0m\u001b[0;34m,\u001b[0m\u001b[0;34m\u001b[0m\u001b[0;34m\u001b[0m\u001b[0m\n\u001b[0m\u001b[1;32m    230\u001b[0m         )\n\u001b[1;32m    231\u001b[0m \u001b[0;34m\u001b[0m\u001b[0m\n",
            "\u001b[0;32m/usr/local/lib/python3.7/dist-packages/pandas/io/common.py\u001b[0m in \u001b[0;36mget_handle\u001b[0;34m(path_or_buf, mode, encoding, compression, memory_map, is_text, errors, storage_options)\u001b[0m\n\u001b[1;32m    705\u001b[0m                 \u001b[0mencoding\u001b[0m\u001b[0;34m=\u001b[0m\u001b[0mioargs\u001b[0m\u001b[0;34m.\u001b[0m\u001b[0mencoding\u001b[0m\u001b[0;34m,\u001b[0m\u001b[0;34m\u001b[0m\u001b[0;34m\u001b[0m\u001b[0m\n\u001b[1;32m    706\u001b[0m                 \u001b[0merrors\u001b[0m\u001b[0;34m=\u001b[0m\u001b[0merrors\u001b[0m\u001b[0;34m,\u001b[0m\u001b[0;34m\u001b[0m\u001b[0;34m\u001b[0m\u001b[0m\n\u001b[0;32m--> 707\u001b[0;31m                 \u001b[0mnewline\u001b[0m\u001b[0;34m=\u001b[0m\u001b[0;34m\"\"\u001b[0m\u001b[0;34m,\u001b[0m\u001b[0;34m\u001b[0m\u001b[0;34m\u001b[0m\u001b[0m\n\u001b[0m\u001b[1;32m    708\u001b[0m             )\n\u001b[1;32m    709\u001b[0m         \u001b[0;32melse\u001b[0m\u001b[0;34m:\u001b[0m\u001b[0;34m\u001b[0m\u001b[0;34m\u001b[0m\u001b[0m\n",
            "\u001b[0;31mFileNotFoundError\u001b[0m: [Errno 2] No such file or directory: 'creditcard.csv'"
          ]
        }
      ]
    },
    {
      "cell_type": "code",
      "source": [
        "df.shape"
      ],
      "metadata": {
        "id": "Cm7wyMRivf3R"
      },
      "execution_count": null,
      "outputs": []
    },
    {
      "cell_type": "code",
      "source": [
        "df.head()"
      ],
      "metadata": {
        "id": "BexU_2DWvhgE"
      },
      "execution_count": null,
      "outputs": []
    },
    {
      "cell_type": "code",
      "source": [
        "df.Class.value_counts()"
      ],
      "metadata": {
        "id": "256wfUv7djMD"
      },
      "execution_count": null,
      "outputs": []
    },
    {
      "cell_type": "code",
      "source": [
        "df.loc[df.Class==1,['Amount','Class']]"
      ],
      "metadata": {
        "id": "dNYLZvYfdrUR"
      },
      "execution_count": null,
      "outputs": []
    },
    {
      "cell_type": "code",
      "source": [
        "X = df.drop('Class',axis=1)\n",
        "Y = df.Class"
      ],
      "metadata": {
        "id": "9rTSyqFUfAey"
      },
      "execution_count": null,
      "outputs": []
    },
    {
      "cell_type": "code",
      "source": [
        "X.head()"
      ],
      "metadata": {
        "id": "bzpriuH4gMPS"
      },
      "execution_count": null,
      "outputs": []
    },
    {
      "cell_type": "code",
      "source": [
        "###checking with model performance with imbalanced dataset , performing cross validation and hyper parameter tuning\n",
        "from sklearn.linear_model import LogisticRegression\n",
        "from sklearn.metrics import accuracy_score, confusion_matrix, classification_report\n",
        "from sklearn.model_selection import KFold, GridSearchCV\n"
      ],
      "metadata": {
        "id": "xkOrUCeNgO5o"
      },
      "execution_count": null,
      "outputs": []
    },
    {
      "cell_type": "code",
      "source": [
        "reg_model = LogisticRegression()\n",
        "grid = {'C':10.0**np.arange(-2,3),'penalty':['l1','l2']}\n",
        "cv = KFold(n_splits=5,shuffle=False, random_state=None)"
      ],
      "metadata": {
        "id": "sc89yoHNg3yh"
      },
      "execution_count": null,
      "outputs": []
    },
    {
      "cell_type": "code",
      "source": [
        "from sklearn.model_selection import train_test_split\n",
        "Xtrain,Xtest,Ytrain,Ytest = train_test_split(X,Y,train_size=0.7,random_state=1)"
      ],
      "metadata": {
        "id": "Q_mQvMvEjWZ8"
      },
      "execution_count": null,
      "outputs": []
    },
    {
      "cell_type": "code",
      "source": [
        "clf = GridSearchCV(reg_model,grid,cv=cv,n_jobs=-1,scoring='f1_macro')"
      ],
      "metadata": {
        "id": "qvKOo4ZAiIqJ"
      },
      "execution_count": null,
      "outputs": []
    },
    {
      "cell_type": "code",
      "source": [
        "clf.fit(Xtrain,Ytrain)"
      ],
      "metadata": {
        "id": "20a-2cHFjwQU"
      },
      "execution_count": null,
      "outputs": []
    },
    {
      "cell_type": "code",
      "source": [
        "Ypred = clf.predict(Xtest)"
      ],
      "metadata": {
        "id": "ex8JpRb-kbBw"
      },
      "execution_count": null,
      "outputs": []
    },
    {
      "cell_type": "code",
      "source": [
        "print('Confusion Matrix: \\n', confusion_matrix(Ytest,Ypred))\n",
        "print('\\n Accuracy Score: \\n', accuracy_score(Ytest,Ypred))\n",
        "print('\\n Classification Report: \\n', classification_report(Ytest,Ypred))"
      ],
      "metadata": {
        "id": "rcucuH4Bk0mB"
      },
      "execution_count": null,
      "outputs": []
    },
    {
      "cell_type": "code",
      "source": [
        "from sklearn.ensemble import RandomForestClassifier\n",
        "RF_model = RandomForestClassifier()\n",
        "RF_model.fit(Xtrain,Ytrain)"
      ],
      "metadata": {
        "id": "Ps-I28pJlnfI"
      },
      "execution_count": null,
      "outputs": []
    },
    {
      "cell_type": "code",
      "source": [
        "RF_Ypred = RF_model.predict(Xtest)\n",
        "print('Confusion Matrix: \\n', confusion_matrix(Ytest,RF_Ypred))\n",
        "print('\\n Accuracy Score: \\n', accuracy_score(Ytest,RF_Ypred))\n",
        "print('\\n Classification Report: \\n', classification_report(Ytest,RF_Ypred))\n"
      ],
      "metadata": {
        "id": "QO-c6Lp_nyFQ"
      },
      "execution_count": null,
      "outputs": []
    },
    {
      "cell_type": "markdown",
      "source": [
        "###Under Sampling"
      ],
      "metadata": {
        "id": "kjhw6_1aruOy"
      }
    },
    {
      "cell_type": "code",
      "source": [
        "from imblearn.under_sampling import NearMiss\n"
      ],
      "metadata": {
        "id": "1wv-QxMyrtVv"
      },
      "execution_count": null,
      "outputs": []
    },
    {
      "cell_type": "code",
      "source": [
        "from collections import Counter\n",
        "ns = NearMiss(0.8)\n",
        "Xtrain_ns , Ytrain_ns = ns.fit_resample(Xtrain,Ytrain)\n",
        "print('Num of classes before fit {}'.format(Counter(Ytrain)))\n",
        "print('Num of classes before fit {}'.format(Counter(Ytrain_ns)))"
      ],
      "metadata": {
        "id": "6YlCeLXSrw6T"
      },
      "execution_count": null,
      "outputs": []
    },
    {
      "cell_type": "code",
      "source": [
        "from sklearn.ensemble import RandomForestClassifier\n",
        "RF_US_model = RandomForestClassifier()\n",
        "RF_US_model.fit(Xtrain_ns,Ytrain_ns)"
      ],
      "metadata": {
        "id": "X1f21sweuAWx"
      },
      "execution_count": null,
      "outputs": []
    },
    {
      "cell_type": "code",
      "source": [
        "RF_US_Ypred = RF_US_model.predict(Xtest)\n",
        "print('Confusion Matrix: \\n', confusion_matrix(Ytest,RF_US_Ypred))\n",
        "print('\\n Accuracy Score: \\n', accuracy_score(Ytest,RF_US_Ypred))\n",
        "print('\\n Classification Report: \\n', classification_report(Ytest,RF_US_Ypred))"
      ],
      "metadata": {
        "id": "YRyg2YQ0ucuj"
      },
      "execution_count": null,
      "outputs": []
    },
    {
      "cell_type": "markdown",
      "source": [
        "####Over Sampling"
      ],
      "metadata": {
        "id": "Su0KF1u0vAr1"
      }
    },
    {
      "cell_type": "code",
      "source": [
        "from imblearn.over_sampling import RandomOverSampler"
      ],
      "metadata": {
        "id": "NVbtejmfu_EN"
      },
      "execution_count": null,
      "outputs": []
    },
    {
      "cell_type": "code",
      "source": [
        "os = RandomOverSampler(0.8)\n",
        "Xtrain_os , Ytrain_os = os.fit_resample(Xtrain,Ytrain)\n",
        "print('Num of classes before fit {}'.format(Counter(Ytrain)))\n",
        "print('Num of classes before fit {}'.format(Counter(Ytrain_os)))"
      ],
      "metadata": {
        "id": "KiwVO9Z-vCre"
      },
      "execution_count": null,
      "outputs": []
    },
    {
      "cell_type": "code",
      "source": [
        "from sklearn.ensemble import RandomForestClassifier\n",
        "RF_OS_model = RandomForestClassifier()\n",
        "RF_OS_model.fit(Xtrain_os,Ytrain_os)"
      ],
      "metadata": {
        "id": "NhwXPJxowBiP"
      },
      "execution_count": null,
      "outputs": []
    },
    {
      "cell_type": "code",
      "source": [
        "RF_OS_Ypred = RF_OS_model.predict(Xtest)\n",
        "print('Confusion Matrix: \\n', confusion_matrix(Ytest,RF_OS_Ypred))\n",
        "print('\\n Accuracy Score: \\n', accuracy_score(Ytest,RF_OS_Ypred))\n",
        "print('\\n Classification Report: \\n', classification_report(Ytest,RF_OS_Ypred))"
      ],
      "metadata": {
        "id": "17r72YzuwBk-"
      },
      "execution_count": null,
      "outputs": []
    },
    {
      "cell_type": "markdown",
      "source": [
        "####SMOTE TECHNIQUE"
      ],
      "metadata": {
        "id": "2ab87nJRxha9"
      }
    },
    {
      "cell_type": "code",
      "source": [
        "from imblearn.combine import SMOTETomek"
      ],
      "metadata": {
        "id": "xWe2R6dbxk6-"
      },
      "execution_count": null,
      "outputs": []
    },
    {
      "cell_type": "code",
      "source": [
        "SMT = SMOTETomek(0.75)\n",
        "Xtrain_smt , Ytrain_smt = SMT.fit_resample(Xtrain,Ytrain)\n",
        "print('Num of classes before fit {}'.format(Counter(Ytrain)))\n",
        "print('Num of classes before fit {}'.format(Counter(Ytrain_os)))"
      ],
      "metadata": {
        "id": "28Xu0vq5xsa-"
      },
      "execution_count": null,
      "outputs": []
    },
    {
      "cell_type": "code",
      "source": [
        "from sklearn.ensemble import RandomForestClassifier\n",
        "RF_SMT_model = RandomForestClassifier()\n",
        "RF_SMT_model.fit(Xtrain_smt,Ytrain_smt)"
      ],
      "metadata": {
        "id": "O_ObwGdbyrBO"
      },
      "execution_count": null,
      "outputs": []
    },
    {
      "cell_type": "code",
      "source": [
        "RF_SMT_Ypred = RF_SMT_model.predict(Xtest)\n",
        "print('Confusion Matrix: \\n', confusion_matrix(Ytest,RF_SMT_Ypred))\n",
        "print('\\n Accuracy Score: \\n', accuracy_score(Ytest,RF_SMT_Ypred))\n",
        "print('\\n Classification Report: \\n', classification_report(Ytest,RF_SMT_Ypred))"
      ],
      "metadata": {
        "id": "FJPLHo5Ky4gP"
      },
      "execution_count": null,
      "outputs": []
    },
    {
      "cell_type": "code",
      "source": [],
      "metadata": {
        "id": "07Ba8VMW0Vq9"
      },
      "execution_count": null,
      "outputs": []
    },
    {
      "cell_type": "markdown",
      "source": [
        "####Outliers and impact on Machine Learning\n",
        "\n",
        "Which Machine learning models are sensitive to outliers\n",
        "\n",
        "1) Naive Baye's Classifier --- Not sensitive to outliers\n",
        "\n",
        "2) SVM --- Not Sensitive to Outliers\n",
        "\n",
        "3) Linear Legression --- Sensitive to Outliers\n",
        "\n",
        "4) Logistic Regression --- Sensitive to Outliers\n",
        "\n",
        "5) Decision tree regressor or Classifier --- Not Sensitive to Outliers\n",
        "\n",
        "6) Ensemble techniques (Random Forest, XGboost, GB) - Not Sensitive to Outliers\n",
        "\n",
        "7) KNN --- not Sensitive to Outliers\n",
        "\n",
        "8) K Means --- Sensitive to Outliers\n",
        "\n",
        "9) Hierarchical --- Sensitive to Outliers\n",
        "\n",
        "10) PCA --- Sensitive to Outliers\n",
        "\n",
        "11) Neural Networks --- Sensitive to Outliers"
      ],
      "metadata": {
        "id": "lXMboxfRPb0a"
      }
    },
    {
      "cell_type": "code",
      "source": [
        "import pandas as pd\n",
        "import numpy as np\n",
        "import matplotlib.pyplot as plt\n",
        "%matplotlib inline"
      ],
      "metadata": {
        "id": "tzzkbK3C0hmx"
      },
      "execution_count": null,
      "outputs": []
    },
    {
      "cell_type": "code",
      "source": [
        "import seaborn as sns\n"
      ],
      "metadata": {
        "id": "lj4rfBrAWoxG"
      },
      "execution_count": null,
      "outputs": []
    },
    {
      "cell_type": "code",
      "source": [
        "df = pd.read_csv('titanic_train.csv')\n",
        "df.head()"
      ],
      "metadata": {
        "colab": {
          "base_uri": "https://localhost:8080/",
          "height": 320
        },
        "id": "i7gKW4EF0vSS",
        "outputId": "4ddf2a3a-ebc5-41c2-e018-403cdf9f45f6"
      },
      "execution_count": null,
      "outputs": [
        {
          "output_type": "execute_result",
          "data": {
            "text/plain": [
              "   PassengerId  Survived  Pclass  \\\n",
              "0            1         0       3   \n",
              "1            2         1       1   \n",
              "2            3         1       3   \n",
              "3            4         1       1   \n",
              "4            5         0       3   \n",
              "\n",
              "                                                Name     Sex   Age  SibSp  \\\n",
              "0                            Braund, Mr. Owen Harris    male  22.0      1   \n",
              "1  Cumings, Mrs. John Bradley (Florence Briggs Th...  female  38.0      1   \n",
              "2                             Heikkinen, Miss. Laina  female  26.0      0   \n",
              "3       Futrelle, Mrs. Jacques Heath (Lily May Peel)  female  35.0      1   \n",
              "4                           Allen, Mr. William Henry    male  35.0      0   \n",
              "\n",
              "   Parch            Ticket     Fare Cabin Embarked  \n",
              "0      0         A/5 21171   7.2500   NaN        S  \n",
              "1      0          PC 17599  71.2833   C85        C  \n",
              "2      0  STON/O2. 3101282   7.9250   NaN        S  \n",
              "3      0            113803  53.1000  C123        S  \n",
              "4      0            373450   8.0500   NaN        S  "
            ],
            "text/html": [
              "\n",
              "  <div id=\"df-7018a795-a17d-40dd-99af-a99e11a5ae8e\">\n",
              "    <div class=\"colab-df-container\">\n",
              "      <div>\n",
              "<style scoped>\n",
              "    .dataframe tbody tr th:only-of-type {\n",
              "        vertical-align: middle;\n",
              "    }\n",
              "\n",
              "    .dataframe tbody tr th {\n",
              "        vertical-align: top;\n",
              "    }\n",
              "\n",
              "    .dataframe thead th {\n",
              "        text-align: right;\n",
              "    }\n",
              "</style>\n",
              "<table border=\"1\" class=\"dataframe\">\n",
              "  <thead>\n",
              "    <tr style=\"text-align: right;\">\n",
              "      <th></th>\n",
              "      <th>PassengerId</th>\n",
              "      <th>Survived</th>\n",
              "      <th>Pclass</th>\n",
              "      <th>Name</th>\n",
              "      <th>Sex</th>\n",
              "      <th>Age</th>\n",
              "      <th>SibSp</th>\n",
              "      <th>Parch</th>\n",
              "      <th>Ticket</th>\n",
              "      <th>Fare</th>\n",
              "      <th>Cabin</th>\n",
              "      <th>Embarked</th>\n",
              "    </tr>\n",
              "  </thead>\n",
              "  <tbody>\n",
              "    <tr>\n",
              "      <th>0</th>\n",
              "      <td>1</td>\n",
              "      <td>0</td>\n",
              "      <td>3</td>\n",
              "      <td>Braund, Mr. Owen Harris</td>\n",
              "      <td>male</td>\n",
              "      <td>22.0</td>\n",
              "      <td>1</td>\n",
              "      <td>0</td>\n",
              "      <td>A/5 21171</td>\n",
              "      <td>7.2500</td>\n",
              "      <td>NaN</td>\n",
              "      <td>S</td>\n",
              "    </tr>\n",
              "    <tr>\n",
              "      <th>1</th>\n",
              "      <td>2</td>\n",
              "      <td>1</td>\n",
              "      <td>1</td>\n",
              "      <td>Cumings, Mrs. John Bradley (Florence Briggs Th...</td>\n",
              "      <td>female</td>\n",
              "      <td>38.0</td>\n",
              "      <td>1</td>\n",
              "      <td>0</td>\n",
              "      <td>PC 17599</td>\n",
              "      <td>71.2833</td>\n",
              "      <td>C85</td>\n",
              "      <td>C</td>\n",
              "    </tr>\n",
              "    <tr>\n",
              "      <th>2</th>\n",
              "      <td>3</td>\n",
              "      <td>1</td>\n",
              "      <td>3</td>\n",
              "      <td>Heikkinen, Miss. Laina</td>\n",
              "      <td>female</td>\n",
              "      <td>26.0</td>\n",
              "      <td>0</td>\n",
              "      <td>0</td>\n",
              "      <td>STON/O2. 3101282</td>\n",
              "      <td>7.9250</td>\n",
              "      <td>NaN</td>\n",
              "      <td>S</td>\n",
              "    </tr>\n",
              "    <tr>\n",
              "      <th>3</th>\n",
              "      <td>4</td>\n",
              "      <td>1</td>\n",
              "      <td>1</td>\n",
              "      <td>Futrelle, Mrs. Jacques Heath (Lily May Peel)</td>\n",
              "      <td>female</td>\n",
              "      <td>35.0</td>\n",
              "      <td>1</td>\n",
              "      <td>0</td>\n",
              "      <td>113803</td>\n",
              "      <td>53.1000</td>\n",
              "      <td>C123</td>\n",
              "      <td>S</td>\n",
              "    </tr>\n",
              "    <tr>\n",
              "      <th>4</th>\n",
              "      <td>5</td>\n",
              "      <td>0</td>\n",
              "      <td>3</td>\n",
              "      <td>Allen, Mr. William Henry</td>\n",
              "      <td>male</td>\n",
              "      <td>35.0</td>\n",
              "      <td>0</td>\n",
              "      <td>0</td>\n",
              "      <td>373450</td>\n",
              "      <td>8.0500</td>\n",
              "      <td>NaN</td>\n",
              "      <td>S</td>\n",
              "    </tr>\n",
              "  </tbody>\n",
              "</table>\n",
              "</div>\n",
              "      <button class=\"colab-df-convert\" onclick=\"convertToInteractive('df-7018a795-a17d-40dd-99af-a99e11a5ae8e')\"\n",
              "              title=\"Convert this dataframe to an interactive table.\"\n",
              "              style=\"display:none;\">\n",
              "        \n",
              "  <svg xmlns=\"http://www.w3.org/2000/svg\" height=\"24px\"viewBox=\"0 0 24 24\"\n",
              "       width=\"24px\">\n",
              "    <path d=\"M0 0h24v24H0V0z\" fill=\"none\"/>\n",
              "    <path d=\"M18.56 5.44l.94 2.06.94-2.06 2.06-.94-2.06-.94-.94-2.06-.94 2.06-2.06.94zm-11 1L8.5 8.5l.94-2.06 2.06-.94-2.06-.94L8.5 2.5l-.94 2.06-2.06.94zm10 10l.94 2.06.94-2.06 2.06-.94-2.06-.94-.94-2.06-.94 2.06-2.06.94z\"/><path d=\"M17.41 7.96l-1.37-1.37c-.4-.4-.92-.59-1.43-.59-.52 0-1.04.2-1.43.59L10.3 9.45l-7.72 7.72c-.78.78-.78 2.05 0 2.83L4 21.41c.39.39.9.59 1.41.59.51 0 1.02-.2 1.41-.59l7.78-7.78 2.81-2.81c.8-.78.8-2.07 0-2.86zM5.41 20L4 18.59l7.72-7.72 1.47 1.35L5.41 20z\"/>\n",
              "  </svg>\n",
              "      </button>\n",
              "      \n",
              "  <style>\n",
              "    .colab-df-container {\n",
              "      display:flex;\n",
              "      flex-wrap:wrap;\n",
              "      gap: 12px;\n",
              "    }\n",
              "\n",
              "    .colab-df-convert {\n",
              "      background-color: #E8F0FE;\n",
              "      border: none;\n",
              "      border-radius: 50%;\n",
              "      cursor: pointer;\n",
              "      display: none;\n",
              "      fill: #1967D2;\n",
              "      height: 32px;\n",
              "      padding: 0 0 0 0;\n",
              "      width: 32px;\n",
              "    }\n",
              "\n",
              "    .colab-df-convert:hover {\n",
              "      background-color: #E2EBFA;\n",
              "      box-shadow: 0px 1px 2px rgba(60, 64, 67, 0.3), 0px 1px 3px 1px rgba(60, 64, 67, 0.15);\n",
              "      fill: #174EA6;\n",
              "    }\n",
              "\n",
              "    [theme=dark] .colab-df-convert {\n",
              "      background-color: #3B4455;\n",
              "      fill: #D2E3FC;\n",
              "    }\n",
              "\n",
              "    [theme=dark] .colab-df-convert:hover {\n",
              "      background-color: #434B5C;\n",
              "      box-shadow: 0px 1px 3px 1px rgba(0, 0, 0, 0.15);\n",
              "      filter: drop-shadow(0px 1px 2px rgba(0, 0, 0, 0.3));\n",
              "      fill: #FFFFFF;\n",
              "    }\n",
              "  </style>\n",
              "\n",
              "      <script>\n",
              "        const buttonEl =\n",
              "          document.querySelector('#df-7018a795-a17d-40dd-99af-a99e11a5ae8e button.colab-df-convert');\n",
              "        buttonEl.style.display =\n",
              "          google.colab.kernel.accessAllowed ? 'block' : 'none';\n",
              "\n",
              "        async function convertToInteractive(key) {\n",
              "          const element = document.querySelector('#df-7018a795-a17d-40dd-99af-a99e11a5ae8e');\n",
              "          const dataTable =\n",
              "            await google.colab.kernel.invokeFunction('convertToInteractive',\n",
              "                                                     [key], {});\n",
              "          if (!dataTable) return;\n",
              "\n",
              "          const docLinkHtml = 'Like what you see? Visit the ' +\n",
              "            '<a target=\"_blank\" href=https://colab.research.google.com/notebooks/data_table.ipynb>data table notebook</a>'\n",
              "            + ' to learn more about interactive tables.';\n",
              "          element.innerHTML = '';\n",
              "          dataTable['output_type'] = 'display_data';\n",
              "          await google.colab.output.renderOutput(dataTable, element);\n",
              "          const docLink = document.createElement('div');\n",
              "          docLink.innerHTML = docLinkHtml;\n",
              "          element.appendChild(docLink);\n",
              "        }\n",
              "      </script>\n",
              "    </div>\n",
              "  </div>\n",
              "  "
            ]
          },
          "metadata": {},
          "execution_count": 64
        }
      ]
    },
    {
      "cell_type": "code",
      "source": [
        "df.isnull().sum()"
      ],
      "metadata": {
        "colab": {
          "base_uri": "https://localhost:8080/"
        },
        "id": "sWKLATysWcke",
        "outputId": "e0502937-fc4f-4eb0-90d1-98c9f804e96c"
      },
      "execution_count": null,
      "outputs": [
        {
          "output_type": "execute_result",
          "data": {
            "text/plain": [
              "PassengerId      0\n",
              "Survived         0\n",
              "Pclass           0\n",
              "Name             0\n",
              "Sex              0\n",
              "Age            177\n",
              "SibSp            0\n",
              "Parch            0\n",
              "Ticket           0\n",
              "Fare             0\n",
              "Cabin          687\n",
              "Embarked         2\n",
              "dtype: int64"
            ]
          },
          "metadata": {},
          "execution_count": 65
        }
      ]
    },
    {
      "cell_type": "code",
      "source": [
        "sns.distplot(df['Age'].dropna())"
      ],
      "metadata": {
        "colab": {
          "base_uri": "https://localhost:8080/",
          "height": 351
        },
        "id": "AM3wtWlFWg6e",
        "outputId": "9c235582-7a67-408b-ccbd-968b56d773a4"
      },
      "execution_count": null,
      "outputs": [
        {
          "output_type": "stream",
          "name": "stderr",
          "text": [
            "/usr/local/lib/python3.7/dist-packages/seaborn/distributions.py:2619: FutureWarning: `distplot` is a deprecated function and will be removed in a future version. Please adapt your code to use either `displot` (a figure-level function with similar flexibility) or `histplot` (an axes-level function for histograms).\n",
            "  warnings.warn(msg, FutureWarning)\n"
          ]
        },
        {
          "output_type": "execute_result",
          "data": {
            "text/plain": [
              "<matplotlib.axes._subplots.AxesSubplot at 0x7f8d6e481c90>"
            ]
          },
          "metadata": {},
          "execution_count": 66
        },
        {
          "output_type": "display_data",
          "data": {
            "text/plain": [
              "<Figure size 432x288 with 1 Axes>"
            ],
            "image/png": "[encoded data removed]"
          },
          "metadata": {
            "needs_background": "light"
          }
        }
      ]
    },
    {
      "cell_type": "code",
      "source": [
        "sns.distplot(df['Age'].fillna(100))"
      ],
      "metadata": {
        "colab": {
          "base_uri": "https://localhost:8080/",
          "height": 351
        },
        "id": "HpdJh0Y6W0yV",
        "outputId": "ea749e39-3551-462a-f181-a2920ff5c3fa"
      },
      "execution_count": null,
      "outputs": [
        {
          "output_type": "stream",
          "name": "stderr",
          "text": [
            "/usr/local/lib/python3.7/dist-packages/seaborn/distributions.py:2619: FutureWarning: `distplot` is a deprecated function and will be removed in a future version. Please adapt your code to use either `displot` (a figure-level function with similar flexibility) or `histplot` (an axes-level function for histograms).\n",
            "  warnings.warn(msg, FutureWarning)\n"
          ]
        },
        {
          "output_type": "execute_result",
          "data": {
            "text/plain": [
              "<matplotlib.axes._subplots.AxesSubplot at 0x7f8d6e3cb710>"
            ]
          },
          "metadata": {},
          "execution_count": 67
        },
        {
          "output_type": "display_data",
          "data": {
            "text/plain": [
              "<Figure size 432x288 with 1 Axes>"
            ],
            "image/png": "[encoded data removed]"
          },
          "metadata": {
            "needs_background": "light"
          }
        }
      ]
    },
    {
      "cell_type": "code",
      "source": [
        "figure = df.Age.hist(bins=50)\n",
        "figure.set_title('Age distribution')\n",
        "figure.set_xlabel('Age')\n",
        "figure.set_ylabel('No of passengers')\n"
      ],
      "metadata": {
        "colab": {
          "base_uri": "https://localhost:8080/",
          "height": 312
        },
        "id": "1BBBOjmtXoYN",
        "outputId": "36465e2f-18b7-458e-f4fc-4b350226a076"
      },
      "execution_count": null,
      "outputs": [
        {
          "output_type": "execute_result",
          "data": {
            "text/plain": [
              "Text(0, 0.5, 'No of passengers')"
            ]
          },
          "metadata": {},
          "execution_count": 68
        },
        {
          "output_type": "display_data",
          "data": {
            "text/plain": [
              "<Figure size 432x288 with 1 Axes>"
            ],
            "image/png": "[encoded data removed]"
          },
          "metadata": {
            "needs_background": "light"
          }
        }
      ]
    },
    {
      "cell_type": "code",
      "source": [
        "figure = sns.boxplot(df.Age)\n"
      ],
      "metadata": {
        "colab": {
          "base_uri": "https://localhost:8080/",
          "height": 334
        },
        "id": "qgwWFAyrYfO2",
        "outputId": "3e08dd4f-bf1e-4e08-aac2-e52d60f90a90"
      },
      "execution_count": null,
      "outputs": [
        {
          "output_type": "stream",
          "name": "stderr",
          "text": [
            "/usr/local/lib/python3.7/dist-packages/seaborn/_decorators.py:43: FutureWarning: Pass the following variable as a keyword arg: x. From version 0.12, the only valid positional argument will be `data`, and passing other arguments without an explicit keyword will result in an error or misinterpretation.\n",
            "  FutureWarning\n"
          ]
        },
        {
          "output_type": "display_data",
          "data": {
            "text/plain": [
              "<Figure size 432x288 with 1 Axes>"
            ],
            "image/png": "[encoded data removed]"
          },
          "metadata": {
            "needs_background": "light"
          }
        }
      ]
    },
    {
      "cell_type": "code",
      "source": [
        "df['Age'].describe()"
      ],
      "metadata": {
        "colab": {
          "base_uri": "https://localhost:8080/"
        },
        "id": "W3XL4gZOZHSC",
        "outputId": "dae194e9-22ed-499f-e480-e25b9fb1dd23"
      },
      "execution_count": null,
      "outputs": [
        {
          "output_type": "execute_result",
          "data": {
            "text/plain": [
              "count    714.000000\n",
              "mean      29.699118\n",
              "std       14.526497\n",
              "min        0.420000\n",
              "25%       20.125000\n",
              "50%       28.000000\n",
              "75%       38.000000\n",
              "max       80.000000\n",
              "Name: Age, dtype: float64"
            ]
          },
          "metadata": {},
          "execution_count": 70
        }
      ]
    },
    {
      "cell_type": "markdown",
      "source": [
        "Assuming Age follows gaussian distribution(normal distribution) we will calculate boundaries which differentiates the outliers"
      ],
      "metadata": {
        "id": "P31fk2o2ZWOW"
      }
    },
    {
      "cell_type": "code",
      "source": [
        "upper_boundary = df.Age.mean() + 3*df['Age'].std()\n",
        "## upper boundary = mean+3*std  ==> for normal distribution\n",
        "## lower boundary = mean - 3*std ==> for normal distribution\n",
        "\n",
        "lower_boundary = df.Age.mean() - 3*df['Age'].std()"
      ],
      "metadata": {
        "id": "xehWbaerZK-F"
      },
      "execution_count": null,
      "outputs": []
    },
    {
      "cell_type": "code",
      "source": [
        "print('upper boundary is: ',upper_boundary)\n",
        "print('lower boundary is: ',lower_boundary)\n",
        "print('Mean of age is,',df.Age.mean())"
      ],
      "metadata": {
        "colab": {
          "base_uri": "https://localhost:8080/"
        },
        "id": "ZWSs236vapg2",
        "outputId": "b54a431e-b646-4044-c2c4-2de0743722cc"
      },
      "execution_count": null,
      "outputs": [
        {
          "output_type": "stream",
          "name": "stdout",
          "text": [
            "upper boundary is:  73.27860964406094\n",
            "lower boundary is:  -13.880374349943303\n",
            "Mean of age is, 29.69911764705882\n"
          ]
        }
      ]
    },
    {
      "cell_type": "code",
      "source": [
        "## If feature is skewed\n",
        "figure = df.Fare.hist(bins=50)\n",
        "figure.set_title('Fare distribution')\n",
        "figure.set_xlabel('Fare')\n",
        "figure.set_ylabel('No of passengers')"
      ],
      "metadata": {
        "colab": {
          "base_uri": "https://localhost:8080/",
          "height": 312
        },
        "id": "tmsiOKXucufN",
        "outputId": "b432335f-5a8b-40c1-a6e3-995edec0049d"
      },
      "execution_count": null,
      "outputs": [
        {
          "output_type": "execute_result",
          "data": {
            "text/plain": [
              "Text(0, 0.5, 'No of passengers')"
            ]
          },
          "metadata": {},
          "execution_count": 73
        },
        {
          "output_type": "display_data",
          "data": {
            "text/plain": [
              "<Figure size 432x288 with 1 Axes>"
            ],
            "image/png": "[encoded data removed]"
          },
          "metadata": {
            "needs_background": "light"
          }
        }
      ]
    },
    {
      "cell_type": "code",
      "source": [
        "sns.boxplot(df.Fare)"
      ],
      "metadata": {
        "colab": {
          "base_uri": "https://localhost:8080/",
          "height": 351
        },
        "id": "6xZsAeIfdbXl",
        "outputId": "da64fde7-cb8b-4c72-d86a-ed8b4d02ece3"
      },
      "execution_count": null,
      "outputs": [
        {
          "output_type": "stream",
          "name": "stderr",
          "text": [
            "/usr/local/lib/python3.7/dist-packages/seaborn/_decorators.py:43: FutureWarning: Pass the following variable as a keyword arg: x. From version 0.12, the only valid positional argument will be `data`, and passing other arguments without an explicit keyword will result in an error or misinterpretation.\n",
            "  FutureWarning\n"
          ]
        },
        {
          "output_type": "execute_result",
          "data": {
            "text/plain": [
              "<matplotlib.axes._subplots.AxesSubplot at 0x7f8d6e084c50>"
            ]
          },
          "metadata": {},
          "execution_count": 74
        },
        {
          "output_type": "display_data",
          "data": {
            "text/plain": [
              "<Figure size 432x288 with 1 Axes>"
            ],
            "image/png": "[encoded data removed]"
          },
          "metadata": {
            "needs_background": "light"
          }
        }
      ]
    },
    {
      "cell_type": "code",
      "source": [
        "df.Fare.describe()"
      ],
      "metadata": {
        "colab": {
          "base_uri": "https://localhost:8080/"
        },
        "id": "p8geSGMldvjN",
        "outputId": "aa17d51a-35e3-4aa3-c2f2-0d29fc1ad130"
      },
      "execution_count": null,
      "outputs": [
        {
          "output_type": "execute_result",
          "data": {
            "text/plain": [
              "count    891.000000\n",
              "mean      32.204208\n",
              "std       49.693429\n",
              "min        0.000000\n",
              "25%        7.910400\n",
              "50%       14.454200\n",
              "75%       31.000000\n",
              "max      512.329200\n",
              "Name: Fare, dtype: float64"
            ]
          },
          "metadata": {},
          "execution_count": 75
        }
      ]
    },
    {
      "cell_type": "code",
      "source": [
        "##compute inter quantile range to calculate boundaries\n",
        "IQR = df.Fare.quantile(0.75) - df.Fare.quantile(0.25)\n",
        "print('IQR is: ', IQR)"
      ],
      "metadata": {
        "colab": {
          "base_uri": "https://localhost:8080/"
        },
        "id": "2MkVJyMgdzw9",
        "outputId": "11ae18bf-f582-4f63-f992-e77807622005"
      },
      "execution_count": null,
      "outputs": [
        {
          "output_type": "stream",
          "name": "stdout",
          "text": [
            "IQR is:  23.0896\n"
          ]
        }
      ]
    },
    {
      "cell_type": "code",
      "source": [
        "lower_bridge = df.Fare.quantile(0.25) - 1.5*IQR  \n",
        "upper_bridge = df.Fare.quantile(0.75) + 1.5*IQR\n",
        "print('lower bridge is: ', lower_bridge)\n",
        "print('upper bridge is: ', upper_bridge)"
      ],
      "metadata": {
        "colab": {
          "base_uri": "https://localhost:8080/"
        },
        "id": "sGIZwB0ZeUoM",
        "outputId": "7e2c7d05-951b-4eff-9a4a-91526c6c05cb"
      },
      "execution_count": null,
      "outputs": [
        {
          "output_type": "stream",
          "name": "stdout",
          "text": [
            "lower bridge is:  -26.724\n",
            "upper bridge is:  65.6344\n"
          ]
        }
      ]
    },
    {
      "cell_type": "code",
      "source": [
        "##Extrame outlier\n",
        "lower_bridge = df.Fare.quantile(0.25) - 3*IQR  \n",
        "upper_bridge = df.Fare.quantile(0.75) + 3*IQR\n",
        "print('lower bridge is: ', lower_bridge)\n",
        "print('upper bridge is: ', upper_bridge)"
      ],
      "metadata": {
        "colab": {
          "base_uri": "https://localhost:8080/"
        },
        "id": "BV5oBmCveied",
        "outputId": "9babec82-dc5f-4a8c-8274-c9082fb670d9"
      },
      "execution_count": null,
      "outputs": [
        {
          "output_type": "stream",
          "name": "stdout",
          "text": [
            "lower bridge is:  -61.358399999999996\n",
            "upper bridge is:  100.2688\n"
          ]
        }
      ]
    },
    {
      "cell_type": "code",
      "source": [
        "data = df.copy()"
      ],
      "metadata": {
        "id": "ee_dwB2hfJ7P"
      },
      "execution_count": null,
      "outputs": []
    },
    {
      "cell_type": "code",
      "source": [
        "data.head()"
      ],
      "metadata": {
        "colab": {
          "base_uri": "https://localhost:8080/",
          "height": 320
        },
        "id": "DTsQ-MgbgPV1",
        "outputId": "fa8a106f-b454-4a50-d437-d47ad480f7b4"
      },
      "execution_count": null,
      "outputs": [
        {
          "output_type": "execute_result",
          "data": {
            "text/plain": [
              "   PassengerId  Survived  Pclass  \\\n",
              "0            1         0       3   \n",
              "1            2         1       1   \n",
              "2            3         1       3   \n",
              "3            4         1       1   \n",
              "4            5         0       3   \n",
              "\n",
              "                                                Name     Sex   Age  SibSp  \\\n",
              "0                            Braund, Mr. Owen Harris    male  22.0      1   \n",
              "1  Cumings, Mrs. John Bradley (Florence Briggs Th...  female  38.0      1   \n",
              "2                             Heikkinen, Miss. Laina  female  26.0      0   \n",
              "3       Futrelle, Mrs. Jacques Heath (Lily May Peel)  female  35.0      1   \n",
              "4                           Allen, Mr. William Henry    male  35.0      0   \n",
              "\n",
              "   Parch            Ticket     Fare Cabin Embarked  \n",
              "0      0         A/5 21171   7.2500   NaN        S  \n",
              "1      0          PC 17599  71.2833   C85        C  \n",
              "2      0  STON/O2. 3101282   7.9250   NaN        S  \n",
              "3      0            113803  53.1000  C123        S  \n",
              "4      0            373450   8.0500   NaN        S  "
            ],
            "text/html": [
              "\n",
              "  <div id=\"df-c60389c3-33ba-4cbb-a01b-793174a1719c\">\n",
              "    <div class=\"colab-df-container\">\n",
              "      <div>\n",
              "<style scoped>\n",
              "    .dataframe tbody tr th:only-of-type {\n",
              "        vertical-align: middle;\n",
              "    }\n",
              "\n",
              "    .dataframe tbody tr th {\n",
              "        vertical-align: top;\n",
              "    }\n",
              "\n",
              "    .dataframe thead th {\n",
              "        text-align: right;\n",
              "    }\n",
              "</style>\n",
              "<table border=\"1\" class=\"dataframe\">\n",
              "  <thead>\n",
              "    <tr style=\"text-align: right;\">\n",
              "      <th></th>\n",
              "      <th>PassengerId</th>\n",
              "      <th>Survived</th>\n",
              "      <th>Pclass</th>\n",
              "      <th>Name</th>\n",
              "      <th>Sex</th>\n",
              "      <th>Age</th>\n",
              "      <th>SibSp</th>\n",
              "      <th>Parch</th>\n",
              "      <th>Ticket</th>\n",
              "      <th>Fare</th>\n",
              "      <th>Cabin</th>\n",
              "      <th>Embarked</th>\n",
              "    </tr>\n",
              "  </thead>\n",
              "  <tbody>\n",
              "    <tr>\n",
              "      <th>0</th>\n",
              "      <td>1</td>\n",
              "      <td>0</td>\n",
              "      <td>3</td>\n",
              "      <td>Braund, Mr. Owen Harris</td>\n",
              "      <td>male</td>\n",
              "      <td>22.0</td>\n",
              "      <td>1</td>\n",
              "      <td>0</td>\n",
              "      <td>A/5 21171</td>\n",
              "      <td>7.2500</td>\n",
              "      <td>NaN</td>\n",
              "      <td>S</td>\n",
              "    </tr>\n",
              "    <tr>\n",
              "      <th>1</th>\n",
              "      <td>2</td>\n",
              "      <td>1</td>\n",
              "      <td>1</td>\n",
              "      <td>Cumings, Mrs. John Bradley (Florence Briggs Th...</td>\n",
              "      <td>female</td>\n",
              "      <td>38.0</td>\n",
              "      <td>1</td>\n",
              "      <td>0</td>\n",
              "      <td>PC 17599</td>\n",
              "      <td>71.2833</td>\n",
              "      <td>C85</td>\n",
              "      <td>C</td>\n",
              "    </tr>\n",
              "    <tr>\n",
              "      <th>2</th>\n",
              "      <td>3</td>\n",
              "      <td>1</td>\n",
              "      <td>3</td>\n",
              "      <td>Heikkinen, Miss. Laina</td>\n",
              "      <td>female</td>\n",
              "      <td>26.0</td>\n",
              "      <td>0</td>\n",
              "      <td>0</td>\n",
              "      <td>STON/O2. 3101282</td>\n",
              "      <td>7.9250</td>\n",
              "      <td>NaN</td>\n",
              "      <td>S</td>\n",
              "    </tr>\n",
              "    <tr>\n",
              "      <th>3</th>\n",
              "      <td>4</td>\n",
              "      <td>1</td>\n",
              "      <td>1</td>\n",
              "      <td>Futrelle, Mrs. Jacques Heath (Lily May Peel)</td>\n",
              "      <td>female</td>\n",
              "      <td>35.0</td>\n",
              "      <td>1</td>\n",
              "      <td>0</td>\n",
              "      <td>113803</td>\n",
              "      <td>53.1000</td>\n",
              "      <td>C123</td>\n",
              "      <td>S</td>\n",
              "    </tr>\n",
              "    <tr>\n",
              "      <th>4</th>\n",
              "      <td>5</td>\n",
              "      <td>0</td>\n",
              "      <td>3</td>\n",
              "      <td>Allen, Mr. William Henry</td>\n",
              "      <td>male</td>\n",
              "      <td>35.0</td>\n",
              "      <td>0</td>\n",
              "      <td>0</td>\n",
              "      <td>373450</td>\n",
              "      <td>8.0500</td>\n",
              "      <td>NaN</td>\n",
              "      <td>S</td>\n",
              "    </tr>\n",
              "  </tbody>\n",
              "</table>\n",
              "</div>\n",
              "      <button class=\"colab-df-convert\" onclick=\"convertToInteractive('df-c60389c3-33ba-4cbb-a01b-793174a1719c')\"\n",
              "              title=\"Convert this dataframe to an interactive table.\"\n",
              "              style=\"display:none;\">\n",
              "        \n",
              "  <svg xmlns=\"http://www.w3.org/2000/svg\" height=\"24px\"viewBox=\"0 0 24 24\"\n",
              "       width=\"24px\">\n",
              "    <path d=\"M0 0h24v24H0V0z\" fill=\"none\"/>\n",
              "    <path d=\"M18.56 5.44l.94 2.06.94-2.06 2.06-.94-2.06-.94-.94-2.06-.94 2.06-2.06.94zm-11 1L8.5 8.5l.94-2.06 2.06-.94-2.06-.94L8.5 2.5l-.94 2.06-2.06.94zm10 10l.94 2.06.94-2.06 2.06-.94-2.06-.94-.94-2.06-.94 2.06-2.06.94z\"/><path d=\"M17.41 7.96l-1.37-1.37c-.4-.4-.92-.59-1.43-.59-.52 0-1.04.2-1.43.59L10.3 9.45l-7.72 7.72c-.78.78-.78 2.05 0 2.83L4 21.41c.39.39.9.59 1.41.59.51 0 1.02-.2 1.41-.59l7.78-7.78 2.81-2.81c.8-.78.8-2.07 0-2.86zM5.41 20L4 18.59l7.72-7.72 1.47 1.35L5.41 20z\"/>\n",
              "  </svg>\n",
              "      </button>\n",
              "      \n",
              "  <style>\n",
              "    .colab-df-container {\n",
              "      display:flex;\n",
              "      flex-wrap:wrap;\n",
              "      gap: 12px;\n",
              "    }\n",
              "\n",
              "    .colab-df-convert {\n",
              "      background-color: #E8F0FE;\n",
              "      border: none;\n",
              "      border-radius: 50%;\n",
              "      cursor: pointer;\n",
              "      display: none;\n",
              "      fill: #1967D2;\n",
              "      height: 32px;\n",
              "      padding: 0 0 0 0;\n",
              "      width: 32px;\n",
              "    }\n",
              "\n",
              "    .colab-df-convert:hover {\n",
              "      background-color: #E2EBFA;\n",
              "      box-shadow: 0px 1px 2px rgba(60, 64, 67, 0.3), 0px 1px 3px 1px rgba(60, 64, 67, 0.15);\n",
              "      fill: #174EA6;\n",
              "    }\n",
              "\n",
              "    [theme=dark] .colab-df-convert {\n",
              "      background-color: #3B4455;\n",
              "      fill: #D2E3FC;\n",
              "    }\n",
              "\n",
              "    [theme=dark] .colab-df-convert:hover {\n",
              "      background-color: #434B5C;\n",
              "      box-shadow: 0px 1px 3px 1px rgba(0, 0, 0, 0.15);\n",
              "      filter: drop-shadow(0px 1px 2px rgba(0, 0, 0, 0.3));\n",
              "      fill: #FFFFFF;\n",
              "    }\n",
              "  </style>\n",
              "\n",
              "      <script>\n",
              "        const buttonEl =\n",
              "          document.querySelector('#df-c60389c3-33ba-4cbb-a01b-793174a1719c button.colab-df-convert');\n",
              "        buttonEl.style.display =\n",
              "          google.colab.kernel.accessAllowed ? 'block' : 'none';\n",
              "\n",
              "        async function convertToInteractive(key) {\n",
              "          const element = document.querySelector('#df-c60389c3-33ba-4cbb-a01b-793174a1719c');\n",
              "          const dataTable =\n",
              "            await google.colab.kernel.invokeFunction('convertToInteractive',\n",
              "                                                     [key], {});\n",
              "          if (!dataTable) return;\n",
              "\n",
              "          const docLinkHtml = 'Like what you see? Visit the ' +\n",
              "            '<a target=\"_blank\" href=https://colab.research.google.com/notebooks/data_table.ipynb>data table notebook</a>'\n",
              "            + ' to learn more about interactive tables.';\n",
              "          element.innerHTML = '';\n",
              "          dataTable['output_type'] = 'display_data';\n",
              "          await google.colab.output.renderOutput(dataTable, element);\n",
              "          const docLink = document.createElement('div');\n",
              "          docLink.innerHTML = docLinkHtml;\n",
              "          element.appendChild(docLink);\n",
              "        }\n",
              "      </script>\n",
              "    </div>\n",
              "  </div>\n",
              "  "
            ]
          },
          "metadata": {},
          "execution_count": 80
        }
      ]
    },
    {
      "cell_type": "code",
      "source": [
        "data.loc[data['Age']>73,'Age'] = 73\n"
      ],
      "metadata": {
        "id": "QwjojIZ-gRM_"
      },
      "execution_count": null,
      "outputs": []
    },
    {
      "cell_type": "code",
      "source": [
        "data.loc[data['Fare']>100,'Fare'] = 100"
      ],
      "metadata": {
        "id": "TnT02E8Dgre9"
      },
      "execution_count": null,
      "outputs": []
    },
    {
      "cell_type": "code",
      "source": [
        "figure = data.Fare.hist(bins=50)\n",
        "figure.set_title('Fare distribution')\n",
        "figure.set_xlabel('Fare')\n",
        "figure.set_ylabel('No of passengers')"
      ],
      "metadata": {
        "colab": {
          "base_uri": "https://localhost:8080/",
          "height": 312
        },
        "id": "xm2mAH89g7Cs",
        "outputId": "4868d619-469b-4e2b-dec6-e2581adf7ee7"
      },
      "execution_count": null,
      "outputs": [
        {
          "output_type": "execute_result",
          "data": {
            "text/plain": [
              "Text(0, 0.5, 'No of passengers')"
            ]
          },
          "metadata": {},
          "execution_count": 83
        },
        {
          "output_type": "display_data",
          "data": {
            "text/plain": [
              "<Figure size 432x288 with 1 Axes>"
            ],
            "image/png": "[encoded data removed]"
          },
          "metadata": {
            "needs_background": "light"
          }
        }
      ]
    },
    {
      "cell_type": "code",
      "source": [
        "figure = data.Age.hist(bins=50)\n",
        "figure.set_title('Age distribution')\n",
        "figure.set_xlabel('Age')\n",
        "figure.set_ylabel('No of passengers')"
      ],
      "metadata": {
        "colab": {
          "base_uri": "https://localhost:8080/",
          "height": 312
        },
        "id": "Zo14eayAhJKe",
        "outputId": "8bd19ce6-c723-44e3-baf9-42293772a6fa"
      },
      "execution_count": null,
      "outputs": [
        {
          "output_type": "execute_result",
          "data": {
            "text/plain": [
              "Text(0, 0.5, 'No of passengers')"
            ]
          },
          "metadata": {},
          "execution_count": 84
        },
        {
          "output_type": "display_data",
          "data": {
            "text/plain": [
              "<Figure size 432x288 with 1 Axes>"
            ],
            "image/png": "[encoded data removed]"
          },
          "metadata": {
            "needs_background": "light"
          }
        }
      ]
    },
    {
      "cell_type": "code",
      "source": [
        "data.Age.fillna(0,inplace=True)"
      ],
      "metadata": {
        "id": "BeHB9IXnh2Vj"
      },
      "execution_count": null,
      "outputs": []
    },
    {
      "cell_type": "code",
      "source": [
        "from sklearn.model_selection import train_test_split\n",
        "from sklearn.linear_model import LogisticRegression"
      ],
      "metadata": {
        "id": "aTIifI5iiHit"
      },
      "execution_count": null,
      "outputs": []
    },
    {
      "cell_type": "code",
      "source": [
        "X = data[['Age','Fare']]\n",
        "Y= data['Survived']"
      ],
      "metadata": {
        "id": "Zfq183tniz_A"
      },
      "execution_count": null,
      "outputs": []
    },
    {
      "cell_type": "code",
      "source": [
        "xtrain,xtest,ytrain,ytest = train_test_split(X,Y,train_size=0.7,random_state=2)\n"
      ],
      "metadata": {
        "id": "205-B-5CiU9t"
      },
      "execution_count": null,
      "outputs": []
    },
    {
      "cell_type": "code",
      "source": [
        "model = LogisticRegression()"
      ],
      "metadata": {
        "id": "7WswEJVnilqU"
      },
      "execution_count": null,
      "outputs": []
    },
    {
      "cell_type": "code",
      "source": [
        "model.fit(xtrain,ytrain)"
      ],
      "metadata": {
        "colab": {
          "base_uri": "https://localhost:8080/"
        },
        "id": "9txzNW1KjGKk",
        "outputId": "921d662e-7ee8-403c-9ef8-a387aa45ac58"
      },
      "execution_count": null,
      "outputs": [
        {
          "output_type": "execute_result",
          "data": {
            "text/plain": [
              "LogisticRegression()"
            ]
          },
          "metadata": {},
          "execution_count": 90
        }
      ]
    },
    {
      "cell_type": "code",
      "source": [
        "Ypredict = model.predict(xtest)"
      ],
      "metadata": {
        "id": "sWTYzddjjKet"
      },
      "execution_count": null,
      "outputs": []
    },
    {
      "cell_type": "code",
      "source": [
        "Ypred1 = model.predict_proba(xtest)"
      ],
      "metadata": {
        "id": "7yOawGeekTfN"
      },
      "execution_count": null,
      "outputs": []
    },
    {
      "cell_type": "code",
      "source": [
        "Ypred1"
      ],
      "metadata": {
        "colab": {
          "base_uri": "https://localhost:8080/"
        },
        "id": "P-o35ZQEkh3j",
        "outputId": "a89b2137-b1a0-4ba2-aac6-872af9487c9a"
      },
      "execution_count": null,
      "outputs": [
        {
          "output_type": "execute_result",
          "data": {
            "text/plain": [
              "array([[0.66172802, 0.33827198],\n",
              "       [0.72374101, 0.27625899],\n",
              "       [0.41492597, 0.58507403],\n",
              "       [0.46992217, 0.53007783],\n",
              "       [0.71925704, 0.28074296],\n",
              "       [0.73564232, 0.26435768],\n",
              "       [0.68569785, 0.31430215],\n",
              "       [0.73242127, 0.26757873],\n",
              "       [0.27004668, 0.72995332],\n",
              "       [0.6388761 , 0.3611239 ],\n",
              "       [0.65329455, 0.34670545],\n",
              "       [0.2981327 , 0.7018673 ],\n",
              "       [0.72957224, 0.27042776],\n",
              "       [0.42628286, 0.57371714],\n",
              "       [0.42628286, 0.57371714],\n",
              "       [0.72212762, 0.27787238],\n",
              "       [0.65997041, 0.34002959],\n",
              "       [0.79035309, 0.20964691],\n",
              "       [0.68892585, 0.31107415],\n",
              "       [0.77687643, 0.22312357],\n",
              "       [0.23215411, 0.76784589],\n",
              "       [0.62189547, 0.37810453],\n",
              "       [0.66817723, 0.33182277],\n",
              "       [0.71540411, 0.28459589],\n",
              "       [0.7272556 , 0.2727444 ],\n",
              "       [0.68248105, 0.31751895],\n",
              "       [0.74818356, 0.25181644],\n",
              "       [0.50383634, 0.49616366],\n",
              "       [0.72581391, 0.27418609],\n",
              "       [0.7374394 , 0.2625606 ],\n",
              "       [0.72306138, 0.27693862],\n",
              "       [0.77644582, 0.22355418],\n",
              "       [0.58124369, 0.41875631],\n",
              "       [0.46360758, 0.53639242],\n",
              "       [0.63383316, 0.36616684],\n",
              "       [0.69152163, 0.30847837],\n",
              "       [0.27503832, 0.72496168],\n",
              "       [0.48316609, 0.51683391],\n",
              "       [0.69725319, 0.30274681],\n",
              "       [0.72994693, 0.27005307],\n",
              "       [0.74905517, 0.25094483],\n",
              "       [0.71519617, 0.28480383],\n",
              "       [0.72639021, 0.27360979],\n",
              "       [0.7271784 , 0.2728216 ],\n",
              "       [0.72195354, 0.27804646],\n",
              "       [0.21253686, 0.78746314],\n",
              "       [0.3397982 , 0.6602018 ],\n",
              "       [0.69347267, 0.30652733],\n",
              "       [0.72881231, 0.27118769],\n",
              "       [0.71988734, 0.28011266],\n",
              "       [0.69649497, 0.30350503],\n",
              "       [0.67297043, 0.32702957],\n",
              "       [0.60502948, 0.39497052],\n",
              "       [0.60306676, 0.39693324],\n",
              "       [0.72620136, 0.27379864],\n",
              "       [0.52755212, 0.47244788],\n",
              "       [0.62690412, 0.37309588],\n",
              "       [0.72088131, 0.27911869],\n",
              "       [0.76413119, 0.23586881],\n",
              "       [0.73795641, 0.26204359],\n",
              "       [0.72716849, 0.27283151],\n",
              "       [0.60478531, 0.39521469],\n",
              "       [0.74104041, 0.25895959],\n",
              "       [0.700417  , 0.299583  ],\n",
              "       [0.68721219, 0.31278781],\n",
              "       [0.73204407, 0.26795593],\n",
              "       [0.67198629, 0.32801371],\n",
              "       [0.65812057, 0.34187943],\n",
              "       [0.52511078, 0.47488922],\n",
              "       [0.72333184, 0.27666816],\n",
              "       [0.69007062, 0.30992938],\n",
              "       [0.78540114, 0.21459886],\n",
              "       [0.61203993, 0.38796007],\n",
              "       [0.73363735, 0.26636265],\n",
              "       [0.73089813, 0.26910187],\n",
              "       [0.52909981, 0.47090019],\n",
              "       [0.7199424 , 0.2800576 ],\n",
              "       [0.60629164, 0.39370836],\n",
              "       [0.59843798, 0.40156202],\n",
              "       [0.4762101 , 0.5237899 ],\n",
              "       [0.27245   , 0.72755   ],\n",
              "       [0.50776968, 0.49223032],\n",
              "       [0.77119552, 0.22880448],\n",
              "       [0.65186479, 0.34813521],\n",
              "       [0.25659249, 0.74340751],\n",
              "       [0.70699622, 0.29300378],\n",
              "       [0.74193394, 0.25806606],\n",
              "       [0.69725319, 0.30274681],\n",
              "       [0.67225643, 0.32774357],\n",
              "       [0.70930592, 0.29069408],\n",
              "       [0.69809179, 0.30190821],\n",
              "       [0.72070499, 0.27929501],\n",
              "       [0.73507554, 0.26492446],\n",
              "       [0.69725319, 0.30274681],\n",
              "       [0.75232473, 0.24767527],\n",
              "       [0.54709155, 0.45290845],\n",
              "       [0.58669406, 0.41330594],\n",
              "       [0.69480789, 0.30519211],\n",
              "       [0.70053909, 0.29946091],\n",
              "       [0.47132179, 0.52867821],\n",
              "       [0.2135095 , 0.7864905 ],\n",
              "       [0.66603572, 0.33396428],\n",
              "       [0.63010134, 0.36989866],\n",
              "       [0.47055097, 0.52944903],\n",
              "       [0.71566035, 0.28433965],\n",
              "       [0.68117809, 0.31882191],\n",
              "       [0.53381079, 0.46618921],\n",
              "       [0.65549425, 0.34450575],\n",
              "       [0.77862746, 0.22137254],\n",
              "       [0.66156979, 0.33843021],\n",
              "       [0.57925647, 0.42074353],\n",
              "       [0.7349622 , 0.2650378 ],\n",
              "       [0.32146107, 0.67853893],\n",
              "       [0.69004775, 0.30995225],\n",
              "       [0.23215411, 0.76784589],\n",
              "       [0.64622987, 0.35377013],\n",
              "       [0.7324032 , 0.2675968 ],\n",
              "       [0.25300031, 0.74699969],\n",
              "       [0.5530618 , 0.4469382 ],\n",
              "       [0.63183241, 0.36816759],\n",
              "       [0.40147363, 0.59852637],\n",
              "       [0.73752442, 0.26247558],\n",
              "       [0.73459181, 0.26540819],\n",
              "       [0.70538962, 0.29461038],\n",
              "       [0.72682312, 0.27317688],\n",
              "       [0.69725319, 0.30274681],\n",
              "       [0.28779908, 0.71220092],\n",
              "       [0.63010134, 0.36989866],\n",
              "       [0.72123125, 0.27876875],\n",
              "       [0.73459181, 0.26540819],\n",
              "       [0.69725319, 0.30274681],\n",
              "       [0.65703072, 0.34296928],\n",
              "       [0.68485697, 0.31514303],\n",
              "       [0.46917012, 0.53082988],\n",
              "       [0.7370621 , 0.2629379 ],\n",
              "       [0.70254093, 0.29745907],\n",
              "       [0.72339899, 0.27660101],\n",
              "       [0.69649497, 0.30350503],\n",
              "       [0.74640277, 0.25359723],\n",
              "       [0.68882464, 0.31117536],\n",
              "       [0.72683374, 0.27316626],\n",
              "       [0.44977926, 0.55022074],\n",
              "       [0.66603572, 0.33396428],\n",
              "       [0.69889789, 0.30110211],\n",
              "       [0.59869467, 0.40130533],\n",
              "       [0.38322621, 0.61677379],\n",
              "       [0.72813224, 0.27186776],\n",
              "       [0.76506689, 0.23493311],\n",
              "       [0.72113389, 0.27886611],\n",
              "       [0.69613338, 0.30386662],\n",
              "       [0.34496243, 0.65503757],\n",
              "       [0.68880684, 0.31119316],\n",
              "       [0.73555747, 0.26444253],\n",
              "       [0.74786963, 0.25213037],\n",
              "       [0.69796913, 0.30203087],\n",
              "       [0.74470907, 0.25529093],\n",
              "       [0.64895378, 0.35104622],\n",
              "       [0.38621173, 0.61378827],\n",
              "       [0.71621046, 0.28378954],\n",
              "       [0.73001947, 0.26998053],\n",
              "       [0.61861786, 0.38138214],\n",
              "       [0.69618734, 0.30381266],\n",
              "       [0.72121215, 0.27878785],\n",
              "       [0.73441409, 0.26558591],\n",
              "       [0.60814982, 0.39185018],\n",
              "       [0.29550025, 0.70449975],\n",
              "       [0.66439058, 0.33560942],\n",
              "       [0.69784643, 0.30215357],\n",
              "       [0.25181033, 0.74818967],\n",
              "       [0.72869727, 0.27130273],\n",
              "       [0.65549425, 0.34450575],\n",
              "       [0.72253605, 0.27746395],\n",
              "       [0.64322939, 0.35677061],\n",
              "       [0.72869727, 0.27130273],\n",
              "       [0.72750761, 0.27249239],\n",
              "       [0.72056935, 0.27943065],\n",
              "       [0.35413733, 0.64586267],\n",
              "       [0.73070763, 0.26929237],\n",
              "       [0.72259861, 0.27740139],\n",
              "       [0.65136126, 0.34863874],\n",
              "       [0.65803224, 0.34196776],\n",
              "       [0.75118554, 0.24881446],\n",
              "       [0.58520582, 0.41479418],\n",
              "       [0.71401954, 0.28598046],\n",
              "       [0.71189965, 0.28810035],\n",
              "       [0.73494369, 0.26505631],\n",
              "       [0.71743029, 0.28256971],\n",
              "       [0.65267963, 0.34732037],\n",
              "       [0.69649497, 0.30350503],\n",
              "       [0.72494567, 0.27505433],\n",
              "       [0.40092575, 0.59907425],\n",
              "       [0.72086043, 0.27913957],\n",
              "       [0.68931312, 0.31068688],\n",
              "       [0.28001448, 0.71998552],\n",
              "       [0.50701216, 0.49298784],\n",
              "       [0.71145675, 0.28854325],\n",
              "       [0.74104041, 0.25895959],\n",
              "       [0.66883527, 0.33116473],\n",
              "       [0.78283088, 0.21716912],\n",
              "       [0.38572619, 0.61427381],\n",
              "       [0.73461045, 0.26538955],\n",
              "       [0.63202307, 0.36797693],\n",
              "       [0.65851389, 0.34148611],\n",
              "       [0.67991307, 0.32008693],\n",
              "       [0.21253686, 0.78746314],\n",
              "       [0.50680796, 0.49319204],\n",
              "       [0.74673134, 0.25326866],\n",
              "       [0.59212956, 0.40787044],\n",
              "       [0.75751023, 0.24248977],\n",
              "       [0.5750916 , 0.4249084 ],\n",
              "       [0.66038424, 0.33961576],\n",
              "       [0.68533681, 0.31466319],\n",
              "       [0.72075285, 0.27924715],\n",
              "       [0.63329816, 0.36670184],\n",
              "       [0.63087888, 0.36912112],\n",
              "       [0.49753012, 0.50246988],\n",
              "       [0.35413733, 0.64586267],\n",
              "       [0.61700255, 0.38299745],\n",
              "       [0.63646144, 0.36353856],\n",
              "       [0.75116555, 0.24883445],\n",
              "       [0.72193327, 0.27806673],\n",
              "       [0.62568109, 0.37431891],\n",
              "       [0.69796913, 0.30203087],\n",
              "       [0.70407738, 0.29592262],\n",
              "       [0.75758222, 0.24241778],\n",
              "       [0.73371339, 0.26628661],\n",
              "       [0.33085509, 0.66914491],\n",
              "       [0.69796913, 0.30203087],\n",
              "       [0.30868675, 0.69131325],\n",
              "       [0.71577753, 0.28422247],\n",
              "       [0.68417603, 0.31582397],\n",
              "       [0.48807291, 0.51192709],\n",
              "       [0.74838714, 0.25161286],\n",
              "       [0.72716849, 0.27283151],\n",
              "       [0.70960211, 0.29039789],\n",
              "       [0.50953059, 0.49046941],\n",
              "       [0.73864885, 0.26135115],\n",
              "       [0.71499289, 0.28500711],\n",
              "       [0.74571206, 0.25428794],\n",
              "       [0.39085222, 0.60914778],\n",
              "       [0.77971254, 0.22028746],\n",
              "       [0.70276176, 0.29723824],\n",
              "       [0.35485967, 0.64514033],\n",
              "       [0.25181033, 0.74818967],\n",
              "       [0.71477259, 0.28522741],\n",
              "       [0.36345128, 0.63654872],\n",
              "       [0.73057386, 0.26942614],\n",
              "       [0.72380038, 0.27619962],\n",
              "       [0.7195975 , 0.2804025 ],\n",
              "       [0.24708766, 0.75291234],\n",
              "       [0.69796913, 0.30203087],\n",
              "       [0.72247835, 0.27752165],\n",
              "       [0.61091418, 0.38908582],\n",
              "       [0.65668948, 0.34331052],\n",
              "       [0.72831676, 0.27168324],\n",
              "       [0.69784643, 0.30215357],\n",
              "       [0.75060351, 0.24939649],\n",
              "       [0.75295709, 0.24704291],\n",
              "       [0.74533625, 0.25466375],\n",
              "       [0.68582312, 0.31417688],\n",
              "       [0.60176669, 0.39823331],\n",
              "       [0.66099246, 0.33900754],\n",
              "       [0.72193327, 0.27806673],\n",
              "       [0.61907729, 0.38092271],\n",
              "       [0.50077826, 0.49922174],\n",
              "       [0.75178217, 0.24821783],\n",
              "       [0.69725319, 0.30274681],\n",
              "       [0.73705461, 0.26294539]])"
            ]
          },
          "metadata": {},
          "execution_count": 93
        }
      ]
    },
    {
      "cell_type": "code",
      "source": [
        "from sklearn.metrics import accuracy_score, roc_auc_score\n",
        "print('Accuracy score {}'.format(accuracy_score(ytest,Ypredict)))\n",
        "print('roc_auc score: {}'.format(roc_auc_score(ytest,Ypred1[:,1])))"
      ],
      "metadata": {
        "colab": {
          "base_uri": "https://localhost:8080/"
        },
        "id": "k6KPPmOEjem2",
        "outputId": "02149566-8706-4d32-f28d-f7acbad25afe"
      },
      "execution_count": null,
      "outputs": [
        {
          "output_type": "stream",
          "name": "stdout",
          "text": [
            "Accuracy score 0.6902985074626866\n",
            "roc_auc score: 0.7188368055555555\n"
          ]
        }
      ]
    },
    {
      "cell_type": "code",
      "source": [
        "from sklearn.ensemble import RandomForestClassifier\n",
        "RF_model = RandomForestClassifier()\n",
        "RF_model.fit(xtrain,ytrain)\n",
        "Ypredict = RF_model.predict(xtest)\n",
        "Ypred1 = RF_model.predict_proba(xtest)\n",
        "print('Accuracy score {}'.format(accuracy_score(ytest,Ypredict)))\n",
        "print('roc_auc score: {}'.format(roc_auc_score(ytest,Ypred1[:,1])))"
      ],
      "metadata": {
        "colab": {
          "base_uri": "https://localhost:8080/"
        },
        "id": "5Ixa37-7kOO8",
        "outputId": "e6021774-fc17-49c2-d716-54949703379e"
      },
      "execution_count": null,
      "outputs": [
        {
          "output_type": "stream",
          "name": "stdout",
          "text": [
            "Accuracy score 0.6753731343283582\n",
            "roc_auc score: 0.7234953703703704\n"
          ]
        }
      ]
    },
    {
      "cell_type": "code",
      "source": [],
      "metadata": {
        "id": "h-3_ATwPlJhD"
      },
      "execution_count": null,
      "outputs": []
    }
  ]
}