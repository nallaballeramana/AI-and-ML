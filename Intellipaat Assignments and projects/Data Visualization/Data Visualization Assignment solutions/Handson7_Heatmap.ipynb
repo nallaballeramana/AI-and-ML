{
  "nbformat": 4,
  "nbformat_minor": 0,
  "metadata": {
    "colab": {
      "name": "Handson7 Heatmap.ipynb",
      "provenance": []
    },
    "kernelspec": {
      "name": "python3",
      "display_name": "Python 3"
    },
    "language_info": {
      "name": "python"
    }
  },
  "cells": [
    {
      "cell_type": "code",
      "execution_count": 1,
      "metadata": {
        "id": "I6vPXPDyKhV-"
      },
      "outputs": [],
      "source": [
        "import matplotlib.pyplot as plt\n",
        "import seaborn as sns"
      ]
    },
    {
      "cell_type": "code",
      "source": [
        "#Run this code to run create a heatmap based on a 2-d matrix.\n",
        "\n",
        "data=[\n",
        "      [99, 85, 15],\n",
        "      [78, 5, 25],\n",
        "      [90, 45, 35]\n",
        "]\n",
        "\n",
        "sns.heatmap(data,annot=True)"
      ],
      "metadata": {
        "colab": {
          "base_uri": "https://localhost:8080/",
          "height": 282
        },
        "id": "rif-hqTqM3Qi",
        "outputId": "cc0a041e-9039-44aa-81a9-2eaf4bd53c69"
      },
      "execution_count": 4,
      "outputs": [
        {
          "output_type": "execute_result",
          "data": {
            "text/plain": [
              "<matplotlib.axes._subplots.AxesSubplot at 0x7f054fefe290>"
            ]
          },
          "metadata": {},
          "execution_count": 4
        },
        {
          "output_type": "display_data",
          "data": {
            "image/png": "[encoded data removed]",
            "text/plain": [
              "<Figure size 432x288 with 2 Axes>"
            ]
          },
          "metadata": {
            "needs_background": "light"
          }
        }
      ]
    },
    {
      "cell_type": "code",
      "source": [
        ""
      ],
      "metadata": {
        "id": "AlN-tSYLNj1h"
      },
      "execution_count": null,
      "outputs": []
    }
  ]
}