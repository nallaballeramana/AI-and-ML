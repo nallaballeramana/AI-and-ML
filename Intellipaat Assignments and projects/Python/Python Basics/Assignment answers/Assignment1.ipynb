{
  "nbformat": 4,
  "nbformat_minor": 0,
  "metadata": {
    "colab": {
      "name": "Assignment1.ipynb",
      "provenance": []
    },
    "kernelspec": {
      "name": "python3",
      "display_name": "Python 3"
    },
    "language_info": {
      "name": "python"
    }
  },
  "cells": [
    {
      "cell_type": "markdown",
      "metadata": {
        "id": "5cS4rcZVQ7OB"
      },
      "source": [
        ". Input the values of a and b as 10 and 20 respectively. Now check if a is greater or b is greater \n",
        "using if condition. Think about all the edge cases, and print the statements accordingly."
      ]
    },
    {
      "cell_type": "code",
      "metadata": {
        "colab": {
          "base_uri": "https://localhost:8080/"
        },
        "id": "8_b2_ibXQ4dp",
        "outputId": "ecdafaa8-3153-4600-eaba-7f791c5105fa"
      },
      "source": [
        "a = input(\"Enter value of a \")\n",
        "b = input(\"Enter value of b \")\n",
        "\n",
        "if a>b:\n",
        "  print(\"a is greater\")\n",
        "\n",
        "if a==b:\n",
        "  print(\"a and b are equal\")\n",
        "\n",
        "if b>a:\n",
        "  print(\"b is greater than a\")\n"
      ],
      "execution_count": 22,
      "outputs": [
        {
          "output_type": "stream",
          "name": "stdout",
          "text": [
            "Enter value of a 10\n",
            "Enter value of b 20\n",
            "b is greater than a\n"
          ]
        }
      ]
    }
  ]
}