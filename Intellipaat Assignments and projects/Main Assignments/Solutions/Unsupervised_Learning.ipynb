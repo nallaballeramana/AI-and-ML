{
  "nbformat": 4,
  "nbformat_minor": 0,
  "metadata": {
    "colab": {
      "name": "Unsupervised Learning.ipynb",
      "provenance": []
    },
    "kernelspec": {
      "name": "python3",
      "display_name": "Python 3"
    },
    "language_info": {
      "name": "python"
    }
  },
  "cells": [
    {
      "cell_type": "code",
      "source": [
        "1.\tMatch the terms in Group A with the relevant terms in Group B\n",
        "        Group A                                           Group B\n",
        "A.\tk-means                                     1) unsupervised learning algorithm\n",
        "B.\tknn                                         2) k is no. of clusters\n",
        "C.\tlogistic regression                         3) k is no. of neighbours\n",
        "D.\tclustering                                  4) logit function\n",
        "\n",
        "Answer:\n",
        "A.\tk-means                                     2) k is no. of clusters\n",
        "B.\tknn                                         3) k is no. of neighbours\n",
        "C.\tlogistic regression                         4) logit function\n",
        "D.\tclustering                                  1) unsupervised learning algorithm\n",
        "\n",
        "\n",
        "\n",
        "2.\tEach centroid in K- means algorithm defines one \n",
        " \n",
        "A.\tcluster\n",
        "B.\tdata point\n",
        "C.\ttwo clusters\n",
        "D.\tNone of the above\n",
        "\n",
        "Answer: A\n",
        "\n",
        "3.\tThe method / metric which is NOT useful to determine the optimal number of clusters in unsupervised clustering algorithms is\n",
        "A.\t Dendogram\n",
        "B.\t Elbow method\n",
        "C.\t Scatter plot\n",
        "D.\t None of the above\n",
        "\n",
        "Answer: C\n",
        "\n",
        "4.\tIn K-means algorithm, what is the most commonly used distance metric to calculate distance between centroid of each cluster and data points?\n",
        " \n",
        "A.\tChebyshev distance\n",
        "B.\tManhattan \n",
        "C.\tEuclidean\n",
        "D.\tNone of the above\n",
        "\n",
        "Answer: C\n",
        "\n",
        "5.\tWhich of the following statement is not correct about k-means?\n",
        "\n",
        "A.\tAccuracy of cluster are improved by scaling of attributes.\n",
        "B.\tK-means clusters are affected by outliers.\n",
        "C.\tK-Means clustering is NOT influenced by initial centroids which are called cluster seeds\n",
        "D.\tNumber of clusters to be built is typically an user input and it impacts the way clusters are created\n",
        "\n",
        "Answer: C\n",
        " \n"
      ],
      "metadata": {
        "id": "Qepd3YEtDdpF"
      },
      "execution_count": null,
      "outputs": []
    }
  ]
}