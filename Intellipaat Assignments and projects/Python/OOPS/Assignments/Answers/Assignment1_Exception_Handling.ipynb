{
  "nbformat": 4,
  "nbformat_minor": 0,
  "metadata": {
    "colab": {
      "name": "Assignment1 -Exception Handling.ipynb",
      "provenance": []
    },
    "kernelspec": {
      "name": "python3",
      "display_name": "Python 3"
    },
    "language_info": {
      "name": "python"
    }
  },
  "cells": [
    {
      "cell_type": "code",
      "metadata": {
        "colab": {
          "base_uri": "https://localhost:8080/"
        },
        "id": "H6XL_mMSXCKq",
        "outputId": "b899f338-633a-44da-be51-647f310c646d"
      },
      "source": [
        "#1. With the help of try and inbuilt exception, display the exception.\n",
        "\n",
        "a=10\n",
        "b=0\n",
        "\n",
        "try:\n",
        "    print(a/b)\n",
        "except Exception as ex:\n",
        "    print(\"Encountered an error:\",ex)"
      ],
      "execution_count": 1,
      "outputs": [
        {
          "output_type": "stream",
          "name": "stdout",
          "text": [
            "Encountered an error: division by zero\n"
          ]
        }
      ]
    },
    {
      "cell_type": "code",
      "metadata": {
        "colab": {
          "base_uri": "https://localhost:8080/"
        },
        "id": "2OI_jIkZa69r",
        "outputId": "9cda5ee7-18cd-4062-ecda-4cd3e76f4917"
      },
      "source": [
        "#2. Take two user inputs and pass those input variables in a try block. If the user input is 0, then throw the ZeroDivisionError exception.\n",
        "\n",
        "p=int(input(\"please enter first num:\"))\n",
        "q=p=int(input(\"please enter second num:\"))\n",
        "\n",
        "try:\n",
        "    print(p/q)\n",
        "except ZeroDivisionError as ex:\n",
        "    print(\"Encountered an error:\",ex)"
      ],
      "execution_count": 7,
      "outputs": [
        {
          "output_type": "stream",
          "name": "stdout",
          "text": [
            "please enter first num:10\n",
            "please enter second num:0\n",
            "Encountered an error: division by zero\n"
          ]
        }
      ]
    },
    {
      "cell_type": "markdown",
      "metadata": {
        "id": "m1rjakylbjuY"
      },
      "source": [
        " 3.Import math package and with the help of math package, print – math.exp(50000). Now use \n",
        "the inbuilt OverflowError exception on the math.exp(), and print the exception"
      ]
    },
    {
      "cell_type": "code",
      "metadata": {
        "colab": {
          "base_uri": "https://localhost:8080/",
          "height": 197
        },
        "id": "ZIyCz3bBbk_J",
        "outputId": "7de74979-d2b0-4ecb-b62d-bd668cdb5424"
      },
      "source": [
        "import math\n",
        "\n",
        "print(math.exp(50000))"
      ],
      "execution_count": 8,
      "outputs": [
        {
          "output_type": "error",
          "ename": "OverflowError",
          "evalue": "ignored",
          "traceback": [
            "\u001b[0;31m---------------------------------------------------------------------------\u001b[0m",
            "\u001b[0;31mOverflowError\u001b[0m                             Traceback (most recent call last)",
            "\u001b[0;32m<ipython-input-8-f6d3f6c8bf18>\u001b[0m in \u001b[0;36m<module>\u001b[0;34m()\u001b[0m\n\u001b[1;32m      1\u001b[0m \u001b[0;32mimport\u001b[0m \u001b[0mmath\u001b[0m\u001b[0;34m\u001b[0m\u001b[0;34m\u001b[0m\u001b[0m\n\u001b[1;32m      2\u001b[0m \u001b[0;34m\u001b[0m\u001b[0m\n\u001b[0;32m----> 3\u001b[0;31m \u001b[0mprint\u001b[0m\u001b[0;34m(\u001b[0m\u001b[0mmath\u001b[0m\u001b[0;34m.\u001b[0m\u001b[0mexp\u001b[0m\u001b[0;34m(\u001b[0m\u001b[0;36m50000\u001b[0m\u001b[0;34m)\u001b[0m\u001b[0;34m)\u001b[0m\u001b[0;34m\u001b[0m\u001b[0;34m\u001b[0m\u001b[0m\n\u001b[0m",
            "\u001b[0;31mOverflowError\u001b[0m: math range error"
          ]
        }
      ]
    },
    {
      "cell_type": "code",
      "metadata": {
        "colab": {
          "base_uri": "https://localhost:8080/"
        },
        "id": "NTrmwwaHbtbM",
        "outputId": "3a0fd025-d791-444e-a97f-4b31f9d252d2"
      },
      "source": [
        "\n",
        "try:\n",
        "  a=int(input(\"Enter base num:\"))\n",
        "  print(math.exp(a))\n",
        "except OverflowError as ex:\n",
        "  print(\"calculated value is out of math range\")\n",
        "\n",
        "\n"
      ],
      "execution_count": 14,
      "outputs": [
        {
          "output_type": "stream",
          "name": "stdout",
          "text": [
            "Enter base num:50000\n",
            "calculated value is out of math range\n"
          ]
        }
      ]
    },
    {
      "cell_type": "markdown",
      "metadata": {
        "id": "8n-ddgHuirHN"
      },
      "source": [
        "4.Now install the ‘termcolor’ package in the anaconda prompt, and import that package to \n",
        "provide the colors to the print statement in Jupyter Notebook.\n"
      ]
    },
    {
      "cell_type": "code",
      "metadata": {
        "colab": {
          "base_uri": "https://localhost:8080/"
        },
        "id": "WvDvCEnHcWXk",
        "outputId": "11200574-7c50-4949-a4f5-a2b968fb1e42"
      },
      "source": [
        "from termcolor import colored\n",
        "\n",
        "print(colored(\"This is a colored string\",\"white\",\"on_red\"))\n"
      ],
      "execution_count": 18,
      "outputs": [
        {
          "output_type": "stream",
          "name": "stdout",
          "text": [
            "\u001b[41m\u001b[37mThis is a colored string\u001b[0m\n"
          ]
        }
      ]
    },
    {
      "cell_type": "markdown",
      "metadata": {
        "id": "pVCPcWXcjnNP"
      },
      "source": [
        "5.Create your own exception with the help of class and functions"
      ]
    },
    {
      "cell_type": "code",
      "metadata": {
        "colab": {
          "base_uri": "https://localhost:8080/",
          "height": 248
        },
        "id": "P-TiUt0TjE7X",
        "outputId": "77daae6a-4ec7-4458-90d8-d62087793f72"
      },
      "source": [
        "\n",
        "class dobException(Exception):\n",
        "  print(\"Inside DOB exception\")\n",
        "  def __init__(self):\n",
        "    super(Exception,self).__init__()\n",
        "    self.args=(\"You cannot have birth year in future\",)\n",
        "\n",
        "\n",
        "raise dobException()\n",
        "\n",
        "\n",
        "\n"
      ],
      "execution_count": 57,
      "outputs": [
        {
          "output_type": "stream",
          "name": "stdout",
          "text": [
            "Inside DOB exception\n"
          ]
        },
        {
          "output_type": "error",
          "ename": "dobException",
          "evalue": "ignored",
          "traceback": [
            "\u001b[0;31m---------------------------------------------------------------------------\u001b[0m",
            "\u001b[0;31mdobException\u001b[0m                              Traceback (most recent call last)",
            "\u001b[0;32m<ipython-input-57-0afb7bc6b2a7>\u001b[0m in \u001b[0;36m<module>\u001b[0;34m()\u001b[0m\n\u001b[1;32m      7\u001b[0m \u001b[0;34m\u001b[0m\u001b[0m\n\u001b[1;32m      8\u001b[0m \u001b[0;34m\u001b[0m\u001b[0m\n\u001b[0;32m----> 9\u001b[0;31m \u001b[0;32mraise\u001b[0m \u001b[0mdobException\u001b[0m\u001b[0;34m(\u001b[0m\u001b[0;34m)\u001b[0m\u001b[0;34m\u001b[0m\u001b[0;34m\u001b[0m\u001b[0m\n\u001b[0m\u001b[1;32m     10\u001b[0m \u001b[0;34m\u001b[0m\u001b[0m\n\u001b[1;32m     11\u001b[0m \u001b[0;34m\u001b[0m\u001b[0m\n",
            "\u001b[0;31mdobException\u001b[0m: You cannot have birth year in future"
          ]
        }
      ]
    },
    {
      "cell_type": "code",
      "metadata": {
        "id": "r_4LyWjs1rg1"
      },
      "source": [
        ""
      ],
      "execution_count": null,
      "outputs": []
    }
  ]
}