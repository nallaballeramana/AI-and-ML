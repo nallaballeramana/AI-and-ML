{
  "nbformat": 4,
  "nbformat_minor": 0,
  "metadata": {
    "colab": {
      "name": "Mod4Numpy-Assignment.ipynb",
      "provenance": []
    },
    "kernelspec": {
      "name": "python3",
      "display_name": "Python 3"
    },
    "language_info": {
      "name": "python"
    }
  },
  "cells": [
    {
      "cell_type": "markdown",
      "source": [
        "1. Create a 3x3 matrix array with values ranging from 2 to 10"
      ],
      "metadata": {
        "id": "f1HawQG5hmbJ"
      }
    },
    {
      "cell_type": "code",
      "source": [
        "import numpy as np"
      ],
      "metadata": {
        "id": "00L3gAgghtTH"
      },
      "execution_count": 1,
      "outputs": []
    },
    {
      "cell_type": "code",
      "source": [
        "A1=np.random.randint(2,10,(3,3))\n",
        "print(A1)"
      ],
      "metadata": {
        "colab": {
          "base_uri": "https://localhost:8080/"
        },
        "id": "93gndP8JhzkJ",
        "outputId": "fc69e76f-b026-4e0f-f96a-b550b1696adb"
      },
      "execution_count": 6,
      "outputs": [
        {
          "output_type": "stream",
          "name": "stdout",
          "text": [
            "[[8 7 4]\n",
            " [4 3 4]\n",
            " [3 5 9]]\n"
          ]
        }
      ]
    },
    {
      "cell_type": "markdown",
      "source": [
        "2. Create a numpy array having user input values and convert the integer type to the float type \n",
        "of the elements of the array. For instance:\n",
        "Original array\n",
        "[1, 2, 3, 4]\n",
        "Array converted to a float type:\n",
        "[ 1. 2. 3. 4.]\n"
      ],
      "metadata": {
        "id": "0TJ5g2N4id63"
      }
    },
    {
      "cell_type": "code",
      "source": [
        "A2=int(input())\n",
        "np.arange(A2,dtype=float)\n"
      ],
      "metadata": {
        "colab": {
          "base_uri": "https://localhost:8080/"
        },
        "id": "XyEZKRFtinSC",
        "outputId": "83c7cd62-4d75-4b72-9211-13f8dfeed2d0"
      },
      "execution_count": 21,
      "outputs": [
        {
          "name": "stdout",
          "output_type": "stream",
          "text": [
            "5\n"
          ]
        },
        {
          "output_type": "execute_result",
          "data": {
            "text/plain": [
              "array([0., 1., 2., 3., 4.])"
            ]
          },
          "metadata": {},
          "execution_count": 21
        }
      ]
    },
    {
      "cell_type": "markdown",
      "source": [
        "3.Write a Numpy program to append values to the end of an array. For instance:\n",
        "Original array:\n",
        "[10, 20, 30]\n",
        "After append values to the end of the array:\n",
        "[10 20 30 40 50 60 70 80 90]\n"
      ],
      "metadata": {
        "id": "sAtp4UQzlBWp"
      }
    },
    {
      "cell_type": "code",
      "source": [
        "arr1=np.array([10,20,30])\n",
        "arr2=np.array([40,50,60,70,80,90])\n",
        "arr3=np.append(arr1,arr2)\n",
        "print(arr3)"
      ],
      "metadata": {
        "colab": {
          "base_uri": "https://localhost:8080/"
        },
        "id": "BPKvCYVel4Mo",
        "outputId": "3ece6222-68a3-4861-88a7-43a7db16578c"
      },
      "execution_count": 31,
      "outputs": [
        {
          "output_type": "stream",
          "name": "stdout",
          "text": [
            "[10 20 30 40 50 60 70 80 90]\n"
          ]
        }
      ]
    },
    {
      "cell_type": "markdown",
      "source": [
        "4.Create two numpy arrays and add the elements of both the arrays and store the result in \n",
        "sumArray.\n"
      ],
      "metadata": {
        "id": "AZVPV28jn4IO"
      }
    },
    {
      "cell_type": "code",
      "source": [
        "#Add colums of two arrays\n",
        "B1=np.array([10,20,30,80])\n",
        "B2=np.array([40,80,20,50])\n",
        "sumArray=np.add(B1,B2)\n",
        "print(sumArray)"
      ],
      "metadata": {
        "colab": {
          "base_uri": "https://localhost:8080/"
        },
        "id": "muhIDS1dnx-R",
        "outputId": "d29c9971-b6f1-4962-b98d-8a8d0fc7089a"
      },
      "execution_count": 40,
      "outputs": [
        {
          "output_type": "stream",
          "name": "stdout",
          "text": [
            "[ 50 100  50 130]\n"
          ]
        }
      ]
    },
    {
      "cell_type": "code",
      "source": [
        "#add sum of two arrays\n",
        "C1=np.array([10,20,30,80])\n",
        "C2=np.array([40,80,20,50])\n",
        "sumArray1=np.sum(C1)+np.sum(C2)\n",
        "print(sumArray1)"
      ],
      "metadata": {
        "colab": {
          "base_uri": "https://localhost:8080/"
        },
        "id": "_PHO1EapoSoY",
        "outputId": "55eb2078-9e9c-40b9-db17-5c992391683b"
      },
      "execution_count": 41,
      "outputs": [
        {
          "output_type": "stream",
          "name": "stdout",
          "text": [
            "330\n"
          ]
        }
      ]
    },
    {
      "cell_type": "markdown",
      "source": [
        "5. Create a 3*3 array having values from 10-90(interval of 10) and store that in array1. Perform \n",
        "the following tasks:\n",
        "a. Extract the 1st row from the array.\n",
        "b. Extract the last element from the array."
      ],
      "metadata": {
        "id": "2mNeyJtMplJ-"
      }
    },
    {
      "cell_type": "code",
      "source": [
        "array1=np.arange(10,100,10).reshape(3,3)\n",
        "print(array1)"
      ],
      "metadata": {
        "colab": {
          "base_uri": "https://localhost:8080/"
        },
        "id": "wKb7Rf6Epl7Q",
        "outputId": "8ba65890-8b5f-4980-bf60-06751febc018"
      },
      "execution_count": 43,
      "outputs": [
        {
          "output_type": "stream",
          "name": "stdout",
          "text": [
            "[[10 20 30]\n",
            " [40 50 60]\n",
            " [70 80 90]]\n"
          ]
        }
      ]
    },
    {
      "cell_type": "code",
      "source": [
        "array1[0:1]"
      ],
      "metadata": {
        "colab": {
          "base_uri": "https://localhost:8080/"
        },
        "id": "LHkTimvfqYdB",
        "outputId": "ed7cf0c8-7094-4b78-fe27-8ac439d5b235"
      },
      "execution_count": 47,
      "outputs": [
        {
          "output_type": "execute_result",
          "data": {
            "text/plain": [
              "array([[10, 20, 30]])"
            ]
          },
          "metadata": {},
          "execution_count": 47
        }
      ]
    },
    {
      "cell_type": "code",
      "source": [
        "array1[2:,2:]\n"
      ],
      "metadata": {
        "colab": {
          "base_uri": "https://localhost:8080/"
        },
        "id": "YtqCW1VCqyJA",
        "outputId": "2863d5da-735c-4063-a032-999020d87d00"
      },
      "execution_count": 49,
      "outputs": [
        {
          "output_type": "execute_result",
          "data": {
            "text/plain": [
              "array([[90]])"
            ]
          },
          "metadata": {},
          "execution_count": 49
        }
      ]
    },
    {
      "cell_type": "code",
      "source": [
        "array1[2,2]"
      ],
      "metadata": {
        "colab": {
          "base_uri": "https://localhost:8080/"
        },
        "id": "iO86vDO4rt15",
        "outputId": "fb6c5e5c-ac66-4952-fbdd-2ff331143a88"
      },
      "execution_count": 50,
      "outputs": [
        {
          "output_type": "execute_result",
          "data": {
            "text/plain": [
              "90"
            ]
          },
          "metadata": {},
          "execution_count": 50
        }
      ]
    },
    {
      "cell_type": "code",
      "source": [
        "array1[-1,-1]"
      ],
      "metadata": {
        "colab": {
          "base_uri": "https://localhost:8080/"
        },
        "id": "SKmMw0jzr3l5",
        "outputId": "3204d52c-c1ac-4ca1-93d7-09f134217838"
      },
      "execution_count": 52,
      "outputs": [
        {
          "output_type": "execute_result",
          "data": {
            "text/plain": [
              "90"
            ]
          },
          "metadata": {},
          "execution_count": 52
        }
      ]
    },
    {
      "cell_type": "code",
      "source": [
        ""
      ],
      "metadata": {
        "id": "7USb2XUTr7tQ"
      },
      "execution_count": null,
      "outputs": []
    }
  ]
}