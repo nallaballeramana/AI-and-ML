{
  "nbformat": 4,
  "nbformat_minor": 0,
  "metadata": {
    "colab": {
      "provenance": [],
      "collapsed_sections": []
    },
    "kernelspec": {
      "name": "python3",
      "display_name": "Python 3"
    },
    "language_info": {
      "name": "python"
    }
  },
  "cells": [
    {
      "cell_type": "code",
      "execution_count": null,
      "metadata": {
        "id": "FlRAlXsKCYWS"
      },
      "outputs": [],
      "source": [
        "# Machine Learning - \n",
        "\n",
        "# Human solving problem - \n",
        "# 1. Hard Coding the system - which eventually will fail\n",
        "# 2. it is not scalable"
      ]
    },
    {
      "cell_type": "code",
      "source": [
        "# Data is important! \n",
        "# It helps you learn about the history of the process"
      ],
      "metadata": {
        "id": "HTbtCaSNGZfm"
      },
      "execution_count": null,
      "outputs": []
    },
    {
      "cell_type": "code",
      "source": [
        "# ML - think of a small kid -- How does a kid learns ? \n",
        "\n",
        "# Train - Kid goes to school ... Q and A \n",
        "# Test  - To acknowledge .. . \n",
        "# Use that knowledge in real world"
      ],
      "metadata": {
        "id": "d7czNKkRGl69"
      },
      "execution_count": null,
      "outputs": []
    },
    {
      "cell_type": "code",
      "source": [
        "# ML Question - Predict House Price\n",
        "# Generate a model to predict house price if Area/BHK/Location/Parking is given ? \n",
        "# Area | BHK | Location | Parking .... House Price\n",
        "\n",
        "\n",
        "\n",
        "# Input -> Area, BHK, Location, Parking\n",
        "# Output -> House Price"
      ],
      "metadata": {
        "id": "nPSk_EVJH1jP"
      },
      "execution_count": null,
      "outputs": []
    },
    {
      "cell_type": "code",
      "source": [
        "# ML Lifecycle  \n",
        "# Phase I Training - You have to give both input and output!\n",
        "# ----------------\n",
        "# You will gather historical data both input & output\n",
        "# And then give ML Algo.... \n",
        "\n",
        "# [Train_Input, Train_Output] --> [ML Algo] --> [Model]\n",
        "# ML Model understands the relationship between input & output\n",
        "\n",
        "\n",
        "\n",
        "# Phase II Testing - Where we will test a model\n",
        "\n",
        "# [Test_Input] --> [Model] --> [Predicted_Output]\n",
        "\n",
        "# Compare [Test_output] with [Predicted_output]\n",
        "# Generate Test score based on the above comparision! \n",
        "\n",
        "# Either the model passes or fails -- \n",
        "# If the model fails, go to Phase I again and training happens again\n",
        "# If the model passes, very good - you move to next phase \n",
        "\n",
        "\n",
        "\n",
        "# Phase III Prediction Phase/ Deployment/ Inferencing \n",
        "# [Input] --> [Model] --> [Output]"
      ],
      "metadata": {
        "id": "m-hFou8WHRnC"
      },
      "execution_count": null,
      "outputs": []
    },
    {
      "cell_type": "code",
      "source": [
        "# House Price Prediction Model \n",
        "# Original Price  = $285,765\n",
        "# Predicted Price = $280,000\n",
        "\n",
        "# Cancer Prediction Model \n",
        "# Orginal         - Cancer Detected - YES \n",
        "# Model Predicted - Cancer Detected - NO"
      ],
      "metadata": {
        "id": "s1MQxv4-OC7p"
      },
      "execution_count": null,
      "outputs": []
    },
    {
      "cell_type": "code",
      "source": [
        "# Types of ML \n",
        "# 1. Supervised \n",
        "# 2. Unsupervised \n",
        "# 3. Reinforcement Learning"
      ],
      "metadata": {
        "id": "nK6CySupVI1D"
      },
      "execution_count": null,
      "outputs": []
    },
    {
      "cell_type": "code",
      "source": [
        "# 1. Supervised Machine Learning -\n",
        "# Training Process \n",
        "# Input ---> Algo ----> Predict_output\n",
        "# Error = Original_Output - Predict_output\n",
        "\n",
        "# where we have an Output to supervise the complete process "
      ],
      "metadata": {
        "id": "DCDhIITFWhCX"
      },
      "execution_count": null,
      "outputs": []
    },
    {
      "cell_type": "code",
      "source": [
        "# 2. Unsupervised Learning - \n",
        "\n",
        "# x. Semi Supervised / Self Supervised"
      ],
      "metadata": {
        "id": "KX7-V__cbeLU"
      },
      "execution_count": null,
      "outputs": []
    },
    {
      "cell_type": "code",
      "source": [
        "# 3. Reinforcement Learning \n",
        "# Reward  - \n",
        "# Penalty - \n",
        "# These models are reward hungary models "
      ],
      "metadata": {
        "id": "-t9ykbYTnk0m"
      },
      "execution_count": null,
      "outputs": []
    },
    {
      "cell_type": "code",
      "source": [
        "# DS Vs ML Vs DL(deep learning) Vs AI \n",
        "# Data Science - get insights \n",
        "# SQL, Python, Data Viz \n",
        "\n",
        "\n",
        "# ML - predict \n",
        "# it is mathematical model, so it works very good with number but not with congnative data\n",
        "\n",
        "# DL - predict (congnative data - images, speech, video, text)\n",
        "# but it try to mimck human brain\n",
        "# Neural Network \n",
        "\n",
        "\n",
        "# AI  "
      ],
      "metadata": {
        "id": "Zt9kOBJRhR2M"
      },
      "execution_count": null,
      "outputs": []
    }
  ]
}