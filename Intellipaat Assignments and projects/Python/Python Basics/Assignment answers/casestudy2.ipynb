{
  "nbformat": 4,
  "nbformat_minor": 0,
  "metadata": {
    "colab": {
      "name": "casestudy2.ipynb",
      "provenance": []
    },
    "kernelspec": {
      "name": "python3",
      "display_name": "Python 3"
    },
    "language_info": {
      "name": "python"
    }
  },
  "cells": [
    {
      "cell_type": "markdown",
      "metadata": {
        "id": "oxcDw6Ocef_u"
      },
      "source": [
        "Problem Statement:\n",
        "Consider yourself to be Sam who is a data scientist. He has been invited as a guest lecturer at a college \n",
        "to take an introductory session on Python. \n",
        "Tasks to be performed:\n",
        "1. Create 1st tuple with values -> (10,20,30), 2nd tuple with values -> (40,50,60). \n",
        "a. Concatenate the two tuples and store it in “t_combine”\n",
        "b. Repeat the elements of “t_combine” 3 times \n",
        "c. Access the 3rd element from “t_combine”\n",
        "d. Access the first three elements from “t_combine”\n",
        "e. Access the last three elements from “t_combine”\n",
        "2. Create a list ‘my_list’ with these elements: \n",
        "a. First element is a tuple with values 1,2,3 \n",
        "b. Second element is a tuple with values “a”,”b”,”c”\n",
        "c. Third element is a tuple with values True,False \n",
        "3. Append a new tuple – (1,’a’,True) to ‘my_list’\n",
        "a. Append a new list – *“sparta”,123+ to my_list \n",
        "4. Create a dictionary ‘fruit’ where: \n",
        "a. The first key is ‘Fruit’ and the values are (“Apple”,”Banana”,”Mango”,”Guava”)\n",
        "b. The second key is ‘Cost’ and the values are (85,54,120,70) \n",
        "c. Extract all the keys from ‘fruit’\n",
        "d. Extract all the values from ‘fruit’\n",
        "5. Crete a set named ‘my_set’ with values (1,1,”a”,”a”,True,True) and print the result"
      ]
    },
    {
      "cell_type": "code",
      "metadata": {
        "id": "94MLFAkGeheI"
      },
      "source": [
        ""
      ],
      "execution_count": null,
      "outputs": []
    },
    {
      "cell_type": "markdown",
      "metadata": {
        "id": "DK_FwGLuD0pN"
      },
      "source": [
        "1) Create 1st tuple with values -> (10,20,30), 2nd tuple with values -> (40,50,60). a. Concatenate the two tuples and store it in “t_combine” b. Repeat the elements of “t_combine” 3 times c. Access the 3rd element from “t_combine” d. Access the first three elements from “t_combine” e. Access the last three elements from “t_combine”"
      ]
    },
    {
      "cell_type": "code",
      "metadata": {
        "colab": {
          "base_uri": "https://localhost:8080/"
        },
        "id": "yKBmnRzZD3bh",
        "outputId": "d3c20b83-fec5-4344-8b36-8abcbfe685bb"
      },
      "source": [
        "t1=(10,20,30)\n",
        "t2=(40,50,60)\n",
        "\n",
        "t_combine=t1+t2\n",
        "print(t_combine)\n",
        "\n",
        "t_combine=t_combine*3\n",
        "print(t_combine)\n",
        "\n",
        "print(t_combine[2])\n",
        "print(t_combine[:3])\n",
        "print(t_combine[-3:])"
      ],
      "execution_count": 33,
      "outputs": [
        {
          "output_type": "stream",
          "name": "stdout",
          "text": [
            "(10, 20, 30, 40, 50, 60)\n",
            "(10, 20, 30, 40, 50, 60, 10, 20, 30, 40, 50, 60, 10, 20, 30, 40, 50, 60)\n",
            "30\n",
            "(10, 20, 30)\n",
            "(40, 50, 60)\n"
          ]
        }
      ]
    },
    {
      "cell_type": "code",
      "metadata": {
        "id": "fxSDF9xWEtCJ"
      },
      "source": [
        ""
      ],
      "execution_count": null,
      "outputs": []
    },
    {
      "cell_type": "markdown",
      "metadata": {
        "id": "VlJUl6NMHL4V"
      },
      "source": [
        "2) Create a list ‘my_list’ with these elements: a. First element is a tuple with values 1,2,3 b. Second element is a tuple with values “a”,”b”,”c” c. Third element is a tuple with values True,False"
      ]
    },
    {
      "cell_type": "code",
      "metadata": {
        "colab": {
          "base_uri": "https://localhost:8080/"
        },
        "id": "KTraNEYxHOTD",
        "outputId": "43202de4-f241-4149-c3c2-d05b8b97e23a"
      },
      "source": [
        "my_list=[(1,2,3),(\"a\",\"b\",\"c\"),(True,False)]\n",
        "print(my_list)"
      ],
      "execution_count": 34,
      "outputs": [
        {
          "output_type": "stream",
          "name": "stdout",
          "text": [
            "[(1, 2, 3), ('a', 'b', 'c'), (True, False)]\n"
          ]
        }
      ]
    },
    {
      "cell_type": "markdown",
      "metadata": {
        "id": "LC-YFZetH0iC"
      },
      "source": [
        "3)Append a new tuple – (1,’a’,True) to ‘my_list’ a. Append a new list – *“sparta”,123+ to my_list"
      ]
    },
    {
      "cell_type": "code",
      "metadata": {
        "colab": {
          "base_uri": "https://localhost:8080/"
        },
        "id": "CeGQtKo1H4l0",
        "outputId": "3256bebf-f20b-4f51-a3ff-53865d121b84"
      },
      "source": [
        "my_list.append((1,\"a\",True))\n",
        "print(my_list)\n",
        "\n",
        "my_list.append([\"sparta\",123])\n",
        "print(my_list)"
      ],
      "execution_count": 35,
      "outputs": [
        {
          "output_type": "stream",
          "name": "stdout",
          "text": [
            "[(1, 2, 3), ('a', 'b', 'c'), (True, False), (1, 'a', True)]\n",
            "[(1, 2, 3), ('a', 'b', 'c'), (True, False), (1, 'a', True), ['sparta', 123]]\n"
          ]
        }
      ]
    },
    {
      "cell_type": "markdown",
      "metadata": {
        "id": "6wWGO92jJZa4"
      },
      "source": [
        "4) Create a dictionary ‘fruit’ where: a. The first key is ‘Fruit’ and the values are (“Apple”,”Banana”,”Mango”,”Guava”) b. The second key is ‘Cost’ and the values are (85,54,120,70) c. Extract all the keys from ‘fruit’ d. Extract all the values from ‘fruit’"
      ]
    },
    {
      "cell_type": "code",
      "metadata": {
        "colab": {
          "base_uri": "https://localhost:8080/"
        },
        "id": "392aQcvVJawg",
        "outputId": "fe20c0d6-c14f-48f9-ab1b-9193b8dde6e0"
      },
      "source": [
        "fruit={\"Fruit\":(\"Apple\",\"Banana\",\"Mango\",\"Guava\"),\"Cost\":(85,54,120,70)}\n",
        "print(fruit.keys())\n",
        "print(fruit.values())"
      ],
      "execution_count": 36,
      "outputs": [
        {
          "output_type": "stream",
          "name": "stdout",
          "text": [
            "dict_keys(['Fruit', 'Cost'])\n",
            "dict_values([('Apple', 'Banana', 'Mango', 'Guava'), (85, 54, 120, 70)])\n"
          ]
        }
      ]
    },
    {
      "cell_type": "markdown",
      "metadata": {
        "id": "ycAD2wc4KVHY"
      },
      "source": [
        "5)Crete a set named ‘my_set’ with values (1,1,”a”,”a”,True,True) and print the result"
      ]
    },
    {
      "cell_type": "code",
      "metadata": {
        "colab": {
          "base_uri": "https://localhost:8080/"
        },
        "id": "CASzRGZRKWY4",
        "outputId": "b60b0a3e-a69c-4788-d9a5-2d828ed7c05b"
      },
      "source": [
        "my_set={1,1,\"a\",\"a\",True,True}\n",
        "print(my_set)"
      ],
      "execution_count": 37,
      "outputs": [
        {
          "output_type": "stream",
          "name": "stdout",
          "text": [
            "{1, 'a'}\n"
          ]
        }
      ]
    }
  ]
}