{
  "nbformat": 4,
  "nbformat_minor": 0,
  "metadata": {
    "colab": {
      "name": "Handson5 Graphs and Charts.ipynb",
      "provenance": []
    },
    "kernelspec": {
      "name": "python3",
      "display_name": "Python 3"
    },
    "language_info": {
      "name": "python"
    }
  },
  "cells": [
    {
      "cell_type": "code",
      "execution_count": 2,
      "metadata": {
        "id": "6ag09WgoACjD"
      },
      "outputs": [],
      "source": [
        "import matplotlib.pyplot as plt\n",
        "import numpy as np"
      ]
    },
    {
      "cell_type": "code",
      "source": [
        "# Run the following code to create a histogram by passing in data.\n",
        "\n",
        "plt.hist([10,15,15,10,20,20,1,14,10,14,12])\n",
        "plt.show()\n"
      ],
      "metadata": {
        "colab": {
          "base_uri": "https://localhost:8080/",
          "height": 265
        },
        "id": "_OSwy33sANMk",
        "outputId": "5738c434-b455-48d6-d803-64619c4c9a3b"
      },
      "execution_count": 3,
      "outputs": [
        {
          "output_type": "display_data",
          "data": {
            "image/png": "[encoded data removed]",
            "text/plain": [
              "<Figure size 432x288 with 1 Axes>"
            ]
          },
          "metadata": {
            "needs_background": "light"
          }
        }
      ]
    },
    {
      "cell_type": "code",
      "source": [
        "  #Run the following code to create a pie chart by passing in sizes of slices of pies with their labels.\n",
        "\n",
        "  labels=['Frogs','Hogs','Dogs','Logs']\n",
        "  sizes=[15,30,45,10]\n",
        "  plt.pie(sizes,labels=labels)"
      ],
      "metadata": {
        "colab": {
          "base_uri": "https://localhost:8080/",
          "height": 387
        },
        "id": "_8QvsP0QBLAh",
        "outputId": "da9d7d7d-68c6-4c7d-b290-01487fbe667e"
      },
      "execution_count": 5,
      "outputs": [
        {
          "output_type": "execute_result",
          "data": {
            "text/plain": [
              "([<matplotlib.patches.Wedge at 0x7f8d98db2050>,\n",
              "  <matplotlib.patches.Wedge at 0x7f8d98830d90>,\n",
              "  <matplotlib.patches.Wedge at 0x7f8d98830c90>,\n",
              "  <matplotlib.patches.Wedge at 0x7f8d98da8d90>],\n",
              " [Text(0.9801071672559598, 0.4993895680663527, 'Frogs'),\n",
              "  Text(-0.33991877217145816, 1.046162142464278, 'Hogs'),\n",
              "  Text(-0.49938947630209474, -0.9801072140121813, 'Dogs'),\n",
              "  Text(1.0461621822461364, -0.3399186497354948, 'Logs')])"
            ]
          },
          "metadata": {},
          "execution_count": 5
        },
        {
          "output_type": "display_data",
          "data": {
            "image/png": "[encoded data removed]",
            "text/plain": [
              "<Figure size 432x288 with 1 Axes>"
            ]
          },
          "metadata": {}
        }
      ]
    },
    {
      "cell_type": "code",
      "source": [
        "# Run the following code to create a bar graph.\n",
        "\n",
        "labels=['Jane', 'John', 'James','Johnny']\n",
        "x_pos=np.arange(len(labels))\n",
        "data=[55,25,28,45]\n",
        "\n",
        "plt.bar(x_pos,data)\n",
        "plt.xticks(x_pos,labels)\n",
        "plt.xlabel(\"Name\")\n",
        "plt.ylabel(\"Age\")\n",
        "plt.title(\"Name vs Age\")\n",
        "\n",
        "plt.show()"
      ],
      "metadata": {
        "colab": {
          "base_uri": "https://localhost:8080/",
          "height": 295
        },
        "id": "-XTJzbq9B_Bi",
        "outputId": "c5790144-e100-4964-d311-28bf23be0655"
      },
      "execution_count": 6,
      "outputs": [
        {
          "output_type": "display_data",
          "data": {
            "image/png": "[encoded data removed]",
            "text/plain": [
              "<Figure size 432x288 with 1 Axes>"
            ]
          },
          "metadata": {
            "needs_background": "light"
          }
        }
      ]
    },
    {
      "cell_type": "code",
      "source": [
        ""
      ],
      "metadata": {
        "id": "u3j02sapDONp"
      },
      "execution_count": null,
      "outputs": []
    }
  ]
}