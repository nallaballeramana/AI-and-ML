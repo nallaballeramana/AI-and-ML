{
  "nbformat": 4,
  "nbformat_minor": 0,
  "metadata": {
    "colab": {
      "name": "Assignment2.ipynb",
      "provenance": []
    },
    "kernelspec": {
      "name": "python3",
      "display_name": "Python 3"
    },
    "language_info": {
      "name": "python"
    }
  },
  "cells": [
    {
      "cell_type": "markdown",
      "metadata": {
        "id": "qojlom9iYvqz"
      },
      "source": [
        " Take three user inputs and print the greatest number from those inputs using if-else \n",
        "condition. Edge cases if any, should also be handled.\n"
      ]
    },
    {
      "cell_type": "code",
      "metadata": {
        "colab": {
          "base_uri": "https://localhost:8080/"
        },
        "id": "5uUGXlLGYwu2",
        "outputId": "9574faa4-9394-48ea-b356-87089be51888"
      },
      "source": [
        "a=input(\"Enter value of a \")\n",
        "b=input(\"Enter value of b \")\n",
        "c=input(\"Enter value of c \")\n",
        "\n",
        "if a>b and a>c:\n",
        "  print(\"a is greater\")\n",
        "\n",
        "elif b>a and b>c:\n",
        "  print(\"b is greater\")\n",
        "\n",
        "elif c>a and c>b:\n",
        "  print(\"c is greater\")\n",
        "\n",
        "else:\n",
        "  print(\"a,b and c are equal\")\n"
      ],
      "execution_count": 6,
      "outputs": [
        {
          "output_type": "stream",
          "name": "stdout",
          "text": [
            "Enter value of a 10\n",
            "Enter value of b 20\n",
            "Enter value of c 30\n",
            "c is greater\n"
          ]
        }
      ]
    }
  ]
}