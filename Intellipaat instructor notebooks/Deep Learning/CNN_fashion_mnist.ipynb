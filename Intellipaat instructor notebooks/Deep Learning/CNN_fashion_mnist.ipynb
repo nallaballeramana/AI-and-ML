{
  "nbformat": 4,
  "nbformat_minor": 0,
  "metadata": {
    "colab": {
      "provenance": []
    },
    "kernelspec": {
      "name": "python3",
      "display_name": "Python 3"
    },
    "language_info": {
      "name": "python"
    }
  },
  "cells": [
    {
      "cell_type": "code",
      "execution_count": null,
      "metadata": {
        "id": "l1N7kEaeUpOO"
      },
      "outputs": [],
      "source": [
        "import numpy as np\n",
        "import matplotlib.pyplot as plt\n",
        "%matplotlib inline\n",
        "from tensorflow.keras.datasets import fashion_mnist\n",
        "from tensorflow.keras.utils import  to_categorical\n",
        "\n"
      ]
    },
    {
      "cell_type": "code",
      "source": [
        "(xtrain,ytrain) , (xtest,ytest) = fashion_mnist.load_data()"
      ],
      "metadata": {
        "colab": {
          "base_uri": "https://localhost:8080/"
        },
        "id": "CLLyxeW3XrVK",
        "outputId": "85b7f33b-c7e8-4707-c261-6b91d8ba610c"
      },
      "execution_count": null,
      "outputs": [
        {
          "output_type": "stream",
          "name": "stdout",
          "text": [
            "Downloading data from https://storage.googleapis.com/tensorflow/tf-keras-datasets/train-labels-idx1-ubyte.gz\n",
            "32768/29515 [=================================] - 0s 0us/step\n",
            "40960/29515 [=========================================] - 0s 0us/step\n",
            "Downloading data from https://storage.googleapis.com/tensorflow/tf-keras-datasets/train-images-idx3-ubyte.gz\n",
            "26427392/26421880 [==============================] - 0s 0us/step\n",
            "26435584/26421880 [==============================] - 0s 0us/step\n",
            "Downloading data from https://storage.googleapis.com/tensorflow/tf-keras-datasets/t10k-labels-idx1-ubyte.gz\n",
            "16384/5148 [===============================================================================================] - 0s 0us/step\n",
            "Downloading data from https://storage.googleapis.com/tensorflow/tf-keras-datasets/t10k-images-idx3-ubyte.gz\n",
            "4423680/4422102 [==============================] - 0s 0us/step\n",
            "4431872/4422102 [==============================] - 0s 0us/step\n"
          ]
        }
      ]
    },
    {
      "cell_type": "code",
      "source": [
        "xtrain.shape"
      ],
      "metadata": {
        "colab": {
          "base_uri": "https://localhost:8080/"
        },
        "id": "a8pehuNWX03K",
        "outputId": "662324ed-b868-48d0-bbe9-59e885bd4e69"
      },
      "execution_count": null,
      "outputs": [
        {
          "output_type": "execute_result",
          "data": {
            "text/plain": [
              "(60000, 28, 28)"
            ]
          },
          "metadata": {},
          "execution_count": 3
        }
      ]
    },
    {
      "cell_type": "code",
      "source": [
        "ytrain.shape"
      ],
      "metadata": {
        "colab": {
          "base_uri": "https://localhost:8080/"
        },
        "id": "Zl5UoW6xX3ty",
        "outputId": "674a1335-321d-4ff8-c9fe-321860368e18"
      },
      "execution_count": null,
      "outputs": [
        {
          "output_type": "execute_result",
          "data": {
            "text/plain": [
              "(60000,)"
            ]
          },
          "metadata": {},
          "execution_count": 4
        }
      ]
    },
    {
      "cell_type": "code",
      "source": [
        "ytrain[0]"
      ],
      "metadata": {
        "colab": {
          "base_uri": "https://localhost:8080/"
        },
        "id": "HhAT8a8wZxy0",
        "outputId": "e8f23454-6b70-4736-b48f-b9b1fa17dc90"
      },
      "execution_count": null,
      "outputs": [
        {
          "output_type": "execute_result",
          "data": {
            "text/plain": [
              "9"
            ]
          },
          "metadata": {},
          "execution_count": 5
        }
      ]
    },
    {
      "cell_type": "code",
      "source": [
        "class_names = ['T-shirt/top', 'Trouser', 'Pullover', 'Dress', 'Coat',\n",
        "               'Sandal', 'Shirt', 'Sneaker', 'Bag', 'Ankle boot']"
      ],
      "metadata": {
        "id": "eL7IZ7ZxX-3r"
      },
      "execution_count": null,
      "outputs": []
    },
    {
      "cell_type": "code",
      "source": [
        "plt.figure(figsize=(12,15))\n",
        "for i in range(10):\n",
        "    plt.subplot(5, 5, i+1)\n",
        "    plt.imshow(xtrain[i], cmap='gray')\n",
        "    plt.title(class_names[ytrain[i]])\n",
        "plt.show()"
      ],
      "metadata": {
        "colab": {
          "base_uri": "https://localhost:8080/",
          "height": 348
        },
        "id": "InSh5Af8YR4n",
        "outputId": "a65ce1ef-6654-40ac-c1e6-c7ac741c862e"
      },
      "execution_count": null,
      "outputs": [
        {
          "output_type": "display_data",
          "data": {
            "text/plain": [
              "<Figure size 864x1080 with 10 Axes>"
            ],
            "image/png": "[encoded data removed]"
          },
          "metadata": {
            "needs_background": "light"
          }
        }
      ]
    },
    {
      "cell_type": "code",
      "source": [
        "xtrain.dtype\n"
      ],
      "metadata": {
        "colab": {
          "base_uri": "https://localhost:8080/"
        },
        "id": "Dm_XMryYY1pS",
        "outputId": "37b7e70d-a1cb-45bc-fba7-60855c1d21a5"
      },
      "execution_count": null,
      "outputs": [
        {
          "output_type": "execute_result",
          "data": {
            "text/plain": [
              "dtype('uint8')"
            ]
          },
          "metadata": {},
          "execution_count": 8
        }
      ]
    },
    {
      "cell_type": "code",
      "source": [
        "ytrain_ohe = to_categorical(ytrain)\n",
        "ytest_ohe = to_categorical(ytest)\n",
        "x_train = xtrain.reshape(-1,28,28,1).astype(float)/255\n",
        "x_test = xtest.reshape(-1,28,28,1).astype(float)/255"
      ],
      "metadata": {
        "id": "sutfZw-dd3eM"
      },
      "execution_count": null,
      "outputs": []
    },
    {
      "cell_type": "code",
      "source": [
        "ytrain_ohe.shape"
      ],
      "metadata": {
        "colab": {
          "base_uri": "https://localhost:8080/"
        },
        "id": "xpCvIdYRe0vm",
        "outputId": "c5db6e6d-b6e9-4ee2-de93-1af99462291a"
      },
      "execution_count": null,
      "outputs": [
        {
          "output_type": "execute_result",
          "data": {
            "text/plain": [
              "(60000, 10)"
            ]
          },
          "metadata": {},
          "execution_count": 10
        }
      ]
    },
    {
      "cell_type": "code",
      "source": [
        "x_train.shape"
      ],
      "metadata": {
        "colab": {
          "base_uri": "https://localhost:8080/"
        },
        "id": "1k0KjL-ViPQJ",
        "outputId": "576dabfa-ac56-49b4-ee32-ffa0ca6543ea"
      },
      "execution_count": null,
      "outputs": [
        {
          "output_type": "execute_result",
          "data": {
            "text/plain": [
              "(60000, 28, 28, 1)"
            ]
          },
          "metadata": {},
          "execution_count": 11
        }
      ]
    },
    {
      "cell_type": "code",
      "source": [
        "from tensorflow.keras.models import Sequential\n",
        "from tensorflow.keras.layers import Conv2D,Input,Dense,MaxPool2D,Activation,Flatten,Dropout\n",
        "from tensorflow.keras.optimizers import RMSprop"
      ],
      "metadata": {
        "id": "_uFlXeoAe28r"
      },
      "execution_count": null,
      "outputs": []
    },
    {
      "cell_type": "code",
      "source": [],
      "metadata": {
        "id": "NzXrCZ-0iOhE"
      },
      "execution_count": null,
      "outputs": []
    },
    {
      "cell_type": "code",
      "source": [],
      "metadata": {
        "id": "Xw4jnEWdgAWr"
      },
      "execution_count": null,
      "outputs": []
    },
    {
      "cell_type": "code",
      "source": [
        "model=Sequential()\n",
        "#model.add(Input(shape=(28,28)))\n",
        "model.add(Conv2D(filters=10, kernel_size = (3,3), strides = (1,1)))\n",
        "model.add(Activation('relu'))\n",
        "model.add(MaxPool2D(pool_size=(2,2),strides=(1,1)))\n",
        "\n",
        "model.add(Conv2D(filters=10,kernel_size=(3,3),strides=(1,1)))\n",
        "model.add(Activation('relu'))\n",
        "\n",
        "model.add(Flatten())\n",
        "#model.add(Dropout(0.25))\n",
        "model.add(Dense(10,activation='softmax'))"
      ],
      "metadata": {
        "id": "gvNHmpYfgJth"
      },
      "execution_count": null,
      "outputs": []
    },
    {
      "cell_type": "code",
      "source": [
        "model.compile(optimizer=RMSprop(learning_rate=0.0001),\n",
        "              loss='categorical_crossentropy',\n",
        "              metrics=['accuracy'])"
      ],
      "metadata": {
        "id": "3LPrFwmVhv6H"
      },
      "execution_count": null,
      "outputs": []
    },
    {
      "cell_type": "code",
      "source": [
        "model.fit(\n",
        "    x=x_train,\n",
        "    y=ytrain_ohe,\n",
        "    batch_size=2000,\n",
        "    epochs=30,\n",
        "    validation_data = (x_test,ytest_ohe)\n",
        ")"
      ],
      "metadata": {
        "colab": {
          "base_uri": "https://localhost:8080/"
        },
        "id": "SMbHgttrkKRM",
        "outputId": "db7772f9-4297-461b-fae7-bdd29313b3d9"
      },
      "execution_count": null,
      "outputs": [
        {
          "output_type": "stream",
          "name": "stdout",
          "text": [
            "Epoch 1/30\n",
            "30/30 [==============================] - 42s 1s/step - loss: 2.0659 - accuracy: 0.3894 - val_loss: 1.8213 - val_accuracy: 0.5922\n",
            "Epoch 2/30\n",
            "30/30 [==============================] - 41s 1s/step - loss: 1.5950 - accuracy: 0.6511 - val_loss: 1.3805 - val_accuracy: 0.6651\n",
            "Epoch 3/30\n",
            "30/30 [==============================] - 39s 1s/step - loss: 1.2193 - accuracy: 0.6913 - val_loss: 1.0852 - val_accuracy: 0.6926\n",
            "Epoch 4/30\n",
            "30/30 [==============================] - 41s 1s/step - loss: 0.9821 - accuracy: 0.7145 - val_loss: 0.9067 - val_accuracy: 0.7176\n",
            "Epoch 5/30\n",
            "30/30 [==============================] - 40s 1s/step - loss: 0.8383 - accuracy: 0.7342 - val_loss: 0.7988 - val_accuracy: 0.7327\n",
            "Epoch 6/30\n",
            "30/30 [==============================] - 40s 1s/step - loss: 0.7486 - accuracy: 0.7520 - val_loss: 0.7295 - val_accuracy: 0.7456\n",
            "Epoch 7/30\n",
            "30/30 [==============================] - 40s 1s/step - loss: 0.6877 - accuracy: 0.7665 - val_loss: 0.6792 - val_accuracy: 0.7634\n",
            "Epoch 8/30\n",
            "30/30 [==============================] - 42s 1s/step - loss: 0.6443 - accuracy: 0.7757 - val_loss: 0.6438 - val_accuracy: 0.7687\n",
            "Epoch 9/30\n",
            "30/30 [==============================] - 39s 1s/step - loss: 0.6135 - accuracy: 0.7832 - val_loss: 0.6197 - val_accuracy: 0.7790\n",
            "Epoch 10/30\n",
            "30/30 [==============================] - 40s 1s/step - loss: 0.5888 - accuracy: 0.7908 - val_loss: 0.5956 - val_accuracy: 0.7871\n",
            "Epoch 11/30\n",
            "30/30 [==============================] - 40s 1s/step - loss: 0.5690 - accuracy: 0.7964 - val_loss: 0.5792 - val_accuracy: 0.7904\n",
            "Epoch 12/30\n",
            "30/30 [==============================] - 41s 1s/step - loss: 0.5524 - accuracy: 0.8037 - val_loss: 0.5638 - val_accuracy: 0.7997\n",
            "Epoch 13/30\n",
            "30/30 [==============================] - 40s 1s/step - loss: 0.5386 - accuracy: 0.8079 - val_loss: 0.5543 - val_accuracy: 0.7986\n",
            "Epoch 14/30\n",
            "30/30 [==============================] - 40s 1s/step - loss: 0.5266 - accuracy: 0.8119 - val_loss: 0.5470 - val_accuracy: 0.8002\n",
            "Epoch 15/30\n",
            "30/30 [==============================] - 41s 1s/step - loss: 0.5165 - accuracy: 0.8164 - val_loss: 0.5317 - val_accuracy: 0.8081\n",
            "Epoch 16/30\n",
            "30/30 [==============================] - 40s 1s/step - loss: 0.5077 - accuracy: 0.8199 - val_loss: 0.5260 - val_accuracy: 0.8078\n",
            "Epoch 17/30\n",
            "30/30 [==============================] - 40s 1s/step - loss: 0.4992 - accuracy: 0.8232 - val_loss: 0.5168 - val_accuracy: 0.8148\n",
            "Epoch 18/30\n",
            "30/30 [==============================] - 41s 1s/step - loss: 0.4911 - accuracy: 0.8262 - val_loss: 0.5110 - val_accuracy: 0.8151\n",
            "Epoch 19/30\n",
            "30/30 [==============================] - 41s 1s/step - loss: 0.4845 - accuracy: 0.8290 - val_loss: 0.5052 - val_accuracy: 0.8192\n",
            "Epoch 20/30\n",
            "30/30 [==============================] - 41s 1s/step - loss: 0.4781 - accuracy: 0.8306 - val_loss: 0.4956 - val_accuracy: 0.8219\n",
            "Epoch 21/30\n",
            "30/30 [==============================] - 41s 1s/step - loss: 0.4716 - accuracy: 0.8330 - val_loss: 0.4918 - val_accuracy: 0.8238\n",
            "Epoch 22/30\n",
            "30/30 [==============================] - 41s 1s/step - loss: 0.4667 - accuracy: 0.8340 - val_loss: 0.4849 - val_accuracy: 0.8248\n",
            "Epoch 23/30\n",
            "30/30 [==============================] - 40s 1s/step - loss: 0.4606 - accuracy: 0.8366 - val_loss: 0.4916 - val_accuracy: 0.8193\n",
            "Epoch 24/30\n",
            "30/30 [==============================] - 40s 1s/step - loss: 0.4563 - accuracy: 0.8393 - val_loss: 0.4761 - val_accuracy: 0.8292\n",
            "Epoch 25/30\n",
            "30/30 [==============================] - 40s 1s/step - loss: 0.4525 - accuracy: 0.8404 - val_loss: 0.4718 - val_accuracy: 0.8318\n",
            "Epoch 26/30\n",
            "30/30 [==============================] - 41s 1s/step - loss: 0.4475 - accuracy: 0.8418 - val_loss: 0.4706 - val_accuracy: 0.8341\n",
            "Epoch 27/30\n",
            "30/30 [==============================] - 40s 1s/step - loss: 0.4444 - accuracy: 0.8431 - val_loss: 0.4688 - val_accuracy: 0.8303\n",
            "Epoch 28/30\n",
            "30/30 [==============================] - 40s 1s/step - loss: 0.4409 - accuracy: 0.8441 - val_loss: 0.4658 - val_accuracy: 0.8320\n",
            "Epoch 29/30\n",
            "30/30 [==============================] - 40s 1s/step - loss: 0.4375 - accuracy: 0.8461 - val_loss: 0.4572 - val_accuracy: 0.8346\n",
            "Epoch 30/30\n",
            "30/30 [==============================] - 41s 1s/step - loss: 0.4333 - accuracy: 0.8467 - val_loss: 0.4558 - val_accuracy: 0.8357\n"
          ]
        },
        {
          "output_type": "execute_result",
          "data": {
            "text/plain": [
              "<keras.callbacks.History at 0x7f97812d7a50>"
            ]
          },
          "metadata": {},
          "execution_count": 19
        }
      ]
    },
    {
      "cell_type": "code",
      "source": [
        "train_loss = model.history.history['loss']\n",
        "val_loss = model.history.history['val_loss']\n",
        "train_accuracy = model.history.history['accuracy']\n",
        "validation_accuracy = model.history.history['val_accuracy']"
      ],
      "metadata": {
        "id": "tntATtWZp_67"
      },
      "execution_count": null,
      "outputs": []
    },
    {
      "cell_type": "code",
      "source": [
        "plt.plot(train_loss)\n",
        "plt.plot(val_loss)\n",
        "plt.xlabel(\"Epoch\")\n",
        "plt.ylabel(\"Loss\")\n",
        "plt.title(\"LOSS CURVE\")\n",
        "plt.legend(['Train', 'Validation'])\n",
        "plt.grid()\n",
        "plt.show()"
      ],
      "metadata": {
        "colab": {
          "base_uri": "https://localhost:8080/",
          "height": 295
        },
        "id": "UYPUWjZ0qCuq",
        "outputId": "6961bcf9-61f4-4eef-c141-1bd797cf8b36"
      },
      "execution_count": null,
      "outputs": [
        {
          "output_type": "display_data",
          "data": {
            "text/plain": [
              "<Figure size 432x288 with 1 Axes>"
            ],
            "image/png": "[encoded data removed]"
          },
          "metadata": {
            "needs_background": "light"
          }
        }
      ]
    },
    {
      "cell_type": "code",
      "source": [
        "plt.plot(train_accuracy)\n",
        "plt.plot(validation_accuracy)\n",
        "plt.xlabel(\"Epoch\")\n",
        "plt.ylabel(\"Accuracy\")\n",
        "plt.title(\"ACCURACY CURVE\")\n",
        "plt.legend(['Train', 'Validation'])\n",
        "plt.grid()\n",
        "plt.show()"
      ],
      "metadata": {
        "colab": {
          "base_uri": "https://localhost:8080/",
          "height": 295
        },
        "id": "MNP2wGqtqJBv",
        "outputId": "50336397-2c5b-433a-e333-d224b7cf8315"
      },
      "execution_count": null,
      "outputs": [
        {
          "output_type": "display_data",
          "data": {
            "text/plain": [
              "<Figure size 432x288 with 1 Axes>"
            ],
            "image/png": "[encoded data removed]"
          },
          "metadata": {
            "needs_background": "light"
          }
        }
      ]
    }
  ]
}