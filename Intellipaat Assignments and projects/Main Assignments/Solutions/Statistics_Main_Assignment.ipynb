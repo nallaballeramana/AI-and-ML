{
  "nbformat": 4,
  "nbformat_minor": 0,
  "metadata": {
    "colab": {
      "name": "Statistics Assignment.ipynb",
      "provenance": []
    },
    "kernelspec": {
      "name": "python3",
      "display_name": "Python 3"
    },
    "language_info": {
      "name": "python"
    }
  },
  "cells": [
    {
      "cell_type": "markdown",
      "source": [
        "1.\tThere are 3 arrangements of the word DAD, namely DAD, ADD, and DDA. How many arrangements are there of the word ENDURINGLY? "
      ],
      "metadata": {
        "id": "gAdOsOEuyjTn"
      }
    },
    {
      "cell_type": "code",
      "source": [
        "# Given word is ENDURINGLY\n",
        "# Number of letters = 10\n",
        "#num of repetitive letters - N - two times\n",
        "# Number of arrangements that can be done = 10!/2! = 1814400\n",
        "\n",
        "# So ENDURINGLY can be arranged in 1814400 ways"
      ],
      "metadata": {
        "id": "KV2I_l5Gynpd"
      },
      "execution_count": null,
      "outputs": []
    },
    {
      "cell_type": "markdown",
      "source": [
        "2.\tThere are 13 men and 12 women in a ballroom dancing class. If 6 men and 6 women are chosen and paired off, how many pairings are possible?"
      ],
      "metadata": {
        "id": "aueyKa1d4B4g"
      }
    },
    {
      "cell_type": "code",
      "source": [
        "# Num of men = 13\n",
        "# Num of women = 12\n",
        "\n",
        "# Num of ways 6 men can be selected  = 13C6 = 13!/((13-6)!*6!) = 13!/(7!*6!) = 1716\n",
        "# Num of ways 6 women can be selected  = 12C6 = 12!/((12-6)!*6!) = 12!/(6!*6!) = 924\n",
        "\n",
        "# num of possible ways of pairing 6 women and 6 men = 6! = 720\n",
        "\n",
        "#Number of ways 6 men and 6 women are selected and paired  = 1716 * 924 * 720 = 1141620480\n"
      ],
      "metadata": {
        "id": "hcpDrWsS4Cwb"
      },
      "execution_count": null,
      "outputs": []
    },
    {
      "cell_type": "markdown",
      "source": [
        "3.\tSuppose you are taking a multiple-choice test with 4 choices for each question. In answering a question on this test, the probability that you know the answer is 0.33. If you don’t know the answer, you choose one at random. What is the probability that you knew the answer to a question, given that you answered it correctly?"
      ],
      "metadata": {
        "id": "JsyOhrFMNpaB"
      }
    },
    {
      "cell_type": "code",
      "source": [
        "# let E1 is the probability that I know the answer.\n",
        "# E1 = 0.33\n",
        "\n",
        "# let E2 is the probability that I do not know the answer.\n",
        "# E2 = 0.67\n",
        "\n",
        "# Probability of choosing correct answer P(A)= 1/4 = 0.25\n",
        "# Probability of choosing wrong answer P(B)= 3/4 = 0.75\n",
        "\n",
        "# Probability of anwering the question correctly given that I knew the answer = 0.33/(0.33+(0.67*0.25)\n",
        "#                                                                             = 0.6633                                                       "
      ],
      "metadata": {
        "id": "TWBV0TWEM3pd"
      },
      "execution_count": null,
      "outputs": []
    },
    {
      "cell_type": "markdown",
      "source": [
        "4.\tRead the given data ‘TIPS.csv’ as a dataframe named Tips and answer the following question.\n",
        "\n",
        "a) In the tips dataframe, for the variable “total bill” what is the 3rd quartile and maximum value? \n",
        "\n",
        "b) The range of the variable “TotalBill”?\n"
      ],
      "metadata": {
        "id": "dVGXwS7qYxuW"
      }
    },
    {
      "cell_type": "code",
      "source": [
        "import pandas as pd\n",
        "\n",
        "Tips = pd.read_csv(\"Tips.csv\")\n",
        "Tips.head()"
      ],
      "metadata": {
        "colab": {
          "base_uri": "https://localhost:8080/",
          "height": 206
        },
        "id": "xLWi9lUuY3CP",
        "outputId": "ee4a7097-846c-4bb5-8f83-1ff4ad4f1ce7"
      },
      "execution_count": 3,
      "outputs": [
        {
          "output_type": "execute_result",
          "data": {
            "text/html": [
              "\n",
              "  <div id=\"df-7b419bc0-ab42-414b-9b8b-870651d3efc2\">\n",
              "    <div class=\"colab-df-container\">\n",
              "      <div>\n",
              "<style scoped>\n",
              "    .dataframe tbody tr th:only-of-type {\n",
              "        vertical-align: middle;\n",
              "    }\n",
              "\n",
              "    .dataframe tbody tr th {\n",
              "        vertical-align: top;\n",
              "    }\n",
              "\n",
              "    .dataframe thead th {\n",
              "        text-align: right;\n",
              "    }\n",
              "</style>\n",
              "<table border=\"1\" class=\"dataframe\">\n",
              "  <thead>\n",
              "    <tr style=\"text-align: right;\">\n",
              "      <th></th>\n",
              "      <th>SINO</th>\n",
              "      <th>TotalBill</th>\n",
              "      <th>Tips</th>\n",
              "      <th>Smoker</th>\n",
              "      <th>Day</th>\n",
              "      <th>Time</th>\n",
              "      <th>Size</th>\n",
              "      <th>Gender</th>\n",
              "    </tr>\n",
              "  </thead>\n",
              "  <tbody>\n",
              "    <tr>\n",
              "      <th>0</th>\n",
              "      <td>1</td>\n",
              "      <td>16.99</td>\n",
              "      <td>1.01</td>\n",
              "      <td>No</td>\n",
              "      <td>Sun</td>\n",
              "      <td>Dinner</td>\n",
              "      <td>2.0</td>\n",
              "      <td>Female</td>\n",
              "    </tr>\n",
              "    <tr>\n",
              "      <th>1</th>\n",
              "      <td>2</td>\n",
              "      <td>10.34</td>\n",
              "      <td>1.66</td>\n",
              "      <td>No</td>\n",
              "      <td>Sun</td>\n",
              "      <td>Dinner</td>\n",
              "      <td>3.0</td>\n",
              "      <td>Male</td>\n",
              "    </tr>\n",
              "    <tr>\n",
              "      <th>2</th>\n",
              "      <td>3</td>\n",
              "      <td>21.01</td>\n",
              "      <td>3.50</td>\n",
              "      <td>No</td>\n",
              "      <td>Sun</td>\n",
              "      <td>Dinner</td>\n",
              "      <td>3.0</td>\n",
              "      <td>Male</td>\n",
              "    </tr>\n",
              "    <tr>\n",
              "      <th>3</th>\n",
              "      <td>4</td>\n",
              "      <td>23.68</td>\n",
              "      <td>3.31</td>\n",
              "      <td>No</td>\n",
              "      <td>Sun</td>\n",
              "      <td>Dinner</td>\n",
              "      <td>2.0</td>\n",
              "      <td>Male</td>\n",
              "    </tr>\n",
              "    <tr>\n",
              "      <th>4</th>\n",
              "      <td>5</td>\n",
              "      <td>24.59</td>\n",
              "      <td>3.61</td>\n",
              "      <td>No</td>\n",
              "      <td>Sun</td>\n",
              "      <td>Dinner</td>\n",
              "      <td>4.0</td>\n",
              "      <td>Female</td>\n",
              "    </tr>\n",
              "  </tbody>\n",
              "</table>\n",
              "</div>\n",
              "      <button class=\"colab-df-convert\" onclick=\"convertToInteractive('df-7b419bc0-ab42-414b-9b8b-870651d3efc2')\"\n",
              "              title=\"Convert this dataframe to an interactive table.\"\n",
              "              style=\"display:none;\">\n",
              "        \n",
              "  <svg xmlns=\"http://www.w3.org/2000/svg\" height=\"24px\"viewBox=\"0 0 24 24\"\n",
              "       width=\"24px\">\n",
              "    <path d=\"M0 0h24v24H0V0z\" fill=\"none\"/>\n",
              "    <path d=\"M18.56 5.44l.94 2.06.94-2.06 2.06-.94-2.06-.94-.94-2.06-.94 2.06-2.06.94zm-11 1L8.5 8.5l.94-2.06 2.06-.94-2.06-.94L8.5 2.5l-.94 2.06-2.06.94zm10 10l.94 2.06.94-2.06 2.06-.94-2.06-.94-.94-2.06-.94 2.06-2.06.94z\"/><path d=\"M17.41 7.96l-1.37-1.37c-.4-.4-.92-.59-1.43-.59-.52 0-1.04.2-1.43.59L10.3 9.45l-7.72 7.72c-.78.78-.78 2.05 0 2.83L4 21.41c.39.39.9.59 1.41.59.51 0 1.02-.2 1.41-.59l7.78-7.78 2.81-2.81c.8-.78.8-2.07 0-2.86zM5.41 20L4 18.59l7.72-7.72 1.47 1.35L5.41 20z\"/>\n",
              "  </svg>\n",
              "      </button>\n",
              "      \n",
              "  <style>\n",
              "    .colab-df-container {\n",
              "      display:flex;\n",
              "      flex-wrap:wrap;\n",
              "      gap: 12px;\n",
              "    }\n",
              "\n",
              "    .colab-df-convert {\n",
              "      background-color: #E8F0FE;\n",
              "      border: none;\n",
              "      border-radius: 50%;\n",
              "      cursor: pointer;\n",
              "      display: none;\n",
              "      fill: #1967D2;\n",
              "      height: 32px;\n",
              "      padding: 0 0 0 0;\n",
              "      width: 32px;\n",
              "    }\n",
              "\n",
              "    .colab-df-convert:hover {\n",
              "      background-color: #E2EBFA;\n",
              "      box-shadow: 0px 1px 2px rgba(60, 64, 67, 0.3), 0px 1px 3px 1px rgba(60, 64, 67, 0.15);\n",
              "      fill: #174EA6;\n",
              "    }\n",
              "\n",
              "    [theme=dark] .colab-df-convert {\n",
              "      background-color: #3B4455;\n",
              "      fill: #D2E3FC;\n",
              "    }\n",
              "\n",
              "    [theme=dark] .colab-df-convert:hover {\n",
              "      background-color: #434B5C;\n",
              "      box-shadow: 0px 1px 3px 1px rgba(0, 0, 0, 0.15);\n",
              "      filter: drop-shadow(0px 1px 2px rgba(0, 0, 0, 0.3));\n",
              "      fill: #FFFFFF;\n",
              "    }\n",
              "  </style>\n",
              "\n",
              "      <script>\n",
              "        const buttonEl =\n",
              "          document.querySelector('#df-7b419bc0-ab42-414b-9b8b-870651d3efc2 button.colab-df-convert');\n",
              "        buttonEl.style.display =\n",
              "          google.colab.kernel.accessAllowed ? 'block' : 'none';\n",
              "\n",
              "        async function convertToInteractive(key) {\n",
              "          const element = document.querySelector('#df-7b419bc0-ab42-414b-9b8b-870651d3efc2');\n",
              "          const dataTable =\n",
              "            await google.colab.kernel.invokeFunction('convertToInteractive',\n",
              "                                                     [key], {});\n",
              "          if (!dataTable) return;\n",
              "\n",
              "          const docLinkHtml = 'Like what you see? Visit the ' +\n",
              "            '<a target=\"_blank\" href=https://colab.research.google.com/notebooks/data_table.ipynb>data table notebook</a>'\n",
              "            + ' to learn more about interactive tables.';\n",
              "          element.innerHTML = '';\n",
              "          dataTable['output_type'] = 'display_data';\n",
              "          await google.colab.output.renderOutput(dataTable, element);\n",
              "          const docLink = document.createElement('div');\n",
              "          docLink.innerHTML = docLinkHtml;\n",
              "          element.appendChild(docLink);\n",
              "        }\n",
              "      </script>\n",
              "    </div>\n",
              "  </div>\n",
              "  "
            ],
            "text/plain": [
              "   SINO  TotalBill  Tips Smoker  Day    Time  Size  Gender\n",
              "0     1      16.99  1.01     No  Sun  Dinner   2.0  Female\n",
              "1     2      10.34  1.66     No  Sun  Dinner   3.0    Male\n",
              "2     3      21.01  3.50     No  Sun  Dinner   3.0    Male\n",
              "3     4      23.68  3.31     No  Sun  Dinner   2.0    Male\n",
              "4     5      24.59  3.61     No  Sun  Dinner   4.0  Female"
            ]
          },
          "metadata": {},
          "execution_count": 3
        }
      ]
    },
    {
      "cell_type": "code",
      "source": [
        "# maximum of \"Total bill\"\n",
        "\n",
        "Tips['TotalBill'].max()"
      ],
      "metadata": {
        "colab": {
          "base_uri": "https://localhost:8080/"
        },
        "id": "3fc6jKSkZFIv",
        "outputId": "2dde9d43-df23-4312-9142-345cc3b160f8"
      },
      "execution_count": 4,
      "outputs": [
        {
          "output_type": "execute_result",
          "data": {
            "text/plain": [
              "48.27"
            ]
          },
          "metadata": {},
          "execution_count": 4
        }
      ]
    },
    {
      "cell_type": "code",
      "source": [
        "# 3rd quantile of Totalbill\n",
        "\n",
        "Tips['TotalBill'].quantile(0.75)"
      ],
      "metadata": {
        "colab": {
          "base_uri": "https://localhost:8080/"
        },
        "id": "y8R6W0AyZnje",
        "outputId": "3671773c-4d08-4457-ffd9-56be9037fd8c"
      },
      "execution_count": 5,
      "outputs": [
        {
          "output_type": "execute_result",
          "data": {
            "text/plain": [
              "23.964999999999996"
            ]
          },
          "metadata": {},
          "execution_count": 5
        }
      ]
    },
    {
      "cell_type": "markdown",
      "source": [
        "5.\tA normal distribution which has a mean of 50 and standard deviation of 7 is taken into consideration.\n",
        "\n",
        "68% of the distribution can be found between what two numbers?\n",
        "\n",
        "a)\t40 and 60\n",
        "\n",
        "b)\t0 and 43\n",
        "\n",
        "c)\t0 and 68\n",
        "\n",
        "d)\t43 and 57\n"
      ],
      "metadata": {
        "id": "QJDOzJndZ-x6"
      }
    },
    {
      "cell_type": "code",
      "source": [
        "# Given mean = 50 , standarad deviation = 7\n",
        "\n",
        "# P(mean - st.dev <= X <= mean + st.dev) = 0.68\n",
        "# P(50-7 <= X <= 50+7) = 0.68\n",
        "# P(43 <= X <= 57) = 0.68\n",
        "\n",
        "# so 68% of distribution can be found between 43 and 57"
      ],
      "metadata": {
        "id": "pdHGrqPDZ2Es"
      },
      "execution_count": null,
      "outputs": []
    },
    {
      "cell_type": "markdown",
      "source": [
        "6.\tConsider the data X = (58,59,63,60,60,63,60,57,58,59). An unbiased estimation for population variance would be ____"
      ],
      "metadata": {
        "id": "mRxy96ujfxCI"
      }
    },
    {
      "cell_type": "code",
      "source": [
        "import numpy as np\n",
        "X = np.array([58,59,63,60,60,63,60,57,58,59])\n",
        "X.var()"
      ],
      "metadata": {
        "colab": {
          "base_uri": "https://localhost:8080/"
        },
        "id": "nz5QwyDxfx_a",
        "outputId": "1e0caa28-09d6-444e-a19c-60896c2a23ac"
      },
      "execution_count": 10,
      "outputs": [
        {
          "output_type": "execute_result",
          "data": {
            "text/plain": [
              "3.6099999999999994"
            ]
          },
          "metadata": {},
          "execution_count": 10
        }
      ]
    },
    {
      "cell_type": "markdown",
      "source": [
        "7.\tFrom the given below boxplot identify the median value and the outlier.\n",
        "\n",
        "![image.png](data:image/png;base64,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)"
      ],
      "metadata": {
        "id": "C7KKm4oxgiz9"
      }
    },
    {
      "cell_type": "code",
      "source": [
        "# Median is the value with thick black line which is approximately 27\n",
        "\n",
        "# ouotliers are points out side minimum and maximum of the box plot \n",
        "#which are less than 3 (approx) and greater than 77(approx)"
      ],
      "metadata": {
        "id": "EQxpcx9kgLbD"
      },
      "execution_count": null,
      "outputs": []
    }
  ]
}