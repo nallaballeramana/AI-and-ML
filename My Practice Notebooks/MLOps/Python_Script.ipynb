{
  "cells": [
    {
      "cell_type": "code",
      "source": [
        "from datetime import datetime, date, timedelta\r\n",
        "import numpy as np\r\n",
        "import pandas as pd\r\n",
        "import os"
      ],
      "outputs": [],
      "execution_count": 1,
      "metadata": {
        "gather": {
          "logged": 1662373423983
        }
      }
    },
    {
      "cell_type": "code",
      "source": [
        "from azureml.core import Workspace, Dataset,Datastore\r\n",
        "print(\"Date of pipeline ML code run is: \",date.today())\r\n",
        "\r\n",
        "from azureml.core import Run\r\n",
        "\r\n",
        "run = Run.get_context()\r\n",
        "\r\n",
        "print('Settingup AML Workspace')\r\n",
        "\r\n",
        "ws = Workspace(subscription_id = '3739307c-4f3c-4bc6-b980-08d7dccd9bbd', resource_group = 'TestGroup', workspace_name = 'ML_Testing_space')\r\n",
        "\r\n",
        "print(ws.name,ws.resource_group, ws.location, ws.subscription_id, sep = '\\n')\r\n",
        "\r\n",
        "blob_datastore_nmae = 'blobstoreramana' #name of datastore to workspace\r\n",
        "container_name = os.getenv('BLOB_CONTAINER','datafortraining') #name of azure blob container\r\n",
        "account_name = os.getenv('BLOB_ACCOUNTNAME','blobstoreramana') #storage account name\r\n",
        "account_key = os.getenv('BLOB_ACCOUNT_KEY','Om7s/D51DZ4cjIBpAG+DX063BQfy+kVCdxMwqayoDUtN6ITI/RpTB5cB/iMRzfiNBvkhLEpWemEa+AStPYi67g==')"
      ],
      "outputs": [
        {
          "output_type": "stream",
          "name": "stdout",
          "text": "Date of pipeline ML code run is:  2022-09-05\nSettingup AML Workspace\nML_Testing_space\nTestGroup\nwestus2\n3739307c-4f3c-4bc6-b980-08d7dccd9bbd\n"
        }
      ],
      "execution_count": 2,
      "metadata": {
        "jupyter": {
          "source_hidden": false,
          "outputs_hidden": false
        },
        "nteract": {
          "transient": {
            "deleting": false
          }
        },
        "gather": {
          "logged": 1662373429185
        }
      }
    },
    {
      "cell_type": "code",
      "source": [
        "###Retrieving the created datastore by the name of reading\r\n",
        "\r\n",
        "datastore = Datastore.get(ws, 'mlteststore')\r\n",
        "print('Setting up blobster for reading input file')\r\n",
        "\r\n",
        "from azureml.core import Run\r\n",
        "run = Run.get_context()"
      ],
      "outputs": [
        {
          "output_type": "stream",
          "name": "stdout",
          "text": "Setting up blobster for reading input file\n"
        }
      ],
      "execution_count": 3,
      "metadata": {
        "jupyter": {
          "source_hidden": false,
          "outputs_hidden": false
        },
        "nteract": {
          "transient": {
            "deleting": false
          }
        },
        "gather": {
          "logged": 1662373435165
        }
      }
    },
    {
      "cell_type": "code",
      "source": [],
      "outputs": [],
      "execution_count": null,
      "metadata": {
        "jupyter": {
          "source_hidden": false,
          "outputs_hidden": false
        },
        "nteract": {
          "transient": {
            "deleting": false
          }
        }
      }
    },
    {
      "cell_type": "code",
      "source": [
        "training_data = Dataset.Tabular.from_delimited_files(path = [(datastore,'train.csv')]).to_pandas_dataframe()"
      ],
      "outputs": [],
      "execution_count": 13,
      "metadata": {
        "jupyter": {
          "source_hidden": false,
          "outputs_hidden": false
        },
        "nteract": {
          "transient": {
            "deleting": false
          }
        },
        "gather": {
          "logged": 1662384817750
        }
      }
    },
    {
      "cell_type": "code",
      "source": [
        "training_data.shape"
      ],
      "outputs": [
        {
          "output_type": "execute_result",
          "execution_count": 14,
          "data": {
            "text/plain": "(891, 12)"
          },
          "metadata": {}
        }
      ],
      "execution_count": 14,
      "metadata": {
        "jupyter": {
          "source_hidden": false,
          "outputs_hidden": false
        },
        "nteract": {
          "transient": {
            "deleting": false
          }
        },
        "gather": {
          "logged": 1662384822679
        }
      }
    },
    {
      "cell_type": "code",
      "source": [
        "training_data.isnull().sum()"
      ],
      "outputs": [
        {
          "output_type": "execute_result",
          "execution_count": 7,
          "data": {
            "text/plain": "PassengerId      0\nSurvived         0\nPclass           0\nName             0\nSex              0\nAge            177\nSibSp            0\nParch            0\nTicket           0\nFare             0\nCabin          687\nEmbarked         2\ndtype: int64"
          },
          "metadata": {}
        }
      ],
      "execution_count": 7,
      "metadata": {
        "jupyter": {
          "source_hidden": false,
          "outputs_hidden": false
        },
        "nteract": {
          "transient": {
            "deleting": false
          }
        },
        "gather": {
          "logged": 1662373534281
        }
      }
    },
    {
      "cell_type": "code",
      "source": [
        "\r\n",
        "import os\r\n",
        "path = '/tmp/testfolder1'\r\n",
        "\r\n",
        "try:\r\n",
        "    os.mkdir(path)\r\n",
        "except OSError:\r\n",
        "    print(\"Creation of directory %s failed: \" %path)\r\n",
        "else:\r\n",
        "    print('Successfully created directory %s ' %path)"
      ],
      "outputs": [
        {
          "output_type": "stream",
          "name": "stdout",
          "text": "Successfully created directory /tmp/testfolder1 \n"
        }
      ],
      "execution_count": 12,
      "metadata": {
        "jupyter": {
          "source_hidden": false,
          "outputs_hidden": false
        },
        "nteract": {
          "transient": {
            "deleting": false
          }
        },
        "gather": {
          "logged": 1662384785922
        }
      }
    },
    {
      "cell_type": "code",
      "source": [
        "local_path1 = path + 'testing_results1.csv'\r\n",
        "training_data.to_csv(local_path1)\r\n"
      ],
      "outputs": [],
      "execution_count": 15,
      "metadata": {
        "jupyter": {
          "source_hidden": false,
          "outputs_hidden": false
        },
        "nteract": {
          "transient": {
            "deleting": false
          }
        },
        "gather": {
          "logged": 1662384856744
        }
      }
    },
    {
      "cell_type": "code",
      "source": [
        "datastore = Datastore.get(ws, 'mlteststore')\r\n",
        "datastore.upload(src_dir='/tmp/testfolder1',target_path=\"\",overwrite=True)"
      ],
      "outputs": [
        {
          "output_type": "stream",
          "name": "stdout",
          "text": "Uploading an estimated of 0 files\nUploaded 0 files\n"
        },
        {
          "output_type": "execute_result",
          "execution_count": 16,
          "data": {
            "text/plain": "$AZUREML_DATAREFERENCE_mlteststore"
          },
          "metadata": {}
        }
      ],
      "execution_count": 16,
      "metadata": {
        "jupyter": {
          "source_hidden": false,
          "outputs_hidden": false
        },
        "nteract": {
          "transient": {
            "deleting": false
          }
        },
        "gather": {
          "logged": 1662384887799
        }
      }
    },
    {
      "cell_type": "code",
      "source": [],
      "outputs": [],
      "execution_count": null,
      "metadata": {
        "jupyter": {
          "source_hidden": false,
          "outputs_hidden": false
        },
        "nteract": {
          "transient": {
            "deleting": false
          }
        }
      }
    }
  ],
  "metadata": {
    "kernelspec": {
      "name": "python38-azureml",
      "language": "python",
      "display_name": "Python 3.8 - AzureML"
    },
    "language_info": {
      "name": "python",
      "version": "3.8.13",
      "mimetype": "text/x-python",
      "codemirror_mode": {
        "name": "ipython",
        "version": 3
      },
      "pygments_lexer": "ipython3",
      "nbconvert_exporter": "python",
      "file_extension": ".py"
    },
    "kernel_info": {
      "name": "python38-azureml"
    },
    "microsoft": {
      "host": {
        "AzureML": {
          "notebookHasBeenCompleted": true
        }
      }
    },
    "nteract": {
      "version": "nteract-front-end@1.0.0"
    }
  },
  "nbformat": 4,
  "nbformat_minor": 2
}