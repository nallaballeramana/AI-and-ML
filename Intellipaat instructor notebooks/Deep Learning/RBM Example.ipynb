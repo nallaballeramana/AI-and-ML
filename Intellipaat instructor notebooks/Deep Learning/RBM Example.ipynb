{
 "cells": [
  {
   "cell_type": "code",
   "execution_count": 1,
   "id": "7d169034",
   "metadata": {},
   "outputs": [],
   "source": [
    "import pandas as pd\n",
    "import numpy as np\n",
    "from keras.datasets import mnist\n",
    "(X_train, _), (X_test, _) = mnist.load_data()\n",
    "\n",
    "X_train = X_train.reshape(-1,784)\n",
    "X_train = X_train/255"
   ]
  },
  {
   "cell_type": "code",
   "execution_count": 2,
   "id": "960d0101",
   "metadata": {
    "scrolled": true
   },
   "outputs": [
    {
     "name": "stdout",
     "output_type": "stream",
     "text": [
      "[BernoulliRBM] Iteration 1, pseudo-likelihood = -118.09, time = 6.31s\n",
      "[BernoulliRBM] Iteration 2, pseudo-likelihood = -103.09, time = 8.48s\n",
      "[BernoulliRBM] Iteration 3, pseudo-likelihood = -96.74, time = 8.42s\n",
      "[BernoulliRBM] Iteration 4, pseudo-likelihood = -92.57, time = 9.68s\n",
      "[BernoulliRBM] Iteration 5, pseudo-likelihood = -89.23, time = 9.67s\n",
      "[BernoulliRBM] Iteration 6, pseudo-likelihood = -87.31, time = 8.88s\n",
      "[BernoulliRBM] Iteration 7, pseudo-likelihood = -85.19, time = 8.01s\n",
      "[BernoulliRBM] Iteration 8, pseudo-likelihood = -85.01, time = 8.16s\n",
      "[BernoulliRBM] Iteration 9, pseudo-likelihood = -83.85, time = 8.89s\n",
      "[BernoulliRBM] Iteration 10, pseudo-likelihood = -83.30, time = 9.86s\n"
     ]
    },
    {
     "data": {
      "text/plain": [
       "BernoulliRBM(learning_rate=0.01, n_components=100, random_state=42,\n",
       "             verbose=True)"
      ]
     },
     "execution_count": 2,
     "metadata": {},
     "output_type": "execute_result"
    }
   ],
   "source": [
    "from sklearn.neural_network import BernoulliRBM\n",
    "rbm = BernoulliRBM(n_components=100, learning_rate=0.01, random_state=42, verbose=True)\n",
    "rbm.fit(X_train)"
   ]
  },
  {
   "cell_type": "code",
   "execution_count": 10,
   "id": "bc7d7842",
   "metadata": {},
   "outputs": [
    {
     "data": {
      "text/plain": [
       "100"
      ]
     },
     "execution_count": 10,
     "metadata": {},
     "output_type": "execute_result"
    }
   ],
   "source": [
    "rbm.n_components"
   ]
  },
  {
   "cell_type": "code",
   "execution_count": 15,
   "id": "c4ebe3bd",
   "metadata": {
    "scrolled": false
   },
   "outputs": [
    {
     "data": {
      "text/plain": [
       "array([[9.99987755e-01, 3.38591318e-03, 5.49669687e-01, 3.40173937e-05,\n",
       "        9.02790304e-01, 9.99957306e-01, 2.94454933e-04, 3.07505843e-04,\n",
       "        2.81366781e-10, 3.17051359e-04, 1.13247098e-06, 1.00000000e+00,\n",
       "        1.12124512e-03, 2.35391604e-04, 3.34017252e-01, 2.48625228e-01,\n",
       "        4.50293685e-10, 9.99986034e-01, 6.48069353e-01, 5.49287330e-02,\n",
       "        3.16096894e-01, 2.12894447e-11, 2.78002557e-07, 1.36365993e-13,\n",
       "        3.84921824e-05, 4.09537594e-05, 9.99042945e-01, 9.99941840e-01,\n",
       "        9.99999613e-01, 3.09406316e-07, 8.32163766e-11, 8.73830484e-01,\n",
       "        9.05904694e-01, 9.56175591e-01, 3.65279080e-02, 2.37326729e-10,\n",
       "        9.99477644e-01, 9.96987662e-01, 9.92185733e-01, 1.37019790e-01,\n",
       "        2.55376096e-06, 9.97418260e-01, 9.84237872e-01, 2.60837575e-03,\n",
       "        9.99999530e-01, 9.99866899e-01, 9.99912539e-01, 9.99999840e-01,\n",
       "        9.99999986e-01, 9.09906849e-01, 9.88991980e-01, 9.99999971e-01,\n",
       "        1.00000000e+00, 9.97894076e-01, 9.89002278e-01, 5.86635546e-01,\n",
       "        4.99227028e-08, 3.92066458e-09, 9.99465274e-01, 9.99937872e-01,\n",
       "        9.99999984e-01, 6.54558569e-07, 7.42034974e-05, 1.53561709e-06,\n",
       "        1.96818197e-02, 3.59420738e-01, 9.76655042e-01, 9.95850153e-01,\n",
       "        8.17989789e-05, 9.51973026e-01, 8.02332472e-09, 1.24418788e-03,\n",
       "        9.99425736e-01, 7.63728294e-01, 1.77797405e-04, 6.82579893e-05,\n",
       "        4.46960962e-05, 9.99999834e-01, 4.64911117e-01, 2.27872556e-05,\n",
       "        3.89595555e-05, 1.49310688e-05, 7.94716696e-01, 6.46581144e-04,\n",
       "        6.88262997e-01, 9.97674065e-01, 9.99999962e-01, 1.51037818e-04,\n",
       "        8.77490759e-01, 2.26262212e-07, 9.99582721e-01, 9.99945984e-01,\n",
       "        9.99999985e-01, 3.45367792e-08, 7.14201400e-09, 3.54889910e-02,\n",
       "        9.99999991e-01, 2.09294750e-04, 9.99981033e-01, 9.70142950e-04],\n",
       "       [3.65681562e-03, 7.43222090e-03, 9.86068782e-01, 9.99829118e-01,\n",
       "        8.97095251e-05, 5.63439445e-11, 9.99999999e-01, 9.99182793e-01,\n",
       "        2.76164587e-10, 9.34399269e-01, 3.16491413e-03, 9.99999827e-01,\n",
       "        9.99999975e-01, 9.99999735e-01, 9.99965585e-01, 4.48764225e-03,\n",
       "        9.97585977e-01, 9.99536986e-01, 4.80027475e-07, 9.96482089e-01,\n",
       "        9.32533834e-01, 2.66069260e-15, 1.95229965e-10, 1.28702095e-16,\n",
       "        8.81366773e-06, 8.92618973e-07, 1.46308864e-03, 6.42072642e-06,\n",
       "        9.99999233e-01, 4.17223998e-09, 2.77348888e-08, 9.94244310e-01,\n",
       "        9.99999569e-01, 5.41266751e-09, 2.17020760e-09, 4.42953351e-08,\n",
       "        6.28113942e-11, 9.99834325e-01, 3.74719449e-02, 7.70334625e-01,\n",
       "        3.65782042e-02, 9.99994421e-01, 4.81974799e-05, 4.40487636e-02,\n",
       "        3.42656112e-09, 9.99882211e-01, 2.71808435e-01, 9.99985071e-01,\n",
       "        9.99994065e-01, 9.99999996e-01, 2.87768245e-07, 9.99999997e-01,\n",
       "        1.00000000e+00, 2.65487318e-03, 3.84723391e-03, 6.12310041e-01,\n",
       "        8.08398099e-06, 7.93205018e-07, 9.99957343e-01, 9.99948461e-01,\n",
       "        1.00000000e+00, 4.22561464e-03, 4.33248675e-06, 9.99999925e-01,\n",
       "        9.78279153e-01, 3.80848660e-03, 3.32454937e-02, 9.99614495e-01,\n",
       "        1.44677568e-11, 1.84323234e-10, 4.07565453e-10, 4.00128639e-03,\n",
       "        1.47830415e-01, 2.73901427e-05, 1.62641202e-03, 2.62729203e-09,\n",
       "        1.79527540e-05, 9.99999967e-01, 1.42508862e-02, 2.08095595e-05,\n",
       "        9.99999994e-01, 9.99948080e-01, 9.99999216e-01, 5.63870336e-03,\n",
       "        2.15467019e-06, 9.99987976e-01, 9.99999201e-01, 9.97296791e-01,\n",
       "        9.93079035e-01, 9.60406769e-06, 1.25710808e-02, 9.99906586e-01,\n",
       "        9.99999035e-01, 1.84012434e-08, 1.74636541e-07, 6.83752868e-10,\n",
       "        9.99999978e-01, 2.59725168e-02, 9.99999945e-01, 1.00904683e-04]])"
      ]
     },
     "execution_count": 15,
     "metadata": {},
     "output_type": "execute_result"
    }
   ],
   "source": [
    "rbm.transform(X_train[:2])"
   ]
  },
  {
   "cell_type": "code",
   "execution_count": 14,
   "id": "5f512747",
   "metadata": {},
   "outputs": [
    {
     "data": {
      "text/plain": [
       "(100, 784)"
      ]
     },
     "execution_count": 14,
     "metadata": {},
     "output_type": "execute_result"
    }
   ],
   "source": [
    "rbm.components_.shape"
   ]
  },
  {
   "cell_type": "code",
   "execution_count": 5,
   "id": "4083f61b",
   "metadata": {},
   "outputs": [
    {
     "data": {
      "text/plain": [
       "array([[-0.0933681 , -0.09669611, -0.09003886, ..., -0.11209636,\n",
       "        -0.09262907, -0.0832549 ],\n",
       "       [-0.1658224 , -0.1696646 , -0.16237298, ..., -0.17519488,\n",
       "        -0.1698103 , -0.16220426],\n",
       "       [-0.13890127, -0.1378679 , -0.11879878, ..., -0.12955072,\n",
       "        -0.11883711, -0.11836311],\n",
       "       ...,\n",
       "       [-0.10230085, -0.11006595, -0.11799704, ..., -0.12126987,\n",
       "        -0.13227764, -0.1269483 ],\n",
       "       [-0.17998816, -0.20568622, -0.19892199, ..., -0.18782336,\n",
       "        -0.214917  , -0.19113845],\n",
       "       [-0.12911423, -0.13716489, -0.13273239, ..., -0.12245302,\n",
       "        -0.12381616, -0.09679712]])"
      ]
     },
     "execution_count": 5,
     "metadata": {},
     "output_type": "execute_result"
    }
   ],
   "source": [
    "rbm.components_"
   ]
  }
 ],
 "metadata": {
  "kernelspec": {
   "display_name": "tf",
   "language": "python",
   "name": "tf"
  },
  "language_info": {
   "codemirror_mode": {
    "name": "ipython",
    "version": 3
   },
   "file_extension": ".py",
   "mimetype": "text/x-python",
   "name": "python",
   "nbconvert_exporter": "python",
   "pygments_lexer": "ipython3",
   "version": "3.8.8"
  }
 },
 "nbformat": 4,
 "nbformat_minor": 5
}
