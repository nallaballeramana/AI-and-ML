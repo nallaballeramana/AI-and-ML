{
  "nbformat": 4,
  "nbformat_minor": 0,
  "metadata": {
    "colab": {
      "name": "Assignment 1 – Data Structure.ipynb",
      "provenance": []
    },
    "kernelspec": {
      "name": "python3",
      "display_name": "Python 3"
    },
    "language_info": {
      "name": "python"
    }
  },
  "cells": [
    {
      "cell_type": "markdown",
      "source": [
        "Create a list named ‘myList’ that is having the following elements: 10,20,30,’apple’, True, \n",
        "8.10.\n",
        "a. Now in the ‘myList’, append these values: 30,40 \n",
        "b. After that reverse the elements of the ‘myList’ and store that in ‘reversedList’"
      ],
      "metadata": {
        "id": "uSIl4FtHJsfd"
      }
    },
    {
      "cell_type": "code",
      "source": [
        "import numpy as np"
      ],
      "metadata": {
        "id": "J2fX7c5QWnGp"
      },
      "execution_count": 10,
      "outputs": []
    },
    {
      "cell_type": "code",
      "source": [
        "myList=np.array([10,20,30,\"apple\",True,8.10])\n",
        "myList"
      ],
      "metadata": {
        "colab": {
          "base_uri": "https://localhost:8080/"
        },
        "id": "UseFQMkNJtZd",
        "outputId": "4e875c5f-918c-48c5-96b5-f603dd3cd166"
      },
      "execution_count": 19,
      "outputs": [
        {
          "output_type": "execute_result",
          "data": {
            "text/plain": [
              "array(['10', '20', '30', 'apple', 'True', '8.1'], dtype='<U21')"
            ]
          },
          "metadata": {},
          "execution_count": 19
        }
      ]
    },
    {
      "cell_type": "code",
      "source": [
        "myList=np.concatenate((myList,[30,40]))\n",
        "print(myList)"
      ],
      "metadata": {
        "colab": {
          "base_uri": "https://localhost:8080/"
        },
        "id": "-eQWH78hWvED",
        "outputId": "d9c0c017-7a1f-4d04-b233-6df2a25917e3"
      },
      "execution_count": 20,
      "outputs": [
        {
          "output_type": "stream",
          "name": "stdout",
          "text": [
            "['10' '20' '30' 'apple' 'True' '8.1' '30' '40']\n"
          ]
        }
      ]
    },
    {
      "cell_type": "code",
      "source": [
        "reversedList=myList[::-1]\n",
        "print(reversedList)"
      ],
      "metadata": {
        "colab": {
          "base_uri": "https://localhost:8080/"
        },
        "id": "8SitFf7fTMjF",
        "outputId": "4e0cc7c2-ba40-4989-9608-8e5edad37da2"
      },
      "execution_count": 21,
      "outputs": [
        {
          "output_type": "stream",
          "name": "stdout",
          "text": [
            "['40' '30' '8.1' 'True' 'apple' '30' '20' '10']\n"
          ]
        }
      ]
    },
    {
      "cell_type": "code",
      "source": [
        "newReversedList=np.flipud(myList)\n",
        "print(newReversedList)"
      ],
      "metadata": {
        "id": "pgs2h_fWRId9",
        "colab": {
          "base_uri": "https://localhost:8080/"
        },
        "outputId": "6216fe69-06ff-4526-ae40-ed01fe74cfee"
      },
      "execution_count": 24,
      "outputs": [
        {
          "output_type": "stream",
          "name": "stdout",
          "text": [
            "['40' '30' '8.1' 'True' 'apple' '30' '20' '10']\n"
          ]
        }
      ]
    },
    {
      "cell_type": "markdown",
      "source": [
        " 2.Create a dictonary with key values as 1,2,3 and the values as ‘data’,’information’, and ‘text’.\n",
        "a. After that eliminate the ‘text’ value form the dictonary.\n",
        "b. Add ‘features’ in the dictonary.\n",
        "c. Fetch the ‘data’ element from the dictonary and display it in the output."
      ],
      "metadata": {
        "id": "_p3-9OKxYe-6"
      }
    },
    {
      "cell_type": "code",
      "source": [
        "dict={1:\"data\",\n",
        "      2:\"information\",\n",
        "      3:\"text\"}\n",
        "print(dict)"
      ],
      "metadata": {
        "colab": {
          "base_uri": "https://localhost:8080/"
        },
        "id": "U-imhoUkYd0K",
        "outputId": "4b58a526-f7be-48b4-ac34-f1d0b092bc98"
      },
      "execution_count": 35,
      "outputs": [
        {
          "output_type": "stream",
          "name": "stdout",
          "text": [
            "{1: 'data', 2: 'information', 3: 'text'}\n"
          ]
        }
      ]
    },
    {
      "cell_type": "code",
      "source": [
        "dict.pop(3)\n",
        "print(dict)"
      ],
      "metadata": {
        "colab": {
          "base_uri": "https://localhost:8080/"
        },
        "id": "2IYzRtc3ZO0D",
        "outputId": "8faa9408-d05b-4412-f877-abf3509707ee"
      },
      "execution_count": 36,
      "outputs": [
        {
          "output_type": "stream",
          "name": "stdout",
          "text": [
            "{1: 'data', 2: 'information'}\n"
          ]
        }
      ]
    },
    {
      "cell_type": "code",
      "source": [
        "dict[3]=\"feature\"\n",
        "print(dict)"
      ],
      "metadata": {
        "colab": {
          "base_uri": "https://localhost:8080/"
        },
        "id": "1fhGE4UKZpMB",
        "outputId": "e4905c16-d15d-45a4-d0ab-260c4576d984"
      },
      "execution_count": 37,
      "outputs": [
        {
          "output_type": "stream",
          "name": "stdout",
          "text": [
            "{1: 'data', 2: 'information', 3: 'feature'}\n"
          ]
        }
      ]
    },
    {
      "cell_type": "code",
      "source": [
        "print(dict[1])"
      ],
      "metadata": {
        "colab": {
          "base_uri": "https://localhost:8080/"
        },
        "id": "sddDHe5qb_OO",
        "outputId": "a2784757-8e54-49cd-973b-201654108086"
      },
      "execution_count": 51,
      "outputs": [
        {
          "output_type": "stream",
          "name": "stdout",
          "text": [
            "data\n"
          ]
        }
      ]
    },
    {
      "cell_type": "markdown",
      "source": [
        "3.Create a tuple and add these elements 1,2,3,apple,mango in ‘my_tuple"
      ],
      "metadata": {
        "id": "gC2SMjalcFPQ"
      }
    },
    {
      "cell_type": "code",
      "source": [
        "my_tuple=(1,2,3,\"apple\",\"mango\")\n",
        "print(my_tuple)"
      ],
      "metadata": {
        "colab": {
          "base_uri": "https://localhost:8080/"
        },
        "id": "W9nMtlM0cJ9U",
        "outputId": "dacdcc77-c266-497f-db4d-3937761a605a"
      },
      "execution_count": 52,
      "outputs": [
        {
          "output_type": "stream",
          "name": "stdout",
          "text": [
            "(1, 2, 3, 'apple', 'mango')\n"
          ]
        }
      ]
    },
    {
      "cell_type": "markdown",
      "source": [
        "4.Create another tuple named numeric_tuple consisting of only integer values 10,20,30,40,50\n",
        "a. Find the minimum value from the numeric_tuple.\n",
        "b. Concatenate my_tuple with numeric_tuple and store the result in r1.\n",
        "c. Duplicate the tuple named my_tuple 2 times and store that in ‘newdupli’."
      ],
      "metadata": {
        "id": "6Age3WXYcduY"
      }
    },
    {
      "cell_type": "code",
      "source": [
        "numeric_tuple=(10,20,30,40,50)\n",
        "print(numeric_tuple)"
      ],
      "metadata": {
        "colab": {
          "base_uri": "https://localhost:8080/"
        },
        "id": "6cqtA5R5cXD6",
        "outputId": "3371775b-cb27-49c4-8e5e-52b8d5c44c90"
      },
      "execution_count": 54,
      "outputs": [
        {
          "output_type": "stream",
          "name": "stdout",
          "text": [
            "(10, 20, 30, 40, 50)\n"
          ]
        }
      ]
    },
    {
      "cell_type": "code",
      "source": [
        "min(numeric_tuple)"
      ],
      "metadata": {
        "colab": {
          "base_uri": "https://localhost:8080/"
        },
        "id": "x-d1WJ_hcs-o",
        "outputId": "11377e1e-7978-4fc6-b0e0-67a670939ffc"
      },
      "execution_count": 55,
      "outputs": [
        {
          "output_type": "execute_result",
          "data": {
            "text/plain": [
              "10"
            ]
          },
          "metadata": {},
          "execution_count": 55
        }
      ]
    },
    {
      "cell_type": "code",
      "source": [
        "r1=my_tuple+numeric_tuple\n",
        "print(r1)"
      ],
      "metadata": {
        "colab": {
          "base_uri": "https://localhost:8080/"
        },
        "id": "H3QLCMxHc0QC",
        "outputId": "fd1e10a5-a8db-470c-f5ef-eb499d396fbf"
      },
      "execution_count": 57,
      "outputs": [
        {
          "output_type": "stream",
          "name": "stdout",
          "text": [
            "(1, 2, 3, 'apple', 'mango', 10, 20, 30, 40, 50)\n"
          ]
        }
      ]
    },
    {
      "cell_type": "code",
      "source": [
        "newdupli=my_tuple*2\n",
        "print(newdupli)"
      ],
      "metadata": {
        "colab": {
          "base_uri": "https://localhost:8080/"
        },
        "id": "_j_J0TtgdK9K",
        "outputId": "928c7ed0-5652-4931-e2ab-b87a4e9e8947"
      },
      "execution_count": 58,
      "outputs": [
        {
          "output_type": "stream",
          "name": "stdout",
          "text": [
            "(1, 2, 3, 'apple', 'mango', 1, 2, 3, 'apple', 'mango')\n"
          ]
        }
      ]
    },
    {
      "cell_type": "markdown",
      "source": [
        "5. Create 2 sets with name set1 and set2, where set1 contains{1,2,3,4,5} and set2 to \n",
        "contains{2,3,7,6,1}\n",
        "a. Perform the below operation:\n",
        "a. set1 union set2\n",
        "b. set1 intersection set2 \n",
        "c. set1 difference set2"
      ],
      "metadata": {
        "id": "CNjOPpSPf2Dz"
      }
    },
    {
      "cell_type": "code",
      "source": [
        "set1={1,2,3,4,5}\n",
        "print(set1)\n",
        "set2={2,3,7,6,1}\n",
        "print(set2)"
      ],
      "metadata": {
        "colab": {
          "base_uri": "https://localhost:8080/"
        },
        "id": "T0CbIX88fuw_",
        "outputId": "a03b87e8-09db-4657-b197-8de4fb5bcedc"
      },
      "execution_count": 59,
      "outputs": [
        {
          "output_type": "stream",
          "name": "stdout",
          "text": [
            "{1, 2, 3, 4, 5}\n",
            "{1, 2, 3, 6, 7}\n"
          ]
        }
      ]
    },
    {
      "cell_type": "code",
      "source": [
        "print(set1.union(set2))"
      ],
      "metadata": {
        "colab": {
          "base_uri": "https://localhost:8080/"
        },
        "id": "QLfRVAp4gFmm",
        "outputId": "dc34334d-f724-4335-c597-22ed269eba25"
      },
      "execution_count": 62,
      "outputs": [
        {
          "output_type": "stream",
          "name": "stdout",
          "text": [
            "{1, 2, 3, 4, 5, 6, 7}\n"
          ]
        }
      ]
    },
    {
      "cell_type": "code",
      "source": [
        "print(set1.intersection(set2))"
      ],
      "metadata": {
        "colab": {
          "base_uri": "https://localhost:8080/"
        },
        "id": "SNzmVZYvgVoP",
        "outputId": "7f390d14-06e0-424f-8008-0d6bfac4e104"
      },
      "execution_count": 63,
      "outputs": [
        {
          "output_type": "stream",
          "name": "stdout",
          "text": [
            "{1, 2, 3}\n"
          ]
        }
      ]
    },
    {
      "cell_type": "code",
      "source": [
        "print(set1.difference(set2))"
      ],
      "metadata": {
        "colab": {
          "base_uri": "https://localhost:8080/"
        },
        "id": "ITicN9l3g8vo",
        "outputId": "40f9abcc-3a48-4c7d-f22a-ebe9a6ac13be"
      },
      "execution_count": 65,
      "outputs": [
        {
          "output_type": "stream",
          "name": "stdout",
          "text": [
            "{4, 5}\n"
          ]
        }
      ]
    },
    {
      "cell_type": "code",
      "source": [
        ""
      ],
      "metadata": {
        "id": "4HqxsVKIhBAA"
      },
      "execution_count": null,
      "outputs": []
    }
  ]
}