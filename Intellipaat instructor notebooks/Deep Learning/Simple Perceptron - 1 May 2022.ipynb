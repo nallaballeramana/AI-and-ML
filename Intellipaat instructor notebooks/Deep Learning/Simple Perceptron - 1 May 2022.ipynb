{
 "cells": [
  {
   "cell_type": "code",
   "execution_count": 103,
   "metadata": {},
   "outputs": [],
   "source": [
    "import numpy as np"
   ]
  },
  {
   "cell_type": "code",
   "execution_count": 85,
   "metadata": {},
   "outputs": [],
   "source": [
    "x1 = [10, 8, 15]\n",
    "x2 = [8, 20, 25]\n",
    "y = [30, 15, 20]\n",
    "\n",
    "n = len(y)"
   ]
  },
  {
   "cell_type": "code",
   "execution_count": 86,
   "metadata": {},
   "outputs": [],
   "source": [
    "# Forward pass\n",
    "\n",
    "def forward_pass(w1, w2, b):\n",
    "    total_error = 0\n",
    "    y_pred  = []\n",
    "\n",
    "    for i in range(n):\n",
    "        y_hat = x1[i]*w1 + x2[i]*w2 + b # y_pred = x1.w1 + x2.w2 + b\n",
    "        E = (y[i] - y_hat)**2 # Squared Error of the current point\n",
    "        y_pred.append(y_hat)\n",
    "        total_error+=E # Total error of all points\n",
    "    return total_error, y_pred"
   ]
  },
  {
   "cell_type": "code",
   "execution_count": 87,
   "metadata": {},
   "outputs": [],
   "source": [
    "def weightUpdate(w1, w2, b):\n",
    "    for i in range(n):\n",
    "        dE_dw1 = -2 * x1[i] * (y[i] - y_pred[i])\n",
    "        dE_dw2 = -2 * x2[i] * (y[i] - y_pred[i])\n",
    "        dE_db = -2 * (y[i] - y_pred[i])\n",
    "\n",
    "        w1 -= lr * dE_dw1\n",
    "        w2 -= lr * dE_dw2\n",
    "        b -= lr * dE_db\n",
    "    return w1, w2, b"
   ]
  },
  {
   "cell_type": "code",
   "execution_count": 139,
   "metadata": {
    "scrolled": true
   },
   "outputs": [
    {
     "name": "stdout",
     "output_type": "stream",
     "text": [
      "Epoch: 0 | MSE = 2134.1\n",
      "Epoch: 1 | MSE = 1198.41\n",
      "Epoch: 2 | MSE = 725.74\n",
      "Epoch: 3 | MSE = 486.58\n",
      "Epoch: 4 | MSE = 365.18\n",
      "Epoch: 5 | MSE = 303.18\n",
      "Epoch: 6 | MSE = 271.15\n",
      "Epoch: 7 | MSE = 254.23\n",
      "Epoch: 8 | MSE = 244.95\n",
      "Epoch: 9 | MSE = 239.54\n",
      "Epoch: 10 | MSE = 236.07\n",
      "Epoch: 11 | MSE = 233.6\n",
      "Epoch: 12 | MSE = 231.65\n",
      "Epoch: 13 | MSE = 229.95\n",
      "Epoch: 14 | MSE = 228.41\n",
      "Epoch: 15 | MSE = 226.94\n",
      "Epoch: 16 | MSE = 225.52\n",
      "Epoch: 17 | MSE = 224.14\n",
      "Epoch: 18 | MSE = 222.78\n",
      "Epoch: 19 | MSE = 221.44\n",
      "Epoch: 20 | MSE = 220.12\n",
      "Epoch: 21 | MSE = 218.82\n",
      "Epoch: 22 | MSE = 217.54\n",
      "Epoch: 23 | MSE = 216.27\n",
      "Epoch: 24 | MSE = 215.01\n",
      "Epoch: 25 | MSE = 213.78\n",
      "Epoch: 26 | MSE = 212.56\n",
      "Epoch: 27 | MSE = 211.35\n",
      "Epoch: 28 | MSE = 210.16\n",
      "Epoch: 29 | MSE = 208.98\n",
      "Epoch: 30 | MSE = 207.82\n",
      "Epoch: 31 | MSE = 206.67\n",
      "Epoch: 32 | MSE = 205.54\n",
      "Epoch: 33 | MSE = 204.42\n",
      "Epoch: 34 | MSE = 203.31\n",
      "Epoch: 35 | MSE = 202.22\n",
      "Epoch: 36 | MSE = 201.15\n",
      "Epoch: 37 | MSE = 200.08\n",
      "Epoch: 38 | MSE = 199.03\n",
      "Epoch: 39 | MSE = 197.99\n",
      "Epoch: 40 | MSE = 196.97\n",
      "Epoch: 41 | MSE = 195.95\n",
      "Epoch: 42 | MSE = 194.95\n",
      "Epoch: 43 | MSE = 193.97\n",
      "Epoch: 44 | MSE = 192.99\n",
      "Epoch: 45 | MSE = 192.03\n",
      "Epoch: 46 | MSE = 191.08\n",
      "Epoch: 47 | MSE = 190.14\n",
      "Epoch: 48 | MSE = 189.21\n",
      "Epoch: 49 | MSE = 188.3\n",
      "Epoch: 50 | MSE = 187.39\n",
      "Epoch: 51 | MSE = 186.5\n",
      "Epoch: 52 | MSE = 185.62\n",
      "Epoch: 53 | MSE = 184.75\n",
      "Epoch: 54 | MSE = 183.89\n",
      "Epoch: 55 | MSE = 183.04\n",
      "Epoch: 56 | MSE = 182.2\n",
      "Epoch: 57 | MSE = 181.37\n",
      "Epoch: 58 | MSE = 180.55\n",
      "Epoch: 59 | MSE = 179.74\n",
      "Epoch: 60 | MSE = 178.94\n",
      "Epoch: 61 | MSE = 178.16\n",
      "Epoch: 62 | MSE = 177.38\n",
      "Epoch: 63 | MSE = 176.61\n",
      "Epoch: 64 | MSE = 175.85\n",
      "Epoch: 65 | MSE = 175.1\n",
      "Epoch: 66 | MSE = 174.36\n",
      "Epoch: 67 | MSE = 173.63\n",
      "Epoch: 68 | MSE = 172.91\n",
      "Epoch: 69 | MSE = 172.19\n",
      "Epoch: 70 | MSE = 171.49\n",
      "Epoch: 71 | MSE = 170.79\n",
      "Epoch: 72 | MSE = 170.11\n",
      "Epoch: 73 | MSE = 169.43\n",
      "Epoch: 74 | MSE = 168.76\n",
      "Epoch: 75 | MSE = 168.09\n",
      "Epoch: 76 | MSE = 167.44\n",
      "Epoch: 77 | MSE = 166.8\n",
      "Epoch: 78 | MSE = 166.16\n",
      "Epoch: 79 | MSE = 165.53\n",
      "Epoch: 80 | MSE = 164.91\n",
      "Epoch: 81 | MSE = 164.29\n",
      "Epoch: 82 | MSE = 163.69\n",
      "Epoch: 83 | MSE = 163.09\n",
      "Epoch: 84 | MSE = 162.49\n",
      "Epoch: 85 | MSE = 161.91\n",
      "Epoch: 86 | MSE = 161.33\n",
      "Epoch: 87 | MSE = 160.76\n",
      "Epoch: 88 | MSE = 160.2\n",
      "Epoch: 89 | MSE = 159.64\n",
      "Epoch: 90 | MSE = 159.1\n",
      "Epoch: 91 | MSE = 158.55\n",
      "Epoch: 92 | MSE = 158.02\n",
      "Epoch: 93 | MSE = 157.49\n",
      "Epoch: 94 | MSE = 156.97\n",
      "Epoch: 95 | MSE = 156.45\n",
      "Epoch: 96 | MSE = 155.94\n",
      "Epoch: 97 | MSE = 155.44\n",
      "Epoch: 98 | MSE = 154.94\n",
      "Epoch: 99 | MSE = 154.45\n",
      "Epoch: 100 | MSE = 153.96\n",
      "Epoch: 101 | MSE = 153.48\n",
      "Epoch: 102 | MSE = 153.01\n",
      "Epoch: 103 | MSE = 152.54\n",
      "Epoch: 104 | MSE = 152.08\n",
      "Epoch: 105 | MSE = 151.63\n",
      "Epoch: 106 | MSE = 151.18\n",
      "Epoch: 107 | MSE = 150.73\n",
      "Epoch: 108 | MSE = 150.29\n",
      "Epoch: 109 | MSE = 149.86\n",
      "Epoch: 110 | MSE = 149.43\n",
      "Epoch: 111 | MSE = 149.01\n",
      "Epoch: 112 | MSE = 148.59\n",
      "Epoch: 113 | MSE = 148.18\n",
      "Epoch: 114 | MSE = 147.77\n",
      "Epoch: 115 | MSE = 147.37\n",
      "Epoch: 116 | MSE = 146.97\n",
      "Epoch: 117 | MSE = 146.57\n",
      "Epoch: 118 | MSE = 146.19\n",
      "Epoch: 119 | MSE = 145.8\n",
      "Epoch: 120 | MSE = 145.42\n",
      "Epoch: 121 | MSE = 145.05\n",
      "Epoch: 122 | MSE = 144.68\n",
      "Epoch: 123 | MSE = 144.32\n",
      "Epoch: 124 | MSE = 143.96\n",
      "Epoch: 125 | MSE = 143.6\n",
      "Epoch: 126 | MSE = 143.25\n",
      "Epoch: 127 | MSE = 142.9\n",
      "Epoch: 128 | MSE = 142.56\n",
      "Epoch: 129 | MSE = 142.22\n",
      "Epoch: 130 | MSE = 141.88\n",
      "Epoch: 131 | MSE = 141.55\n",
      "Epoch: 132 | MSE = 141.23\n",
      "Epoch: 133 | MSE = 140.9\n",
      "Epoch: 134 | MSE = 140.59\n",
      "Epoch: 135 | MSE = 140.27\n",
      "Epoch: 136 | MSE = 139.96\n",
      "Epoch: 137 | MSE = 139.65\n",
      "Epoch: 138 | MSE = 139.35\n",
      "Epoch: 139 | MSE = 139.05\n",
      "Epoch: 140 | MSE = 138.75\n",
      "Epoch: 141 | MSE = 138.46\n",
      "Epoch: 142 | MSE = 138.17\n",
      "Epoch: 143 | MSE = 137.89\n",
      "Epoch: 144 | MSE = 137.6\n",
      "Epoch: 145 | MSE = 137.33\n",
      "Epoch: 146 | MSE = 137.05\n",
      "Epoch: 147 | MSE = 136.78\n",
      "Epoch: 148 | MSE = 136.51\n",
      "Epoch: 149 | MSE = 136.25\n",
      "Epoch: 150 | MSE = 135.98\n",
      "Epoch: 151 | MSE = 135.72\n",
      "Epoch: 152 | MSE = 135.47\n",
      "Epoch: 153 | MSE = 135.22\n",
      "Epoch: 154 | MSE = 134.97\n",
      "Epoch: 155 | MSE = 134.72\n",
      "Epoch: 156 | MSE = 134.48\n",
      "Epoch: 157 | MSE = 134.24\n",
      "Epoch: 158 | MSE = 134.0\n",
      "Epoch: 159 | MSE = 133.76\n",
      "Epoch: 160 | MSE = 133.53\n",
      "Epoch: 161 | MSE = 133.3\n",
      "Epoch: 162 | MSE = 133.08\n",
      "Epoch: 163 | MSE = 132.85\n",
      "Epoch: 164 | MSE = 132.63\n",
      "Epoch: 165 | MSE = 132.41\n",
      "Epoch: 166 | MSE = 132.2\n",
      "Epoch: 167 | MSE = 131.98\n",
      "Epoch: 168 | MSE = 131.77\n",
      "Epoch: 169 | MSE = 131.57\n",
      "Epoch: 170 | MSE = 131.36\n",
      "Epoch: 171 | MSE = 131.16\n",
      "Epoch: 172 | MSE = 130.96\n",
      "Epoch: 173 | MSE = 130.76\n",
      "Epoch: 174 | MSE = 130.56\n",
      "Epoch: 175 | MSE = 130.37\n",
      "Epoch: 176 | MSE = 130.18\n",
      "Epoch: 177 | MSE = 129.99\n",
      "Epoch: 178 | MSE = 129.8\n",
      "Epoch: 179 | MSE = 129.62\n",
      "Epoch: 180 | MSE = 129.44\n",
      "Epoch: 181 | MSE = 129.26\n",
      "Epoch: 182 | MSE = 129.08\n",
      "Epoch: 183 | MSE = 128.9\n",
      "Epoch: 184 | MSE = 128.73\n",
      "Epoch: 185 | MSE = 128.56\n",
      "Epoch: 186 | MSE = 128.39\n",
      "Epoch: 187 | MSE = 128.22\n",
      "Epoch: 188 | MSE = 128.06\n",
      "Epoch: 189 | MSE = 127.89\n",
      "Epoch: 190 | MSE = 127.73\n",
      "Epoch: 191 | MSE = 127.57\n",
      "Epoch: 192 | MSE = 127.41\n",
      "Epoch: 193 | MSE = 127.26\n",
      "Epoch: 194 | MSE = 127.1\n",
      "Epoch: 195 | MSE = 126.95\n",
      "Epoch: 196 | MSE = 126.8\n",
      "Epoch: 197 | MSE = 126.65\n",
      "Epoch: 198 | MSE = 126.5\n",
      "Epoch: 199 | MSE = 126.36\n"
     ]
    }
   ],
   "source": [
    "# Random initialization of weights\n",
    "random_init = np.random.randn(3) \n",
    "w1, w2, b = random_init[0], random_init[1], random_init[2]\n",
    "lr = 0.0001\n",
    "\n",
    "error = list()\n",
    "for i in range(200):\n",
    "    total_error, y_pred = forward_pass(w1,w2,b)\n",
    "    error.append(total_error)\n",
    "    print(f\"Epoch: {i} | MSE = {round(total_error,2)}\")\n",
    "    w1, w2, b = weightUpdate(w1, w2, b)"
   ]
  },
  {
   "cell_type": "code",
   "execution_count": 140,
   "metadata": {},
   "outputs": [
    {
     "data": {
      "text/plain": [
       "2.739236245905189"
      ]
     },
     "execution_count": 140,
     "metadata": {},
     "output_type": "execute_result"
    }
   ],
   "source": [
    "w1"
   ]
  },
  {
   "cell_type": "code",
   "execution_count": 141,
   "metadata": {},
   "outputs": [
    {
     "data": {
      "text/plain": [
       "-0.5500992660654984"
      ]
     },
     "execution_count": 141,
     "metadata": {},
     "output_type": "execute_result"
    }
   ],
   "source": [
    "w2"
   ]
  },
  {
   "cell_type": "code",
   "execution_count": 142,
   "metadata": {},
   "outputs": [
    {
     "data": {
      "text/plain": [
       "-0.6856629821777825"
      ]
     },
     "execution_count": 142,
     "metadata": {},
     "output_type": "execute_result"
    }
   ],
   "source": [
    "b"
   ]
  },
  {
   "cell_type": "code",
   "execution_count": 136,
   "metadata": {},
   "outputs": [
    {
     "data": {
      "image/png": "[encoded data removed]",
      "text/plain": [
       "<Figure size 640x480 with 1 Axes>"
      ]
     },
     "metadata": {},
     "output_type": "display_data"
    }
   ],
   "source": [
    "import matplotlib.pyplot as plt\n",
    "\n",
    "plt.plot(error)\n",
    "plt.xlabel(\"EPOCH\")\n",
    "plt.ylabel(\"ERROR\")\n",
    "plt.grid()\n",
    "plt.show()\n"
   ]
  },
  {
   "cell_type": "markdown",
   "metadata": {},
   "source": [
    "#### Numpy"
   ]
  },
  {
   "cell_type": "code",
   "execution_count": 146,
   "metadata": {},
   "outputs": [],
   "source": [
    "X = np.array([[10, 8],\n",
    "              [8, 20],\n",
    "               [15, 25]])\n",
    "y = np.array([30, 15, 20])\n",
    "\n",
    "n = len(y)"
   ]
  },
  {
   "cell_type": "code",
   "execution_count": 161,
   "metadata": {},
   "outputs": [],
   "source": [
    "weights = np.random.randn(2) \n",
    "b = np.random.randn(1)[0] \n",
    "weights = weights.reshape(-1,1)"
   ]
  },
  {
   "cell_type": "code",
   "execution_count": 159,
   "metadata": {},
   "outputs": [
    {
     "data": {
      "text/plain": [
       "array([[ 0.95333804],\n",
       "       [-1.09821085]])"
      ]
     },
     "execution_count": 159,
     "metadata": {},
     "output_type": "execute_result"
    }
   ],
   "source": [
    "weights"
   ]
  },
  {
   "cell_type": "code",
   "execution_count": 158,
   "metadata": {},
   "outputs": [
    {
     "data": {
      "text/plain": [
       "array([[10,  8],\n",
       "       [ 8, 20],\n",
       "       [15, 25]])"
      ]
     },
     "execution_count": 158,
     "metadata": {},
     "output_type": "execute_result"
    }
   ],
   "source": [
    "X"
   ]
  },
  {
   "cell_type": "code",
   "execution_count": 148,
   "metadata": {},
   "outputs": [
    {
     "data": {
      "text/plain": [
       "array([30, 15, 20])"
      ]
     },
     "execution_count": 148,
     "metadata": {},
     "output_type": "execute_result"
    }
   ],
   "source": [
    "y"
   ]
  },
  {
   "cell_type": "code",
   "execution_count": 163,
   "metadata": {},
   "outputs": [
    {
     "name": "stdout",
     "output_type": "stream",
     "text": [
      "168.86216581010325\n"
     ]
    }
   ],
   "source": [
    "y_pred = np.matmul(X, weights) + b\n",
    "mse = np.mean((y-y_pred)**2)"
   ]
  },
  {
   "cell_type": "code",
   "execution_count": 164,
   "metadata": {},
   "outputs": [],
   "source": [
    "# Forward pass\n",
    "\n",
    "def forward_pass(weights):\n",
    "    y_pred = np.matmul(X, weights) + b\n",
    "    mse = np.mean((y-y_pred)**2)\n",
    "    return y_pred, mse"
   ]
  }
 ],
 "metadata": {
  "kernelspec": {
   "display_name": "Python 3",
   "language": "python",
   "name": "python3"
  },
  "language_info": {
   "codemirror_mode": {
    "name": "ipython",
    "version": 3
   },
   "file_extension": ".py",
   "mimetype": "text/x-python",
   "name": "python",
   "nbconvert_exporter": "python",
   "pygments_lexer": "ipython3",
   "version": "3.8.5"
  }
 },
 "nbformat": 4,
 "nbformat_minor": 4
}
